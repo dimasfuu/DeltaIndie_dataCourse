{
 "cells": [
  {
   "cell_type": "markdown",
   "id": "7ff83c2d-611c-4816-8bb3-9ce826db693c",
   "metadata": {},
   "source": [
    "# 1. DATA LOADING"
   ]
  },
  {
   "cell_type": "code",
   "execution_count": 2,
   "id": "9f69b41d-1405-4ac6-81f8-4afe926b52f4",
   "metadata": {},
   "outputs": [],
   "source": [
    "import pandas as pd\n",
    "import numpy as np"
   ]
  },
  {
   "cell_type": "code",
   "execution_count": 3,
   "id": "628d7032-18d1-4376-8b2c-6263755c4d3f",
   "metadata": {},
   "outputs": [],
   "source": [
    "df = pd.read_csv(\"Healthcare-Diabetes.csv\")"
   ]
  },
  {
   "cell_type": "markdown",
   "id": "0011f8ff-13c7-436f-a4d7-4f5e36fe0b9b",
   "metadata": {},
   "source": [
    "df"
   ]
  },
  {
   "cell_type": "markdown",
   "id": "7edd473e-e331-4ce5-b912-2236505a9355",
   "metadata": {},
   "source": [
    "# 2. DATA CLEANSING"
   ]
  },
  {
   "cell_type": "code",
   "execution_count": 4,
   "id": "3a5adf6b-8259-49a6-8a91-ebc3efb2dea3",
   "metadata": {},
   "outputs": [
    {
     "data": {
      "text/plain": [
       "Id                          0\n",
       "Pregnancies                 0\n",
       "Glucose                     0\n",
       "BloodPressure               0\n",
       "SkinThickness               0\n",
       "Insulin                     0\n",
       "BMI                         0\n",
       "DiabetesPedigreeFunction    0\n",
       "Age                         0\n",
       "Outcome                     0\n",
       "dtype: int64"
      ]
     },
     "execution_count": 4,
     "metadata": {},
     "output_type": "execute_result"
    }
   ],
   "source": [
    "df.isnull().sum()"
   ]
  },
  {
   "cell_type": "markdown",
   "id": "a1e0d884-eefb-41d1-b672-9b50843d984d",
   "metadata": {},
   "source": [
    "# 3. PREPROCESSING DATA"
   ]
  },
  {
   "cell_type": "code",
   "execution_count": 5,
   "id": "66b3f4c4-b9b6-4267-913e-c866c9562bbe",
   "metadata": {},
   "outputs": [
    {
     "data": {
      "text/html": [
       "<div>\n",
       "<style scoped>\n",
       "    .dataframe tbody tr th:only-of-type {\n",
       "        vertical-align: middle;\n",
       "    }\n",
       "\n",
       "    .dataframe tbody tr th {\n",
       "        vertical-align: top;\n",
       "    }\n",
       "\n",
       "    .dataframe thead th {\n",
       "        text-align: right;\n",
       "    }\n",
       "</style>\n",
       "<table border=\"1\" class=\"dataframe\">\n",
       "  <thead>\n",
       "    <tr style=\"text-align: right;\">\n",
       "      <th></th>\n",
       "      <th>Pregnancies</th>\n",
       "      <th>Glucose</th>\n",
       "      <th>BloodPressure</th>\n",
       "      <th>SkinThickness</th>\n",
       "      <th>Insulin</th>\n",
       "      <th>BMI</th>\n",
       "      <th>DiabetesPedigreeFunction</th>\n",
       "      <th>Age</th>\n",
       "      <th>Outcome</th>\n",
       "    </tr>\n",
       "  </thead>\n",
       "  <tbody>\n",
       "    <tr>\n",
       "      <th>0</th>\n",
       "      <td>6</td>\n",
       "      <td>148</td>\n",
       "      <td>72</td>\n",
       "      <td>35</td>\n",
       "      <td>0</td>\n",
       "      <td>33.6</td>\n",
       "      <td>0.627</td>\n",
       "      <td>50</td>\n",
       "      <td>1</td>\n",
       "    </tr>\n",
       "    <tr>\n",
       "      <th>1</th>\n",
       "      <td>1</td>\n",
       "      <td>85</td>\n",
       "      <td>66</td>\n",
       "      <td>29</td>\n",
       "      <td>0</td>\n",
       "      <td>26.6</td>\n",
       "      <td>0.351</td>\n",
       "      <td>31</td>\n",
       "      <td>0</td>\n",
       "    </tr>\n",
       "    <tr>\n",
       "      <th>2</th>\n",
       "      <td>8</td>\n",
       "      <td>183</td>\n",
       "      <td>64</td>\n",
       "      <td>0</td>\n",
       "      <td>0</td>\n",
       "      <td>23.3</td>\n",
       "      <td>0.672</td>\n",
       "      <td>32</td>\n",
       "      <td>1</td>\n",
       "    </tr>\n",
       "    <tr>\n",
       "      <th>3</th>\n",
       "      <td>1</td>\n",
       "      <td>89</td>\n",
       "      <td>66</td>\n",
       "      <td>23</td>\n",
       "      <td>94</td>\n",
       "      <td>28.1</td>\n",
       "      <td>0.167</td>\n",
       "      <td>21</td>\n",
       "      <td>0</td>\n",
       "    </tr>\n",
       "    <tr>\n",
       "      <th>4</th>\n",
       "      <td>0</td>\n",
       "      <td>137</td>\n",
       "      <td>40</td>\n",
       "      <td>35</td>\n",
       "      <td>168</td>\n",
       "      <td>43.1</td>\n",
       "      <td>2.288</td>\n",
       "      <td>33</td>\n",
       "      <td>1</td>\n",
       "    </tr>\n",
       "    <tr>\n",
       "      <th>...</th>\n",
       "      <td>...</td>\n",
       "      <td>...</td>\n",
       "      <td>...</td>\n",
       "      <td>...</td>\n",
       "      <td>...</td>\n",
       "      <td>...</td>\n",
       "      <td>...</td>\n",
       "      <td>...</td>\n",
       "      <td>...</td>\n",
       "    </tr>\n",
       "    <tr>\n",
       "      <th>2763</th>\n",
       "      <td>2</td>\n",
       "      <td>75</td>\n",
       "      <td>64</td>\n",
       "      <td>24</td>\n",
       "      <td>55</td>\n",
       "      <td>29.7</td>\n",
       "      <td>0.370</td>\n",
       "      <td>33</td>\n",
       "      <td>0</td>\n",
       "    </tr>\n",
       "    <tr>\n",
       "      <th>2764</th>\n",
       "      <td>8</td>\n",
       "      <td>179</td>\n",
       "      <td>72</td>\n",
       "      <td>42</td>\n",
       "      <td>130</td>\n",
       "      <td>32.7</td>\n",
       "      <td>0.719</td>\n",
       "      <td>36</td>\n",
       "      <td>1</td>\n",
       "    </tr>\n",
       "    <tr>\n",
       "      <th>2765</th>\n",
       "      <td>6</td>\n",
       "      <td>85</td>\n",
       "      <td>78</td>\n",
       "      <td>0</td>\n",
       "      <td>0</td>\n",
       "      <td>31.2</td>\n",
       "      <td>0.382</td>\n",
       "      <td>42</td>\n",
       "      <td>0</td>\n",
       "    </tr>\n",
       "    <tr>\n",
       "      <th>2766</th>\n",
       "      <td>0</td>\n",
       "      <td>129</td>\n",
       "      <td>110</td>\n",
       "      <td>46</td>\n",
       "      <td>130</td>\n",
       "      <td>67.1</td>\n",
       "      <td>0.319</td>\n",
       "      <td>26</td>\n",
       "      <td>1</td>\n",
       "    </tr>\n",
       "    <tr>\n",
       "      <th>2767</th>\n",
       "      <td>2</td>\n",
       "      <td>81</td>\n",
       "      <td>72</td>\n",
       "      <td>15</td>\n",
       "      <td>76</td>\n",
       "      <td>30.1</td>\n",
       "      <td>0.547</td>\n",
       "      <td>25</td>\n",
       "      <td>0</td>\n",
       "    </tr>\n",
       "  </tbody>\n",
       "</table>\n",
       "<p>2768 rows × 9 columns</p>\n",
       "</div>"
      ],
      "text/plain": [
       "      Pregnancies  Glucose  BloodPressure  SkinThickness  Insulin   BMI  \\\n",
       "0               6      148             72             35        0  33.6   \n",
       "1               1       85             66             29        0  26.6   \n",
       "2               8      183             64              0        0  23.3   \n",
       "3               1       89             66             23       94  28.1   \n",
       "4               0      137             40             35      168  43.1   \n",
       "...           ...      ...            ...            ...      ...   ...   \n",
       "2763            2       75             64             24       55  29.7   \n",
       "2764            8      179             72             42      130  32.7   \n",
       "2765            6       85             78              0        0  31.2   \n",
       "2766            0      129            110             46      130  67.1   \n",
       "2767            2       81             72             15       76  30.1   \n",
       "\n",
       "      DiabetesPedigreeFunction  Age  Outcome  \n",
       "0                        0.627   50        1  \n",
       "1                        0.351   31        0  \n",
       "2                        0.672   32        1  \n",
       "3                        0.167   21        0  \n",
       "4                        2.288   33        1  \n",
       "...                        ...  ...      ...  \n",
       "2763                     0.370   33        0  \n",
       "2764                     0.719   36        1  \n",
       "2765                     0.382   42        0  \n",
       "2766                     0.319   26        1  \n",
       "2767                     0.547   25        0  \n",
       "\n",
       "[2768 rows x 9 columns]"
      ]
     },
     "execution_count": 5,
     "metadata": {},
     "output_type": "execute_result"
    }
   ],
   "source": [
    "df_new = df.copy()\n",
    "df_new = df_new[[\"Pregnancies\",\"Glucose\",\"BloodPressure\",\"SkinThickness\",\"Insulin\",\"BMI\",\"DiabetesPedigreeFunction\",\"Age\",\"Outcome\"]]\n",
    "df_new"
   ]
  },
  {
   "cell_type": "code",
   "execution_count": 6,
   "id": "83f26665-5d25-4773-a73f-8fb78c7820f8",
   "metadata": {},
   "outputs": [
    {
     "data": {
      "text/html": [
       "<div>\n",
       "<style scoped>\n",
       "    .dataframe tbody tr th:only-of-type {\n",
       "        vertical-align: middle;\n",
       "    }\n",
       "\n",
       "    .dataframe tbody tr th {\n",
       "        vertical-align: top;\n",
       "    }\n",
       "\n",
       "    .dataframe thead th {\n",
       "        text-align: right;\n",
       "    }\n",
       "</style>\n",
       "<table border=\"1\" class=\"dataframe\">\n",
       "  <thead>\n",
       "    <tr style=\"text-align: right;\">\n",
       "      <th></th>\n",
       "      <th>Id</th>\n",
       "      <th>Pregnancies</th>\n",
       "      <th>Glucose</th>\n",
       "      <th>BloodPressure</th>\n",
       "      <th>SkinThickness</th>\n",
       "      <th>Insulin</th>\n",
       "      <th>BMI</th>\n",
       "      <th>DiabetesPedigreeFunction</th>\n",
       "      <th>Age</th>\n",
       "      <th>Outcome</th>\n",
       "    </tr>\n",
       "  </thead>\n",
       "  <tbody>\n",
       "    <tr>\n",
       "      <th>0</th>\n",
       "      <td>1</td>\n",
       "      <td>6</td>\n",
       "      <td>148</td>\n",
       "      <td>72</td>\n",
       "      <td>35</td>\n",
       "      <td>0</td>\n",
       "      <td>33.6</td>\n",
       "      <td>0.627</td>\n",
       "      <td>50</td>\n",
       "      <td>1</td>\n",
       "    </tr>\n",
       "    <tr>\n",
       "      <th>1</th>\n",
       "      <td>2</td>\n",
       "      <td>1</td>\n",
       "      <td>85</td>\n",
       "      <td>66</td>\n",
       "      <td>29</td>\n",
       "      <td>0</td>\n",
       "      <td>26.6</td>\n",
       "      <td>0.351</td>\n",
       "      <td>31</td>\n",
       "      <td>0</td>\n",
       "    </tr>\n",
       "    <tr>\n",
       "      <th>2</th>\n",
       "      <td>3</td>\n",
       "      <td>8</td>\n",
       "      <td>183</td>\n",
       "      <td>64</td>\n",
       "      <td>0</td>\n",
       "      <td>0</td>\n",
       "      <td>23.3</td>\n",
       "      <td>0.672</td>\n",
       "      <td>32</td>\n",
       "      <td>1</td>\n",
       "    </tr>\n",
       "    <tr>\n",
       "      <th>3</th>\n",
       "      <td>4</td>\n",
       "      <td>1</td>\n",
       "      <td>89</td>\n",
       "      <td>66</td>\n",
       "      <td>23</td>\n",
       "      <td>94</td>\n",
       "      <td>28.1</td>\n",
       "      <td>0.167</td>\n",
       "      <td>21</td>\n",
       "      <td>0</td>\n",
       "    </tr>\n",
       "    <tr>\n",
       "      <th>4</th>\n",
       "      <td>5</td>\n",
       "      <td>0</td>\n",
       "      <td>137</td>\n",
       "      <td>40</td>\n",
       "      <td>35</td>\n",
       "      <td>168</td>\n",
       "      <td>43.1</td>\n",
       "      <td>2.288</td>\n",
       "      <td>33</td>\n",
       "      <td>1</td>\n",
       "    </tr>\n",
       "    <tr>\n",
       "      <th>...</th>\n",
       "      <td>...</td>\n",
       "      <td>...</td>\n",
       "      <td>...</td>\n",
       "      <td>...</td>\n",
       "      <td>...</td>\n",
       "      <td>...</td>\n",
       "      <td>...</td>\n",
       "      <td>...</td>\n",
       "      <td>...</td>\n",
       "      <td>...</td>\n",
       "    </tr>\n",
       "    <tr>\n",
       "      <th>2763</th>\n",
       "      <td>2764</td>\n",
       "      <td>2</td>\n",
       "      <td>75</td>\n",
       "      <td>64</td>\n",
       "      <td>24</td>\n",
       "      <td>55</td>\n",
       "      <td>29.7</td>\n",
       "      <td>0.370</td>\n",
       "      <td>33</td>\n",
       "      <td>0</td>\n",
       "    </tr>\n",
       "    <tr>\n",
       "      <th>2764</th>\n",
       "      <td>2765</td>\n",
       "      <td>8</td>\n",
       "      <td>179</td>\n",
       "      <td>72</td>\n",
       "      <td>42</td>\n",
       "      <td>130</td>\n",
       "      <td>32.7</td>\n",
       "      <td>0.719</td>\n",
       "      <td>36</td>\n",
       "      <td>1</td>\n",
       "    </tr>\n",
       "    <tr>\n",
       "      <th>2765</th>\n",
       "      <td>2766</td>\n",
       "      <td>6</td>\n",
       "      <td>85</td>\n",
       "      <td>78</td>\n",
       "      <td>0</td>\n",
       "      <td>0</td>\n",
       "      <td>31.2</td>\n",
       "      <td>0.382</td>\n",
       "      <td>42</td>\n",
       "      <td>0</td>\n",
       "    </tr>\n",
       "    <tr>\n",
       "      <th>2766</th>\n",
       "      <td>2767</td>\n",
       "      <td>0</td>\n",
       "      <td>129</td>\n",
       "      <td>110</td>\n",
       "      <td>46</td>\n",
       "      <td>130</td>\n",
       "      <td>67.1</td>\n",
       "      <td>0.319</td>\n",
       "      <td>26</td>\n",
       "      <td>1</td>\n",
       "    </tr>\n",
       "    <tr>\n",
       "      <th>2767</th>\n",
       "      <td>2768</td>\n",
       "      <td>2</td>\n",
       "      <td>81</td>\n",
       "      <td>72</td>\n",
       "      <td>15</td>\n",
       "      <td>76</td>\n",
       "      <td>30.1</td>\n",
       "      <td>0.547</td>\n",
       "      <td>25</td>\n",
       "      <td>0</td>\n",
       "    </tr>\n",
       "  </tbody>\n",
       "</table>\n",
       "<p>2768 rows × 10 columns</p>\n",
       "</div>"
      ],
      "text/plain": [
       "        Id  Pregnancies  Glucose  BloodPressure  SkinThickness  Insulin   BMI  \\\n",
       "0        1            6      148             72             35        0  33.6   \n",
       "1        2            1       85             66             29        0  26.6   \n",
       "2        3            8      183             64              0        0  23.3   \n",
       "3        4            1       89             66             23       94  28.1   \n",
       "4        5            0      137             40             35      168  43.1   \n",
       "...    ...          ...      ...            ...            ...      ...   ...   \n",
       "2763  2764            2       75             64             24       55  29.7   \n",
       "2764  2765            8      179             72             42      130  32.7   \n",
       "2765  2766            6       85             78              0        0  31.2   \n",
       "2766  2767            0      129            110             46      130  67.1   \n",
       "2767  2768            2       81             72             15       76  30.1   \n",
       "\n",
       "      DiabetesPedigreeFunction  Age  Outcome  \n",
       "0                        0.627   50        1  \n",
       "1                        0.351   31        0  \n",
       "2                        0.672   32        1  \n",
       "3                        0.167   21        0  \n",
       "4                        2.288   33        1  \n",
       "...                        ...  ...      ...  \n",
       "2763                     0.370   33        0  \n",
       "2764                     0.719   36        1  \n",
       "2765                     0.382   42        0  \n",
       "2766                     0.319   26        1  \n",
       "2767                     0.547   25        0  \n",
       "\n",
       "[2768 rows x 10 columns]"
      ]
     },
     "execution_count": 6,
     "metadata": {},
     "output_type": "execute_result"
    }
   ],
   "source": [
    "df_new2 = df.copy()\n",
    "df_new2"
   ]
  },
  {
   "cell_type": "code",
   "execution_count": 7,
   "id": "b6fcf3b7-f9af-4523-a9d9-86e5feff3390",
   "metadata": {},
   "outputs": [],
   "source": [
    "df_new2.drop(columns=[\"Id\"],inplace = True)"
   ]
  },
  {
   "cell_type": "code",
   "execution_count": 8,
   "id": "bea4c4b4-6ccd-4d87-be18-dbad905d5c0a",
   "metadata": {},
   "outputs": [
    {
     "data": {
      "text/html": [
       "<div>\n",
       "<style scoped>\n",
       "    .dataframe tbody tr th:only-of-type {\n",
       "        vertical-align: middle;\n",
       "    }\n",
       "\n",
       "    .dataframe tbody tr th {\n",
       "        vertical-align: top;\n",
       "    }\n",
       "\n",
       "    .dataframe thead th {\n",
       "        text-align: right;\n",
       "    }\n",
       "</style>\n",
       "<table border=\"1\" class=\"dataframe\">\n",
       "  <thead>\n",
       "    <tr style=\"text-align: right;\">\n",
       "      <th></th>\n",
       "      <th>Pregnancies</th>\n",
       "      <th>Glucose</th>\n",
       "      <th>BloodPressure</th>\n",
       "      <th>SkinThickness</th>\n",
       "      <th>Insulin</th>\n",
       "      <th>BMI</th>\n",
       "      <th>DiabetesPedigreeFunction</th>\n",
       "      <th>Age</th>\n",
       "      <th>Outcome</th>\n",
       "    </tr>\n",
       "  </thead>\n",
       "  <tbody>\n",
       "    <tr>\n",
       "      <th>0</th>\n",
       "      <td>6</td>\n",
       "      <td>148</td>\n",
       "      <td>72</td>\n",
       "      <td>35</td>\n",
       "      <td>0</td>\n",
       "      <td>33.6</td>\n",
       "      <td>0.627</td>\n",
       "      <td>50</td>\n",
       "      <td>1</td>\n",
       "    </tr>\n",
       "    <tr>\n",
       "      <th>1</th>\n",
       "      <td>1</td>\n",
       "      <td>85</td>\n",
       "      <td>66</td>\n",
       "      <td>29</td>\n",
       "      <td>0</td>\n",
       "      <td>26.6</td>\n",
       "      <td>0.351</td>\n",
       "      <td>31</td>\n",
       "      <td>0</td>\n",
       "    </tr>\n",
       "    <tr>\n",
       "      <th>2</th>\n",
       "      <td>8</td>\n",
       "      <td>183</td>\n",
       "      <td>64</td>\n",
       "      <td>0</td>\n",
       "      <td>0</td>\n",
       "      <td>23.3</td>\n",
       "      <td>0.672</td>\n",
       "      <td>32</td>\n",
       "      <td>1</td>\n",
       "    </tr>\n",
       "    <tr>\n",
       "      <th>3</th>\n",
       "      <td>1</td>\n",
       "      <td>89</td>\n",
       "      <td>66</td>\n",
       "      <td>23</td>\n",
       "      <td>94</td>\n",
       "      <td>28.1</td>\n",
       "      <td>0.167</td>\n",
       "      <td>21</td>\n",
       "      <td>0</td>\n",
       "    </tr>\n",
       "    <tr>\n",
       "      <th>4</th>\n",
       "      <td>0</td>\n",
       "      <td>137</td>\n",
       "      <td>40</td>\n",
       "      <td>35</td>\n",
       "      <td>168</td>\n",
       "      <td>43.1</td>\n",
       "      <td>2.288</td>\n",
       "      <td>33</td>\n",
       "      <td>1</td>\n",
       "    </tr>\n",
       "    <tr>\n",
       "      <th>...</th>\n",
       "      <td>...</td>\n",
       "      <td>...</td>\n",
       "      <td>...</td>\n",
       "      <td>...</td>\n",
       "      <td>...</td>\n",
       "      <td>...</td>\n",
       "      <td>...</td>\n",
       "      <td>...</td>\n",
       "      <td>...</td>\n",
       "    </tr>\n",
       "    <tr>\n",
       "      <th>2763</th>\n",
       "      <td>2</td>\n",
       "      <td>75</td>\n",
       "      <td>64</td>\n",
       "      <td>24</td>\n",
       "      <td>55</td>\n",
       "      <td>29.7</td>\n",
       "      <td>0.370</td>\n",
       "      <td>33</td>\n",
       "      <td>0</td>\n",
       "    </tr>\n",
       "    <tr>\n",
       "      <th>2764</th>\n",
       "      <td>8</td>\n",
       "      <td>179</td>\n",
       "      <td>72</td>\n",
       "      <td>42</td>\n",
       "      <td>130</td>\n",
       "      <td>32.7</td>\n",
       "      <td>0.719</td>\n",
       "      <td>36</td>\n",
       "      <td>1</td>\n",
       "    </tr>\n",
       "    <tr>\n",
       "      <th>2765</th>\n",
       "      <td>6</td>\n",
       "      <td>85</td>\n",
       "      <td>78</td>\n",
       "      <td>0</td>\n",
       "      <td>0</td>\n",
       "      <td>31.2</td>\n",
       "      <td>0.382</td>\n",
       "      <td>42</td>\n",
       "      <td>0</td>\n",
       "    </tr>\n",
       "    <tr>\n",
       "      <th>2766</th>\n",
       "      <td>0</td>\n",
       "      <td>129</td>\n",
       "      <td>110</td>\n",
       "      <td>46</td>\n",
       "      <td>130</td>\n",
       "      <td>67.1</td>\n",
       "      <td>0.319</td>\n",
       "      <td>26</td>\n",
       "      <td>1</td>\n",
       "    </tr>\n",
       "    <tr>\n",
       "      <th>2767</th>\n",
       "      <td>2</td>\n",
       "      <td>81</td>\n",
       "      <td>72</td>\n",
       "      <td>15</td>\n",
       "      <td>76</td>\n",
       "      <td>30.1</td>\n",
       "      <td>0.547</td>\n",
       "      <td>25</td>\n",
       "      <td>0</td>\n",
       "    </tr>\n",
       "  </tbody>\n",
       "</table>\n",
       "<p>2768 rows × 9 columns</p>\n",
       "</div>"
      ],
      "text/plain": [
       "      Pregnancies  Glucose  BloodPressure  SkinThickness  Insulin   BMI  \\\n",
       "0               6      148             72             35        0  33.6   \n",
       "1               1       85             66             29        0  26.6   \n",
       "2               8      183             64              0        0  23.3   \n",
       "3               1       89             66             23       94  28.1   \n",
       "4               0      137             40             35      168  43.1   \n",
       "...           ...      ...            ...            ...      ...   ...   \n",
       "2763            2       75             64             24       55  29.7   \n",
       "2764            8      179             72             42      130  32.7   \n",
       "2765            6       85             78              0        0  31.2   \n",
       "2766            0      129            110             46      130  67.1   \n",
       "2767            2       81             72             15       76  30.1   \n",
       "\n",
       "      DiabetesPedigreeFunction  Age  Outcome  \n",
       "0                        0.627   50        1  \n",
       "1                        0.351   31        0  \n",
       "2                        0.672   32        1  \n",
       "3                        0.167   21        0  \n",
       "4                        2.288   33        1  \n",
       "...                        ...  ...      ...  \n",
       "2763                     0.370   33        0  \n",
       "2764                     0.719   36        1  \n",
       "2765                     0.382   42        0  \n",
       "2766                     0.319   26        1  \n",
       "2767                     0.547   25        0  \n",
       "\n",
       "[2768 rows x 9 columns]"
      ]
     },
     "execution_count": 8,
     "metadata": {},
     "output_type": "execute_result"
    }
   ],
   "source": [
    "df_new2"
   ]
  },
  {
   "cell_type": "markdown",
   "id": "7e831a98-e5b3-4a9d-9c6d-3ffdb2896a25",
   "metadata": {},
   "source": [
    "# 4. Ekpslorasi Data Analitik (EDA)"
   ]
  },
  {
   "cell_type": "code",
   "execution_count": 9,
   "id": "e748f8e5-618e-477c-82c5-ac6b3c94925f",
   "metadata": {},
   "outputs": [],
   "source": [
    "import matplotlib.pyplot as plt\n",
    "import seaborn as sns"
   ]
  },
  {
   "cell_type": "code",
   "execution_count": 10,
   "id": "ae7d194a-e128-4dbf-83f0-0b0ad384a885",
   "metadata": {},
   "outputs": [
    {
     "data": {
      "image/png": "[encoded data removed]",
      "text/plain": [
       "<Figure size 1000x800 with 2 Axes>"
      ]
     },
     "metadata": {},
     "output_type": "display_data"
    }
   ],
   "source": [
    "plt.figure(figsize=(10,8))\n",
    "sns.heatmap(df_new2.corr(),annot=True, cmap='coolwarm')\n",
    "plt.title(\"Korelasi Pearson antar fitur\")\n",
    "plt.show()\n"
   ]
  },
  {
   "cell_type": "markdown",
   "id": "775be35c-398a-4ddb-9363-c6e9acc2733e",
   "metadata": {},
   "source": [
    "# 5. Pelatihan dan Pengujian Model"
   ]
  },
  {
   "cell_type": "markdown",
   "id": "061cbb4c-8179-4133-8897-a402284711bb",
   "metadata": {},
   "source": [
    "Outcome ---> 1. ada diabetes\n",
    "Outcome ---> 0. Tidak ada diabetes"
   ]
  },
  {
   "cell_type": "code",
   "execution_count": 11,
   "id": "a720a13e-a2fa-4752-b567-93b5f0a8e61f",
   "metadata": {},
   "outputs": [],
   "source": [
    "X = df_new2.drop(columns=[\"Outcome\"])\n",
    "Y = df_new2[\"Outcome\"]"
   ]
  },
  {
   "cell_type": "code",
   "execution_count": 12,
   "id": "53a41ab2-dd79-45ec-9e2b-9ef7c1414f5b",
   "metadata": {},
   "outputs": [
    {
     "data": {
      "text/html": [
       "<div>\n",
       "<style scoped>\n",
       "    .dataframe tbody tr th:only-of-type {\n",
       "        vertical-align: middle;\n",
       "    }\n",
       "\n",
       "    .dataframe tbody tr th {\n",
       "        vertical-align: top;\n",
       "    }\n",
       "\n",
       "    .dataframe thead th {\n",
       "        text-align: right;\n",
       "    }\n",
       "</style>\n",
       "<table border=\"1\" class=\"dataframe\">\n",
       "  <thead>\n",
       "    <tr style=\"text-align: right;\">\n",
       "      <th></th>\n",
       "      <th>Pregnancies</th>\n",
       "      <th>Glucose</th>\n",
       "      <th>BloodPressure</th>\n",
       "      <th>SkinThickness</th>\n",
       "      <th>Insulin</th>\n",
       "      <th>BMI</th>\n",
       "      <th>DiabetesPedigreeFunction</th>\n",
       "      <th>Age</th>\n",
       "    </tr>\n",
       "  </thead>\n",
       "  <tbody>\n",
       "    <tr>\n",
       "      <th>0</th>\n",
       "      <td>6</td>\n",
       "      <td>148</td>\n",
       "      <td>72</td>\n",
       "      <td>35</td>\n",
       "      <td>0</td>\n",
       "      <td>33.6</td>\n",
       "      <td>0.627</td>\n",
       "      <td>50</td>\n",
       "    </tr>\n",
       "    <tr>\n",
       "      <th>1</th>\n",
       "      <td>1</td>\n",
       "      <td>85</td>\n",
       "      <td>66</td>\n",
       "      <td>29</td>\n",
       "      <td>0</td>\n",
       "      <td>26.6</td>\n",
       "      <td>0.351</td>\n",
       "      <td>31</td>\n",
       "    </tr>\n",
       "    <tr>\n",
       "      <th>2</th>\n",
       "      <td>8</td>\n",
       "      <td>183</td>\n",
       "      <td>64</td>\n",
       "      <td>0</td>\n",
       "      <td>0</td>\n",
       "      <td>23.3</td>\n",
       "      <td>0.672</td>\n",
       "      <td>32</td>\n",
       "    </tr>\n",
       "    <tr>\n",
       "      <th>3</th>\n",
       "      <td>1</td>\n",
       "      <td>89</td>\n",
       "      <td>66</td>\n",
       "      <td>23</td>\n",
       "      <td>94</td>\n",
       "      <td>28.1</td>\n",
       "      <td>0.167</td>\n",
       "      <td>21</td>\n",
       "    </tr>\n",
       "    <tr>\n",
       "      <th>4</th>\n",
       "      <td>0</td>\n",
       "      <td>137</td>\n",
       "      <td>40</td>\n",
       "      <td>35</td>\n",
       "      <td>168</td>\n",
       "      <td>43.1</td>\n",
       "      <td>2.288</td>\n",
       "      <td>33</td>\n",
       "    </tr>\n",
       "  </tbody>\n",
       "</table>\n",
       "</div>"
      ],
      "text/plain": [
       "   Pregnancies  Glucose  BloodPressure  SkinThickness  Insulin   BMI  \\\n",
       "0            6      148             72             35        0  33.6   \n",
       "1            1       85             66             29        0  26.6   \n",
       "2            8      183             64              0        0  23.3   \n",
       "3            1       89             66             23       94  28.1   \n",
       "4            0      137             40             35      168  43.1   \n",
       "\n",
       "   DiabetesPedigreeFunction  Age  \n",
       "0                     0.627   50  \n",
       "1                     0.351   31  \n",
       "2                     0.672   32  \n",
       "3                     0.167   21  \n",
       "4                     2.288   33  "
      ]
     },
     "execution_count": 12,
     "metadata": {},
     "output_type": "execute_result"
    }
   ],
   "source": [
    "X.head(5)"
   ]
  },
  {
   "cell_type": "code",
   "execution_count": 13,
   "id": "15d27f7a-1910-4b4b-bc8a-f5408bf45ec3",
   "metadata": {},
   "outputs": [
    {
     "data": {
      "text/plain": [
       "0    1\n",
       "1    0\n",
       "2    1\n",
       "3    0\n",
       "4    1\n",
       "Name: Outcome, dtype: int64"
      ]
     },
     "execution_count": 13,
     "metadata": {},
     "output_type": "execute_result"
    }
   ],
   "source": [
    "Y.head(5)"
   ]
  },
  {
   "cell_type": "code",
   "execution_count": 14,
   "id": "22beeb5c-cc05-404d-9439-7e41a6279e3f",
   "metadata": {},
   "outputs": [
    {
     "data": {
      "image/png": "[encoded data removed]",
      "text/plain": [
       "<Figure size 1000x500 with 1 Axes>"
      ]
     },
     "metadata": {},
     "output_type": "display_data"
    }
   ],
   "source": [
    "plt.figure(figsize=(10,5))\n",
    "plt.hist(Y, color ='skyblue', orientation = 'horizontal')\n",
    "plt.show()"
   ]
  },
  {
   "cell_type": "markdown",
   "id": "582a8bc2-9ee9-49b5-bf04-97059917c9f8",
   "metadata": {},
   "source": [
    "## 5.1. Pelatihan Machine Learning (KNN Model)"
   ]
  },
  {
   "cell_type": "code",
   "execution_count": 15,
   "id": "eb749b8d-cea5-477b-80e4-804c3a02788a",
   "metadata": {},
   "outputs": [],
   "source": [
    "from sklearn.model_selection import train_test_split\n",
    "from sklearn.neighbors import KNeighborsClassifier\n",
    "from sklearn.metrics import accuracy_score, classification_report, confusion_matrix"
   ]
  },
  {
   "cell_type": "code",
   "execution_count": 88,
   "id": "d48353af-39e9-493d-9d8c-9c7c5ca53f87",
   "metadata": {},
   "outputs": [],
   "source": [
    "# melakukan pelatihan dan pengujian\n",
    "X_train80, X_test20, Y_train80, Y_test20 = train_test_split(X,Y, test_size=0.2, random_state=42)"
   ]
  },
  {
   "cell_type": "code",
   "execution_count": 89,
   "id": "ed020657-4e33-43bb-8773-0ee72823956c",
   "metadata": {},
   "outputs": [],
   "source": [
    "# melakukan pelatihan dan pengujian\n",
    "X_train70, X_test30, Y_train70, Y_test30 = train_test_split(X,Y, test_size=0.3, random_state=42)"
   ]
  },
  {
   "cell_type": "code",
   "execution_count": 90,
   "id": "72204a2f-daee-41a9-b3a6-2d1fd57a602a",
   "metadata": {},
   "outputs": [],
   "source": [
    "# melakukan pelatihan dan pengujian\n",
    "X_train60, X_test40, Y_train60, Y_test40 = train_test_split(X,Y, test_size=0.4, random_state=42)"
   ]
  },
  {
   "cell_type": "code",
   "execution_count": 91,
   "id": "450c3a7c-cc77-49a6-b114-28e18d2abdbd",
   "metadata": {},
   "outputs": [],
   "source": [
    "# memanggil model\n",
    "model_knn = KNeighborsClassifier(n_neighbors=5)\n",
    "\n",
    "# melatih model\n",
    "model_knn.fit(X_train80, Y_train80)\n",
    "\n",
    "# menguji model\n",
    "Y_pred80 = model_knn.predict(X_test20) # Y_Test tidak masuk karena dia akan jadi kunci jawaban   \n",
    "Y_prtrain80 = model_knn.predict(X_train80) # untuk melihat hasil prediksi dari nilai train(latih)"
   ]
  },
  {
   "cell_type": "code",
   "execution_count": 149,
   "id": "234c74f2-4e04-42a6-825b-5bb5925ae6d4",
   "metadata": {},
   "outputs": [
    {
     "name": "stdout",
     "output_type": "stream",
     "text": [
      "AKURASI MODEL KNN : 86.46209386281588\n",
      "AKURASI MODEL KNN : 95.34778681120144\n"
     ]
    }
   ],
   "source": [
    "#evaluasi model\n",
    "#akurasi\n",
    "print(f\"AKURASI MODEL KNN :\", accuracy_score(Y_test20,Y_pred80)*100)\n",
    "print(f\"AKURASI MODEL KNN :\", accuracy_score(Y_train80,Y_prtrain80)*100)"
   ]
  },
  {
   "cell_type": "code",
   "execution_count": 141,
   "id": "f6aa8104-de38-4640-b766-5d28bd4c36e3",
   "metadata": {},
   "outputs": [],
   "source": [
    "# memanggil model\n",
    "model_knn2 = KNeighborsClassifier(n_neighbors=5)\n",
    "\n",
    "# melatih model\n",
    "model_knn2.fit(X_train70, Y_train70)\n",
    "\n",
    "# menguji model\n",
    "Y_pred70 = model_knn.predict(X_test30) # Y_Test tidak masuk karena dia akan jadi kunci jawaban\n",
    "Y_prtrain70 = model_knn.predict(X_train70) # Y_Test tidak masuk karena dia akan jadi kunci jawaban"
   ]
  },
  {
   "cell_type": "code",
   "execution_count": 148,
   "id": "ccd9476d-df00-4f40-8806-edfc6cf0c638",
   "metadata": {},
   "outputs": [
    {
     "name": "stdout",
     "output_type": "stream",
     "text": [
      "AKURASI MODEL KNN : 89.29001203369434\n",
      "AKURASI MODEL KNN : 95.40526587506454\n"
     ]
    }
   ],
   "source": [
    "#evaluasi model\n",
    "#akurasi\n",
    "print(f\"AKURASI MODEL KNN :\", accuracy_score(Y_test30,Y_pred70)*100)\n",
    "print(f\"AKURASI MODEL KNN :\", accuracy_score(Y_train70,Y_prtrain70)*100)"
   ]
  },
  {
   "cell_type": "code",
   "execution_count": 142,
   "id": "e1042bca-e5af-4582-aa8a-779279759a5e",
   "metadata": {},
   "outputs": [],
   "source": [
    "# memanggil model\n",
    "model_knn3 = KNeighborsClassifier(n_neighbors=5)\n",
    "\n",
    "# melatih model\n",
    "model_knn3.fit(X_train60, Y_train60)\n",
    "\n",
    "# menguji model\n",
    "Y_pred60 = model_knn.predict(X_test40) # Y_Test tidak masuk karena dia akan jadi kunci jawaban  \n",
    "Y_prtrain60 = model_knn.predict(X_train60) # untuk melihat hasil prediksi dari nilai train(latih)"
   ]
  },
  {
   "cell_type": "code",
   "execution_count": 130,
   "id": "5d34a98b-a9cb-423e-8083-4e7c9b20adf8",
   "metadata": {},
   "outputs": [
    {
     "name": "stdout",
     "output_type": "stream",
     "text": [
      "Hasil Klasifikasi REPORT KNN:               precision    recall  f1-score   support\n",
      "\n",
      "           0       0.91      0.89      0.90       367\n",
      "           1       0.79      0.82      0.80       187\n",
      "\n",
      "    accuracy                           0.86       554\n",
      "   macro avg       0.85      0.85      0.85       554\n",
      "weighted avg       0.87      0.86      0.87       554\n",
      "\n",
      "Hasil Klasifikasi REPORT KNN:               precision    recall  f1-score   support\n",
      "\n",
      "           0       0.97      0.96      0.96      1449\n",
      "           1       0.93      0.93      0.93       765\n",
      "\n",
      "    accuracy                           0.95      2214\n",
      "   macro avg       0.95      0.95      0.95      2214\n",
      "weighted avg       0.95      0.95      0.95      2214\n",
      "\n"
     ]
    }
   ],
   "source": [
    "print(\"Hasil Klasifikasi REPORT KNN:\", classification_report(Y_test20,Y_pred80))\n",
    "print(\"Hasil Klasifikasi REPORT KNN:\", classification_report(Y_train80,Y_prtrain80))"
   ]
  },
  {
   "cell_type": "code",
   "execution_count": 132,
   "id": "012feaa0-c362-4754-9031-71da3cd31448",
   "metadata": {},
   "outputs": [
    {
     "data": {
      "image/png": "[encoded data removed]",
      "text/plain": [
       "<Figure size 600x400 with 2 Axes>"
      ]
     },
     "metadata": {},
     "output_type": "display_data"
    }
   ],
   "source": [
    "import seaborn as sns\n",
    "# Confusion Matrix\n",
    "plt.figure(figsize=(6, 4))\n",
    "sns.heatmap(confusion_matrix(Y_test20, Y_pred80), annot=True, fmt='d', cmap='Blues', xticklabels=['No Diabetes', 'Diabetes'], yticklabels=['No Diabetes', 'Diabetes'])\n",
    "plt.xlabel(\"Predicted\")\n",
    "plt.ylabel(\"Actual\")\n",
    "plt.title(\"Confusion Matrix KNN Testing (Test 20%)\")\n",
    "plt.show()"
   ]
  },
  {
   "cell_type": "code",
   "execution_count": 133,
   "id": "beba34f7-0f10-439d-b22f-00887e348ddf",
   "metadata": {
    "scrolled": true
   },
   "outputs": [
    {
     "data": {
      "image/png": "[encoded data removed]",
      "text/plain": [
       "<Figure size 600x400 with 2 Axes>"
      ]
     },
     "metadata": {},
     "output_type": "display_data"
    }
   ],
   "source": [
    "import seaborn as sns\n",
    "# Confusion Matrix\n",
    "plt.figure(figsize=(6, 4))\n",
    "sns.heatmap(confusion_matrix(Y_train80, Y_prtrain80), annot=True, fmt='d', cmap='Blues', xticklabels=['No Diabetes', 'Diabetes'], yticklabels=['No Diabetes', 'Diabetes'])\n",
    "plt.xlabel(\"Predicted\")\n",
    "plt.ylabel(\"Actual\")\n",
    "plt.title(\"Confusion Matrix KNN Training (Test 20%)\")\n",
    "plt.show()"
   ]
  },
  {
   "cell_type": "code",
   "execution_count": 146,
   "id": "ee974490-e0ac-4102-8a88-ddfe2f13df9e",
   "metadata": {},
   "outputs": [
    {
     "data": {
      "image/png": "[encoded data removed]",
      "text/plain": [
       "<Figure size 600x400 with 1 Axes>"
      ]
     },
     "metadata": {},
     "output_type": "display_data"
    }
   ],
   "source": [
    "akurasi8020KNN_Testing= accuracy_score(Y_test20,Y_pred80)\n",
    "akurasi8020KNN_Training = accuracy_score(Y_train80,Y_prtrain80)\n",
    "akurasi7030KNN_Testing= accuracy_score(Y_test30,Y_pred70)\n",
    "akurasi7030KNN_Training = accuracy_score(Y_train70,Y_prtrain70)\n",
    "akurasi6040KNN_Testing= accuracy_score(Y_test40,Y_pred60)\n",
    "akurasi6040KNN_Training = accuracy_score(Y_train60,Y_prtrain60)\n",
    "\n",
    "\n",
    "# bikin figure/grafik\n",
    "plt.figure(figsize=(6,4))\n",
    "models = [\"KNN TESTING 80:20\", \"KNN TRAINING 80:20\",\"KNN TESTING 70:30\", \"KNN TRAINING 70:30\",\"KNN TESTING 60:40\", \"KNN TRAINING 60:40\"]\n",
    "akurasi = [akurasi8020KNN_Testing,akurasi8020KNN_Training,akurasi7030KNN_Testing,akurasi7030KNN_Training,akurasi6040KNN_Testing,akurasi6040KNN_Training]\n",
    "warna=[\"darkblue\",\"darkred\",\"blue\",\"red\",\"skyblue\",\"pink\"]\n",
    "plt.bar(models, akurasi, color=warna)\n",
    "plt.ylabel(\"Akurasi\")\n",
    "plt.title(\"Perbandingan Training dan Testing\")\n",
    "plt.xticks(rotation = 90)\n",
    "plt.show()\n"
   ]
  },
  {
   "cell_type": "code",
   "execution_count": null,
   "id": "06ce5cbc-6253-4760-9beb-d43102fc7086",
   "metadata": {},
   "outputs": [],
   "source": []
  },
  {
   "cell_type": "markdown",
   "id": "18931d12-2db2-4e6e-bb07-896691edd4e1",
   "metadata": {
    "jp-MarkdownHeadingCollapsed": true
   },
   "source": [
    "## 5.2.a Pelatihan Machine Learning (Naive Bayes Model)-test (0,2)"
   ]
  },
  {
   "cell_type": "code",
   "execution_count": 21,
   "id": "80ce3c7a-79c3-4dd8-9fcd-bc4866320ec2",
   "metadata": {},
   "outputs": [],
   "source": [
    "from sklearn.model_selection import train_test_split\n",
    "from sklearn.neighbors import KNeighborsClassifier\n",
    "from sklearn.metrics import accuracy_score, classification_report, confusion_matrix\n",
    "from sklearn.naive_bayes import *"
   ]
  },
  {
   "cell_type": "code",
   "execution_count": 22,
   "id": "28f7b16a-d376-4005-a41a-417c878a71cb",
   "metadata": {},
   "outputs": [],
   "source": [
    "# melakukan pelatihan dan pengujian\n",
    "X1_train, X1_test, Y1_train, Y1_test = train_test_split(X,Y, test_size=0.2, random_state=42)"
   ]
  },
  {
   "cell_type": "code",
   "execution_count": 23,
   "id": "5d9b224c-1510-4805-84f6-fdf319081b01",
   "metadata": {},
   "outputs": [
    {
     "ename": "NameError",
     "evalue": "name 'model_knb' is not defined",
     "output_type": "error",
     "traceback": [
      "\u001b[1;31m---------------------------------------------------------------------------\u001b[0m",
      "\u001b[1;31mNameError\u001b[0m                                 Traceback (most recent call last)",
      "Cell \u001b[1;32mIn[23], line 7\u001b[0m\n\u001b[0;32m      4\u001b[0m model_knb1\u001b[38;5;241m.\u001b[39mfit(X1_train, Y1_train)\n\u001b[0;32m      6\u001b[0m \u001b[38;5;66;03m# menguji model\u001b[39;00m\n\u001b[1;32m----> 7\u001b[0m Y1_pred \u001b[38;5;241m=\u001b[39m model_knb\u001b[38;5;241m.\u001b[39mpredict(X1_test)\n",
      "\u001b[1;31mNameError\u001b[0m: name 'model_knb' is not defined"
     ]
    }
   ],
   "source": [
    "# memanggil model\n",
    "model_knb1 = CategoricalNB(alpha=0.5, force_alpha=True, fit_prior=True, class_prior=None, min_categories=None)\n",
    "# melatih model\n",
    "model_knb1.fit(X1_train, Y1_train)\n",
    "\n",
    "# menguji model\n",
    "Y1_pred = model_knb.predict(X1_test) # Y_Test tidak masuk karena dia akan jadi kunci jawaban                                                                                         "
   ]
  },
  {
   "cell_type": "code",
   "execution_count": null,
   "id": "b82a3930-8d7a-4db1-9531-55e426527a1a",
   "metadata": {},
   "outputs": [],
   "source": [
    "#evaluasi model\n",
    "#akurasi\n",
    "print(f\"AKURASI MODEL KNN :\", accuracy_score(Y1_test,Y1_pred)*100)"
   ]
  },
  {
   "cell_type": "code",
   "execution_count": null,
   "id": "c6e06d58-3ea9-488e-81a1-0eb41ddb2dd3",
   "metadata": {},
   "outputs": [],
   "source": [
    "print(\"Hasil Klasifikasi REPORT KNB:\", classification_report(Y1_test,Y1_pred))"
   ]
  },
  {
   "cell_type": "code",
   "execution_count": null,
   "id": "17112943-eb52-4099-9844-771499d2e169",
   "metadata": {},
   "outputs": [],
   "source": [
    "import seaborn as sns\n",
    "# Confusion Matrix\n",
    "plt.figure(figsize=(6, 4))\n",
    "sns.heatmap(confusion_matrix(Y1_test, Y1_pred), annot=True, fmt='d', cmap='Blues', xticklabels=['No Diabetes', 'Diabetes'], yticklabels=['No Diabetes', 'Diabetes'])\n",
    "plt.xlabel(\"Predicted\")\n",
    "plt.ylabel(\"Actual\")\n",
    "plt.title(\"Confusion Matrix\")\n",
    "plt.show()"
   ]
  },
  {
   "cell_type": "markdown",
   "id": "7ebd1eef-ac41-4d99-bff1-e247360e4edd",
   "metadata": {},
   "source": [
    "#### Kesimpulan : untuk pengujian model Kategorikal Naive Bayes dengan rasio 0,2, hasil akurasi diperoleh 82,85 persen, lebih rendah dari nilai hasil pengujian dengan model KNearestNeighbor yang diperoleh nilai 86,46. oleh karena itu dapat dikatakan bahwa untuk rasio test 0,2, model kategorikal naive bayes dengan rasio 0,2 tidak lebih baik dari model KNN\n"
   ]
  },
  {
   "cell_type": "markdown",
   "id": "cf8bdf2e-8973-4c26-ac80-82e7f65426b9",
   "metadata": {
    "jp-MarkdownHeadingCollapsed": true
   },
   "source": [
    "## 5.2.b Pelatihan Machine Learning (Naive Bayes Model)-test (0,3)"
   ]
  },
  {
   "cell_type": "code",
   "execution_count": null,
   "id": "4fe2f57e-6b53-456a-96cc-689a262b81a1",
   "metadata": {},
   "outputs": [],
   "source": [
    "from sklearn.model_selection import train_test_split\n",
    "from sklearn.neighbors import KNeighborsClassifier\n",
    "from sklearn.metrics import accuracy_score, classification_report, confusion_matrix\n",
    "from sklearn.naive_bayes import *"
   ]
  },
  {
   "cell_type": "code",
   "execution_count": null,
   "id": "420f821c-7027-4f44-9971-d8d9c2d9d10f",
   "metadata": {},
   "outputs": [],
   "source": [
    "# melakukan pelatihan dan pengujian\n",
    "X2_train, X2_test, Y2_train, Y2_test = train_test_split(X,Y, test_size= 0.3,random_state=42)"
   ]
  },
  {
   "cell_type": "code",
   "execution_count": null,
   "id": "752e924e-66e5-45f5-8281-d571f5f57bb8",
   "metadata": {},
   "outputs": [],
   "source": [
    "# memanggil model\n",
    "model_knb2 = CategoricalNB(alpha=0.5, force_alpha=True, fit_prior=True, class_prior=None, min_categories=None)\n",
    "# melatih model\n",
    "model_knb2.fit(X2_train, Y2_train)\n",
    "\n",
    "# menguji model\n",
    "Y2_pred = model_knb2.predict(X2_test) # Y_Test tidak masuk karena dia akan jadi kunci jawaban                                                                                         "
   ]
  },
  {
   "cell_type": "code",
   "execution_count": null,
   "id": "80b4fa6f-111e-4b4a-97ac-9a69a1b344f4",
   "metadata": {},
   "outputs": [],
   "source": [
    "#evaluasi model\n",
    "#akurasi\n",
    "print(f\"AKURASI MODEL KNB :\", accuracy_score(Y2_test,Y2_pred)*100)"
   ]
  },
  {
   "cell_type": "code",
   "execution_count": null,
   "id": "bad0e686-490e-4de1-99aa-6ef640e7aa10",
   "metadata": {},
   "outputs": [],
   "source": [
    "print(\"Hasil Klasifikasi REPORT KNB:\", classification_report(Y2_test,Y2_pred))"
   ]
  },
  {
   "cell_type": "code",
   "execution_count": null,
   "id": "a3b9d2c1-8f3e-4cd7-b568-be145c073662",
   "metadata": {},
   "outputs": [],
   "source": [
    "import seaborn as sns\n",
    "# Confusion Matrix\n",
    "plt.figure(figsize=(6, 4))\n",
    "sns.heatmap(confusion_matrix(Y2_test, Y2_pred), annot=True, fmt='d', cmap='Blues', xticklabels=['No Diabetes', 'Diabetes'], yticklabels=['No Diabetes', 'Diabetes'])\n",
    "plt.xlabel(\"Predicted\")\n",
    "plt.ylabel(\"Actual\")\n",
    "plt.title(\"Confusion Matrix\")\n",
    "plt.show()"
   ]
  },
  {
   "cell_type": "markdown",
   "id": "ad0e485d-ccd8-4ea9-a2c6-ddab801e150a",
   "metadata": {},
   "source": [
    "#### Kesimpulan : untuk pengujian model Kategorikal Naive Bayes dengan rasio tes 0,3, hasil akurasi diperoleh 82, persen, lebih rendah dari nilai hasil pengujian dengan model KNearestNeighbor yang diperoleh nilai 86,46. oleh karena itu dapat dikatakan bahwa untuk rasio test 0,2, model kategorikal naive bayes dengan rasio 0,2 tidak lebih baik dari model KNN\n"
   ]
  },
  {
   "cell_type": "code",
   "execution_count": null,
   "id": "3e5ce654-9628-48a6-8039-f1c8fe74daf8",
   "metadata": {},
   "outputs": [],
   "source": []
  },
  {
   "cell_type": "markdown",
   "id": "801cf557-a964-4a75-ad8e-0132ed8267ea",
   "metadata": {
    "jp-MarkdownHeadingCollapsed": true
   },
   "source": [
    "## 5.2.c Pelatihan Machine Learning (Naive Bayes Model)-test (0,4)"
   ]
  },
  {
   "cell_type": "code",
   "execution_count": null,
   "id": "99e52235-10dc-488d-8660-74781020a4d0",
   "metadata": {},
   "outputs": [],
   "source": [
    "from sklearn.model_selection import train_test_split\n",
    "from sklearn.neighbors import KNeighborsClassifier\n",
    "from sklearn.metrics import accuracy_score, classification_report, confusion_matrix\n",
    "from sklearn.naive_bayes import *"
   ]
  },
  {
   "cell_type": "code",
   "execution_count": 53,
   "id": "69d0eae8-2457-49eb-a49a-34c831338f82",
   "metadata": {},
   "outputs": [],
   "source": [
    "# melakukan pelatihan dan pengujian\n",
    "X3_train, X3_test, Y3_train, Y3_test = train_test_split(X,Y, test_size= 0.4, random_state = 5)"
   ]
  },
  {
   "cell_type": "code",
   "execution_count": 54,
   "id": "6b0a8fe7-6f9d-4c59-b446-07d93160bb90",
   "metadata": {},
   "outputs": [],
   "source": [
    "# memanggil model\n",
    "model_knb3 = CategoricalNB(alpha=1, force_alpha=True, fit_prior=True, class_prior=None, min_categories=None)\n",
    "# melatih model\n",
    "model_knb3.fit(X3_train, Y3_train)\n",
    "\n",
    "# menguji model\n",
    "Y3_pred = model_knb3.predict(X3_test) # Y_Test tidak masuk karena dia akan jadi kunci jawaban                                                                                         "
   ]
  },
  {
   "cell_type": "code",
   "execution_count": 51,
   "id": "4fc50b86-e209-474a-9fd2-33a6482ebe44",
   "metadata": {},
   "outputs": [
    {
     "name": "stdout",
     "output_type": "stream",
     "text": [
      "AKURASI MODEL KNB : 81.94945848375451\n"
     ]
    }
   ],
   "source": [
    "#evaluasi model\n",
    "#akurasi\n",
    "print(f\"AKURASI MODEL KNB :\", accuracy_score(Y3_test,Y3_pred)*100)"
   ]
  },
  {
   "cell_type": "code",
   "execution_count": 29,
   "id": "babb9132-9035-4032-8b46-bf67ffff7085",
   "metadata": {},
   "outputs": [
    {
     "name": "stdout",
     "output_type": "stream",
     "text": [
      "Hasil Klasifikasi REPORT KNB:               precision    recall  f1-score   support\n",
      "\n",
      "           0       0.86      0.86      0.86       733\n",
      "           1       0.73      0.73      0.73       375\n",
      "\n",
      "    accuracy                           0.82      1108\n",
      "   macro avg       0.80      0.80      0.80      1108\n",
      "weighted avg       0.82      0.82      0.82      1108\n",
      "\n"
     ]
    }
   ],
   "source": [
    "print(\"Hasil Klasifikasi REPORT KNB:\", classification_report(Y3_test,Y3_pred))"
   ]
  },
  {
   "cell_type": "code",
   "execution_count": 30,
   "id": "e6ff986d-2a9c-4ea7-b588-86fcd5d245c3",
   "metadata": {},
   "outputs": [
    {
     "data": {
      "image/png": "[encoded data removed]",
      "text/plain": [
       "<Figure size 600x400 with 2 Axes>"
      ]
     },
     "metadata": {},
     "output_type": "display_data"
    }
   ],
   "source": [
    "import seaborn as sns\n",
    "# Confusion Matrix\n",
    "plt.figure(figsize=(6, 4))\n",
    "sns.heatmap(confusion_matrix(Y3_test, Y3_pred), annot=True, fmt='d', cmap='Blues', xticklabels=['No Diabetes', 'Diabetes'], yticklabels=['No Diabetes', 'Diabetes'])\n",
    "plt.xlabel(\"Predicted\")\n",
    "plt.ylabel(\"Actual\")\n",
    "plt.title(\"Confusion Matrix\")\n",
    "plt.show()"
   ]
  },
  {
   "cell_type": "markdown",
   "id": "10d4e7db-969a-4e6c-8759-26a5e5c04619",
   "metadata": {},
   "source": [
    "#### Kesimpulan : untuk pengujian model Kategorikal Naive Bayes dengan rasio tes 0,4, hasil akurasi diperoleh 82, persen, lebih rendah dari nilai hasil pengujian dengan model KNearestNeighbor yang diperoleh nilai 86,46. oleh karena itu dapat dikatakan bahwa untuk rasio test 0,2, model kategorikal naive bayes dengan rasio 0,2 tidak lebih baik dari model KNN\n"
   ]
  },
  {
   "cell_type": "markdown",
   "id": "2f83a12c-95cf-4876-99ab-b0d0a764c1a4",
   "metadata": {},
   "source": [
    "# 5.3. Pelatihan Machine Learning ( Gaussian Naive Bayes Model)-test (0,2)"
   ]
  },
  {
   "cell_type": "code",
   "execution_count": 31,
   "id": "6d136cea-48fb-4866-be0c-d504744f7a85",
   "metadata": {},
   "outputs": [],
   "source": [
    "from sklearn.model_selection import train_test_split\n",
    "from sklearn.neighbors import KNeighborsClassifier\n",
    "from sklearn.metrics import accuracy_score, classification_report, confusion_matrix\n",
    "from sklearn.naive_bayes import GaussianNB"
   ]
  },
  {
   "cell_type": "code",
   "execution_count": 116,
   "id": "1e3f1d79-7a6c-4774-b6a7-80394876a6a1",
   "metadata": {},
   "outputs": [],
   "source": [
    "# melakukan pelatihan dan pengujian\n",
    "X5_train, X5_test, Y5_train, Y5_test = train_test_split(X,Y, test_size= 0.2, random_state = 42)"
   ]
  },
  {
   "cell_type": "code",
   "execution_count": 117,
   "id": "d3b45929-fb7e-4a06-b8d1-2baec58d23d8",
   "metadata": {},
   "outputs": [],
   "source": [
    "# memanggil model\n",
    "model_gnb = GaussianNB()\n",
    "\n",
    "# melatih model\n",
    "model_gnb.fit(X5_train, Y5_train)\n",
    "\n",
    "# menguji model\n",
    "Y5_pred = model_gnb.predict(X5_test) # Y_Test tidak masuk karena dia akan jadi kunci jawaban                                                                                         "
   ]
  },
  {
   "cell_type": "code",
   "execution_count": 118,
   "id": "7bec83e9-1038-4d7f-b404-34cb74adfcbf",
   "metadata": {},
   "outputs": [
    {
     "name": "stdout",
     "output_type": "stream",
     "text": [
      "AKURASI MODEL GNB : 76.89530685920577\n"
     ]
    }
   ],
   "source": [
    "#evaluasi model\n",
    "#akurasi\n",
    "print(f\"AKURASI MODEL GNB :\", accuracy_score(Y5_test,Y5_pred)*100)"
   ]
  },
  {
   "cell_type": "code",
   "execution_count": 87,
   "id": "ead2f09a-b7b6-4478-88d7-81059f1cd823",
   "metadata": {},
   "outputs": [
    {
     "name": "stdout",
     "output_type": "stream",
     "text": [
      "REPORT KNB:               precision    recall  f1-score   support\n",
      "\n",
      "           0       0.88      0.90      0.89      1454\n",
      "           1       0.80      0.76      0.78       761\n",
      "\n",
      "    accuracy                           0.85      2215\n",
      "   macro avg       0.84      0.83      0.83      2215\n",
      "weighted avg       0.85      0.85      0.85      2215\n",
      "\n"
     ]
    }
   ],
   "source": [
    "print(\"REPORT KNB:\", classification_report(Y5_test,Y5_pred))"
   ]
  },
  {
   "cell_type": "code",
   "execution_count": 76,
   "id": "5cddca52-1334-43f2-9f0b-d5d3ddcc7ed9",
   "metadata": {},
   "outputs": [
    {
     "data": {
      "image/png": "[encoded data removed]",
      "text/plain": [
       "<Figure size 600x400 with 2 Axes>"
      ]
     },
     "metadata": {},
     "output_type": "display_data"
    }
   ],
   "source": [
    "import seaborn as sns\n",
    "# Confusion Matrix\n",
    "plt.figure(figsize=(6, 4))\n",
    "sns.heatmap(confusion_matrix(Y5_test, Y5_pred), annot=True, fmt='d', cmap='Blues', xticklabels=['No Diabetes', 'Diabetes'], yticklabels=['No Diabetes', 'Diabetes'])\n",
    "plt.xlabel(\"Predicted\")\n",
    "plt.ylabel(\"Actual\")\n",
    "plt.title(\"Confusion Matrix\")\n",
    "plt.show()"
   ]
  },
  {
   "cell_type": "raw",
   "id": "3d3ac860-fcfd-41af-a695-4cff6d11cc11",
   "metadata": {},
   "source": [
    "TP = True Positive (nilai positif yang berhasil diprediksi oleh prediktor)\n",
    "TN = True Negative (nilai negatif yang berhasil diprediksi oleh prediktor)\n",
    "FP = False Positive (nilai positif yang tidak berhasil diprediksi oleh prediktor)\n",
    "FN = False Negative (nilai negatif yang tidak berhasil diprediksi oleh prediktor)"
   ]
  },
  {
   "cell_type": "markdown",
   "id": "82c2d75a-af74-43f8-9621-455a1a05a87e",
   "metadata": {},
   "source": [
    "#### Kesimpulan : untuk pengujian model Kategorikal Naive Bayes dengan rasio tes 0,4, hasil akurasi diperoleh 82, persen, lebih rendah dari nilai hasil pengujian dengan model KNearestNeighbor yang diperoleh nilai 86,46. oleh karena itu dapat dikatakan bahwa untuk rasio test 0,2, model kategorikal naive bayes dengan rasio 0,2 tidak lebih baik dari model KNN\n"
   ]
  }
 ],
 "metadata": {
  "kernelspec": {
   "display_name": "Python 3 (ipykernel)",
   "language": "python",
   "name": "python3"
  },
  "language_info": {
   "codemirror_mode": {
    "name": "ipython",
    "version": 3
   },
   "file_extension": ".py",
   "mimetype": "text/x-python",
   "name": "python",
   "nbconvert_exporter": "python",
   "pygments_lexer": "ipython3",
   "version": "3.12.7"
  }
 },
 "nbformat": 4,
 "nbformat_minor": 5
}
