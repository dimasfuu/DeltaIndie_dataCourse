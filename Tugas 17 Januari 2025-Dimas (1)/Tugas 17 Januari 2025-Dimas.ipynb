{
 "cells": [
  {
   "cell_type": "markdown",
   "id": "ede8e60e-3e12-4b8f-92df-a06ad065e606",
   "metadata": {},
   "source": [
    "# Penugasan pertemuan Jumat 17 Januari 2025\n",
    "1. Analisa penjualan setiap bulan dari produk kalian (Ivory230)--> jumlah penjualan setiap bulan\n",
    "2. Visualisasikan pendapatan tertinggi setiap bulannya, hitung total pendapatan untuk produk setiap bulan--> list, [\"Januari\";200000;\"Februari\";300000]--> Visualisasikan\n",
    "3. Kasih legenda disetiap visualisasi"
   ]
  },
  {
   "cell_type": "markdown",
   "id": "54ad6356-79ac-4701-8ae6-30f4af849ed7",
   "metadata": {},
   "source": [
    "# Jawaban"
   ]
  },
  {
   "cell_type": "markdown",
   "id": "e71f5712-5e07-47a7-bc7c-30a2f1e02327",
   "metadata": {},
   "source": [
    "## Persiapan Data"
   ]
  },
  {
   "cell_type": "markdown",
   "id": "6d568651-0f05-4bb2-9269-c2451b5bc73a",
   "metadata": {
    "jp-MarkdownHeadingCollapsed": true
   },
   "source": [
    "### A. Import library"
   ]
  },
  {
   "cell_type": "code",
   "execution_count": 358,
   "id": "6f1bf0a9-d5da-475b-8fc4-2a40ff2f7d25",
   "metadata": {},
   "outputs": [],
   "source": [
    "import pandas as pd\n",
    "import numpy as np\n",
    "import matplotlib.pyplot as plt"
   ]
  },
  {
   "cell_type": "markdown",
   "id": "1a18ab34-4023-43cd-807c-c8260a0cb219",
   "metadata": {
    "jp-MarkdownHeadingCollapsed": true
   },
   "source": [
    "### B. Persiapan Data set"
   ]
  },
  {
   "cell_type": "code",
   "execution_count": 360,
   "id": "fb7eaf8f-cde7-4d97-97c2-bc831a039f13",
   "metadata": {},
   "outputs": [
    {
     "data": {
      "text/html": [
       "<div>\n",
       "<style scoped>\n",
       "    .dataframe tbody tr th:only-of-type {\n",
       "        vertical-align: middle;\n",
       "    }\n",
       "\n",
       "    .dataframe tbody tr th {\n",
       "        vertical-align: top;\n",
       "    }\n",
       "\n",
       "    .dataframe thead th {\n",
       "        text-align: right;\n",
       "    }\n",
       "</style>\n",
       "<table border=\"1\" class=\"dataframe\">\n",
       "  <thead>\n",
       "    <tr style=\"text-align: right;\">\n",
       "      <th></th>\n",
       "      <th>Tanggal</th>\n",
       "      <th>Jenis Produk</th>\n",
       "      <th>Jumlah Order</th>\n",
       "      <th>Harga</th>\n",
       "      <th>Total</th>\n",
       "    </tr>\n",
       "  </thead>\n",
       "  <tbody>\n",
       "    <tr>\n",
       "      <th>0</th>\n",
       "      <td>05/08/2022</td>\n",
       "      <td>Foodpak260</td>\n",
       "      <td>1000.0</td>\n",
       "      <td>1800.0</td>\n",
       "      <td>1800000.0</td>\n",
       "    </tr>\n",
       "    <tr>\n",
       "      <th>1</th>\n",
       "      <td>05/08/2022</td>\n",
       "      <td>FoodpakMatte245</td>\n",
       "      <td>1000.0</td>\n",
       "      <td>1900.0</td>\n",
       "      <td>1900000.0</td>\n",
       "    </tr>\n",
       "    <tr>\n",
       "      <th>2</th>\n",
       "      <td>05/08/2022</td>\n",
       "      <td>CraftLaminasi290</td>\n",
       "      <td>5000.0</td>\n",
       "      <td>750.0</td>\n",
       "      <td>3750000.0</td>\n",
       "    </tr>\n",
       "    <tr>\n",
       "      <th>3</th>\n",
       "      <td>05/08/2022</td>\n",
       "      <td>CraftLaminasi290</td>\n",
       "      <td>1000.0</td>\n",
       "      <td>1200.0</td>\n",
       "      <td>1200000.0</td>\n",
       "    </tr>\n",
       "    <tr>\n",
       "      <th>4</th>\n",
       "      <td>07/08/2022</td>\n",
       "      <td>Dupleks310</td>\n",
       "      <td>1000.0</td>\n",
       "      <td>1550.0</td>\n",
       "      <td>1550000.0</td>\n",
       "    </tr>\n",
       "    <tr>\n",
       "      <th>...</th>\n",
       "      <td>...</td>\n",
       "      <td>...</td>\n",
       "      <td>...</td>\n",
       "      <td>...</td>\n",
       "      <td>...</td>\n",
       "    </tr>\n",
       "    <tr>\n",
       "      <th>1071</th>\n",
       "      <td>14/11/2023</td>\n",
       "      <td>Ivory230</td>\n",
       "      <td>1000.0</td>\n",
       "      <td>900.0</td>\n",
       "      <td>900000.0</td>\n",
       "    </tr>\n",
       "    <tr>\n",
       "      <th>1072</th>\n",
       "      <td>15/11/2023</td>\n",
       "      <td>CraftLaminasi290</td>\n",
       "      <td>2000.0</td>\n",
       "      <td>800.0</td>\n",
       "      <td>1600000.0</td>\n",
       "    </tr>\n",
       "    <tr>\n",
       "      <th>1073</th>\n",
       "      <td>15/11/2023</td>\n",
       "      <td>CraftLaminasi290</td>\n",
       "      <td>1500.0</td>\n",
       "      <td>875.0</td>\n",
       "      <td>1312500.0</td>\n",
       "    </tr>\n",
       "    <tr>\n",
       "      <th>1074</th>\n",
       "      <td>15/11/2023</td>\n",
       "      <td>FoodpakMatte</td>\n",
       "      <td>1000.0</td>\n",
       "      <td>2200.0</td>\n",
       "      <td>2200000.0</td>\n",
       "    </tr>\n",
       "    <tr>\n",
       "      <th>1075</th>\n",
       "      <td>15/11/2023</td>\n",
       "      <td>GreaseProof</td>\n",
       "      <td>1000.0</td>\n",
       "      <td>300.0</td>\n",
       "      <td>300000.0</td>\n",
       "    </tr>\n",
       "  </tbody>\n",
       "</table>\n",
       "<p>1076 rows × 5 columns</p>\n",
       "</div>"
      ],
      "text/plain": [
       "         Tanggal      Jenis Produk  Jumlah Order   Harga      Total\n",
       "0     05/08/2022        Foodpak260        1000.0  1800.0  1800000.0\n",
       "1     05/08/2022   FoodpakMatte245        1000.0  1900.0  1900000.0\n",
       "2     05/08/2022  CraftLaminasi290        5000.0   750.0  3750000.0\n",
       "3     05/08/2022  CraftLaminasi290        1000.0  1200.0  1200000.0\n",
       "4     07/08/2022        Dupleks310        1000.0  1550.0  1550000.0\n",
       "...          ...               ...           ...     ...        ...\n",
       "1071  14/11/2023          Ivory230        1000.0   900.0   900000.0\n",
       "1072  15/11/2023  CraftLaminasi290        2000.0   800.0  1600000.0\n",
       "1073  15/11/2023  CraftLaminasi290        1500.0   875.0  1312500.0\n",
       "1074  15/11/2023      FoodpakMatte        1000.0  2200.0  2200000.0\n",
       "1075  15/11/2023       GreaseProof        1000.0   300.0   300000.0\n",
       "\n",
       "[1076 rows x 5 columns]"
      ]
     },
     "execution_count": 360,
     "metadata": {},
     "output_type": "execute_result"
    }
   ],
   "source": [
    "data_jualan=pd.read_csv(\"data_penjualan.csv\", delimiter=\";\")\n",
    "data_jualan"
   ]
  },
  {
   "cell_type": "markdown",
   "id": "ffc7bd82-d39a-4981-b2e6-9ac166a28f2c",
   "metadata": {
    "jp-MarkdownHeadingCollapsed": true
   },
   "source": [
    "### C. Pemeriksaan Data"
   ]
  },
  {
   "cell_type": "code",
   "execution_count": 362,
   "id": "d3551416-48cf-404e-90b7-36333cb85415",
   "metadata": {},
   "outputs": [
    {
     "name": "stdout",
     "output_type": "stream",
     "text": [
      "<class 'pandas.core.frame.DataFrame'>\n",
      "RangeIndex: 1076 entries, 0 to 1075\n",
      "Data columns (total 5 columns):\n",
      " #   Column        Non-Null Count  Dtype  \n",
      "---  ------        --------------  -----  \n",
      " 0   Tanggal       1076 non-null   object \n",
      " 1   Jenis Produk  1056 non-null   object \n",
      " 2   Jumlah Order  1031 non-null   float64\n",
      " 3   Harga         1024 non-null   float64\n",
      " 4   Total         1022 non-null   float64\n",
      "dtypes: float64(3), object(2)\n",
      "memory usage: 42.2+ KB\n"
     ]
    }
   ],
   "source": [
    "data_jualan.info()"
   ]
  },
  {
   "cell_type": "code",
   "execution_count": 363,
   "id": "7815cb91-53a5-468d-b7e8-a636b7290eae",
   "metadata": {},
   "outputs": [
    {
     "data": {
      "text/plain": [
       "Tanggal          0\n",
       "Jenis Produk    20\n",
       "Jumlah Order    45\n",
       "Harga           52\n",
       "Total           54\n",
       "dtype: int64"
      ]
     },
     "execution_count": 363,
     "metadata": {},
     "output_type": "execute_result"
    }
   ],
   "source": [
    "#Pengecekan data missing\n",
    "data_jualan.isna().sum()"
   ]
  },
  {
   "cell_type": "code",
   "execution_count": 364,
   "id": "ea5dd663-2aa9-416c-ad58-c933c2980713",
   "metadata": {},
   "outputs": [
    {
     "data": {
      "text/plain": [
       "20"
      ]
     },
     "execution_count": 364,
     "metadata": {},
     "output_type": "execute_result"
    }
   ],
   "source": [
    "data_jualan[\"Jenis Produk\"].isna().sum()"
   ]
  },
  {
   "cell_type": "code",
   "execution_count": 365,
   "id": "ab075bfa-f17f-4d27-88f0-ee4eee8e1d77",
   "metadata": {},
   "outputs": [
    {
     "data": {
      "text/plain": [
       "45"
      ]
     },
     "execution_count": 365,
     "metadata": {},
     "output_type": "execute_result"
    }
   ],
   "source": [
    "data_jualan[\"Jumlah Order\"].isna().sum()"
   ]
  },
  {
   "cell_type": "code",
   "execution_count": 366,
   "id": "97caf268-2445-4fe3-96d7-f74457e10744",
   "metadata": {},
   "outputs": [
    {
     "data": {
      "text/plain": [
       "52"
      ]
     },
     "execution_count": 366,
     "metadata": {},
     "output_type": "execute_result"
    }
   ],
   "source": [
    "data_jualan[\"Harga\"].isna().sum()"
   ]
  },
  {
   "cell_type": "code",
   "execution_count": 367,
   "id": "24172ad2-3625-4133-af81-7a51105333c2",
   "metadata": {},
   "outputs": [
    {
     "data": {
      "text/plain": [
       "54"
      ]
     },
     "execution_count": 367,
     "metadata": {},
     "output_type": "execute_result"
    }
   ],
   "source": [
    "data_jualan[\"Total\"].isna().sum()"
   ]
  },
  {
   "cell_type": "markdown",
   "id": "a91c5afa-b973-432c-93be-e83d6586ed83",
   "metadata": {},
   "source": [
    "### Dari Data awal terlihat masih terdapat data yang memiliki nilai 'Null'/Blank, untuk itu diperlukan tindakan pembersihan/cleansing data"
   ]
  },
  {
   "cell_type": "markdown",
   "id": "02164f4c-c9af-451b-852b-e36652c65ef8",
   "metadata": {},
   "source": [
    "### D. Pembersihan Data"
   ]
  },
  {
   "cell_type": "code",
   "execution_count": 370,
   "id": "ca705e8f-eb25-4c8c-b296-bea703c9b091",
   "metadata": {},
   "outputs": [],
   "source": [
    "#karena tipe data untuk kolom tanggal belum bertipe datetime, oleh karena itu perlu dilakukan konversi tipe data terlebih dahulu\n",
    "data_jualan[\"Tanggal\"] = pd.to_datetime(data_jualan[\"Tanggal\"], format=\"%d/%m/%Y\")"
   ]
  },
  {
   "cell_type": "code",
   "execution_count": 371,
   "id": "07ab34e5-23e3-4f2d-b433-1c7737f3b7e4",
   "metadata": {},
   "outputs": [
    {
     "name": "stdout",
     "output_type": "stream",
     "text": [
      "<class 'pandas.core.frame.DataFrame'>\n",
      "RangeIndex: 1076 entries, 0 to 1075\n",
      "Data columns (total 5 columns):\n",
      " #   Column        Non-Null Count  Dtype         \n",
      "---  ------        --------------  -----         \n",
      " 0   Tanggal       1076 non-null   datetime64[ns]\n",
      " 1   Jenis Produk  1056 non-null   object        \n",
      " 2   Jumlah Order  1031 non-null   float64       \n",
      " 3   Harga         1024 non-null   float64       \n",
      " 4   Total         1022 non-null   float64       \n",
      "dtypes: datetime64[ns](1), float64(3), object(1)\n",
      "memory usage: 42.2+ KB\n"
     ]
    }
   ],
   "source": [
    "data_jualan.info()"
   ]
  },
  {
   "cell_type": "markdown",
   "id": "38e8ae34-f821-4dd5-9f0e-f0fbdf72e142",
   "metadata": {},
   "source": [
    "#### Dari ringkasan data dapat dilihat jika untuk kolom 'Jenis Produk', 'Jumlah Order', 'Harga' dan 'Total' masih memiliki nilai 'Null'oleh karena itu perlu kita lakukan cleansing data, dengan metode ketiga yaitu metode \"REPLACING\""
   ]
  },
  {
   "cell_type": "code",
   "execution_count": 373,
   "id": "dc0f618f-e7bc-4523-b8e1-b3992a712ec7",
   "metadata": {},
   "outputs": [
    {
     "name": "stderr",
     "output_type": "stream",
     "text": [
      "C:\\Users\\ACER\\AppData\\Local\\Temp\\ipykernel_11020\\3211667542.py:1: FutureWarning: A value is trying to be set on a copy of a DataFrame or Series through chained assignment using an inplace method.\n",
      "The behavior will change in pandas 3.0. This inplace method will never work because the intermediate object on which we are setting values always behaves as a copy.\n",
      "\n",
      "For example, when doing 'df[col].method(value, inplace=True)', try using 'df.method({col: value}, inplace=True)' or df[col] = df[col].method(value) instead, to perform the operation inplace on the original object.\n",
      "\n",
      "\n",
      "  data_jualan[\"Jenis Produk\"].fillna(data_jualan[\"Jenis Produk\"].mode()[0], inplace=True)\n"
     ]
    }
   ],
   "source": [
    "data_jualan[\"Jenis Produk\"].fillna(data_jualan[\"Jenis Produk\"].mode()[0], inplace=True)"
   ]
  },
  {
   "cell_type": "code",
   "execution_count": 374,
   "id": "73b5ca16-c11a-43a5-99bc-236a7a9f9aa4",
   "metadata": {},
   "outputs": [
    {
     "name": "stderr",
     "output_type": "stream",
     "text": [
      "C:\\Users\\ACER\\AppData\\Local\\Temp\\ipykernel_11020\\1446405066.py:1: FutureWarning: A value is trying to be set on a copy of a DataFrame or Series through chained assignment using an inplace method.\n",
      "The behavior will change in pandas 3.0. This inplace method will never work because the intermediate object on which we are setting values always behaves as a copy.\n",
      "\n",
      "For example, when doing 'df[col].method(value, inplace=True)', try using 'df.method({col: value}, inplace=True)' or df[col] = df[col].method(value) instead, to perform the operation inplace on the original object.\n",
      "\n",
      "\n",
      "  data_jualan[\"Jumlah Order\"].fillna(data_jualan[\"Jumlah Order\"].mean(), inplace=True)\n"
     ]
    }
   ],
   "source": [
    "data_jualan[\"Jumlah Order\"].fillna(data_jualan[\"Jumlah Order\"].mean(), inplace=True)"
   ]
  },
  {
   "cell_type": "code",
   "execution_count": 375,
   "id": "04f62804-6668-459b-be23-4698da38ad74",
   "metadata": {},
   "outputs": [
    {
     "name": "stderr",
     "output_type": "stream",
     "text": [
      "C:\\Users\\ACER\\AppData\\Local\\Temp\\ipykernel_11020\\908935075.py:1: FutureWarning: A value is trying to be set on a copy of a DataFrame or Series through chained assignment using an inplace method.\n",
      "The behavior will change in pandas 3.0. This inplace method will never work because the intermediate object on which we are setting values always behaves as a copy.\n",
      "\n",
      "For example, when doing 'df[col].method(value, inplace=True)', try using 'df.method({col: value}, inplace=True)' or df[col] = df[col].method(value) instead, to perform the operation inplace on the original object.\n",
      "\n",
      "\n",
      "  data_jualan[\"Harga\"].fillna(data_jualan[\"Harga\"].mean(), inplace=True)\n"
     ]
    }
   ],
   "source": [
    "data_jualan[\"Harga\"].fillna(data_jualan[\"Harga\"].mean(), inplace=True)"
   ]
  },
  {
   "cell_type": "code",
   "execution_count": 376,
   "id": "d2afa7ed-d1e9-4a0e-84a6-61cbeee8a867",
   "metadata": {},
   "outputs": [
    {
     "name": "stderr",
     "output_type": "stream",
     "text": [
      "C:\\Users\\ACER\\AppData\\Local\\Temp\\ipykernel_11020\\3345186248.py:1: FutureWarning: A value is trying to be set on a copy of a DataFrame or Series through chained assignment using an inplace method.\n",
      "The behavior will change in pandas 3.0. This inplace method will never work because the intermediate object on which we are setting values always behaves as a copy.\n",
      "\n",
      "For example, when doing 'df[col].method(value, inplace=True)', try using 'df.method({col: value}, inplace=True)' or df[col] = df[col].method(value) instead, to perform the operation inplace on the original object.\n",
      "\n",
      "\n",
      "  data_jualan[\"Total\"].fillna(data_jualan[\"Jumlah Order\"] * data_jualan[\"Harga\"], inplace=True)\n"
     ]
    }
   ],
   "source": [
    "data_jualan[\"Total\"].fillna(data_jualan[\"Jumlah Order\"] * data_jualan[\"Harga\"], inplace=True)"
   ]
  },
  {
   "cell_type": "code",
   "execution_count": 377,
   "id": "47084133-a6c2-4b18-91b6-f9c297210b6e",
   "metadata": {},
   "outputs": [
    {
     "data": {
      "text/plain": [
       "Tanggal         0\n",
       "Jenis Produk    0\n",
       "Jumlah Order    0\n",
       "Harga           0\n",
       "Total           0\n",
       "dtype: int64"
      ]
     },
     "execution_count": 377,
     "metadata": {},
     "output_type": "execute_result"
    }
   ],
   "source": [
    "data_jualan.isna().sum()"
   ]
  },
  {
   "cell_type": "markdown",
   "id": "0e8727d6-4952-4139-900c-09e62506fcdf",
   "metadata": {},
   "source": [
    "#### Setelah dilakukan pembersihan data dari missing value maka diperoleh hasil:"
   ]
  },
  {
   "cell_type": "code",
   "execution_count": 379,
   "id": "88371f3a-a1df-4feb-89df-1b1ea100140d",
   "metadata": {},
   "outputs": [
    {
     "data": {
      "text/html": [
       "<div>\n",
       "<style scoped>\n",
       "    .dataframe tbody tr th:only-of-type {\n",
       "        vertical-align: middle;\n",
       "    }\n",
       "\n",
       "    .dataframe tbody tr th {\n",
       "        vertical-align: top;\n",
       "    }\n",
       "\n",
       "    .dataframe thead th {\n",
       "        text-align: right;\n",
       "    }\n",
       "</style>\n",
       "<table border=\"1\" class=\"dataframe\">\n",
       "  <thead>\n",
       "    <tr style=\"text-align: right;\">\n",
       "      <th></th>\n",
       "      <th>Tanggal</th>\n",
       "      <th>Jenis Produk</th>\n",
       "      <th>Jumlah Order</th>\n",
       "      <th>Harga</th>\n",
       "      <th>Total</th>\n",
       "    </tr>\n",
       "  </thead>\n",
       "  <tbody>\n",
       "    <tr>\n",
       "      <th>0</th>\n",
       "      <td>2022-08-05</td>\n",
       "      <td>Foodpak260</td>\n",
       "      <td>1000.0</td>\n",
       "      <td>1800.0</td>\n",
       "      <td>1800000.0</td>\n",
       "    </tr>\n",
       "    <tr>\n",
       "      <th>1</th>\n",
       "      <td>2022-08-05</td>\n",
       "      <td>FoodpakMatte245</td>\n",
       "      <td>1000.0</td>\n",
       "      <td>1900.0</td>\n",
       "      <td>1900000.0</td>\n",
       "    </tr>\n",
       "    <tr>\n",
       "      <th>2</th>\n",
       "      <td>2022-08-05</td>\n",
       "      <td>CraftLaminasi290</td>\n",
       "      <td>5000.0</td>\n",
       "      <td>750.0</td>\n",
       "      <td>3750000.0</td>\n",
       "    </tr>\n",
       "    <tr>\n",
       "      <th>3</th>\n",
       "      <td>2022-08-05</td>\n",
       "      <td>CraftLaminasi290</td>\n",
       "      <td>1000.0</td>\n",
       "      <td>1200.0</td>\n",
       "      <td>1200000.0</td>\n",
       "    </tr>\n",
       "    <tr>\n",
       "      <th>4</th>\n",
       "      <td>2022-08-07</td>\n",
       "      <td>Dupleks310</td>\n",
       "      <td>1000.0</td>\n",
       "      <td>1550.0</td>\n",
       "      <td>1550000.0</td>\n",
       "    </tr>\n",
       "    <tr>\n",
       "      <th>...</th>\n",
       "      <td>...</td>\n",
       "      <td>...</td>\n",
       "      <td>...</td>\n",
       "      <td>...</td>\n",
       "      <td>...</td>\n",
       "    </tr>\n",
       "    <tr>\n",
       "      <th>1071</th>\n",
       "      <td>2023-11-14</td>\n",
       "      <td>Ivory230</td>\n",
       "      <td>1000.0</td>\n",
       "      <td>900.0</td>\n",
       "      <td>900000.0</td>\n",
       "    </tr>\n",
       "    <tr>\n",
       "      <th>1072</th>\n",
       "      <td>2023-11-15</td>\n",
       "      <td>CraftLaminasi290</td>\n",
       "      <td>2000.0</td>\n",
       "      <td>800.0</td>\n",
       "      <td>1600000.0</td>\n",
       "    </tr>\n",
       "    <tr>\n",
       "      <th>1073</th>\n",
       "      <td>2023-11-15</td>\n",
       "      <td>CraftLaminasi290</td>\n",
       "      <td>1500.0</td>\n",
       "      <td>875.0</td>\n",
       "      <td>1312500.0</td>\n",
       "    </tr>\n",
       "    <tr>\n",
       "      <th>1074</th>\n",
       "      <td>2023-11-15</td>\n",
       "      <td>FoodpakMatte</td>\n",
       "      <td>1000.0</td>\n",
       "      <td>2200.0</td>\n",
       "      <td>2200000.0</td>\n",
       "    </tr>\n",
       "    <tr>\n",
       "      <th>1075</th>\n",
       "      <td>2023-11-15</td>\n",
       "      <td>GreaseProof</td>\n",
       "      <td>1000.0</td>\n",
       "      <td>300.0</td>\n",
       "      <td>300000.0</td>\n",
       "    </tr>\n",
       "  </tbody>\n",
       "</table>\n",
       "<p>1076 rows × 5 columns</p>\n",
       "</div>"
      ],
      "text/plain": [
       "        Tanggal      Jenis Produk  Jumlah Order   Harga      Total\n",
       "0    2022-08-05        Foodpak260        1000.0  1800.0  1800000.0\n",
       "1    2022-08-05   FoodpakMatte245        1000.0  1900.0  1900000.0\n",
       "2    2022-08-05  CraftLaminasi290        5000.0   750.0  3750000.0\n",
       "3    2022-08-05  CraftLaminasi290        1000.0  1200.0  1200000.0\n",
       "4    2022-08-07        Dupleks310        1000.0  1550.0  1550000.0\n",
       "...         ...               ...           ...     ...        ...\n",
       "1071 2023-11-14          Ivory230        1000.0   900.0   900000.0\n",
       "1072 2023-11-15  CraftLaminasi290        2000.0   800.0  1600000.0\n",
       "1073 2023-11-15  CraftLaminasi290        1500.0   875.0  1312500.0\n",
       "1074 2023-11-15      FoodpakMatte        1000.0  2200.0  2200000.0\n",
       "1075 2023-11-15       GreaseProof        1000.0   300.0   300000.0\n",
       "\n",
       "[1076 rows x 5 columns]"
      ]
     },
     "execution_count": 379,
     "metadata": {},
     "output_type": "execute_result"
    }
   ],
   "source": [
    "data_jualan"
   ]
  },
  {
   "cell_type": "code",
   "execution_count": 380,
   "id": "d0352ae7-c24a-4394-87cb-8f1279cd85d5",
   "metadata": {},
   "outputs": [
    {
     "data": {
      "text/html": [
       "<div>\n",
       "<style scoped>\n",
       "    .dataframe tbody tr th:only-of-type {\n",
       "        vertical-align: middle;\n",
       "    }\n",
       "\n",
       "    .dataframe tbody tr th {\n",
       "        vertical-align: top;\n",
       "    }\n",
       "\n",
       "    .dataframe thead th {\n",
       "        text-align: right;\n",
       "    }\n",
       "</style>\n",
       "<table border=\"1\" class=\"dataframe\">\n",
       "  <thead>\n",
       "    <tr style=\"text-align: right;\">\n",
       "      <th></th>\n",
       "      <th>Tanggal</th>\n",
       "      <th>Jumlah Order</th>\n",
       "      <th>Harga</th>\n",
       "      <th>Total</th>\n",
       "    </tr>\n",
       "  </thead>\n",
       "  <tbody>\n",
       "    <tr>\n",
       "      <th>count</th>\n",
       "      <td>1076</td>\n",
       "      <td>1076.000000</td>\n",
       "      <td>1076.000000</td>\n",
       "      <td>1.076000e+03</td>\n",
       "    </tr>\n",
       "    <tr>\n",
       "      <th>mean</th>\n",
       "      <td>2023-04-09 15:48:50.855018752</td>\n",
       "      <td>1915.332687</td>\n",
       "      <td>1713.202148</td>\n",
       "      <td>2.348091e+06</td>\n",
       "    </tr>\n",
       "    <tr>\n",
       "      <th>min</th>\n",
       "      <td>2022-08-05 00:00:00</td>\n",
       "      <td>5.000000</td>\n",
       "      <td>100.000000</td>\n",
       "      <td>1.537600e+04</td>\n",
       "    </tr>\n",
       "    <tr>\n",
       "      <th>25%</th>\n",
       "      <td>2022-12-13 00:00:00</td>\n",
       "      <td>1000.000000</td>\n",
       "      <td>1000.000000</td>\n",
       "      <td>1.312500e+06</td>\n",
       "    </tr>\n",
       "    <tr>\n",
       "      <th>50%</th>\n",
       "      <td>2023-04-26 00:00:00</td>\n",
       "      <td>1000.000000</td>\n",
       "      <td>1500.000000</td>\n",
       "      <td>1.800000e+06</td>\n",
       "    </tr>\n",
       "    <tr>\n",
       "      <th>75%</th>\n",
       "      <td>2023-08-09 00:00:00</td>\n",
       "      <td>2000.000000</td>\n",
       "      <td>1800.000000</td>\n",
       "      <td>3.000000e+06</td>\n",
       "    </tr>\n",
       "    <tr>\n",
       "      <th>max</th>\n",
       "      <td>2023-11-15 00:00:00</td>\n",
       "      <td>40000.000000</td>\n",
       "      <td>99970.000000</td>\n",
       "      <td>2.149355e+07</td>\n",
       "    </tr>\n",
       "    <tr>\n",
       "      <th>std</th>\n",
       "      <td>NaN</td>\n",
       "      <td>2491.758284</td>\n",
       "      <td>3352.475721</td>\n",
       "      <td>1.731626e+06</td>\n",
       "    </tr>\n",
       "  </tbody>\n",
       "</table>\n",
       "</div>"
      ],
      "text/plain": [
       "                             Tanggal  Jumlah Order         Harga         Total\n",
       "count                           1076   1076.000000   1076.000000  1.076000e+03\n",
       "mean   2023-04-09 15:48:50.855018752   1915.332687   1713.202148  2.348091e+06\n",
       "min              2022-08-05 00:00:00      5.000000    100.000000  1.537600e+04\n",
       "25%              2022-12-13 00:00:00   1000.000000   1000.000000  1.312500e+06\n",
       "50%              2023-04-26 00:00:00   1000.000000   1500.000000  1.800000e+06\n",
       "75%              2023-08-09 00:00:00   2000.000000   1800.000000  3.000000e+06\n",
       "max              2023-11-15 00:00:00  40000.000000  99970.000000  2.149355e+07\n",
       "std                              NaN   2491.758284   3352.475721  1.731626e+06"
      ]
     },
     "execution_count": 380,
     "metadata": {},
     "output_type": "execute_result"
    }
   ],
   "source": [
    "data_jualan.describe()"
   ]
  },
  {
   "cell_type": "markdown",
   "id": "ebd3632a-71be-4444-b31a-dd211d5126a8",
   "metadata": {},
   "source": [
    "### E. Filter Dataframe"
   ]
  },
  {
   "cell_type": "markdown",
   "id": "4437eb53-3e56-407d-bb37-00e65b0d20ae",
   "metadata": {},
   "source": [
    "#### Sebelum dilakukan filtering, untuk keperluan analisis bulanan maka diperlukan kolom tambahan yaitu kolom \"Bulan\""
   ]
  },
  {
   "cell_type": "code",
   "execution_count": 383,
   "id": "4bdf72d5-8f97-4434-a2f7-748f0c698f6b",
   "metadata": {},
   "outputs": [
    {
     "data": {
      "text/html": [
       "<div>\n",
       "<style scoped>\n",
       "    .dataframe tbody tr th:only-of-type {\n",
       "        vertical-align: middle;\n",
       "    }\n",
       "\n",
       "    .dataframe tbody tr th {\n",
       "        vertical-align: top;\n",
       "    }\n",
       "\n",
       "    .dataframe thead th {\n",
       "        text-align: right;\n",
       "    }\n",
       "</style>\n",
       "<table border=\"1\" class=\"dataframe\">\n",
       "  <thead>\n",
       "    <tr style=\"text-align: right;\">\n",
       "      <th></th>\n",
       "      <th>Tanggal</th>\n",
       "      <th>Jenis Produk</th>\n",
       "      <th>Jumlah Order</th>\n",
       "      <th>Harga</th>\n",
       "      <th>Total</th>\n",
       "      <th>Bulan</th>\n",
       "    </tr>\n",
       "  </thead>\n",
       "  <tbody>\n",
       "    <tr>\n",
       "      <th>0</th>\n",
       "      <td>2022-08-05</td>\n",
       "      <td>Foodpak260</td>\n",
       "      <td>1000.0</td>\n",
       "      <td>1800.0</td>\n",
       "      <td>1800000.0</td>\n",
       "      <td>August</td>\n",
       "    </tr>\n",
       "    <tr>\n",
       "      <th>1</th>\n",
       "      <td>2022-08-05</td>\n",
       "      <td>FoodpakMatte245</td>\n",
       "      <td>1000.0</td>\n",
       "      <td>1900.0</td>\n",
       "      <td>1900000.0</td>\n",
       "      <td>August</td>\n",
       "    </tr>\n",
       "    <tr>\n",
       "      <th>2</th>\n",
       "      <td>2022-08-05</td>\n",
       "      <td>CraftLaminasi290</td>\n",
       "      <td>5000.0</td>\n",
       "      <td>750.0</td>\n",
       "      <td>3750000.0</td>\n",
       "      <td>August</td>\n",
       "    </tr>\n",
       "    <tr>\n",
       "      <th>3</th>\n",
       "      <td>2022-08-05</td>\n",
       "      <td>CraftLaminasi290</td>\n",
       "      <td>1000.0</td>\n",
       "      <td>1200.0</td>\n",
       "      <td>1200000.0</td>\n",
       "      <td>August</td>\n",
       "    </tr>\n",
       "    <tr>\n",
       "      <th>4</th>\n",
       "      <td>2022-08-07</td>\n",
       "      <td>Dupleks310</td>\n",
       "      <td>1000.0</td>\n",
       "      <td>1550.0</td>\n",
       "      <td>1550000.0</td>\n",
       "      <td>August</td>\n",
       "    </tr>\n",
       "    <tr>\n",
       "      <th>...</th>\n",
       "      <td>...</td>\n",
       "      <td>...</td>\n",
       "      <td>...</td>\n",
       "      <td>...</td>\n",
       "      <td>...</td>\n",
       "      <td>...</td>\n",
       "    </tr>\n",
       "    <tr>\n",
       "      <th>1071</th>\n",
       "      <td>2023-11-14</td>\n",
       "      <td>Ivory230</td>\n",
       "      <td>1000.0</td>\n",
       "      <td>900.0</td>\n",
       "      <td>900000.0</td>\n",
       "      <td>November</td>\n",
       "    </tr>\n",
       "    <tr>\n",
       "      <th>1072</th>\n",
       "      <td>2023-11-15</td>\n",
       "      <td>CraftLaminasi290</td>\n",
       "      <td>2000.0</td>\n",
       "      <td>800.0</td>\n",
       "      <td>1600000.0</td>\n",
       "      <td>November</td>\n",
       "    </tr>\n",
       "    <tr>\n",
       "      <th>1073</th>\n",
       "      <td>2023-11-15</td>\n",
       "      <td>CraftLaminasi290</td>\n",
       "      <td>1500.0</td>\n",
       "      <td>875.0</td>\n",
       "      <td>1312500.0</td>\n",
       "      <td>November</td>\n",
       "    </tr>\n",
       "    <tr>\n",
       "      <th>1074</th>\n",
       "      <td>2023-11-15</td>\n",
       "      <td>FoodpakMatte</td>\n",
       "      <td>1000.0</td>\n",
       "      <td>2200.0</td>\n",
       "      <td>2200000.0</td>\n",
       "      <td>November</td>\n",
       "    </tr>\n",
       "    <tr>\n",
       "      <th>1075</th>\n",
       "      <td>2023-11-15</td>\n",
       "      <td>GreaseProof</td>\n",
       "      <td>1000.0</td>\n",
       "      <td>300.0</td>\n",
       "      <td>300000.0</td>\n",
       "      <td>November</td>\n",
       "    </tr>\n",
       "  </tbody>\n",
       "</table>\n",
       "<p>1076 rows × 6 columns</p>\n",
       "</div>"
      ],
      "text/plain": [
       "        Tanggal      Jenis Produk  Jumlah Order   Harga      Total     Bulan\n",
       "0    2022-08-05        Foodpak260        1000.0  1800.0  1800000.0    August\n",
       "1    2022-08-05   FoodpakMatte245        1000.0  1900.0  1900000.0    August\n",
       "2    2022-08-05  CraftLaminasi290        5000.0   750.0  3750000.0    August\n",
       "3    2022-08-05  CraftLaminasi290        1000.0  1200.0  1200000.0    August\n",
       "4    2022-08-07        Dupleks310        1000.0  1550.0  1550000.0    August\n",
       "...         ...               ...           ...     ...        ...       ...\n",
       "1071 2023-11-14          Ivory230        1000.0   900.0   900000.0  November\n",
       "1072 2023-11-15  CraftLaminasi290        2000.0   800.0  1600000.0  November\n",
       "1073 2023-11-15  CraftLaminasi290        1500.0   875.0  1312500.0  November\n",
       "1074 2023-11-15      FoodpakMatte        1000.0  2200.0  2200000.0  November\n",
       "1075 2023-11-15       GreaseProof        1000.0   300.0   300000.0  November\n",
       "\n",
       "[1076 rows x 6 columns]"
      ]
     },
     "execution_count": 383,
     "metadata": {},
     "output_type": "execute_result"
    }
   ],
   "source": [
    "data_jualan[\"Bulan\"] = data_jualan[\"Tanggal\"].dt.month_name()\n",
    "data_jualan"
   ]
  },
  {
   "cell_type": "markdown",
   "id": "df3a1556-a503-4f6e-a366-bb2bdd10f394",
   "metadata": {},
   "source": [
    "#### Karena Dataframe yang diinginkan terbatas oleh produk \"Ivory230\" maka diperlukan suatu dataframe terbaru yang hanya menampilkan Jenis Produk \"Ivory230\""
   ]
  },
  {
   "cell_type": "code",
   "execution_count": 385,
   "id": "63661c39-f34c-4893-9574-f5e64c5b1791",
   "metadata": {},
   "outputs": [],
   "source": [
    "data_jualan_ivory = data_jualan[data_jualan[\"Jenis Produk\"]==\"Ivory230\"]"
   ]
  },
  {
   "cell_type": "markdown",
   "id": "0dc93f88-6f92-47ae-83ad-d51030b2225e",
   "metadata": {},
   "source": [
    "## 1. Analisa penjualan setiap bulan dari produk kalian (Ivory230)--> jumlah penjualan setiap bulan"
   ]
  },
  {
   "cell_type": "code",
   "execution_count": 387,
   "id": "6c13e07d-8c84-43e0-b025-0634823a8c9e",
   "metadata": {},
   "outputs": [
    {
     "data": {
      "text/html": [
       "<div>\n",
       "<style scoped>\n",
       "    .dataframe tbody tr th:only-of-type {\n",
       "        vertical-align: middle;\n",
       "    }\n",
       "\n",
       "    .dataframe tbody tr th {\n",
       "        vertical-align: top;\n",
       "    }\n",
       "\n",
       "    .dataframe thead th {\n",
       "        text-align: right;\n",
       "    }\n",
       "</style>\n",
       "<table border=\"1\" class=\"dataframe\">\n",
       "  <thead>\n",
       "    <tr style=\"text-align: right;\">\n",
       "      <th></th>\n",
       "      <th>Tanggal</th>\n",
       "      <th>Jenis Produk</th>\n",
       "      <th>Jumlah Order</th>\n",
       "      <th>Harga</th>\n",
       "      <th>Total</th>\n",
       "      <th>Bulan</th>\n",
       "    </tr>\n",
       "  </thead>\n",
       "  <tbody>\n",
       "    <tr>\n",
       "      <th>26</th>\n",
       "      <td>2022-08-15</td>\n",
       "      <td>Ivory230</td>\n",
       "      <td>3000.000000</td>\n",
       "      <td>950.0</td>\n",
       "      <td>2850000.0</td>\n",
       "      <td>August</td>\n",
       "    </tr>\n",
       "    <tr>\n",
       "      <th>47</th>\n",
       "      <td>2022-08-29</td>\n",
       "      <td>Ivory230</td>\n",
       "      <td>2000.000000</td>\n",
       "      <td>1450.0</td>\n",
       "      <td>2900000.0</td>\n",
       "      <td>August</td>\n",
       "    </tr>\n",
       "    <tr>\n",
       "      <th>59</th>\n",
       "      <td>2022-09-02</td>\n",
       "      <td>Ivory230</td>\n",
       "      <td>2000.000000</td>\n",
       "      <td>945.0</td>\n",
       "      <td>1890000.0</td>\n",
       "      <td>September</td>\n",
       "    </tr>\n",
       "    <tr>\n",
       "      <th>64</th>\n",
       "      <td>2022-09-05</td>\n",
       "      <td>Ivory230</td>\n",
       "      <td>1915.332687</td>\n",
       "      <td>1200.0</td>\n",
       "      <td>1200000.0</td>\n",
       "      <td>September</td>\n",
       "    </tr>\n",
       "    <tr>\n",
       "      <th>115</th>\n",
       "      <td>2022-09-24</td>\n",
       "      <td>Ivory230</td>\n",
       "      <td>1000.000000</td>\n",
       "      <td>1600.0</td>\n",
       "      <td>1600000.0</td>\n",
       "      <td>September</td>\n",
       "    </tr>\n",
       "    <tr>\n",
       "      <th>...</th>\n",
       "      <td>...</td>\n",
       "      <td>...</td>\n",
       "      <td>...</td>\n",
       "      <td>...</td>\n",
       "      <td>...</td>\n",
       "      <td>...</td>\n",
       "    </tr>\n",
       "    <tr>\n",
       "      <th>1050</th>\n",
       "      <td>2023-11-08</td>\n",
       "      <td>Ivory230</td>\n",
       "      <td>3500.000000</td>\n",
       "      <td>1100.0</td>\n",
       "      <td>3850000.0</td>\n",
       "      <td>November</td>\n",
       "    </tr>\n",
       "    <tr>\n",
       "      <th>1055</th>\n",
       "      <td>2023-11-10</td>\n",
       "      <td>Ivory230</td>\n",
       "      <td>1000.000000</td>\n",
       "      <td>1400.0</td>\n",
       "      <td>1400000.0</td>\n",
       "      <td>November</td>\n",
       "    </tr>\n",
       "    <tr>\n",
       "      <th>1056</th>\n",
       "      <td>2023-11-10</td>\n",
       "      <td>Ivory230</td>\n",
       "      <td>1000.000000</td>\n",
       "      <td>1600.0</td>\n",
       "      <td>1600000.0</td>\n",
       "      <td>November</td>\n",
       "    </tr>\n",
       "    <tr>\n",
       "      <th>1070</th>\n",
       "      <td>2023-11-14</td>\n",
       "      <td>Ivory230</td>\n",
       "      <td>1000.000000</td>\n",
       "      <td>1300.0</td>\n",
       "      <td>1300000.0</td>\n",
       "      <td>November</td>\n",
       "    </tr>\n",
       "    <tr>\n",
       "      <th>1071</th>\n",
       "      <td>2023-11-14</td>\n",
       "      <td>Ivory230</td>\n",
       "      <td>1000.000000</td>\n",
       "      <td>900.0</td>\n",
       "      <td>900000.0</td>\n",
       "      <td>November</td>\n",
       "    </tr>\n",
       "  </tbody>\n",
       "</table>\n",
       "<p>131 rows × 6 columns</p>\n",
       "</div>"
      ],
      "text/plain": [
       "        Tanggal Jenis Produk  Jumlah Order   Harga      Total      Bulan\n",
       "26   2022-08-15     Ivory230   3000.000000   950.0  2850000.0     August\n",
       "47   2022-08-29     Ivory230   2000.000000  1450.0  2900000.0     August\n",
       "59   2022-09-02     Ivory230   2000.000000   945.0  1890000.0  September\n",
       "64   2022-09-05     Ivory230   1915.332687  1200.0  1200000.0  September\n",
       "115  2022-09-24     Ivory230   1000.000000  1600.0  1600000.0  September\n",
       "...         ...          ...           ...     ...        ...        ...\n",
       "1050 2023-11-08     Ivory230   3500.000000  1100.0  3850000.0   November\n",
       "1055 2023-11-10     Ivory230   1000.000000  1400.0  1400000.0   November\n",
       "1056 2023-11-10     Ivory230   1000.000000  1600.0  1600000.0   November\n",
       "1070 2023-11-14     Ivory230   1000.000000  1300.0  1300000.0   November\n",
       "1071 2023-11-14     Ivory230   1000.000000   900.0   900000.0   November\n",
       "\n",
       "[131 rows x 6 columns]"
      ]
     },
     "execution_count": 387,
     "metadata": {},
     "output_type": "execute_result"
    }
   ],
   "source": [
    "data_jualan_ivory"
   ]
  },
  {
   "cell_type": "code",
   "execution_count": 388,
   "id": "a8911811-52c4-4c50-bdcb-2ef048c93270",
   "metadata": {},
   "outputs": [],
   "source": [
    "#buat kolom baru yang digunakan untuk menghitung total jumlah penjualan dan total pendapatan\n",
    "penghasilan_bulanan = data_jualan_ivory.groupby(\"Bulan\").agg(\n",
    "total_order = (\"Jumlah Order\",\"sum\"),\n",
    "total_pendapatan_sebulan = (\"Total\",\"sum\")\n",
    ").reindex(['January', 'February', 'March', 'April', 'May', 'June', 'July', 'August', 'September', 'October', 'November', 'December'])"
   ]
  },
  {
   "cell_type": "code",
   "execution_count": 389,
   "id": "d30d5b29-045d-4b10-87da-ab0fc4c72c2e",
   "metadata": {},
   "outputs": [
    {
     "data": {
      "text/html": [
       "<div>\n",
       "<style scoped>\n",
       "    .dataframe tbody tr th:only-of-type {\n",
       "        vertical-align: middle;\n",
       "    }\n",
       "\n",
       "    .dataframe tbody tr th {\n",
       "        vertical-align: top;\n",
       "    }\n",
       "\n",
       "    .dataframe thead th {\n",
       "        text-align: right;\n",
       "    }\n",
       "</style>\n",
       "<table border=\"1\" class=\"dataframe\">\n",
       "  <thead>\n",
       "    <tr style=\"text-align: right;\">\n",
       "      <th></th>\n",
       "      <th>total_order</th>\n",
       "      <th>total_pendapatan_sebulan</th>\n",
       "    </tr>\n",
       "    <tr>\n",
       "      <th>Bulan</th>\n",
       "      <th></th>\n",
       "      <th></th>\n",
       "    </tr>\n",
       "  </thead>\n",
       "  <tbody>\n",
       "    <tr>\n",
       "      <th>January</th>\n",
       "      <td>10415.332687</td>\n",
       "      <td>14600000.0</td>\n",
       "    </tr>\n",
       "    <tr>\n",
       "      <th>February</th>\n",
       "      <td>17915.332687</td>\n",
       "      <td>19175000.0</td>\n",
       "    </tr>\n",
       "    <tr>\n",
       "      <th>March</th>\n",
       "      <td>12120.000000</td>\n",
       "      <td>13066000.0</td>\n",
       "    </tr>\n",
       "    <tr>\n",
       "      <th>April</th>\n",
       "      <td>13500.000000</td>\n",
       "      <td>14890000.0</td>\n",
       "    </tr>\n",
       "    <tr>\n",
       "      <th>May</th>\n",
       "      <td>13000.000000</td>\n",
       "      <td>18800000.0</td>\n",
       "    </tr>\n",
       "    <tr>\n",
       "      <th>June</th>\n",
       "      <td>16500.000000</td>\n",
       "      <td>18540000.0</td>\n",
       "    </tr>\n",
       "    <tr>\n",
       "      <th>July</th>\n",
       "      <td>16415.332687</td>\n",
       "      <td>19350000.0</td>\n",
       "    </tr>\n",
       "    <tr>\n",
       "      <th>August</th>\n",
       "      <td>22000.000000</td>\n",
       "      <td>25045000.0</td>\n",
       "    </tr>\n",
       "    <tr>\n",
       "      <th>September</th>\n",
       "      <td>18415.332687</td>\n",
       "      <td>20780000.0</td>\n",
       "    </tr>\n",
       "    <tr>\n",
       "      <th>October</th>\n",
       "      <td>22000.000000</td>\n",
       "      <td>27680000.0</td>\n",
       "    </tr>\n",
       "    <tr>\n",
       "      <th>November</th>\n",
       "      <td>17000.000000</td>\n",
       "      <td>20290000.0</td>\n",
       "    </tr>\n",
       "    <tr>\n",
       "      <th>December</th>\n",
       "      <td>15500.000000</td>\n",
       "      <td>19740000.0</td>\n",
       "    </tr>\n",
       "  </tbody>\n",
       "</table>\n",
       "</div>"
      ],
      "text/plain": [
       "            total_order  total_pendapatan_sebulan\n",
       "Bulan                                            \n",
       "January    10415.332687                14600000.0\n",
       "February   17915.332687                19175000.0\n",
       "March      12120.000000                13066000.0\n",
       "April      13500.000000                14890000.0\n",
       "May        13000.000000                18800000.0\n",
       "June       16500.000000                18540000.0\n",
       "July       16415.332687                19350000.0\n",
       "August     22000.000000                25045000.0\n",
       "September  18415.332687                20780000.0\n",
       "October    22000.000000                27680000.0\n",
       "November   17000.000000                20290000.0\n",
       "December   15500.000000                19740000.0"
      ]
     },
     "execution_count": 389,
     "metadata": {},
     "output_type": "execute_result"
    }
   ],
   "source": [
    "penghasilan_bulanan"
   ]
  },
  {
   "cell_type": "code",
   "execution_count": 390,
   "id": "64e17cf1-f996-4210-9248-be0c1dca055c",
   "metadata": {},
   "outputs": [
    {
     "data": {
      "text/html": [
       "<div>\n",
       "<style scoped>\n",
       "    .dataframe tbody tr th:only-of-type {\n",
       "        vertical-align: middle;\n",
       "    }\n",
       "\n",
       "    .dataframe tbody tr th {\n",
       "        vertical-align: top;\n",
       "    }\n",
       "\n",
       "    .dataframe thead th {\n",
       "        text-align: right;\n",
       "    }\n",
       "</style>\n",
       "<table border=\"1\" class=\"dataframe\">\n",
       "  <thead>\n",
       "    <tr style=\"text-align: right;\">\n",
       "      <th></th>\n",
       "      <th>total_order</th>\n",
       "      <th>total_pendapatan_sebulan</th>\n",
       "    </tr>\n",
       "  </thead>\n",
       "  <tbody>\n",
       "    <tr>\n",
       "      <th>count</th>\n",
       "      <td>12.000000</td>\n",
       "      <td>1.200000e+01</td>\n",
       "    </tr>\n",
       "    <tr>\n",
       "      <th>mean</th>\n",
       "      <td>16231.777562</td>\n",
       "      <td>1.932967e+07</td>\n",
       "    </tr>\n",
       "    <tr>\n",
       "      <th>std</th>\n",
       "      <td>3618.426221</td>\n",
       "      <td>4.132241e+06</td>\n",
       "    </tr>\n",
       "    <tr>\n",
       "      <th>min</th>\n",
       "      <td>10415.332687</td>\n",
       "      <td>1.306600e+07</td>\n",
       "    </tr>\n",
       "    <tr>\n",
       "      <th>25%</th>\n",
       "      <td>13375.000000</td>\n",
       "      <td>1.762750e+07</td>\n",
       "    </tr>\n",
       "    <tr>\n",
       "      <th>50%</th>\n",
       "      <td>16457.666343</td>\n",
       "      <td>1.926250e+07</td>\n",
       "    </tr>\n",
       "    <tr>\n",
       "      <th>75%</th>\n",
       "      <td>18040.332687</td>\n",
       "      <td>2.041250e+07</td>\n",
       "    </tr>\n",
       "    <tr>\n",
       "      <th>max</th>\n",
       "      <td>22000.000000</td>\n",
       "      <td>2.768000e+07</td>\n",
       "    </tr>\n",
       "  </tbody>\n",
       "</table>\n",
       "</div>"
      ],
      "text/plain": [
       "        total_order  total_pendapatan_sebulan\n",
       "count     12.000000              1.200000e+01\n",
       "mean   16231.777562              1.932967e+07\n",
       "std     3618.426221              4.132241e+06\n",
       "min    10415.332687              1.306600e+07\n",
       "25%    13375.000000              1.762750e+07\n",
       "50%    16457.666343              1.926250e+07\n",
       "75%    18040.332687              2.041250e+07\n",
       "max    22000.000000              2.768000e+07"
      ]
     },
     "execution_count": 390,
     "metadata": {},
     "output_type": "execute_result"
    }
   ],
   "source": [
    "penghasilan_bulanan.describe()"
   ]
  },
  {
   "cell_type": "code",
   "execution_count": 391,
   "id": "90927250-1883-46e9-8a10-2b529da1e114",
   "metadata": {},
   "outputs": [
    {
     "data": {
      "text/plain": [
       "total_order                    22000.0\n",
       "total_pendapatan_sebulan    27680000.0\n",
       "dtype: float64"
      ]
     },
     "execution_count": 391,
     "metadata": {},
     "output_type": "execute_result"
    }
   ],
   "source": [
    "penghasilan_bulanan.max()"
   ]
  },
  {
   "cell_type": "markdown",
   "id": "81a4ae29-377e-40c0-861c-4a9665b9879c",
   "metadata": {},
   "source": [
    "## 2. Visualisasikan pendapatan tertinggi setiap bulannya, hitung total pendapatan untuk produk setiap bulan--> list, [\"Januari\";200000;\"Februari\";300000]--> Visualisasikan"
   ]
  },
  {
   "cell_type": "code",
   "execution_count": 393,
   "id": "cd814c01-fb6f-4ecf-bbbc-64da7d0ee96a",
   "metadata": {},
   "outputs": [],
   "source": [
    "# membuat list pendapatan tertinggi perbulan \n",
    "#buat kolom baru yang digunakan untuk menghitung total jumlah penjualan dan total pendapatan\n",
    "penghasilan_tertinggi = data_jualan_ivory.groupby(\"Bulan\").agg(\n",
    "    tanggal=(\"Tanggal\",\"max\"),\n",
    "    pendapatan_tertinggi_dalam_bulan = (\"Total\",\"max\")\n",
    ").reindex(['January', 'February', 'March', 'April', 'May', 'June', 'July', 'August', 'September', 'October', 'November', 'December'])"
   ]
  },
  {
   "cell_type": "code",
   "execution_count": 394,
   "id": "da05d089-7075-4be1-a4a9-be11b11392c7",
   "metadata": {},
   "outputs": [
    {
     "data": {
      "text/html": [
       "<div>\n",
       "<style scoped>\n",
       "    .dataframe tbody tr th:only-of-type {\n",
       "        vertical-align: middle;\n",
       "    }\n",
       "\n",
       "    .dataframe tbody tr th {\n",
       "        vertical-align: top;\n",
       "    }\n",
       "\n",
       "    .dataframe thead th {\n",
       "        text-align: right;\n",
       "    }\n",
       "</style>\n",
       "<table border=\"1\" class=\"dataframe\">\n",
       "  <thead>\n",
       "    <tr style=\"text-align: right;\">\n",
       "      <th></th>\n",
       "      <th>tanggal</th>\n",
       "      <th>pendapatan_tertinggi_dalam_bulan</th>\n",
       "    </tr>\n",
       "    <tr>\n",
       "      <th>Bulan</th>\n",
       "      <th></th>\n",
       "      <th></th>\n",
       "    </tr>\n",
       "  </thead>\n",
       "  <tbody>\n",
       "    <tr>\n",
       "      <th>January</th>\n",
       "      <td>2023-01-06</td>\n",
       "      <td>2400000.0</td>\n",
       "    </tr>\n",
       "    <tr>\n",
       "      <th>February</th>\n",
       "      <td>2023-02-23</td>\n",
       "      <td>2900000.0</td>\n",
       "    </tr>\n",
       "    <tr>\n",
       "      <th>March</th>\n",
       "      <td>2023-03-28</td>\n",
       "      <td>2850000.0</td>\n",
       "    </tr>\n",
       "    <tr>\n",
       "      <th>April</th>\n",
       "      <td>2023-04-30</td>\n",
       "      <td>2800000.0</td>\n",
       "    </tr>\n",
       "    <tr>\n",
       "      <th>May</th>\n",
       "      <td>2023-05-31</td>\n",
       "      <td>2900000.0</td>\n",
       "    </tr>\n",
       "    <tr>\n",
       "      <th>June</th>\n",
       "      <td>2023-06-26</td>\n",
       "      <td>4200000.0</td>\n",
       "    </tr>\n",
       "    <tr>\n",
       "      <th>July</th>\n",
       "      <td>2023-07-31</td>\n",
       "      <td>2800000.0</td>\n",
       "    </tr>\n",
       "    <tr>\n",
       "      <th>August</th>\n",
       "      <td>2023-08-29</td>\n",
       "      <td>3850000.0</td>\n",
       "    </tr>\n",
       "    <tr>\n",
       "      <th>September</th>\n",
       "      <td>2023-09-20</td>\n",
       "      <td>2800000.0</td>\n",
       "    </tr>\n",
       "    <tr>\n",
       "      <th>October</th>\n",
       "      <td>2023-10-30</td>\n",
       "      <td>2900000.0</td>\n",
       "    </tr>\n",
       "    <tr>\n",
       "      <th>November</th>\n",
       "      <td>2023-11-14</td>\n",
       "      <td>3850000.0</td>\n",
       "    </tr>\n",
       "    <tr>\n",
       "      <th>December</th>\n",
       "      <td>2022-12-15</td>\n",
       "      <td>2900000.0</td>\n",
       "    </tr>\n",
       "  </tbody>\n",
       "</table>\n",
       "</div>"
      ],
      "text/plain": [
       "             tanggal  pendapatan_tertinggi_dalam_bulan\n",
       "Bulan                                                 \n",
       "January   2023-01-06                         2400000.0\n",
       "February  2023-02-23                         2900000.0\n",
       "March     2023-03-28                         2850000.0\n",
       "April     2023-04-30                         2800000.0\n",
       "May       2023-05-31                         2900000.0\n",
       "June      2023-06-26                         4200000.0\n",
       "July      2023-07-31                         2800000.0\n",
       "August    2023-08-29                         3850000.0\n",
       "September 2023-09-20                         2800000.0\n",
       "October   2023-10-30                         2900000.0\n",
       "November  2023-11-14                         3850000.0\n",
       "December  2022-12-15                         2900000.0"
      ]
     },
     "execution_count": 394,
     "metadata": {},
     "output_type": "execute_result"
    }
   ],
   "source": [
    "penghasilan_tertinggi"
   ]
  },
  {
   "cell_type": "code",
   "execution_count": 395,
   "id": "96873a3d-1d90-42f1-bdf6-fd8b41f3a90d",
   "metadata": {},
   "outputs": [
    {
     "data": {
      "text/html": [
       "<div>\n",
       "<style scoped>\n",
       "    .dataframe tbody tr th:only-of-type {\n",
       "        vertical-align: middle;\n",
       "    }\n",
       "\n",
       "    .dataframe tbody tr th {\n",
       "        vertical-align: top;\n",
       "    }\n",
       "\n",
       "    .dataframe thead th {\n",
       "        text-align: right;\n",
       "    }\n",
       "</style>\n",
       "<table border=\"1\" class=\"dataframe\">\n",
       "  <thead>\n",
       "    <tr style=\"text-align: right;\">\n",
       "      <th></th>\n",
       "      <th>tanggal</th>\n",
       "      <th>pendapatan_tertinggi_dalam_bulan</th>\n",
       "      <th>bulan</th>\n",
       "    </tr>\n",
       "    <tr>\n",
       "      <th>Bulan</th>\n",
       "      <th></th>\n",
       "      <th></th>\n",
       "      <th></th>\n",
       "    </tr>\n",
       "  </thead>\n",
       "  <tbody>\n",
       "    <tr>\n",
       "      <th>January</th>\n",
       "      <td>2023-01-06</td>\n",
       "      <td>2400000.0</td>\n",
       "      <td>January</td>\n",
       "    </tr>\n",
       "    <tr>\n",
       "      <th>February</th>\n",
       "      <td>2023-02-23</td>\n",
       "      <td>2900000.0</td>\n",
       "      <td>February</td>\n",
       "    </tr>\n",
       "    <tr>\n",
       "      <th>March</th>\n",
       "      <td>2023-03-28</td>\n",
       "      <td>2850000.0</td>\n",
       "      <td>March</td>\n",
       "    </tr>\n",
       "    <tr>\n",
       "      <th>April</th>\n",
       "      <td>2023-04-30</td>\n",
       "      <td>2800000.0</td>\n",
       "      <td>April</td>\n",
       "    </tr>\n",
       "    <tr>\n",
       "      <th>May</th>\n",
       "      <td>2023-05-31</td>\n",
       "      <td>2900000.0</td>\n",
       "      <td>May</td>\n",
       "    </tr>\n",
       "    <tr>\n",
       "      <th>June</th>\n",
       "      <td>2023-06-26</td>\n",
       "      <td>4200000.0</td>\n",
       "      <td>June</td>\n",
       "    </tr>\n",
       "    <tr>\n",
       "      <th>July</th>\n",
       "      <td>2023-07-31</td>\n",
       "      <td>2800000.0</td>\n",
       "      <td>July</td>\n",
       "    </tr>\n",
       "    <tr>\n",
       "      <th>August</th>\n",
       "      <td>2023-08-29</td>\n",
       "      <td>3850000.0</td>\n",
       "      <td>August</td>\n",
       "    </tr>\n",
       "    <tr>\n",
       "      <th>September</th>\n",
       "      <td>2023-09-20</td>\n",
       "      <td>2800000.0</td>\n",
       "      <td>September</td>\n",
       "    </tr>\n",
       "    <tr>\n",
       "      <th>October</th>\n",
       "      <td>2023-10-30</td>\n",
       "      <td>2900000.0</td>\n",
       "      <td>October</td>\n",
       "    </tr>\n",
       "    <tr>\n",
       "      <th>November</th>\n",
       "      <td>2023-11-14</td>\n",
       "      <td>3850000.0</td>\n",
       "      <td>November</td>\n",
       "    </tr>\n",
       "    <tr>\n",
       "      <th>December</th>\n",
       "      <td>2022-12-15</td>\n",
       "      <td>2900000.0</td>\n",
       "      <td>December</td>\n",
       "    </tr>\n",
       "  </tbody>\n",
       "</table>\n",
       "</div>"
      ],
      "text/plain": [
       "             tanggal  pendapatan_tertinggi_dalam_bulan      bulan\n",
       "Bulan                                                            \n",
       "January   2023-01-06                         2400000.0    January\n",
       "February  2023-02-23                         2900000.0   February\n",
       "March     2023-03-28                         2850000.0      March\n",
       "April     2023-04-30                         2800000.0      April\n",
       "May       2023-05-31                         2900000.0        May\n",
       "June      2023-06-26                         4200000.0       June\n",
       "July      2023-07-31                         2800000.0       July\n",
       "August    2023-08-29                         3850000.0     August\n",
       "September 2023-09-20                         2800000.0  September\n",
       "October   2023-10-30                         2900000.0    October\n",
       "November  2023-11-14                         3850000.0   November\n",
       "December  2022-12-15                         2900000.0   December"
      ]
     },
     "execution_count": 395,
     "metadata": {},
     "output_type": "execute_result"
    }
   ],
   "source": [
    "penghasilan_tertinggi[\"bulan\"] = penghasilan_tertinggi[\"tanggal\"].dt.month_name()\n",
    "penghasilan_tertinggi\n"
   ]
  },
  {
   "cell_type": "code",
   "execution_count": 445,
   "id": "b514e138-f84e-4e60-a3e4-7ef76145e8e4",
   "metadata": {},
   "outputs": [
    {
     "data": {
      "image/png": "[encoded data removed]",
      "text/plain": [
       "<Figure size 2000x1000 with 1 Axes>"
      ]
     },
     "metadata": {},
     "output_type": "display_data"
    }
   ],
   "source": [
    "# membuat visualisasi dalam grafik/chart\n",
    "fig = plt.figure(figsize=(20,10))\n",
    "ax = fig.add_subplot(111)\n",
    "\n",
    "A = penghasilan_tertinggi[\"bulan\"]\n",
    "B = penghasilan_tertinggi[\"pendapatan_tertinggi_dalam_bulan\"]\n",
    "C = penghasilan_tertinggi[\"tanggal\"]\n",
    "\n",
    "ax.plot(A,B)\n",
    "for xy in zip(A, B):                                      # <--\n",
    "    ax.annotate('(%s,%s)' % xy, xy=xy, textcoords='data') # <--\n",
    "\n",
    "ax.grid()\n",
    "plt.show()\n"
   ]
  },
  {
   "cell_type": "markdown",
   "id": "4c9d8605-e9b4-4aca-8962-1ee3d4175385",
   "metadata": {},
   "source": [
    "## 3. Kasih legenda disetiap visualisasi"
   ]
  },
  {
   "cell_type": "code",
   "execution_count": 455,
   "id": "a7fa2c9b-3594-4dee-9063-edc0be966a3a",
   "metadata": {},
   "outputs": [
    {
     "data": {
      "image/png": "[encoded data removed]",
      "text/plain": [
       "<Figure size 1600x800 with 1 Axes>"
      ]
     },
     "metadata": {},
     "output_type": "display_data"
    }
   ],
   "source": [
    "plt.figure(figsize=(16,8))\n",
    "\n",
    "plt.plot(A,B,\"--\",color=\"skyblue\")\n",
    "plt.legend(C)\n",
    "plt.title(\"Grafik Penjualan\")\n",
    "\n",
    "plt.show()"
   ]
  },
  {
   "cell_type": "code",
   "execution_count": null,
   "id": "2b1e295f-053b-4587-8bc7-6f0032f74825",
   "metadata": {},
   "outputs": [],
   "source": []
  },
  {
   "cell_type": "code",
   "execution_count": null,
   "id": "04eab685-1bc9-4c84-b66a-b500348064bf",
   "metadata": {},
   "outputs": [],
   "source": []
  }
 ],
 "metadata": {
  "kernelspec": {
   "display_name": "Python [conda env:base] *",
   "language": "python",
   "name": "conda-base-py"
  },
  "language_info": {
   "codemirror_mode": {
    "name": "ipython",
    "version": 3
   },
   "file_extension": ".py",
   "mimetype": "text/x-python",
   "name": "python",
   "nbconvert_exporter": "python",
   "pygments_lexer": "ipython3",
   "version": "3.12.7"
  }
 },
 "nbformat": 4,
 "nbformat_minor": 5
}
