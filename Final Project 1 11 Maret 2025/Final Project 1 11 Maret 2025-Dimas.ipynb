{
 "cells": [
  {
   "cell_type": "markdown",
   "id": "bd9d68a5-30fb-4f5f-86bc-7608d2ac88f6",
   "metadata": {},
   "source": [
    "# 1. Perkenalan "
   ]
  },
  {
   "cell_type": "markdown",
   "id": "8a2d0d51-bc4a-48dc-8030-87fa2e8837d3",
   "metadata": {},
   "source": [
    "**Nama : Dimas Furqon P.** \n",
    "**Kelas : Data Science Delta Indie Course**\n"
   ]
  },
  {
   "cell_type": "markdown",
   "id": "5d1ca1ef-2322-476d-81ec-1cb09c22ee0e",
   "metadata": {
    "jp-MarkdownHeadingCollapsed": true
   },
   "source": [
    "# 2. Latar Belakang"
   ]
  },
  {
   "cell_type": "markdown",
   "id": "148ba3bf-176b-41cf-8c54-d1103aa0a343",
   "metadata": {},
   "source": [
    "## 2.a Data Overview"
   ]
  },
  {
   "cell_type": "markdown",
   "id": "3925a925-f06d-4165-8bf1-f8b358fc46be",
   "metadata": {},
   "source": [
    "Obesity Prediction Dataset adalah sebuah dataset yang digunakan untuk mengestimasi level obesitas berdasarkan beberapa variabel penyebab, diantaranya : \n",
    "1. Kebiasaan/pola makan\n",
    "2. Riwayat keluarga dan kondisi kesehatan.\n",
    "\n",
    "Data tersebut diambil dari sekelompok individu yang berasal dari beberapa negara seperti, Meksiko, Peru dan Kolombia, yang mencakup 16 gaya hidup yang berhubungan dengan kesehatan dan terdiri dari 211 data/record. \n",
    "Label yang mengklasifikasikan level obesitas berdasarkan pada rentang dari \"underweight\" hingga pada beberapa tipe obesitas yang berbeda.\n",
    "\n",
    "Banyak data yang dibuat melalui proses teknik sintetis, sementara beberapa data lainnya diambil langsung dari pengguna melalui web. Data ini bermanfaat untuk melakukan klasifikasi, regresi dan tugas pengelompokkan data/clustering.\n",
    "\n",
    "Beberapa variabel yang terdapat dalam dataset ini dan dapat dianalisis antara lain: \n",
    "\n",
    "1. Gender : Laki-laki atau perempuan\n",
    "2. Age : Usia dalam tahun\n",
    "3. Height : Tinggi dalam meter\n",
    "4. Weight : Bobot/Massa dalam Kilogram\n",
    "5. family_history_with_overweight : Apakah orang tersebut memiliki riwayat dengan berat badan  berlebih(ya/tidak)\n",
    "6. FAVC : Apakah seseorang sering mengkonsumsi makanan tinggi kalori (ya/tidak)\n",
    "7. FCVC : Frekuensi mengkonsumsi buah-buahan (skala 1.sd. 3)\n",
    "8. NCP : Jumlah makanan utama per hari\n",
    "9. CAEC : Frekuensi mengkonsumsi cemilan diantara waktu makan (Tidak pernah, jarang, sering, selalu)\n",
    "10. SMOKE : Apakah seseorang tersebut adalah perokok (ya/tidak)\n",
    "11. CH2O : Konsumsi minum perhari (skala 1 s.d 3)\n",
    "12. SCC : Apakah seseorang melakukan kontrol terhadap kalori harian(ya/tidak)\n",
    "13. FAF : Frekuensi melakukan aktivitas fisik (skala 0 s.d 3)\n",
    "14. TUE : Waktu dihabiskan menggunakan teknologi (skala 0 s.d 3)\n",
    "15. CALC : Frekuensi mengkonsumsi alkohol (Tidak pernah, Jarang, Sering, Selalu)\n",
    "16. MTRANS : Moda utama yang digunakan untuk transportasi (Mobil, Sepeda, Sepeda Motor, Transportasi umum, Jalan kaki)\n",
    "17. NObeyesdad : Level Obesitas(Insufficient Weight, Normal Weight, Overweight Level I, Overweight Level II, Obesity Type I, Obesity Type II, Obesity Type III)\n",
    "\n",
    "Data ini memberikan pandangan yang terstruktur tentang bagaimana perbedaan gaya hidup mempengaruhi kepada tingkat obesitas seseorang, berguna dalam analisis kesehatan dan membuat keputusan."
   ]
  },
  {
   "cell_type": "markdown",
   "id": "3512e3f3-48ac-439a-b2aa-8ab6fa9d4f33",
   "metadata": {},
   "source": [
    "## 2.b Data Objective"
   ]
  },
  {
   "cell_type": "markdown",
   "id": "a8999b9b-10ed-4a6e-a8a5-8b01e2418fb2",
   "metadata": {},
   "source": [
    "Final Project 1 ini dibuat guna mengevaluasi konsep Machine Learning bertipe Klasifikasi dengan :\n",
    "\n",
    "● Mampu memahami konsep Classification dengan Ensemble Model\n",
    "\n",
    "● Mampu mempersiapkan data untuk digunakan dalam Ensemble Model\n",
    "\n",
    "● Mampu mengimplementasikan Ensemble Model untuk membuat prediksi"
   ]
  },
  {
   "cell_type": "markdown",
   "id": "34424585-a562-4e24-bd11-a0fb1410a0b0",
   "metadata": {
    "jp-MarkdownHeadingCollapsed": true
   },
   "source": [
    "# 3. Import Pustaka (Library)"
   ]
  },
  {
   "cell_type": "code",
   "execution_count": 3,
   "id": "8c950bd4-b73f-452a-85da-50065cd52a1d",
   "metadata": {},
   "outputs": [
    {
     "name": "stdout",
     "output_type": "stream",
     "text": [
      "Defaulting to user installation because normal site-packages is not writeable\n",
      "Requirement already satisfied: pandas-dq in c:\\users\\haziq razzan\\appdata\\roaming\\python\\python312\\site-packages (1.29)\n",
      "Requirement already satisfied: numpy>=1.21.5 in c:\\programdata\\anaconda3\\lib\\site-packages (from pandas-dq) (1.26.4)\n",
      "Requirement already satisfied: pandas>=1.3.5 in c:\\programdata\\anaconda3\\lib\\site-packages (from pandas-dq) (2.2.2)\n",
      "Requirement already satisfied: scikit-learn>=0.24.2 in c:\\programdata\\anaconda3\\lib\\site-packages (from pandas-dq) (1.5.1)\n",
      "Requirement already satisfied: python-dateutil>=2.8.2 in c:\\programdata\\anaconda3\\lib\\site-packages (from pandas>=1.3.5->pandas-dq) (2.9.0.post0)\n",
      "Requirement already satisfied: pytz>=2020.1 in c:\\programdata\\anaconda3\\lib\\site-packages (from pandas>=1.3.5->pandas-dq) (2024.1)\n",
      "Requirement already satisfied: tzdata>=2022.7 in c:\\programdata\\anaconda3\\lib\\site-packages (from pandas>=1.3.5->pandas-dq) (2023.3)\n",
      "Requirement already satisfied: scipy>=1.6.0 in c:\\programdata\\anaconda3\\lib\\site-packages (from scikit-learn>=0.24.2->pandas-dq) (1.13.1)\n",
      "Requirement already satisfied: joblib>=1.2.0 in c:\\programdata\\anaconda3\\lib\\site-packages (from scikit-learn>=0.24.2->pandas-dq) (1.4.2)\n",
      "Requirement already satisfied: threadpoolctl>=3.1.0 in c:\\programdata\\anaconda3\\lib\\site-packages (from scikit-learn>=0.24.2->pandas-dq) (3.5.0)\n",
      "Requirement already satisfied: six>=1.5 in c:\\programdata\\anaconda3\\lib\\site-packages (from python-dateutil>=2.8.2->pandas>=1.3.5->pandas-dq) (1.16.0)\n"
     ]
    }
   ],
   "source": [
    "!pip install pandas-dq"
   ]
  },
  {
   "cell_type": "code",
   "execution_count": 4,
   "id": "4fe81fee-ad65-4652-b9ad-1c53965d4dc3",
   "metadata": {},
   "outputs": [
    {
     "name": "stdout",
     "output_type": "stream",
     "text": [
      "Defaulting to user installation because normal site-packages is not writeable\n",
      "Requirement already satisfied: folium in c:\\users\\haziq razzan\\appdata\\roaming\\python\\python312\\site-packages (0.19.5)\n",
      "Requirement already satisfied: branca>=0.6.0 in c:\\users\\haziq razzan\\appdata\\roaming\\python\\python312\\site-packages (from folium) (0.8.1)\n",
      "Requirement already satisfied: jinja2>=2.9 in c:\\programdata\\anaconda3\\lib\\site-packages (from folium) (3.1.4)\n",
      "Requirement already satisfied: numpy in c:\\programdata\\anaconda3\\lib\\site-packages (from folium) (1.26.4)\n",
      "Requirement already satisfied: requests in c:\\programdata\\anaconda3\\lib\\site-packages (from folium) (2.32.3)\n",
      "Requirement already satisfied: xyzservices in c:\\programdata\\anaconda3\\lib\\site-packages (from folium) (2022.9.0)\n",
      "Requirement already satisfied: MarkupSafe>=2.0 in c:\\programdata\\anaconda3\\lib\\site-packages (from jinja2>=2.9->folium) (2.1.3)\n",
      "Requirement already satisfied: charset-normalizer<4,>=2 in c:\\programdata\\anaconda3\\lib\\site-packages (from requests->folium) (3.3.2)\n",
      "Requirement already satisfied: idna<4,>=2.5 in c:\\programdata\\anaconda3\\lib\\site-packages (from requests->folium) (3.7)\n",
      "Requirement already satisfied: urllib3<3,>=1.21.1 in c:\\programdata\\anaconda3\\lib\\site-packages (from requests->folium) (2.2.3)\n",
      "Requirement already satisfied: certifi>=2017.4.17 in c:\\programdata\\anaconda3\\lib\\site-packages (from requests->folium) (2024.8.30)\n"
     ]
    }
   ],
   "source": [
    "!pip install folium"
   ]
  },
  {
   "cell_type": "code",
   "execution_count": 5,
   "id": "da196543-b7b1-4dcd-a2fe-f11bb7d17a2b",
   "metadata": {},
   "outputs": [],
   "source": [
    "#untuk dataframe\n",
    "import pandas as pd\n",
    "import numpy as np\n",
    "\n",
    "#untuk visualisasi data\n",
    "import matplotlib.pyplot as plt\n",
    "import seaborn as sns\n",
    "%matplotlib inline\n",
    "import folium\n",
    "from folium.plugins import FastMarkerCluster\n",
    "\n",
    "#mengatur display biar maximal\n",
    "pd.options.display.max_rows = None\n",
    "pd.options.display.max_columns = None\n",
    "\n",
    "#modeling\n",
    "from sklearn.ensemble import RandomForestClassifier\n",
    "from sklearn.naive_bayes import GaussianNB\n",
    "from sklearn.ensemble import ExtraTreesClassifier, VotingClassifier\n",
    "from sklearn.ensemble import GradientBoostingClassifier, AdaBoostClassifier\n",
    "from sklearn.model_selection import train_test_split\n",
    "from sklearn import preprocessing\n",
    "from sklearn.preprocessing import StandardScaler\n",
    "from sklearn.metrics import accuracy_score # mencari accurasi \n",
    "from sklearn.metrics import confusion_matrix # membuat confusion maytris\n",
    "from sklearn.metrics import classification_report # laporan klasifikasi\n",
    "from sklearn.metrics import r2_score # evaluasi performa model\n",
    "from sklearn.metrics import mean_squared_error # menghitung nilai error rata-rata\n",
    "from imblearn.over_sampling import SMOTE #Balancing data\n",
    "from sklearn.ensemble import BaggingClassifier, VotingClassifier, StackingClassifier\n",
    "from pandas_dq import dq_report,Fix_DQ"
   ]
  },
  {
   "cell_type": "markdown",
   "id": "195c8f16-f659-4a8a-97ab-bb67a4c49355",
   "metadata": {
    "jp-MarkdownHeadingCollapsed": true
   },
   "source": [
    "# 4. Data Loading"
   ]
  },
  {
   "cell_type": "markdown",
   "id": "6cc8c518-bf4d-41bd-a0b7-b94ec675bf78",
   "metadata": {},
   "source": [
    "## 4.1 Memanggil Dataset"
   ]
  },
  {
   "cell_type": "code",
   "execution_count": 6,
   "id": "eb10f0bb-6a85-4d08-b84c-68e85badae50",
   "metadata": {},
   "outputs": [
    {
     "data": {
      "text/html": [
       "<div>\n",
       "<style scoped>\n",
       "    .dataframe tbody tr th:only-of-type {\n",
       "        vertical-align: middle;\n",
       "    }\n",
       "\n",
       "    .dataframe tbody tr th {\n",
       "        vertical-align: top;\n",
       "    }\n",
       "\n",
       "    .dataframe thead th {\n",
       "        text-align: right;\n",
       "    }\n",
       "</style>\n",
       "<table border=\"1\" class=\"dataframe\">\n",
       "  <thead>\n",
       "    <tr style=\"text-align: center;\">\n",
       "      <th></th>\n",
       "      <th>Gender</th>\n",
       "      <th>Age</th>\n",
       "      <th>Height</th>\n",
       "      <th>Weight</th>\n",
       "      <th>family_history_with_overweight</th>\n",
       "      <th>FAVC</th>\n",
       "      <th>FCVC</th>\n",
       "      <th>NCP</th>\n",
       "      <th>CAEC</th>\n",
       "      <th>SMOKE</th>\n",
       "      <th>CH2O</th>\n",
       "      <th>SCC</th>\n",
       "      <th>FAF</th>\n",
       "      <th>TUE</th>\n",
       "      <th>CALC</th>\n",
       "      <th>MTRANS</th>\n",
       "      <th>NObeyesdad</th>\n",
       "    </tr>\n",
       "  </thead>\n",
       "  <tbody>\n",
       "    <tr>\n",
       "      <th>0</th>\n",
       "      <td>Female</td>\n",
       "      <td>21</td>\n",
       "      <td>1.62</td>\n",
       "      <td>64.0</td>\n",
       "      <td>yes</td>\n",
       "      <td>no</td>\n",
       "      <td>2.0</td>\n",
       "      <td>3.0</td>\n",
       "      <td>Sometimes</td>\n",
       "      <td>no</td>\n",
       "      <td>2.0</td>\n",
       "      <td>no</td>\n",
       "      <td>0.0</td>\n",
       "      <td>1.0</td>\n",
       "      <td>no</td>\n",
       "      <td>Public_Transportation</td>\n",
       "      <td>Normal_Weight</td>\n",
       "    </tr>\n",
       "    <tr>\n",
       "      <th>1</th>\n",
       "      <td>Female</td>\n",
       "      <td>21</td>\n",
       "      <td>1.52</td>\n",
       "      <td>56.0</td>\n",
       "      <td>yes</td>\n",
       "      <td>no</td>\n",
       "      <td>3.0</td>\n",
       "      <td>3.0</td>\n",
       "      <td>Sometimes</td>\n",
       "      <td>yes</td>\n",
       "      <td>3.0</td>\n",
       "      <td>yes</td>\n",
       "      <td>3.0</td>\n",
       "      <td>0.0</td>\n",
       "      <td>Sometimes</td>\n",
       "      <td>Public_Transportation</td>\n",
       "      <td>Normal_Weight</td>\n",
       "    </tr>\n",
       "    <tr>\n",
       "      <th>2</th>\n",
       "      <td>Male</td>\n",
       "      <td>23</td>\n",
       "      <td>1.80</td>\n",
       "      <td>77.0</td>\n",
       "      <td>yes</td>\n",
       "      <td>no</td>\n",
       "      <td>2.0</td>\n",
       "      <td>3.0</td>\n",
       "      <td>Sometimes</td>\n",
       "      <td>no</td>\n",
       "      <td>2.0</td>\n",
       "      <td>no</td>\n",
       "      <td>2.0</td>\n",
       "      <td>1.0</td>\n",
       "      <td>Frequently</td>\n",
       "      <td>Public_Transportation</td>\n",
       "      <td>Normal_Weight</td>\n",
       "    </tr>\n",
       "    <tr>\n",
       "      <th>3</th>\n",
       "      <td>Male</td>\n",
       "      <td>27</td>\n",
       "      <td>1.80</td>\n",
       "      <td>87.0</td>\n",
       "      <td>no</td>\n",
       "      <td>no</td>\n",
       "      <td>3.0</td>\n",
       "      <td>3.0</td>\n",
       "      <td>Sometimes</td>\n",
       "      <td>no</td>\n",
       "      <td>2.0</td>\n",
       "      <td>no</td>\n",
       "      <td>2.0</td>\n",
       "      <td>0.0</td>\n",
       "      <td>Frequently</td>\n",
       "      <td>Walking</td>\n",
       "      <td>Overweight_Level_I</td>\n",
       "    </tr>\n",
       "    <tr>\n",
       "      <th>4</th>\n",
       "      <td>Male</td>\n",
       "      <td>22</td>\n",
       "      <td>1.78</td>\n",
       "      <td>89.8</td>\n",
       "      <td>no</td>\n",
       "      <td>no</td>\n",
       "      <td>2.0</td>\n",
       "      <td>1.0</td>\n",
       "      <td>Sometimes</td>\n",
       "      <td>no</td>\n",
       "      <td>2.0</td>\n",
       "      <td>no</td>\n",
       "      <td>0.0</td>\n",
       "      <td>0.0</td>\n",
       "      <td>Sometimes</td>\n",
       "      <td>Public_Transportation</td>\n",
       "      <td>Overweight_Level_II</td>\n",
       "    </tr>\n",
       "    <tr>\n",
       "      <th>5</th>\n",
       "      <td>Male</td>\n",
       "      <td>29</td>\n",
       "      <td>1.62</td>\n",
       "      <td>53.0</td>\n",
       "      <td>no</td>\n",
       "      <td>yes</td>\n",
       "      <td>2.0</td>\n",
       "      <td>3.0</td>\n",
       "      <td>Sometimes</td>\n",
       "      <td>no</td>\n",
       "      <td>2.0</td>\n",
       "      <td>no</td>\n",
       "      <td>0.0</td>\n",
       "      <td>0.0</td>\n",
       "      <td>Sometimes</td>\n",
       "      <td>Automobile</td>\n",
       "      <td>Normal_Weight</td>\n",
       "    </tr>\n",
       "    <tr>\n",
       "      <th>6</th>\n",
       "      <td>Female</td>\n",
       "      <td>23</td>\n",
       "      <td>1.50</td>\n",
       "      <td>55.0</td>\n",
       "      <td>yes</td>\n",
       "      <td>yes</td>\n",
       "      <td>3.0</td>\n",
       "      <td>3.0</td>\n",
       "      <td>Sometimes</td>\n",
       "      <td>no</td>\n",
       "      <td>2.0</td>\n",
       "      <td>no</td>\n",
       "      <td>1.0</td>\n",
       "      <td>0.0</td>\n",
       "      <td>Sometimes</td>\n",
       "      <td>Motorbike</td>\n",
       "      <td>Normal_Weight</td>\n",
       "    </tr>\n",
       "    <tr>\n",
       "      <th>7</th>\n",
       "      <td>Male</td>\n",
       "      <td>22</td>\n",
       "      <td>1.64</td>\n",
       "      <td>53.0</td>\n",
       "      <td>no</td>\n",
       "      <td>no</td>\n",
       "      <td>2.0</td>\n",
       "      <td>3.0</td>\n",
       "      <td>Sometimes</td>\n",
       "      <td>no</td>\n",
       "      <td>2.0</td>\n",
       "      <td>no</td>\n",
       "      <td>3.0</td>\n",
       "      <td>0.0</td>\n",
       "      <td>Sometimes</td>\n",
       "      <td>Public_Transportation</td>\n",
       "      <td>Normal_Weight</td>\n",
       "    </tr>\n",
       "    <tr>\n",
       "      <th>8</th>\n",
       "      <td>Male</td>\n",
       "      <td>24</td>\n",
       "      <td>1.78</td>\n",
       "      <td>64.0</td>\n",
       "      <td>yes</td>\n",
       "      <td>yes</td>\n",
       "      <td>3.0</td>\n",
       "      <td>3.0</td>\n",
       "      <td>Sometimes</td>\n",
       "      <td>no</td>\n",
       "      <td>2.0</td>\n",
       "      <td>no</td>\n",
       "      <td>1.0</td>\n",
       "      <td>1.0</td>\n",
       "      <td>Frequently</td>\n",
       "      <td>Public_Transportation</td>\n",
       "      <td>Normal_Weight</td>\n",
       "    </tr>\n",
       "    <tr>\n",
       "      <th>9</th>\n",
       "      <td>Male</td>\n",
       "      <td>22</td>\n",
       "      <td>1.72</td>\n",
       "      <td>68.0</td>\n",
       "      <td>yes</td>\n",
       "      <td>yes</td>\n",
       "      <td>2.0</td>\n",
       "      <td>3.0</td>\n",
       "      <td>Sometimes</td>\n",
       "      <td>no</td>\n",
       "      <td>2.0</td>\n",
       "      <td>no</td>\n",
       "      <td>1.0</td>\n",
       "      <td>1.0</td>\n",
       "      <td>no</td>\n",
       "      <td>Public_Transportation</td>\n",
       "      <td>Normal_Weight</td>\n",
       "    </tr>\n",
       "  </tbody>\n",
       "</table>\n",
       "</div>"
      ],
      "text/plain": [
       "   Gender  Age  Height  Weight family_history_with_overweight FAVC  FCVC  NCP  \\\n",
       "0  Female  21    1.62    64.0                yes                no   2.0  3.0   \n",
       "1  Female  21    1.52    56.0                yes                no   3.0  3.0   \n",
       "2    Male  23    1.80    77.0                yes                no   2.0  3.0   \n",
       "3    Male  27    1.80    87.0                 no                no   3.0  3.0   \n",
       "4    Male  22    1.78    89.8                 no                no   2.0  1.0   \n",
       "5    Male  29    1.62    53.0                 no               yes   2.0  3.0   \n",
       "6  Female  23    1.50    55.0                yes               yes   3.0  3.0   \n",
       "7    Male  22    1.64    53.0                 no                no   2.0  3.0   \n",
       "8    Male  24    1.78    64.0                yes               yes   3.0  3.0   \n",
       "9    Male  22    1.72    68.0                yes               yes   2.0  3.0   \n",
       "\n",
       "     CAEC    SMOKE  CH2O SCC   FAF  TUE     CALC            MTRANS          \\\n",
       "0  Sometimes    no   2.0   no  0.0  1.0          no  Public_Transportation   \n",
       "1  Sometimes   yes   3.0  yes  3.0  0.0   Sometimes  Public_Transportation   \n",
       "2  Sometimes    no   2.0   no  2.0  1.0  Frequently  Public_Transportation   \n",
       "3  Sometimes    no   2.0   no  2.0  0.0  Frequently                Walking   \n",
       "4  Sometimes    no   2.0   no  0.0  0.0   Sometimes  Public_Transportation   \n",
       "5  Sometimes    no   2.0   no  0.0  0.0   Sometimes             Automobile   \n",
       "6  Sometimes    no   2.0   no  1.0  0.0   Sometimes              Motorbike   \n",
       "7  Sometimes    no   2.0   no  3.0  0.0   Sometimes  Public_Transportation   \n",
       "8  Sometimes    no   2.0   no  1.0  1.0  Frequently  Public_Transportation   \n",
       "9  Sometimes    no   2.0   no  1.0  1.0          no  Public_Transportation   \n",
       "\n",
       "       NObeyesdad       \n",
       "0        Normal_Weight  \n",
       "1        Normal_Weight  \n",
       "2        Normal_Weight  \n",
       "3   Overweight_Level_I  \n",
       "4  Overweight_Level_II  \n",
       "5        Normal_Weight  \n",
       "6        Normal_Weight  \n",
       "7        Normal_Weight  \n",
       "8        Normal_Weight  \n",
       "9        Normal_Weight  "
      ]
     },
     "execution_count": 6,
     "metadata": {},
     "output_type": "execute_result"
    }
   ],
   "source": [
    "df = pd.read_csv(\"ObesityDataSet_raw_and_data_sinthetic.csv\")\n",
    "df.head(10)"
   ]
  },
  {
   "cell_type": "markdown",
   "id": "70e742b7-cf6a-4974-b9c0-7fe1cd7edabc",
   "metadata": {},
   "source": [
    "## 4.2 Melihat ukuran/dimensi data (baris,kolom)"
   ]
  },
  {
   "cell_type": "code",
   "execution_count": 7,
   "id": "4901514d-021f-464a-b3bf-653038c6e26f",
   "metadata": {},
   "outputs": [
    {
     "data": {
      "text/plain": [
       "(2111, 17)"
      ]
     },
     "execution_count": 7,
     "metadata": {},
     "output_type": "execute_result"
    }
   ],
   "source": [
    "df.shape"
   ]
  },
  {
   "cell_type": "markdown",
   "id": "a5847640-3db6-44d1-9b9d-7bd1942f9a54",
   "metadata": {},
   "source": [
    "## 4.3 Pengecekan nama kolom "
   ]
  },
  {
   "cell_type": "code",
   "execution_count": 8,
   "id": "346a1fd4-4403-4449-baff-90ce1927c642",
   "metadata": {},
   "outputs": [
    {
     "data": {
      "text/html": [
       "<div>\n",
       "<style scoped>\n",
       "    .dataframe tbody tr th:only-of-type {\n",
       "        vertical-align: middle;\n",
       "    }\n",
       "\n",
       "    .dataframe tbody tr th {\n",
       "        vertical-align: top;\n",
       "    }\n",
       "\n",
       "    .dataframe thead th {\n",
       "        text-align: right;\n",
       "    }\n",
       "</style>\n",
       "<table border=\"1\" class=\"dataframe\">\n",
       "  <thead>\n",
       "    <tr style=\"text-align: center;\">\n",
       "      <th></th>\n",
       "      <th>Nama kolom</th>\n",
       "    </tr>\n",
       "  </thead>\n",
       "  <tbody>\n",
       "    <tr>\n",
       "      <th>0</th>\n",
       "      <td>Gender</td>\n",
       "    </tr>\n",
       "    <tr>\n",
       "      <th>1</th>\n",
       "      <td>Age</td>\n",
       "    </tr>\n",
       "    <tr>\n",
       "      <th>2</th>\n",
       "      <td>Height</td>\n",
       "    </tr>\n",
       "    <tr>\n",
       "      <th>3</th>\n",
       "      <td>Weight</td>\n",
       "    </tr>\n",
       "    <tr>\n",
       "      <th>4</th>\n",
       "      <td>family_history_with_overweight</td>\n",
       "    </tr>\n",
       "    <tr>\n",
       "      <th>5</th>\n",
       "      <td>FAVC</td>\n",
       "    </tr>\n",
       "    <tr>\n",
       "      <th>6</th>\n",
       "      <td>FCVC</td>\n",
       "    </tr>\n",
       "    <tr>\n",
       "      <th>7</th>\n",
       "      <td>NCP</td>\n",
       "    </tr>\n",
       "    <tr>\n",
       "      <th>8</th>\n",
       "      <td>CAEC</td>\n",
       "    </tr>\n",
       "    <tr>\n",
       "      <th>9</th>\n",
       "      <td>SMOKE</td>\n",
       "    </tr>\n",
       "    <tr>\n",
       "      <th>10</th>\n",
       "      <td>CH2O</td>\n",
       "    </tr>\n",
       "    <tr>\n",
       "      <th>11</th>\n",
       "      <td>SCC</td>\n",
       "    </tr>\n",
       "    <tr>\n",
       "      <th>12</th>\n",
       "      <td>FAF</td>\n",
       "    </tr>\n",
       "    <tr>\n",
       "      <th>13</th>\n",
       "      <td>TUE</td>\n",
       "    </tr>\n",
       "    <tr>\n",
       "      <th>14</th>\n",
       "      <td>CALC</td>\n",
       "    </tr>\n",
       "    <tr>\n",
       "      <th>15</th>\n",
       "      <td>MTRANS</td>\n",
       "    </tr>\n",
       "    <tr>\n",
       "      <th>16</th>\n",
       "      <td>NObeyesdad</td>\n",
       "    </tr>\n",
       "  </tbody>\n",
       "</table>\n",
       "</div>"
      ],
      "text/plain": [
       "              Nama kolom          \n",
       "0                           Gender\n",
       "1                              Age\n",
       "2                           Height\n",
       "3                           Weight\n",
       "4   family_history_with_overweight\n",
       "5                             FAVC\n",
       "6                             FCVC\n",
       "7                              NCP\n",
       "8                             CAEC\n",
       "9                            SMOKE\n",
       "10                            CH2O\n",
       "11                             SCC\n",
       "12                             FAF\n",
       "13                             TUE\n",
       "14                            CALC\n",
       "15                          MTRANS\n",
       "16                      NObeyesdad"
      ]
     },
     "execution_count": 8,
     "metadata": {},
     "output_type": "execute_result"
    }
   ],
   "source": [
    "da = df.columns.values\n",
    "da\n",
    "dc = pd.DataFrame({'Nama kolom':da})\n",
    "dc"
   ]
  },
  {
   "cell_type": "markdown",
   "id": "aac08813-8dd0-486b-8738-e3e235c4bd1e",
   "metadata": {
    "jp-MarkdownHeadingCollapsed": true
   },
   "source": [
    "## 4.4 Penjelasan per kolom"
   ]
  },
  {
   "cell_type": "code",
   "execution_count": 9,
   "id": "8c6a6ad5-8a5e-49b0-9513-59fa6fbc09e9",
   "metadata": {},
   "outputs": [
    {
     "data": {
      "text/html": [
       "<div>\n",
       "<style scoped>\n",
       "    .dataframe tbody tr th:only-of-type {\n",
       "        vertical-align: middle;\n",
       "    }\n",
       "\n",
       "    .dataframe tbody tr th {\n",
       "        vertical-align: top;\n",
       "    }\n",
       "\n",
       "    .dataframe thead th {\n",
       "        text-align: right;\n",
       "    }\n",
       "</style>\n",
       "<table border=\"1\" class=\"dataframe\">\n",
       "  <thead>\n",
       "    <tr style=\"text-align: center;\">\n",
       "      <th></th>\n",
       "      <th>Nama Kolom</th>\n",
       "      <th>Penjelasan Kolom</th>\n",
       "    </tr>\n",
       "    <tr>\n",
       "      <th>Nomor Kolom</th>\n",
       "      <th></th>\n",
       "      <th></th>\n",
       "    </tr>\n",
       "  </thead>\n",
       "  <tbody>\n",
       "    <tr>\n",
       "      <th>1</th>\n",
       "      <td>Gender</td>\n",
       "      <td>Laki-laki atau perempuan</td>\n",
       "    </tr>\n",
       "    <tr>\n",
       "      <th>2</th>\n",
       "      <td>Age</td>\n",
       "      <td>Usia dalam tahun</td>\n",
       "    </tr>\n",
       "    <tr>\n",
       "      <th>3</th>\n",
       "      <td>Height</td>\n",
       "      <td>Tinggi dalam meter</td>\n",
       "    </tr>\n",
       "    <tr>\n",
       "      <th>4</th>\n",
       "      <td>Weight</td>\n",
       "      <td>Bobot/Massa dalam Kilogram</td>\n",
       "    </tr>\n",
       "    <tr>\n",
       "      <th>5</th>\n",
       "      <td>family_history_with_overweight</td>\n",
       "      <td>Apakah orang tersebut memiliki riwayat dengan berat badan berlebih(ya/tidak)</td>\n",
       "    </tr>\n",
       "    <tr>\n",
       "      <th>6</th>\n",
       "      <td>FAVC</td>\n",
       "      <td>Apakah seseorang sering mengkonsumsi makanan tinggi kalori (ya/tidak)</td>\n",
       "    </tr>\n",
       "    <tr>\n",
       "      <th>7</th>\n",
       "      <td>FCVC</td>\n",
       "      <td>Frekuensi mengkonsumsi buah-buahan (skala 1.sd. 3)</td>\n",
       "    </tr>\n",
       "    <tr>\n",
       "      <th>8</th>\n",
       "      <td>NCP</td>\n",
       "      <td>Jumlah makanan utama per hari</td>\n",
       "    </tr>\n",
       "    <tr>\n",
       "      <th>9</th>\n",
       "      <td>CAEC</td>\n",
       "      <td>Frekuensi mengkonsumsi cemilan diantara waktu makan (Tidak pernah, jarang, sering, selalu)</td>\n",
       "    </tr>\n",
       "    <tr>\n",
       "      <th>10</th>\n",
       "      <td>SMOKE</td>\n",
       "      <td>Apakah seseorang tersebut adalah perokok (ya/tidak)</td>\n",
       "    </tr>\n",
       "    <tr>\n",
       "      <th>11</th>\n",
       "      <td>CH2O</td>\n",
       "      <td>Konsumsi minum perhari (skala 1 s.d 3)</td>\n",
       "    </tr>\n",
       "    <tr>\n",
       "      <th>12</th>\n",
       "      <td>SCC</td>\n",
       "      <td>Apakah seseorang melakukan kontrol terhadap kalori harian(ya/tidak)</td>\n",
       "    </tr>\n",
       "    <tr>\n",
       "      <th>13</th>\n",
       "      <td>FAF</td>\n",
       "      <td>Frekuensi melakukan aktivitas fisik (skala 0 s.d 3)</td>\n",
       "    </tr>\n",
       "    <tr>\n",
       "      <th>14</th>\n",
       "      <td>TUE</td>\n",
       "      <td>Waktu dihabiskan menggunakan teknologi (skala 0 s.d 3)</td>\n",
       "    </tr>\n",
       "    <tr>\n",
       "      <th>15</th>\n",
       "      <td>CALC</td>\n",
       "      <td>Frekuensi mengkonsumsi alkohol (Tidak pernah, Jarang, Sering, Selalu)</td>\n",
       "    </tr>\n",
       "    <tr>\n",
       "      <th>16</th>\n",
       "      <td>MTRANS</td>\n",
       "      <td>Moda utama yang digunakan untuk transportasi (Mobil, Sepeda, Sepeda Motor, Transportasi umum, Jalan kaki)</td>\n",
       "    </tr>\n",
       "    <tr>\n",
       "      <th>17</th>\n",
       "      <td>NObeyesdad</td>\n",
       "      <td>Level Obesitas(Insufficient Weight, Normal Weight, Overweight Level I, Overweight Level II, Obesity Type I, Obesity Type II, Obesity Type III)</td>\n",
       "    </tr>\n",
       "  </tbody>\n",
       "</table>\n",
       "</div>"
      ],
      "text/plain": [
       "                       Nama Kolom            \\\n",
       "Nomor Kolom                                   \n",
       "1                                    Gender   \n",
       "2                                       Age   \n",
       "3                                    Height   \n",
       "4                                    Weight   \n",
       "5            family_history_with_overweight   \n",
       "6                                      FAVC   \n",
       "7                                      FCVC   \n",
       "8                                       NCP   \n",
       "9                                      CAEC   \n",
       "10                                    SMOKE   \n",
       "11                                     CH2O   \n",
       "12                                      SCC   \n",
       "13                                      FAF   \n",
       "14                                      TUE   \n",
       "15                                     CALC   \n",
       "16                                   MTRANS   \n",
       "17                               NObeyesdad   \n",
       "\n",
       "                                                                            Penjelasan Kolom                                                                 \n",
       "Nomor Kolom                                                                                                                                                  \n",
       "1                                                                                                                                  Laki-laki atau perempuan  \n",
       "2                                                                                                                                          Usia dalam tahun  \n",
       "3                                                                                                                                        Tinggi dalam meter  \n",
       "4                                                                                                                                Bobot/Massa dalam Kilogram  \n",
       "5                                                                              Apakah orang tersebut memiliki riwayat dengan berat badan berlebih(ya/tidak)  \n",
       "6                                                                                     Apakah seseorang sering mengkonsumsi makanan tinggi kalori (ya/tidak)  \n",
       "7                                                                                                        Frekuensi mengkonsumsi buah-buahan (skala 1.sd. 3)  \n",
       "8                                                                                                                             Jumlah makanan utama per hari  \n",
       "9                                                                Frekuensi mengkonsumsi cemilan diantara waktu makan (Tidak pernah, jarang, sering, selalu)  \n",
       "10                                                                                                      Apakah seseorang tersebut adalah perokok (ya/tidak)  \n",
       "11                                                                                                                   Konsumsi minum perhari (skala 1 s.d 3)  \n",
       "12                                                                                      Apakah seseorang melakukan kontrol terhadap kalori harian(ya/tidak)  \n",
       "13                                                                                                      Frekuensi melakukan aktivitas fisik (skala 0 s.d 3)  \n",
       "14                                                                                                   Waktu dihabiskan menggunakan teknologi (skala 0 s.d 3)  \n",
       "15                                                                                    Frekuensi mengkonsumsi alkohol (Tidak pernah, Jarang, Sering, Selalu)  \n",
       "16                                                Moda utama yang digunakan untuk transportasi (Mobil, Sepeda, Sepeda Motor, Transportasi umum, Jalan kaki)  \n",
       "17           Level Obesitas(Insufficient Weight, Normal Weight, Overweight Level I, Overweight Level II, Obesity Type I, Obesity Type II, Obesity Type III)  "
      ]
     },
     "execution_count": 9,
     "metadata": {},
     "output_type": "execute_result"
    }
   ],
   "source": [
    "de = np.array(['Laki-laki atau perempuan',\n",
    "               'Usia dalam tahun',\n",
    "               'Tinggi dalam meter',\n",
    "               'Bobot/Massa dalam Kilogram',\n",
    "               'Apakah orang tersebut memiliki riwayat dengan berat badan berlebih(ya/tidak)',\n",
    "               'Apakah seseorang sering mengkonsumsi makanan tinggi kalori (ya/tidak)',\n",
    "               'Frekuensi mengkonsumsi buah-buahan (skala 1.sd. 3)',\n",
    "               'Jumlah makanan utama per hari',\n",
    "               'Frekuensi mengkonsumsi cemilan diantara waktu makan (Tidak pernah, jarang, sering, selalu)',\n",
    "               'Apakah seseorang tersebut adalah perokok (ya/tidak)',\n",
    "               'Konsumsi minum perhari (skala 1 s.d 3)',\n",
    "               'Apakah seseorang melakukan kontrol terhadap kalori harian(ya/tidak)',\n",
    "               'Frekuensi melakukan aktivitas fisik (skala 0 s.d 3)',\n",
    "               'Waktu dihabiskan menggunakan teknologi (skala 0 s.d 3)',\n",
    "               'Frekuensi mengkonsumsi alkohol (Tidak pernah, Jarang, Sering, Selalu)',\n",
    "               'Moda utama yang digunakan untuk transportasi (Mobil, Sepeda, Sepeda Motor, Transportasi umum, Jalan kaki)',\n",
    "               'Level Obesitas(Insufficient Weight, Normal Weight, Overweight Level I, Overweight Level II, Obesity Type I, Obesity Type II, Obesity Type III)'])\n",
    "\n",
    "penjelasan = pd.DataFrame({'Nomor Kolom':np.arange(1,len(de) + 1,1),\n",
    "                           'Nama Kolom':da,\n",
    "                           'Penjelasan Kolom':de})\n",
    "penjelasan.set_index('Nomor Kolom')"
   ]
  },
  {
   "cell_type": "markdown",
   "id": "5d6e950f-d8ae-4052-b1b3-4520ed8e73c5",
   "metadata": {},
   "source": [
    "## 4.5 Tipe Data"
   ]
  },
  {
   "cell_type": "code",
   "execution_count": 10,
   "id": "a85a6462-14c8-4fb8-8be6-d34c99e6b1a8",
   "metadata": {},
   "outputs": [
    {
     "name": "stdout",
     "output_type": "stream",
     "text": [
      "<class 'pandas.core.frame.DataFrame'>\n",
      "RangeIndex: 2111 entries, 0 to 2110\n",
      "Data columns (total 17 columns):\n",
      " #   Column                          Non-Null Count  Dtype  \n",
      "---  ------                          --------------  -----  \n",
      " 0   Gender                          2111 non-null   object \n",
      " 1   Age                             2111 non-null   int64  \n",
      " 2   Height                          2111 non-null   float64\n",
      " 3   Weight                          2111 non-null   float64\n",
      " 4   family_history_with_overweight  2111 non-null   object \n",
      " 5   FAVC                            2111 non-null   object \n",
      " 6   FCVC                            2111 non-null   float64\n",
      " 7   NCP                             2111 non-null   float64\n",
      " 8   CAEC                            2111 non-null   object \n",
      " 9   SMOKE                           2111 non-null   object \n",
      " 10  CH2O                            2111 non-null   float64\n",
      " 11  SCC                             2111 non-null   object \n",
      " 12  FAF                             2111 non-null   float64\n",
      " 13  TUE                             2111 non-null   float64\n",
      " 14  CALC                            2111 non-null   object \n",
      " 15  MTRANS                          2111 non-null   object \n",
      " 16  NObeyesdad                      2111 non-null   object \n",
      "dtypes: float64(7), int64(1), object(9)\n",
      "memory usage: 280.5+ KB\n"
     ]
    }
   ],
   "source": [
    "df.info()"
   ]
  },
  {
   "cell_type": "markdown",
   "id": "2d33c190-a6bb-4a77-af58-607ed80acecd",
   "metadata": {},
   "source": [
    "## 4.6 Deskriptif Statistik"
   ]
  },
  {
   "cell_type": "code",
   "execution_count": 11,
   "id": "f5e372b0-d477-468b-9c24-9d433670ba60",
   "metadata": {},
   "outputs": [
    {
     "data": {
      "text/html": [
       "<div>\n",
       "<style scoped>\n",
       "    .dataframe tbody tr th:only-of-type {\n",
       "        vertical-align: middle;\n",
       "    }\n",
       "\n",
       "    .dataframe tbody tr th {\n",
       "        vertical-align: top;\n",
       "    }\n",
       "\n",
       "    .dataframe thead th {\n",
       "        text-align: right;\n",
       "    }\n",
       "</style>\n",
       "<table border=\"1\" class=\"dataframe\">\n",
       "  <thead>\n",
       "    <tr style=\"text-align: center;\">\n",
       "      <th></th>\n",
       "      <th>Age</th>\n",
       "      <th>Height</th>\n",
       "      <th>Weight</th>\n",
       "      <th>FCVC</th>\n",
       "      <th>NCP</th>\n",
       "      <th>CH2O</th>\n",
       "      <th>FAF</th>\n",
       "      <th>TUE</th>\n",
       "    </tr>\n",
       "  </thead>\n",
       "  <tbody>\n",
       "    <tr>\n",
       "      <th>count</th>\n",
       "      <td>2111.000000</td>\n",
       "      <td>2111.000000</td>\n",
       "      <td>2111.000000</td>\n",
       "      <td>2111.000000</td>\n",
       "      <td>2111.000000</td>\n",
       "      <td>2111.000000</td>\n",
       "      <td>2111.000000</td>\n",
       "      <td>2111.000000</td>\n",
       "    </tr>\n",
       "    <tr>\n",
       "      <th>mean</th>\n",
       "      <td>24.315964</td>\n",
       "      <td>1.701620</td>\n",
       "      <td>86.586035</td>\n",
       "      <td>2.418986</td>\n",
       "      <td>2.685651</td>\n",
       "      <td>2.008053</td>\n",
       "      <td>1.010313</td>\n",
       "      <td>0.657861</td>\n",
       "    </tr>\n",
       "    <tr>\n",
       "      <th>std</th>\n",
       "      <td>6.357078</td>\n",
       "      <td>0.093368</td>\n",
       "      <td>26.191163</td>\n",
       "      <td>0.533996</td>\n",
       "      <td>0.778079</td>\n",
       "      <td>0.612950</td>\n",
       "      <td>0.850613</td>\n",
       "      <td>0.608926</td>\n",
       "    </tr>\n",
       "    <tr>\n",
       "      <th>min</th>\n",
       "      <td>14.000000</td>\n",
       "      <td>1.450000</td>\n",
       "      <td>39.000000</td>\n",
       "      <td>1.000000</td>\n",
       "      <td>1.000000</td>\n",
       "      <td>1.000000</td>\n",
       "      <td>0.000000</td>\n",
       "      <td>0.000000</td>\n",
       "    </tr>\n",
       "    <tr>\n",
       "      <th>25%</th>\n",
       "      <td>20.000000</td>\n",
       "      <td>1.630000</td>\n",
       "      <td>65.470000</td>\n",
       "      <td>2.000000</td>\n",
       "      <td>2.660000</td>\n",
       "      <td>1.585000</td>\n",
       "      <td>0.125000</td>\n",
       "      <td>0.000000</td>\n",
       "    </tr>\n",
       "    <tr>\n",
       "      <th>50%</th>\n",
       "      <td>23.000000</td>\n",
       "      <td>1.700000</td>\n",
       "      <td>83.000000</td>\n",
       "      <td>2.390000</td>\n",
       "      <td>3.000000</td>\n",
       "      <td>2.000000</td>\n",
       "      <td>1.000000</td>\n",
       "      <td>0.625000</td>\n",
       "    </tr>\n",
       "    <tr>\n",
       "      <th>75%</th>\n",
       "      <td>26.000000</td>\n",
       "      <td>1.770000</td>\n",
       "      <td>107.430000</td>\n",
       "      <td>3.000000</td>\n",
       "      <td>3.000000</td>\n",
       "      <td>2.480000</td>\n",
       "      <td>1.670000</td>\n",
       "      <td>1.000000</td>\n",
       "    </tr>\n",
       "    <tr>\n",
       "      <th>max</th>\n",
       "      <td>61.000000</td>\n",
       "      <td>1.980000</td>\n",
       "      <td>173.000000</td>\n",
       "      <td>3.000000</td>\n",
       "      <td>4.000000</td>\n",
       "      <td>3.000000</td>\n",
       "      <td>3.000000</td>\n",
       "      <td>2.000000</td>\n",
       "    </tr>\n",
       "  </tbody>\n",
       "</table>\n",
       "</div>"
      ],
      "text/plain": [
       "           Age        Height       Weight        FCVC          NCP      \\\n",
       "count  2111.000000  2111.000000  2111.000000  2111.000000  2111.000000   \n",
       "mean     24.315964     1.701620    86.586035     2.418986     2.685651   \n",
       "std       6.357078     0.093368    26.191163     0.533996     0.778079   \n",
       "min      14.000000     1.450000    39.000000     1.000000     1.000000   \n",
       "25%      20.000000     1.630000    65.470000     2.000000     2.660000   \n",
       "50%      23.000000     1.700000    83.000000     2.390000     3.000000   \n",
       "75%      26.000000     1.770000   107.430000     3.000000     3.000000   \n",
       "max      61.000000     1.980000   173.000000     3.000000     4.000000   \n",
       "\n",
       "          CH2O          FAF          TUE      \n",
       "count  2111.000000  2111.000000  2111.000000  \n",
       "mean      2.008053     1.010313     0.657861  \n",
       "std       0.612950     0.850613     0.608926  \n",
       "min       1.000000     0.000000     0.000000  \n",
       "25%       1.585000     0.125000     0.000000  \n",
       "50%       2.000000     1.000000     0.625000  \n",
       "75%       2.480000     1.670000     1.000000  \n",
       "max       3.000000     3.000000     2.000000  "
      ]
     },
     "execution_count": 11,
     "metadata": {},
     "output_type": "execute_result"
    }
   ],
   "source": [
    "df.describe()"
   ]
  },
  {
   "cell_type": "markdown",
   "id": "b4219d2a-ae21-4990-8dbd-8e0fd9288e1b",
   "metadata": {},
   "source": [
    "## 4.7 Pengecekan Missing Value "
   ]
  },
  {
   "cell_type": "code",
   "execution_count": 12,
   "id": "eb345b11-59aa-4cfd-b86b-176dbcd45ddf",
   "metadata": {},
   "outputs": [
    {
     "data": {
      "text/plain": [
       "Gender                            0\n",
       "Age                               0\n",
       "Height                            0\n",
       "Weight                            0\n",
       "family_history_with_overweight    0\n",
       "FAVC                              0\n",
       "FCVC                              0\n",
       "NCP                               0\n",
       "CAEC                              0\n",
       "SMOKE                             0\n",
       "CH2O                              0\n",
       "SCC                               0\n",
       "FAF                               0\n",
       "TUE                               0\n",
       "CALC                              0\n",
       "MTRANS                            0\n",
       "NObeyesdad                        0\n",
       "dtype: int64"
      ]
     },
     "execution_count": 12,
     "metadata": {},
     "output_type": "execute_result"
    }
   ],
   "source": [
    "df.isna().sum()"
   ]
  },
  {
   "cell_type": "code",
   "execution_count": 13,
   "id": "496a4375-4ddc-4155-9cc8-5395b2910aa0",
   "metadata": {},
   "outputs": [
    {
     "data": {
      "text/plain": [
       "Gender                            0\n",
       "Age                               0\n",
       "Height                            0\n",
       "Weight                            0\n",
       "family_history_with_overweight    0\n",
       "FAVC                              0\n",
       "FCVC                              0\n",
       "NCP                               0\n",
       "CAEC                              0\n",
       "SMOKE                             0\n",
       "CH2O                              0\n",
       "SCC                               0\n",
       "FAF                               0\n",
       "TUE                               0\n",
       "CALC                              0\n",
       "MTRANS                            0\n",
       "NObeyesdad                        0\n",
       "dtype: int64"
      ]
     },
     "execution_count": 13,
     "metadata": {},
     "output_type": "execute_result"
    }
   ],
   "source": [
    "df.isnull().sum()"
   ]
  },
  {
   "cell_type": "markdown",
   "id": "36b3de3e-9257-496f-8914-d4d0ae1f3ef8",
   "metadata": {},
   "source": [
    "karena data yang diperoleh dari awal sudah tidak memiliki \"missing values\" maka kita bisa melewatkan step untuk pembersihan missing value."
   ]
  },
  {
   "cell_type": "markdown",
   "id": "7083180b-4b0b-4a5d-825b-58f63b4ff9dd",
   "metadata": {},
   "source": [
    "## 4.9 Pengecekan data duplikat"
   ]
  },
  {
   "cell_type": "code",
   "execution_count": 14,
   "id": "870dbb30-f2cd-422c-9fde-ad5964bf1125",
   "metadata": {},
   "outputs": [
    {
     "data": {
      "text/plain": [
       "24"
      ]
     },
     "execution_count": 14,
     "metadata": {},
     "output_type": "execute_result"
    }
   ],
   "source": [
    "df.duplicated().sum()"
   ]
  },
  {
   "cell_type": "code",
   "execution_count": 15,
   "id": "04a7ffa6-9026-4f69-87e1-87193120e92e",
   "metadata": {},
   "outputs": [
    {
     "data": {
      "text/html": [
       "<div>\n",
       "<style scoped>\n",
       "    .dataframe tbody tr th:only-of-type {\n",
       "        vertical-align: middle;\n",
       "    }\n",
       "\n",
       "    .dataframe tbody tr th {\n",
       "        vertical-align: top;\n",
       "    }\n",
       "\n",
       "    .dataframe thead th {\n",
       "        text-align: right;\n",
       "    }\n",
       "</style>\n",
       "<table border=\"1\" class=\"dataframe\">\n",
       "  <thead>\n",
       "    <tr style=\"text-align: center;\">\n",
       "      <th></th>\n",
       "      <th>Gender</th>\n",
       "      <th>Age</th>\n",
       "      <th>Height</th>\n",
       "      <th>Weight</th>\n",
       "      <th>family_history_with_overweight</th>\n",
       "      <th>FAVC</th>\n",
       "      <th>FCVC</th>\n",
       "      <th>NCP</th>\n",
       "      <th>CAEC</th>\n",
       "      <th>SMOKE</th>\n",
       "      <th>CH2O</th>\n",
       "      <th>SCC</th>\n",
       "      <th>FAF</th>\n",
       "      <th>TUE</th>\n",
       "      <th>CALC</th>\n",
       "      <th>MTRANS</th>\n",
       "      <th>NObeyesdad</th>\n",
       "    </tr>\n",
       "  </thead>\n",
       "  <tbody>\n",
       "    <tr>\n",
       "      <th>98</th>\n",
       "      <td>Female</td>\n",
       "      <td>21</td>\n",
       "      <td>1.52</td>\n",
       "      <td>42.0</td>\n",
       "      <td>no</td>\n",
       "      <td>no</td>\n",
       "      <td>3.0</td>\n",
       "      <td>1.0</td>\n",
       "      <td>Frequently</td>\n",
       "      <td>no</td>\n",
       "      <td>1.0</td>\n",
       "      <td>no</td>\n",
       "      <td>0.0</td>\n",
       "      <td>0.0</td>\n",
       "      <td>Sometimes</td>\n",
       "      <td>Public_Transportation</td>\n",
       "      <td>Insufficient_Weight</td>\n",
       "    </tr>\n",
       "    <tr>\n",
       "      <th>106</th>\n",
       "      <td>Female</td>\n",
       "      <td>25</td>\n",
       "      <td>1.57</td>\n",
       "      <td>55.0</td>\n",
       "      <td>no</td>\n",
       "      <td>yes</td>\n",
       "      <td>2.0</td>\n",
       "      <td>1.0</td>\n",
       "      <td>Sometimes</td>\n",
       "      <td>no</td>\n",
       "      <td>2.0</td>\n",
       "      <td>no</td>\n",
       "      <td>2.0</td>\n",
       "      <td>0.0</td>\n",
       "      <td>Sometimes</td>\n",
       "      <td>Public_Transportation</td>\n",
       "      <td>Normal_Weight</td>\n",
       "    </tr>\n",
       "    <tr>\n",
       "      <th>174</th>\n",
       "      <td>Male</td>\n",
       "      <td>21</td>\n",
       "      <td>1.62</td>\n",
       "      <td>70.0</td>\n",
       "      <td>no</td>\n",
       "      <td>yes</td>\n",
       "      <td>2.0</td>\n",
       "      <td>1.0</td>\n",
       "      <td>no</td>\n",
       "      <td>no</td>\n",
       "      <td>3.0</td>\n",
       "      <td>no</td>\n",
       "      <td>1.0</td>\n",
       "      <td>0.0</td>\n",
       "      <td>Sometimes</td>\n",
       "      <td>Public_Transportation</td>\n",
       "      <td>Overweight_Level_I</td>\n",
       "    </tr>\n",
       "    <tr>\n",
       "      <th>179</th>\n",
       "      <td>Male</td>\n",
       "      <td>21</td>\n",
       "      <td>1.62</td>\n",
       "      <td>70.0</td>\n",
       "      <td>no</td>\n",
       "      <td>yes</td>\n",
       "      <td>2.0</td>\n",
       "      <td>1.0</td>\n",
       "      <td>no</td>\n",
       "      <td>no</td>\n",
       "      <td>3.0</td>\n",
       "      <td>no</td>\n",
       "      <td>1.0</td>\n",
       "      <td>0.0</td>\n",
       "      <td>Sometimes</td>\n",
       "      <td>Public_Transportation</td>\n",
       "      <td>Overweight_Level_I</td>\n",
       "    </tr>\n",
       "    <tr>\n",
       "      <th>184</th>\n",
       "      <td>Male</td>\n",
       "      <td>21</td>\n",
       "      <td>1.62</td>\n",
       "      <td>70.0</td>\n",
       "      <td>no</td>\n",
       "      <td>yes</td>\n",
       "      <td>2.0</td>\n",
       "      <td>1.0</td>\n",
       "      <td>no</td>\n",
       "      <td>no</td>\n",
       "      <td>3.0</td>\n",
       "      <td>no</td>\n",
       "      <td>1.0</td>\n",
       "      <td>0.0</td>\n",
       "      <td>Sometimes</td>\n",
       "      <td>Public_Transportation</td>\n",
       "      <td>Overweight_Level_I</td>\n",
       "    </tr>\n",
       "    <tr>\n",
       "      <th>209</th>\n",
       "      <td>Female</td>\n",
       "      <td>22</td>\n",
       "      <td>1.69</td>\n",
       "      <td>65.0</td>\n",
       "      <td>yes</td>\n",
       "      <td>yes</td>\n",
       "      <td>2.0</td>\n",
       "      <td>3.0</td>\n",
       "      <td>Sometimes</td>\n",
       "      <td>no</td>\n",
       "      <td>2.0</td>\n",
       "      <td>no</td>\n",
       "      <td>1.0</td>\n",
       "      <td>1.0</td>\n",
       "      <td>Sometimes</td>\n",
       "      <td>Public_Transportation</td>\n",
       "      <td>Normal_Weight</td>\n",
       "    </tr>\n",
       "    <tr>\n",
       "      <th>309</th>\n",
       "      <td>Female</td>\n",
       "      <td>16</td>\n",
       "      <td>1.66</td>\n",
       "      <td>58.0</td>\n",
       "      <td>no</td>\n",
       "      <td>no</td>\n",
       "      <td>2.0</td>\n",
       "      <td>1.0</td>\n",
       "      <td>Sometimes</td>\n",
       "      <td>no</td>\n",
       "      <td>1.0</td>\n",
       "      <td>no</td>\n",
       "      <td>0.0</td>\n",
       "      <td>1.0</td>\n",
       "      <td>no</td>\n",
       "      <td>Walking</td>\n",
       "      <td>Normal_Weight</td>\n",
       "    </tr>\n",
       "    <tr>\n",
       "      <th>460</th>\n",
       "      <td>Female</td>\n",
       "      <td>18</td>\n",
       "      <td>1.62</td>\n",
       "      <td>55.0</td>\n",
       "      <td>yes</td>\n",
       "      <td>yes</td>\n",
       "      <td>2.0</td>\n",
       "      <td>3.0</td>\n",
       "      <td>Frequently</td>\n",
       "      <td>no</td>\n",
       "      <td>1.0</td>\n",
       "      <td>no</td>\n",
       "      <td>1.0</td>\n",
       "      <td>1.0</td>\n",
       "      <td>no</td>\n",
       "      <td>Public_Transportation</td>\n",
       "      <td>Normal_Weight</td>\n",
       "    </tr>\n",
       "    <tr>\n",
       "      <th>467</th>\n",
       "      <td>Male</td>\n",
       "      <td>22</td>\n",
       "      <td>1.74</td>\n",
       "      <td>75.0</td>\n",
       "      <td>yes</td>\n",
       "      <td>yes</td>\n",
       "      <td>3.0</td>\n",
       "      <td>3.0</td>\n",
       "      <td>Frequently</td>\n",
       "      <td>no</td>\n",
       "      <td>1.0</td>\n",
       "      <td>no</td>\n",
       "      <td>1.0</td>\n",
       "      <td>0.0</td>\n",
       "      <td>no</td>\n",
       "      <td>Automobile</td>\n",
       "      <td>Normal_Weight</td>\n",
       "    </tr>\n",
       "    <tr>\n",
       "      <th>496</th>\n",
       "      <td>Male</td>\n",
       "      <td>18</td>\n",
       "      <td>1.72</td>\n",
       "      <td>53.0</td>\n",
       "      <td>yes</td>\n",
       "      <td>yes</td>\n",
       "      <td>2.0</td>\n",
       "      <td>3.0</td>\n",
       "      <td>Sometimes</td>\n",
       "      <td>no</td>\n",
       "      <td>2.0</td>\n",
       "      <td>no</td>\n",
       "      <td>0.0</td>\n",
       "      <td>2.0</td>\n",
       "      <td>Sometimes</td>\n",
       "      <td>Public_Transportation</td>\n",
       "      <td>Insufficient_Weight</td>\n",
       "    </tr>\n",
       "    <tr>\n",
       "      <th>527</th>\n",
       "      <td>Female</td>\n",
       "      <td>21</td>\n",
       "      <td>1.52</td>\n",
       "      <td>42.0</td>\n",
       "      <td>no</td>\n",
       "      <td>yes</td>\n",
       "      <td>3.0</td>\n",
       "      <td>1.0</td>\n",
       "      <td>Frequently</td>\n",
       "      <td>no</td>\n",
       "      <td>1.0</td>\n",
       "      <td>no</td>\n",
       "      <td>0.0</td>\n",
       "      <td>0.0</td>\n",
       "      <td>Sometimes</td>\n",
       "      <td>Public_Transportation</td>\n",
       "      <td>Insufficient_Weight</td>\n",
       "    </tr>\n",
       "    <tr>\n",
       "      <th>659</th>\n",
       "      <td>Female</td>\n",
       "      <td>21</td>\n",
       "      <td>1.52</td>\n",
       "      <td>42.0</td>\n",
       "      <td>no</td>\n",
       "      <td>yes</td>\n",
       "      <td>3.0</td>\n",
       "      <td>1.0</td>\n",
       "      <td>Frequently</td>\n",
       "      <td>no</td>\n",
       "      <td>1.0</td>\n",
       "      <td>no</td>\n",
       "      <td>0.0</td>\n",
       "      <td>0.0</td>\n",
       "      <td>Sometimes</td>\n",
       "      <td>Public_Transportation</td>\n",
       "      <td>Insufficient_Weight</td>\n",
       "    </tr>\n",
       "    <tr>\n",
       "      <th>663</th>\n",
       "      <td>Female</td>\n",
       "      <td>21</td>\n",
       "      <td>1.52</td>\n",
       "      <td>42.0</td>\n",
       "      <td>no</td>\n",
       "      <td>yes</td>\n",
       "      <td>3.0</td>\n",
       "      <td>1.0</td>\n",
       "      <td>Frequently</td>\n",
       "      <td>no</td>\n",
       "      <td>1.0</td>\n",
       "      <td>no</td>\n",
       "      <td>0.0</td>\n",
       "      <td>0.0</td>\n",
       "      <td>Sometimes</td>\n",
       "      <td>Public_Transportation</td>\n",
       "      <td>Insufficient_Weight</td>\n",
       "    </tr>\n",
       "    <tr>\n",
       "      <th>763</th>\n",
       "      <td>Male</td>\n",
       "      <td>21</td>\n",
       "      <td>1.62</td>\n",
       "      <td>70.0</td>\n",
       "      <td>no</td>\n",
       "      <td>yes</td>\n",
       "      <td>2.0</td>\n",
       "      <td>1.0</td>\n",
       "      <td>no</td>\n",
       "      <td>no</td>\n",
       "      <td>3.0</td>\n",
       "      <td>no</td>\n",
       "      <td>1.0</td>\n",
       "      <td>0.0</td>\n",
       "      <td>Sometimes</td>\n",
       "      <td>Public_Transportation</td>\n",
       "      <td>Overweight_Level_I</td>\n",
       "    </tr>\n",
       "    <tr>\n",
       "      <th>764</th>\n",
       "      <td>Male</td>\n",
       "      <td>21</td>\n",
       "      <td>1.62</td>\n",
       "      <td>70.0</td>\n",
       "      <td>no</td>\n",
       "      <td>yes</td>\n",
       "      <td>2.0</td>\n",
       "      <td>1.0</td>\n",
       "      <td>no</td>\n",
       "      <td>no</td>\n",
       "      <td>3.0</td>\n",
       "      <td>no</td>\n",
       "      <td>1.0</td>\n",
       "      <td>0.0</td>\n",
       "      <td>Sometimes</td>\n",
       "      <td>Public_Transportation</td>\n",
       "      <td>Overweight_Level_I</td>\n",
       "    </tr>\n",
       "    <tr>\n",
       "      <th>824</th>\n",
       "      <td>Male</td>\n",
       "      <td>21</td>\n",
       "      <td>1.62</td>\n",
       "      <td>70.0</td>\n",
       "      <td>no</td>\n",
       "      <td>yes</td>\n",
       "      <td>2.0</td>\n",
       "      <td>1.0</td>\n",
       "      <td>no</td>\n",
       "      <td>no</td>\n",
       "      <td>3.0</td>\n",
       "      <td>no</td>\n",
       "      <td>1.0</td>\n",
       "      <td>0.0</td>\n",
       "      <td>Sometimes</td>\n",
       "      <td>Public_Transportation</td>\n",
       "      <td>Overweight_Level_I</td>\n",
       "    </tr>\n",
       "    <tr>\n",
       "      <th>830</th>\n",
       "      <td>Male</td>\n",
       "      <td>21</td>\n",
       "      <td>1.62</td>\n",
       "      <td>70.0</td>\n",
       "      <td>no</td>\n",
       "      <td>yes</td>\n",
       "      <td>2.0</td>\n",
       "      <td>1.0</td>\n",
       "      <td>no</td>\n",
       "      <td>no</td>\n",
       "      <td>3.0</td>\n",
       "      <td>no</td>\n",
       "      <td>1.0</td>\n",
       "      <td>0.0</td>\n",
       "      <td>Sometimes</td>\n",
       "      <td>Public_Transportation</td>\n",
       "      <td>Overweight_Level_I</td>\n",
       "    </tr>\n",
       "    <tr>\n",
       "      <th>831</th>\n",
       "      <td>Male</td>\n",
       "      <td>21</td>\n",
       "      <td>1.62</td>\n",
       "      <td>70.0</td>\n",
       "      <td>no</td>\n",
       "      <td>yes</td>\n",
       "      <td>2.0</td>\n",
       "      <td>1.0</td>\n",
       "      <td>no</td>\n",
       "      <td>no</td>\n",
       "      <td>3.0</td>\n",
       "      <td>no</td>\n",
       "      <td>1.0</td>\n",
       "      <td>0.0</td>\n",
       "      <td>Sometimes</td>\n",
       "      <td>Public_Transportation</td>\n",
       "      <td>Overweight_Level_I</td>\n",
       "    </tr>\n",
       "    <tr>\n",
       "      <th>832</th>\n",
       "      <td>Male</td>\n",
       "      <td>21</td>\n",
       "      <td>1.62</td>\n",
       "      <td>70.0</td>\n",
       "      <td>no</td>\n",
       "      <td>yes</td>\n",
       "      <td>2.0</td>\n",
       "      <td>1.0</td>\n",
       "      <td>no</td>\n",
       "      <td>no</td>\n",
       "      <td>3.0</td>\n",
       "      <td>no</td>\n",
       "      <td>1.0</td>\n",
       "      <td>0.0</td>\n",
       "      <td>Sometimes</td>\n",
       "      <td>Public_Transportation</td>\n",
       "      <td>Overweight_Level_I</td>\n",
       "    </tr>\n",
       "    <tr>\n",
       "      <th>833</th>\n",
       "      <td>Male</td>\n",
       "      <td>21</td>\n",
       "      <td>1.62</td>\n",
       "      <td>70.0</td>\n",
       "      <td>no</td>\n",
       "      <td>yes</td>\n",
       "      <td>2.0</td>\n",
       "      <td>1.0</td>\n",
       "      <td>no</td>\n",
       "      <td>no</td>\n",
       "      <td>3.0</td>\n",
       "      <td>no</td>\n",
       "      <td>1.0</td>\n",
       "      <td>0.0</td>\n",
       "      <td>Sometimes</td>\n",
       "      <td>Public_Transportation</td>\n",
       "      <td>Overweight_Level_I</td>\n",
       "    </tr>\n",
       "    <tr>\n",
       "      <th>834</th>\n",
       "      <td>Male</td>\n",
       "      <td>21</td>\n",
       "      <td>1.62</td>\n",
       "      <td>70.0</td>\n",
       "      <td>no</td>\n",
       "      <td>yes</td>\n",
       "      <td>2.0</td>\n",
       "      <td>1.0</td>\n",
       "      <td>no</td>\n",
       "      <td>no</td>\n",
       "      <td>3.0</td>\n",
       "      <td>no</td>\n",
       "      <td>1.0</td>\n",
       "      <td>0.0</td>\n",
       "      <td>Sometimes</td>\n",
       "      <td>Public_Transportation</td>\n",
       "      <td>Overweight_Level_I</td>\n",
       "    </tr>\n",
       "    <tr>\n",
       "      <th>921</th>\n",
       "      <td>Male</td>\n",
       "      <td>21</td>\n",
       "      <td>1.62</td>\n",
       "      <td>70.0</td>\n",
       "      <td>no</td>\n",
       "      <td>yes</td>\n",
       "      <td>2.0</td>\n",
       "      <td>1.0</td>\n",
       "      <td>no</td>\n",
       "      <td>no</td>\n",
       "      <td>3.0</td>\n",
       "      <td>no</td>\n",
       "      <td>1.0</td>\n",
       "      <td>0.0</td>\n",
       "      <td>Sometimes</td>\n",
       "      <td>Public_Transportation</td>\n",
       "      <td>Overweight_Level_I</td>\n",
       "    </tr>\n",
       "    <tr>\n",
       "      <th>922</th>\n",
       "      <td>Male</td>\n",
       "      <td>21</td>\n",
       "      <td>1.62</td>\n",
       "      <td>70.0</td>\n",
       "      <td>no</td>\n",
       "      <td>yes</td>\n",
       "      <td>2.0</td>\n",
       "      <td>1.0</td>\n",
       "      <td>no</td>\n",
       "      <td>no</td>\n",
       "      <td>3.0</td>\n",
       "      <td>no</td>\n",
       "      <td>1.0</td>\n",
       "      <td>0.0</td>\n",
       "      <td>Sometimes</td>\n",
       "      <td>Public_Transportation</td>\n",
       "      <td>Overweight_Level_I</td>\n",
       "    </tr>\n",
       "    <tr>\n",
       "      <th>923</th>\n",
       "      <td>Male</td>\n",
       "      <td>21</td>\n",
       "      <td>1.62</td>\n",
       "      <td>70.0</td>\n",
       "      <td>no</td>\n",
       "      <td>yes</td>\n",
       "      <td>2.0</td>\n",
       "      <td>1.0</td>\n",
       "      <td>no</td>\n",
       "      <td>no</td>\n",
       "      <td>3.0</td>\n",
       "      <td>no</td>\n",
       "      <td>1.0</td>\n",
       "      <td>0.0</td>\n",
       "      <td>Sometimes</td>\n",
       "      <td>Public_Transportation</td>\n",
       "      <td>Overweight_Level_I</td>\n",
       "    </tr>\n",
       "  </tbody>\n",
       "</table>\n",
       "</div>"
      ],
      "text/plain": [
       "     Gender  Age  Height  Weight family_history_with_overweight FAVC  FCVC  \\\n",
       "98   Female  21    1.52    42.0                 no                no   3.0   \n",
       "106  Female  25    1.57    55.0                 no               yes   2.0   \n",
       "174    Male  21    1.62    70.0                 no               yes   2.0   \n",
       "179    Male  21    1.62    70.0                 no               yes   2.0   \n",
       "184    Male  21    1.62    70.0                 no               yes   2.0   \n",
       "209  Female  22    1.69    65.0                yes               yes   2.0   \n",
       "309  Female  16    1.66    58.0                 no                no   2.0   \n",
       "460  Female  18    1.62    55.0                yes               yes   2.0   \n",
       "467    Male  22    1.74    75.0                yes               yes   3.0   \n",
       "496    Male  18    1.72    53.0                yes               yes   2.0   \n",
       "527  Female  21    1.52    42.0                 no               yes   3.0   \n",
       "659  Female  21    1.52    42.0                 no               yes   3.0   \n",
       "663  Female  21    1.52    42.0                 no               yes   3.0   \n",
       "763    Male  21    1.62    70.0                 no               yes   2.0   \n",
       "764    Male  21    1.62    70.0                 no               yes   2.0   \n",
       "824    Male  21    1.62    70.0                 no               yes   2.0   \n",
       "830    Male  21    1.62    70.0                 no               yes   2.0   \n",
       "831    Male  21    1.62    70.0                 no               yes   2.0   \n",
       "832    Male  21    1.62    70.0                 no               yes   2.0   \n",
       "833    Male  21    1.62    70.0                 no               yes   2.0   \n",
       "834    Male  21    1.62    70.0                 no               yes   2.0   \n",
       "921    Male  21    1.62    70.0                 no               yes   2.0   \n",
       "922    Male  21    1.62    70.0                 no               yes   2.0   \n",
       "923    Male  21    1.62    70.0                 no               yes   2.0   \n",
       "\n",
       "     NCP     CAEC    SMOKE  CH2O SCC  FAF  TUE    CALC     \\\n",
       "98   1.0  Frequently   no    1.0  no  0.0  0.0  Sometimes   \n",
       "106  1.0   Sometimes   no    2.0  no  2.0  0.0  Sometimes   \n",
       "174  1.0          no   no    3.0  no  1.0  0.0  Sometimes   \n",
       "179  1.0          no   no    3.0  no  1.0  0.0  Sometimes   \n",
       "184  1.0          no   no    3.0  no  1.0  0.0  Sometimes   \n",
       "209  3.0   Sometimes   no    2.0  no  1.0  1.0  Sometimes   \n",
       "309  1.0   Sometimes   no    1.0  no  0.0  1.0         no   \n",
       "460  3.0  Frequently   no    1.0  no  1.0  1.0         no   \n",
       "467  3.0  Frequently   no    1.0  no  1.0  0.0         no   \n",
       "496  3.0   Sometimes   no    2.0  no  0.0  2.0  Sometimes   \n",
       "527  1.0  Frequently   no    1.0  no  0.0  0.0  Sometimes   \n",
       "659  1.0  Frequently   no    1.0  no  0.0  0.0  Sometimes   \n",
       "663  1.0  Frequently   no    1.0  no  0.0  0.0  Sometimes   \n",
       "763  1.0          no   no    3.0  no  1.0  0.0  Sometimes   \n",
       "764  1.0          no   no    3.0  no  1.0  0.0  Sometimes   \n",
       "824  1.0          no   no    3.0  no  1.0  0.0  Sometimes   \n",
       "830  1.0          no   no    3.0  no  1.0  0.0  Sometimes   \n",
       "831  1.0          no   no    3.0  no  1.0  0.0  Sometimes   \n",
       "832  1.0          no   no    3.0  no  1.0  0.0  Sometimes   \n",
       "833  1.0          no   no    3.0  no  1.0  0.0  Sometimes   \n",
       "834  1.0          no   no    3.0  no  1.0  0.0  Sometimes   \n",
       "921  1.0          no   no    3.0  no  1.0  0.0  Sometimes   \n",
       "922  1.0          no   no    3.0  no  1.0  0.0  Sometimes   \n",
       "923  1.0          no   no    3.0  no  1.0  0.0  Sometimes   \n",
       "\n",
       "            MTRANS              NObeyesdad       \n",
       "98   Public_Transportation  Insufficient_Weight  \n",
       "106  Public_Transportation        Normal_Weight  \n",
       "174  Public_Transportation   Overweight_Level_I  \n",
       "179  Public_Transportation   Overweight_Level_I  \n",
       "184  Public_Transportation   Overweight_Level_I  \n",
       "209  Public_Transportation        Normal_Weight  \n",
       "309                Walking        Normal_Weight  \n",
       "460  Public_Transportation        Normal_Weight  \n",
       "467             Automobile        Normal_Weight  \n",
       "496  Public_Transportation  Insufficient_Weight  \n",
       "527  Public_Transportation  Insufficient_Weight  \n",
       "659  Public_Transportation  Insufficient_Weight  \n",
       "663  Public_Transportation  Insufficient_Weight  \n",
       "763  Public_Transportation   Overweight_Level_I  \n",
       "764  Public_Transportation   Overweight_Level_I  \n",
       "824  Public_Transportation   Overweight_Level_I  \n",
       "830  Public_Transportation   Overweight_Level_I  \n",
       "831  Public_Transportation   Overweight_Level_I  \n",
       "832  Public_Transportation   Overweight_Level_I  \n",
       "833  Public_Transportation   Overweight_Level_I  \n",
       "834  Public_Transportation   Overweight_Level_I  \n",
       "921  Public_Transportation   Overweight_Level_I  \n",
       "922  Public_Transportation   Overweight_Level_I  \n",
       "923  Public_Transportation   Overweight_Level_I  "
      ]
     },
     "execution_count": 15,
     "metadata": {},
     "output_type": "execute_result"
    }
   ],
   "source": [
    "df[df.duplicated()]"
   ]
  },
  {
   "cell_type": "markdown",
   "id": "69a1ac0a-1d37-4c77-ae15-1eb52b64b008",
   "metadata": {},
   "source": [
    "setelah kita melakukan peninjauan terhadap data yang terindikasi duplikat, ternyata data tersebut bukanlah data duplikat melainkan **data yang memiliki identitas yang mirip tetapi memiliki nilai yang berbeda pada beberapa variabel**, dan berdasarkan hasil preview tersebut dapat disimpulkan bahwa data yang terindikasi duplikat adalah data yang berbeda (unik)."
   ]
  },
  {
   "cell_type": "markdown",
   "id": "1eec2c09-962e-4f1d-a4b3-f2eb9db97fdb",
   "metadata": {},
   "source": [
    "# 5. Eksplorasi Data Analisis"
   ]
  },
  {
   "cell_type": "code",
   "execution_count": 16,
   "id": "8700cb05-3bfd-498c-9638-35b52b5cef83",
   "metadata": {},
   "outputs": [
    {
     "data": {
      "text/html": [
       "<div>\n",
       "<style scoped>\n",
       "    .dataframe tbody tr th:only-of-type {\n",
       "        vertical-align: middle;\n",
       "    }\n",
       "\n",
       "    .dataframe tbody tr th {\n",
       "        vertical-align: top;\n",
       "    }\n",
       "\n",
       "    .dataframe thead th {\n",
       "        text-align: right;\n",
       "    }\n",
       "</style>\n",
       "<table border=\"1\" class=\"dataframe\">\n",
       "  <thead>\n",
       "    <tr style=\"text-align: center;\">\n",
       "      <th></th>\n",
       "      <th>jenis</th>\n",
       "      <th>jumlah</th>\n",
       "    </tr>\n",
       "    <tr>\n",
       "      <th>Nomor</th>\n",
       "      <th></th>\n",
       "      <th></th>\n",
       "    </tr>\n",
       "  </thead>\n",
       "  <tbody>\n",
       "    <tr>\n",
       "      <th>1</th>\n",
       "      <td>Normal_Weight</td>\n",
       "      <td>351</td>\n",
       "    </tr>\n",
       "    <tr>\n",
       "      <th>2</th>\n",
       "      <td>Overweight_Level_I</td>\n",
       "      <td>324</td>\n",
       "    </tr>\n",
       "    <tr>\n",
       "      <th>3</th>\n",
       "      <td>Overweight_Level_II</td>\n",
       "      <td>297</td>\n",
       "    </tr>\n",
       "    <tr>\n",
       "      <th>4</th>\n",
       "      <td>Obesity_Type_I</td>\n",
       "      <td>290</td>\n",
       "    </tr>\n",
       "    <tr>\n",
       "      <th>5</th>\n",
       "      <td>Insufficient_Weight</td>\n",
       "      <td>290</td>\n",
       "    </tr>\n",
       "    <tr>\n",
       "      <th>6</th>\n",
       "      <td>Obesity_Type_II</td>\n",
       "      <td>287</td>\n",
       "    </tr>\n",
       "    <tr>\n",
       "      <th>7</th>\n",
       "      <td>Obesity_Type_III</td>\n",
       "      <td>272</td>\n",
       "    </tr>\n",
       "  </tbody>\n",
       "</table>\n",
       "</div>"
      ],
      "text/plain": [
       "             jenis          jumlah\n",
       "Nomor                             \n",
       "1            Normal_Weight    351 \n",
       "2       Overweight_Level_I    324 \n",
       "3      Overweight_Level_II    297 \n",
       "4           Obesity_Type_I    290 \n",
       "5      Insufficient_Weight    290 \n",
       "6          Obesity_Type_II    287 \n",
       "7         Obesity_Type_III    272 "
      ]
     },
     "execution_count": 16,
     "metadata": {},
     "output_type": "execute_result"
    }
   ],
   "source": [
    "# Melihat sebaran data dari jenis obesitas \n",
    "panjang = len(df[\"NObeyesdad\"].unique())\n",
    "jenis = {'Nomor': np.arange(1,panjang+1,1),\n",
    "         'jenis': np.array(df[\"NObeyesdad\"].unique()),\n",
    "         'jumlah': np.array(df[\"NObeyesdad\"].value_counts())\n",
    "        }\n",
    "jenis\n",
    "jo = pd.DataFrame(jenis)\n",
    "jo.set_index('Nomor')\n"
   ]
  },
  {
   "cell_type": "code",
   "execution_count": 17,
   "id": "df6ebdb6-ff2f-4ac8-abdd-00916623ed10",
   "metadata": {},
   "outputs": [
    {
     "name": "stdout",
     "output_type": "stream",
     "text": [
      "NObeyesdad\n",
      "Obesity_Type_I         351\n",
      "Obesity_Type_III       324\n",
      "Obesity_Type_II        297\n",
      "Overweight_Level_I     290\n",
      "Overweight_Level_II    290\n",
      "Normal_Weight          287\n",
      "Insufficient_Weight    272\n",
      "Name: count, dtype: int64\n"
     ]
    },
    {
     "data": {
      "image/png": "[encoded data removed]",
      "text/plain": [
       "<Figure size 640x480 with 1 Axes>"
      ]
     },
     "metadata": {},
     "output_type": "display_data"
    }
   ],
   "source": [
    "# Menghitung jumlah kemunculan setiap nilai dalam kolom \"Kematian\" dalam DataFrame \"df\"\n",
    "value_counts = df[\"NObeyesdad\"].value_counts()\n",
    "\n",
    "# Membuat grafik batang dengan menggunakan fungsi plot()\n",
    "\n",
    "value_counts.plot(kind=\"bar\", color = 'Blue')\n",
    "\n",
    "# Annotate data points with labels\n",
    "x = jo[\"jenis\"]\n",
    "y = jo[\"jumlah\"]\n",
    "\n",
    "plt.plot(x,y,marker='o')\n",
    "\n",
    "# Menambahkan data label\n",
    "for i, value in enumerate(y):\n",
    "    plt.text(i, value + 0.1, str(value), ha='center')\n",
    "\n",
    "# Memberikan judul pada grafik\n",
    "plt.title(\"Perbandingan nilai pada kolom Obesitas\")\n",
    "\n",
    "# Memberikan label sumbu x\n",
    "plt.xlabel(\"Jenis Obesitas\")\n",
    "\n",
    "# Memberikan label sumbu y\n",
    "plt.ylabel(\"Jumlah\")\n",
    "\n",
    "# Menampilkan jumlah kemunculan setiap nilai pada kolom \"Jenis Obesitas\"\n",
    "print(value_counts)\n",
    "\n",
    "# Memunculkan Grafik \n",
    "plt.show()\n"
   ]
  },
  {
   "cell_type": "markdown",
   "id": "9ad2e3a5-527b-482b-bb0f-53f7f6fea399",
   "metadata": {
    "jp-MarkdownHeadingCollapsed": true
   },
   "source": [
    "## 5.1 Kesimpulan"
   ]
  },
  {
   "cell_type": "markdown",
   "id": "fde5cf0e-df61-4a84-bf3d-eeab01de1500",
   "metadata": {},
   "source": [
    "dari grafik batang diatas dapat disimpulkan bahwa jenis obesitas yang paling terjadi adalah Obesity_TypeI sebanyak 351 Kejadian, dan jenis obesitas yang paling rendah terjadi adalah insufficient_weight dengan jumlah kejadian sebanyak 272 kejadian.\n",
    "\n",
    "Kolom **\"NObeyesdad\"** atau kolom **Jenis Obesitas** akan dijadikan kolom target, dan dari grafik diatas dapat terlihat bahwa kolom ini memiliki kelas yang sebarannya tidak merat, yaitu salah satu kelas lebih sedikit dibandingkan dengan kelas lainnya, hal ini dapat dipertimbangkan apakah perlu dilakukan balancing/resampling untuk data ini."
   ]
  },
  {
   "cell_type": "markdown",
   "id": "70b96650-6168-420e-a0d3-6ce11f591548",
   "metadata": {},
   "source": [
    "## 5.2 Barplot"
   ]
  },
  {
   "cell_type": "markdown",
   "id": "537a793a-575e-46fa-839c-b664f3fdf03a",
   "metadata": {},
   "source": [
    "Untuk menampilkan hubungan antara kolom penyebab/independen dengan kolom target/dependen, dapat dilihat hubungannya melalui grafik batang yang akan ditampilkan "
   ]
  },
  {
   "cell_type": "code",
   "execution_count": 44,
   "id": "e7e48e35-ba8d-47df-be47-895e7a256470",
   "metadata": {},
   "outputs": [
    {
     "data": {
      "text/html": [
       "<div>\n",
       "<style scoped>\n",
       "    .dataframe tbody tr th:only-of-type {\n",
       "        vertical-align: middle;\n",
       "    }\n",
       "\n",
       "    .dataframe tbody tr th {\n",
       "        vertical-align: top;\n",
       "    }\n",
       "\n",
       "    .dataframe thead th {\n",
       "        text-align: right;\n",
       "    }\n",
       "</style>\n",
       "<table border=\"1\" class=\"dataframe\">\n",
       "  <thead>\n",
       "    <tr style=\"text-align: center;\">\n",
       "      <th></th>\n",
       "      <th>Nomor Kolom</th>\n",
       "      <th>Nama Kolom</th>\n",
       "      <th>Penjelasan Kolom</th>\n",
       "    </tr>\n",
       "  </thead>\n",
       "  <tbody>\n",
       "    <tr>\n",
       "      <th>0</th>\n",
       "      <td>1</td>\n",
       "      <td>Gender</td>\n",
       "      <td>Laki-laki atau perempuan</td>\n",
       "    </tr>\n",
       "    <tr>\n",
       "      <th>1</th>\n",
       "      <td>2</td>\n",
       "      <td>Age</td>\n",
       "      <td>Usia dalam tahun</td>\n",
       "    </tr>\n",
       "    <tr>\n",
       "      <th>2</th>\n",
       "      <td>3</td>\n",
       "      <td>Height</td>\n",
       "      <td>Tinggi dalam meter</td>\n",
       "    </tr>\n",
       "    <tr>\n",
       "      <th>3</th>\n",
       "      <td>4</td>\n",
       "      <td>Weight</td>\n",
       "      <td>Bobot/Massa dalam Kilogram</td>\n",
       "    </tr>\n",
       "    <tr>\n",
       "      <th>4</th>\n",
       "      <td>5</td>\n",
       "      <td>family_history_with_overweight</td>\n",
       "      <td>Apakah orang tersebut memiliki riwayat dengan berat badan berlebih(ya/tidak)</td>\n",
       "    </tr>\n",
       "    <tr>\n",
       "      <th>5</th>\n",
       "      <td>6</td>\n",
       "      <td>FAVC</td>\n",
       "      <td>Apakah seseorang sering mengkonsumsi makanan tinggi kalori (ya/tidak)</td>\n",
       "    </tr>\n",
       "    <tr>\n",
       "      <th>6</th>\n",
       "      <td>7</td>\n",
       "      <td>FCVC</td>\n",
       "      <td>Frekuensi mengkonsumsi buah-buahan (skala 1.sd. 3)</td>\n",
       "    </tr>\n",
       "    <tr>\n",
       "      <th>7</th>\n",
       "      <td>8</td>\n",
       "      <td>NCP</td>\n",
       "      <td>Jumlah makanan utama per hari</td>\n",
       "    </tr>\n",
       "    <tr>\n",
       "      <th>8</th>\n",
       "      <td>9</td>\n",
       "      <td>CAEC</td>\n",
       "      <td>Frekuensi mengkonsumsi cemilan diantara waktu makan (Tidak pernah, jarang, sering, selalu)</td>\n",
       "    </tr>\n",
       "    <tr>\n",
       "      <th>9</th>\n",
       "      <td>10</td>\n",
       "      <td>SMOKE</td>\n",
       "      <td>Apakah seseorang tersebut adalah perokok (ya/tidak)</td>\n",
       "    </tr>\n",
       "    <tr>\n",
       "      <th>10</th>\n",
       "      <td>11</td>\n",
       "      <td>CH2O</td>\n",
       "      <td>Konsumsi minum perhari (skala 1 s.d 3)</td>\n",
       "    </tr>\n",
       "    <tr>\n",
       "      <th>11</th>\n",
       "      <td>12</td>\n",
       "      <td>SCC</td>\n",
       "      <td>Apakah seseorang melakukan kontrol terhadap kalori harian(ya/tidak)</td>\n",
       "    </tr>\n",
       "    <tr>\n",
       "      <th>12</th>\n",
       "      <td>13</td>\n",
       "      <td>FAF</td>\n",
       "      <td>Frekuensi melakukan aktivitas fisik (skala 0 s.d 3)</td>\n",
       "    </tr>\n",
       "    <tr>\n",
       "      <th>13</th>\n",
       "      <td>14</td>\n",
       "      <td>TUE</td>\n",
       "      <td>Waktu dihabiskan menggunakan teknologi (skala 0 s.d 3)</td>\n",
       "    </tr>\n",
       "    <tr>\n",
       "      <th>14</th>\n",
       "      <td>15</td>\n",
       "      <td>CALC</td>\n",
       "      <td>Frekuensi mengkonsumsi alkohol (Tidak pernah, Jarang, Sering, Selalu)</td>\n",
       "    </tr>\n",
       "    <tr>\n",
       "      <th>15</th>\n",
       "      <td>16</td>\n",
       "      <td>MTRANS</td>\n",
       "      <td>Moda utama yang digunakan untuk transportasi (Mobil, Sepeda, Sepeda Motor, Transportasi umum, Jalan kaki)</td>\n",
       "    </tr>\n",
       "    <tr>\n",
       "      <th>16</th>\n",
       "      <td>17</td>\n",
       "      <td>NObeyesdad</td>\n",
       "      <td>Level Obesitas(Insufficient Weight, Normal Weight, Overweight Level I, Overweight Level II, Obesity Type I, Obesity Type II, Obesity Type III)</td>\n",
       "    </tr>\n",
       "  </tbody>\n",
       "</table>\n",
       "</div>"
      ],
      "text/plain": [
       "    Nomor Kolom            Nama Kolom            \\\n",
       "0        1                               Gender   \n",
       "1        2                                  Age   \n",
       "2        3                               Height   \n",
       "3        4                               Weight   \n",
       "4        5       family_history_with_overweight   \n",
       "5        6                                 FAVC   \n",
       "6        7                                 FCVC   \n",
       "7        8                                  NCP   \n",
       "8        9                                 CAEC   \n",
       "9       10                                SMOKE   \n",
       "10      11                                 CH2O   \n",
       "11      12                                  SCC   \n",
       "12      13                                  FAF   \n",
       "13      14                                  TUE   \n",
       "14      15                                 CALC   \n",
       "15      16                               MTRANS   \n",
       "16      17                           NObeyesdad   \n",
       "\n",
       "                                                                   Penjelasan Kolom                                                                 \n",
       "0                                                                                                                         Laki-laki atau perempuan  \n",
       "1                                                                                                                                 Usia dalam tahun  \n",
       "2                                                                                                                               Tinggi dalam meter  \n",
       "3                                                                                                                       Bobot/Massa dalam Kilogram  \n",
       "4                                                                     Apakah orang tersebut memiliki riwayat dengan berat badan berlebih(ya/tidak)  \n",
       "5                                                                            Apakah seseorang sering mengkonsumsi makanan tinggi kalori (ya/tidak)  \n",
       "6                                                                                               Frekuensi mengkonsumsi buah-buahan (skala 1.sd. 3)  \n",
       "7                                                                                                                    Jumlah makanan utama per hari  \n",
       "8                                                       Frekuensi mengkonsumsi cemilan diantara waktu makan (Tidak pernah, jarang, sering, selalu)  \n",
       "9                                                                                              Apakah seseorang tersebut adalah perokok (ya/tidak)  \n",
       "10                                                                                                          Konsumsi minum perhari (skala 1 s.d 3)  \n",
       "11                                                                             Apakah seseorang melakukan kontrol terhadap kalori harian(ya/tidak)  \n",
       "12                                                                                             Frekuensi melakukan aktivitas fisik (skala 0 s.d 3)  \n",
       "13                                                                                          Waktu dihabiskan menggunakan teknologi (skala 0 s.d 3)  \n",
       "14                                                                           Frekuensi mengkonsumsi alkohol (Tidak pernah, Jarang, Sering, Selalu)  \n",
       "15                                       Moda utama yang digunakan untuk transportasi (Mobil, Sepeda, Sepeda Motor, Transportasi umum, Jalan kaki)  \n",
       "16  Level Obesitas(Insufficient Weight, Normal Weight, Overweight Level I, Overweight Level II, Obesity Type I, Obesity Type II, Obesity Type III)  "
      ]
     },
     "execution_count": 44,
     "metadata": {},
     "output_type": "execute_result"
    }
   ],
   "source": [
    "penjelasan"
   ]
  },
  {
   "cell_type": "markdown",
   "id": "d6d02487-ef7a-4dfb-88b7-225f0836dc46",
   "metadata": {
    "jp-MarkdownHeadingCollapsed": true
   },
   "source": [
    "### 5.2.a membandingkan kolom \"Jenis Obesitas\" dengan \"Jenis Kelamin\""
   ]
  },
  {
   "cell_type": "code",
   "execution_count": 52,
   "id": "1f845076-b306-431f-99a5-d53fcf567f5f",
   "metadata": {},
   "outputs": [
    {
     "data": {
      "text/html": [
       "<div>\n",
       "<style scoped>\n",
       "    .dataframe tbody tr th:only-of-type {\n",
       "        vertical-align: middle;\n",
       "    }\n",
       "\n",
       "    .dataframe tbody tr th {\n",
       "        vertical-align: top;\n",
       "    }\n",
       "\n",
       "    .dataframe thead th {\n",
       "        text-align: right;\n",
       "    }\n",
       "</style>\n",
       "<table border=\"1\" class=\"dataframe\">\n",
       "  <thead>\n",
       "    <tr style=\"text-align: center;\">\n",
       "      <th></th>\n",
       "      <th>NObeyesdad</th>\n",
       "      <th>Gender</th>\n",
       "    </tr>\n",
       "  </thead>\n",
       "  <tbody>\n",
       "    <tr>\n",
       "      <th>0</th>\n",
       "      <td>Normal_Weight</td>\n",
       "      <td>Female</td>\n",
       "    </tr>\n",
       "    <tr>\n",
       "      <th>1</th>\n",
       "      <td>Normal_Weight</td>\n",
       "      <td>Female</td>\n",
       "    </tr>\n",
       "    <tr>\n",
       "      <th>2</th>\n",
       "      <td>Normal_Weight</td>\n",
       "      <td>Male</td>\n",
       "    </tr>\n",
       "    <tr>\n",
       "      <th>3</th>\n",
       "      <td>Overweight_Level_I</td>\n",
       "      <td>Male</td>\n",
       "    </tr>\n",
       "    <tr>\n",
       "      <th>4</th>\n",
       "      <td>Overweight_Level_II</td>\n",
       "      <td>Male</td>\n",
       "    </tr>\n",
       "    <tr>\n",
       "      <th>...</th>\n",
       "      <td>...</td>\n",
       "      <td>...</td>\n",
       "    </tr>\n",
       "    <tr>\n",
       "      <th>2106</th>\n",
       "      <td>Obesity_Type_III</td>\n",
       "      <td>Female</td>\n",
       "    </tr>\n",
       "    <tr>\n",
       "      <th>2107</th>\n",
       "      <td>Obesity_Type_III</td>\n",
       "      <td>Female</td>\n",
       "    </tr>\n",
       "    <tr>\n",
       "      <th>2108</th>\n",
       "      <td>Obesity_Type_III</td>\n",
       "      <td>Female</td>\n",
       "    </tr>\n",
       "    <tr>\n",
       "      <th>2109</th>\n",
       "      <td>Obesity_Type_III</td>\n",
       "      <td>Female</td>\n",
       "    </tr>\n",
       "    <tr>\n",
       "      <th>2110</th>\n",
       "      <td>Obesity_Type_III</td>\n",
       "      <td>Female</td>\n",
       "    </tr>\n",
       "  </tbody>\n",
       "</table>\n",
       "<p>2111 rows × 2 columns</p>\n",
       "</div>"
      ],
      "text/plain": [
       "          NObeyesdad       Gender\n",
       "0           Normal_Weight  Female\n",
       "1           Normal_Weight  Female\n",
       "2           Normal_Weight    Male\n",
       "3      Overweight_Level_I    Male\n",
       "4     Overweight_Level_II    Male\n",
       "...                   ...     ...\n",
       "2106     Obesity_Type_III  Female\n",
       "2107     Obesity_Type_III  Female\n",
       "2108     Obesity_Type_III  Female\n",
       "2109     Obesity_Type_III  Female\n",
       "2110     Obesity_Type_III  Female\n",
       "\n",
       "[2111 rows x 2 columns]"
      ]
     },
     "execution_count": 52,
     "metadata": {},
     "output_type": "execute_result"
    }
   ],
   "source": [
    "df[['NObeyesdad','Gender']]"
   ]
  },
  {
   "cell_type": "code",
   "execution_count": 56,
   "id": "2202c12c-f321-4212-aed5-697595d4b83e",
   "metadata": {},
   "outputs": [
    {
     "data": {
      "image/png": "[encoded data removed]",
      "text/plain": [
       "<Figure size 500x500 with 1 Axes>"
      ]
     },
     "metadata": {},
     "output_type": "display_data"
    }
   ],
   "source": [
    "# Memilih kolom 'Gender' dan 'Jenis Obesitas' dari DataFrame 'df'\n",
    "df[['NObeyesdad','Gender']]\n",
    "\n",
    "# Membuat grafik batang menggunakan seaborn catplot dengan menggunakan kolom 'Jenis Obesitas' sebagai sumbu x dan 'jenis kelamin' sebagai sumbu y\n",
    "sns.catplot(data=df, x='NObeyesdad', y= 'Gender', hue='NObeyesdad', kind='bar')\n",
    "\n",
    "# Mengatur label pada sumbu x\n",
    "plt.xticks(rotation=90, ticks=(0,1,2,3,4,5,6), labels= np.array(df[\"NObeyesdad\"].unique()))\n",
    "plt.show()"
   ]
  },
  {
   "cell_type": "markdown",
   "id": "4f1e109d-1ebc-42ac-8731-504b83794c78",
   "metadata": {},
   "source": [
    "**Kesimpulan**\n",
    "\n",
    "Dari barplot di atas, dapat disimpulkan bahwa resiko obesitas akan cenderung meningkat kepada orang yang berjenis kelamin laki-laki dibandingkan dengan perempuan."
   ]
  },
  {
   "cell_type": "markdown",
   "id": "e42d1c0f-f423-4237-a803-1c1a180b2d8b",
   "metadata": {
    "jp-MarkdownHeadingCollapsed": true
   },
   "source": [
    "### 5.2.b membandingkan kolom \"Jenis Obesitas\" dengan \"Usia\""
   ]
  },
  {
   "cell_type": "code",
   "execution_count": 20,
   "id": "4288c7ff-cb38-4cb5-ae5d-6ec9d99348e4",
   "metadata": {},
   "outputs": [
    {
     "data": {
      "text/plain": [
       "array(['Normal_Weight', 'Overweight_Level_I', 'Overweight_Level_II',\n",
       "       'Obesity_Type_I', 'Insufficient_Weight', 'Obesity_Type_II',\n",
       "       'Obesity_Type_III'], dtype=object)"
      ]
     },
     "execution_count": 20,
     "metadata": {},
     "output_type": "execute_result"
    }
   ],
   "source": [
    "df[\"NObeyesdad\"].unique()"
   ]
  },
  {
   "cell_type": "code",
   "execution_count": 21,
   "id": "0c1fadf9-9bc0-493d-b26d-b2b446fa612c",
   "metadata": {},
   "outputs": [
    {
     "data": {
      "image/png": "[encoded data removed]",
      "text/plain": [
       "<Figure size 500x500 with 1 Axes>"
      ]
     },
     "metadata": {},
     "output_type": "display_data"
    }
   ],
   "source": [
    "# Memilih kolom 'Age' dan 'Jenis Obesitas' dari DataFrame 'df'\n",
    "df[['NObeyesdad','Age']]\n",
    "\n",
    "# Membuat grafik batang menggunakan seaborn catplot dengan menggunakan kolom 'Jenis Obesitas' sebagai sumbu x dan 'umur' sebagai sumbu y\n",
    "sns.catplot(data=df, x='NObeyesdad', y= 'Age', hue='NObeyesdad', kind='bar')\n",
    "\n",
    "# Mengatur label pada sumbu x\n",
    "plt.xticks(rotation=90, ticks=(0,1,2,3,4,5,6), labels= np.array(df[\"NObeyesdad\"].unique()))\n",
    "plt.show()"
   ]
  },
  {
   "cell_type": "markdown",
   "id": "0ee508ab-534c-4374-9ccb-0785dbdd8caf",
   "metadata": {},
   "source": [
    "**Kesimpulan**\n",
    "\n",
    "Dari bar diatas dapat dilihat bahwa kecenderungan usia yang semakin meningkat, akan semakin meningkatkan resiko obesitas pada level yang lebih tinggi."
   ]
  },
  {
   "cell_type": "markdown",
   "id": "e6fcaece-45cd-4cb2-b5d6-f51abe0bc378",
   "metadata": {
    "jp-MarkdownHeadingCollapsed": true
   },
   "source": [
    "### 5.2.c membandingkan kolom \"Jenis Obesitas\" dengan \"Tinggi\""
   ]
  },
  {
   "cell_type": "code",
   "execution_count": 22,
   "id": "e864d905-d4b3-48e2-809d-a4266fd2d347",
   "metadata": {},
   "outputs": [
    {
     "data": {
      "text/plain": [
       "array(['Normal_Weight', 'Overweight_Level_I', 'Overweight_Level_II',\n",
       "       'Obesity_Type_I', 'Insufficient_Weight', 'Obesity_Type_II',\n",
       "       'Obesity_Type_III'], dtype=object)"
      ]
     },
     "execution_count": 22,
     "metadata": {},
     "output_type": "execute_result"
    }
   ],
   "source": [
    "df[\"NObeyesdad\"].unique()"
   ]
  },
  {
   "cell_type": "code",
   "execution_count": 23,
   "id": "f3d3c49b-42ec-404b-9ca4-ad86563da31e",
   "metadata": {},
   "outputs": [
    {
     "data": {
      "image/png": "[encoded data removed]",
      "text/plain": [
       "<Figure size 500x500 with 1 Axes>"
      ]
     },
     "metadata": {},
     "output_type": "display_data"
    }
   ],
   "source": [
    "# Memilih kolom 'Height' dan 'Jenis Obesitas' dari DataFrame 'df'\n",
    "df[['NObeyesdad','Height']]\n",
    "\n",
    "# Membuat grafik batang menggunakan seaborn catplot dengan menggunakan kolom 'Jenis Obesitas' sebagai sumbu x dan 'tinggi' sebagai sumbu y\n",
    "sns.catplot(data=df, x='NObeyesdad', y= 'Height', hue='NObeyesdad', kind='bar')\n",
    "\n",
    "# Mengatur label pada sumbu x\n",
    "plt.xticks(rotation=90, ticks=(0,1,2,3,4,5,6), labels= np.array(df[\"NObeyesdad\"].unique()))\n",
    "plt.show()"
   ]
  },
  {
   "cell_type": "markdown",
   "id": "49aa3f66-ed8c-4ad1-aaed-12da7b08a600",
   "metadata": {},
   "source": [
    "**Kesimpulan**\n",
    "\n",
    "Dari gambar diatas dapat diketahui bahwa sebaran jenis obesitas hampir tidak berpengaruh terhadap postur tinggi badan, hanya saja seseorang dengan tinggi 175 cm lebih rawan untuk terkena Obesitas Tipe II"
   ]
  },
  {
   "cell_type": "markdown",
   "id": "804f5697-40d1-4773-9b3c-be8b4710acac",
   "metadata": {
    "jp-MarkdownHeadingCollapsed": true
   },
   "source": [
    "### 5.2.d membandingkan kolom \"Jenis Obesitas\" dengan \"Berat badan\""
   ]
  },
  {
   "cell_type": "code",
   "execution_count": 24,
   "id": "b6e487c4-eeeb-4430-8786-c600a3987dd1",
   "metadata": {},
   "outputs": [
    {
     "data": {
      "text/plain": [
       "array(['Normal_Weight', 'Overweight_Level_I', 'Overweight_Level_II',\n",
       "       'Obesity_Type_I', 'Insufficient_Weight', 'Obesity_Type_II',\n",
       "       'Obesity_Type_III'], dtype=object)"
      ]
     },
     "execution_count": 24,
     "metadata": {},
     "output_type": "execute_result"
    }
   ],
   "source": [
    "df[\"NObeyesdad\"].unique()"
   ]
  },
  {
   "cell_type": "code",
   "execution_count": 25,
   "id": "4a720c55-843e-4d6b-a265-30cf49097355",
   "metadata": {},
   "outputs": [
    {
     "data": {
      "image/png": "[encoded data removed]",
      "text/plain": [
       "<Figure size 500x500 with 1 Axes>"
      ]
     },
     "metadata": {},
     "output_type": "display_data"
    }
   ],
   "source": [
    "# Memilih kolom 'Weight' dan 'Jenis Obesitas' dari DataFrame 'df'\n",
    "df[['NObeyesdad','Weight']]\n",
    "\n",
    "# Membuat grafik batang menggunakan seaborn catplot dengan menggunakan kolom 'Jenis Obesitas' sebagai sumbu x dan 'berat badan' sebagai sumbu y\n",
    "sns.catplot(data=df, x='NObeyesdad', y= 'Weight', hue='NObeyesdad', kind='bar')\n",
    "\n",
    "# Mengatur label pada sumbu x\n",
    "plt.xticks(rotation=90, ticks=(0,1,2,3,4,5,6), labels= np.array(df[\"NObeyesdad\"].unique()))\n",
    "plt.show()"
   ]
  },
  {
   "cell_type": "markdown",
   "id": "d4051baf-4e0a-4123-afbe-e68492aab942",
   "metadata": {},
   "source": [
    "**Kesimpulan**\n",
    "\n",
    "Dapat terlihat sangat jelas bahwa tingkat keparahan obesitas akan semakin meningkat seiring dengan peningkatan berat badan seseorang."
   ]
  },
  {
   "cell_type": "markdown",
   "id": "4881a069-113e-404a-b30e-a4930b033983",
   "metadata": {
    "jp-MarkdownHeadingCollapsed": true
   },
   "source": [
    "### 5.2.e membandingkan kolom \"Jenis Obesitas\" dengan \"Riwayat obesitas\""
   ]
  },
  {
   "cell_type": "code",
   "execution_count": 26,
   "id": "72ff2f54-7605-43dd-a2b3-16693fc1ffcd",
   "metadata": {},
   "outputs": [
    {
     "data": {
      "text/plain": [
       "array(['Normal_Weight', 'Overweight_Level_I', 'Overweight_Level_II',\n",
       "       'Obesity_Type_I', 'Insufficient_Weight', 'Obesity_Type_II',\n",
       "       'Obesity_Type_III'], dtype=object)"
      ]
     },
     "execution_count": 26,
     "metadata": {},
     "output_type": "execute_result"
    }
   ],
   "source": [
    "df[\"NObeyesdad\"].unique()"
   ]
  },
  {
   "cell_type": "code",
   "execution_count": 27,
   "id": "16e7c237-cc00-43a5-90e7-c7b7c7f3289a",
   "metadata": {},
   "outputs": [
    {
     "data": {
      "image/png": "[encoded data removed]",
      "text/plain": [
       "<Figure size 500x500 with 1 Axes>"
      ]
     },
     "metadata": {},
     "output_type": "display_data"
    }
   ],
   "source": [
    "# Memilih kolom 'family_history_with_overweight' dan 'Jenis Obesitas' dari DataFrame 'df'\n",
    "df[['family_history_with_overweight','NObeyesdad']]\n",
    "\n",
    "# Membuat grafik batang menggunakan seaborn catplot dengan menggunakan kolom 'Jenis Obesitas' sebagai sumbu x dan 'Riwayat obesitas' sebagai sumbu y\n",
    "sns.catplot(data=df, x='NObeyesdad', y= 'family_history_with_overweight', hue='NObeyesdad', kind='bar')\n",
    "\n",
    "# Mengatur label pada sumbu x\n",
    "plt.xticks(rotation=90, ticks=(0,1,2,3,4,5,6), labels= np.array(df[\"NObeyesdad\"].unique()))\n",
    "plt.show()"
   ]
  },
  {
   "cell_type": "markdown",
   "id": "1d90a2f2-6435-44d3-8b33-96f7399eb942",
   "metadata": {},
   "source": [
    "**Kesimpulan**\n",
    "\n",
    "Dari chart di atas dapat terlihat bahwa sumbu y yang semakin menuju titik 0 menandakan bahwa tidak adanya riwayat keluarga yang memiliki diabetes. Hal itu menunjukan juga bahwa orang yang tidak memiliki riwayat obesitas keluarga, memiliki kecenderungan lebih tinggi terhadap berat badan normal ataupun berat badan kurang."
   ]
  },
  {
   "cell_type": "markdown",
   "id": "6efbb78f-1c88-4d5c-8a79-9edca904a487",
   "metadata": {
    "jp-MarkdownHeadingCollapsed": true
   },
   "source": [
    "### 5.2.f membandingkan kolom \"Jenis Obesitas\" dengan \"Konsumsi Makan Kalori tinggi\""
   ]
  },
  {
   "cell_type": "code",
   "execution_count": 28,
   "id": "fb023def-4417-4546-b553-7a58a1d0490e",
   "metadata": {},
   "outputs": [
    {
     "data": {
      "text/plain": [
       "array(['Normal_Weight', 'Overweight_Level_I', 'Overweight_Level_II',\n",
       "       'Obesity_Type_I', 'Insufficient_Weight', 'Obesity_Type_II',\n",
       "       'Obesity_Type_III'], dtype=object)"
      ]
     },
     "execution_count": 28,
     "metadata": {},
     "output_type": "execute_result"
    }
   ],
   "source": [
    "df[\"NObeyesdad\"].unique()"
   ]
  },
  {
   "cell_type": "code",
   "execution_count": 29,
   "id": "412713d5-fef3-4c18-abef-287a3064d66d",
   "metadata": {},
   "outputs": [
    {
     "data": {
      "image/png": "[encoded data removed]",
      "text/plain": [
       "<Figure size 500x500 with 1 Axes>"
      ]
     },
     "metadata": {},
     "output_type": "display_data"
    }
   ],
   "source": [
    "# Memilih kolom 'FAVC' dan 'Jenis Obesitas' dari DataFrame 'df'\n",
    "df[['NObeyesdad','FAVC']]\n",
    "\n",
    "# Membuat grafik batang menggunakan seaborn catplot dengan menggunakan kolom 'Jenis Obesitas' sebagai sumbu x dan 'FAVC' sebagai sumbu y\n",
    "sns.catplot(data=df, x='NObeyesdad', y= 'FAVC', hue='NObeyesdad', kind='bar')\n",
    "\n",
    "# Mengatur label pada sumbu x\n",
    "plt.xticks(rotation=90, ticks=(0,1,2,3,4,5,6), labels= np.array(df[\"NObeyesdad\"].unique()))\n",
    "plt.show()"
   ]
  },
  {
   "cell_type": "markdown",
   "id": "4f5d8d0a-5d6e-4566-8bad-742600223a92",
   "metadata": {},
   "source": [
    "**Kesimpulan**\n",
    "\n",
    "Berdasarkan gambar diatas juga dapat disimpulkan bahwa potensi tertinggi seseorang untuk terkena obesitas semakin meningkat apabila orang tersebut gemar mengkonsumsi makanan yang berkalori tinggi."
   ]
  },
  {
   "cell_type": "markdown",
   "id": "e2c5cd41-53f4-467c-8f0b-20154da51e7d",
   "metadata": {
    "jp-MarkdownHeadingCollapsed": true
   },
   "source": [
    "### 5.2.g membandingkan kolom \"Jenis Obesitas\" dengan \"Konsumsi buah-buahan\""
   ]
  },
  {
   "cell_type": "code",
   "execution_count": 30,
   "id": "1469f9fc-447d-4c77-9a59-6121eb980b1a",
   "metadata": {},
   "outputs": [
    {
     "data": {
      "text/plain": [
       "array(['Normal_Weight', 'Overweight_Level_I', 'Overweight_Level_II',\n",
       "       'Obesity_Type_I', 'Insufficient_Weight', 'Obesity_Type_II',\n",
       "       'Obesity_Type_III'], dtype=object)"
      ]
     },
     "execution_count": 30,
     "metadata": {},
     "output_type": "execute_result"
    }
   ],
   "source": [
    "df[\"NObeyesdad\"].unique()"
   ]
  },
  {
   "cell_type": "code",
   "execution_count": 31,
   "id": "faeeaaa6-a842-4df1-932e-96411d6e4acc",
   "metadata": {},
   "outputs": [
    {
     "data": {
      "image/png": "[encoded data removed]",
      "text/plain": [
       "<Figure size 500x500 with 1 Axes>"
      ]
     },
     "metadata": {},
     "output_type": "display_data"
    }
   ],
   "source": [
    "# Memilih kolom 'FCVC' dan 'Jenis Obesitas' dari DataFrame 'df'\n",
    "df[['NObeyesdad','FCVC']]\n",
    "\n",
    "# Membuat grafik batang menggunakan seaborn catplot dengan menggunakan kolom 'Jenis Obesitas' sebagai sumbu x dan 'FCVC' sebagai sumbu y\n",
    "sns.catplot(data=df, x='NObeyesdad', y= 'FCVC', hue='NObeyesdad', kind='bar')\n",
    "\n",
    "# Mengatur label pada sumbu x\n",
    "plt.xticks(rotation=90, ticks=(0,1,2,3,4,5,6), labels= np.array(df[\"NObeyesdad\"].unique()))\n",
    "plt.show()"
   ]
  },
  {
   "cell_type": "markdown",
   "id": "0ce9882a-0edb-4fb4-9c21-470c6bb9c844",
   "metadata": {},
   "source": [
    "**Kesimpulan**\n",
    "\n",
    "Berdasarkan grafik dapat terlihat bahwa kemungkinan orang yang mengkonsumsi buah-buahan lebih banyak akan menurunkan resiko untuk mendapatkan obesitas, namun begitu ada sedikit anomali pada orang dengan obesitas tipe 3 yang justru meningkatkan peluang obesitas sedangkan konsumsi buah-buahan yang dilakukan berada pada angka yang cukup tinggi. Oleh karena itu perlu dilakukan pengecekan lebih lanjut untuk mendeteksi apakah ada outlier/data yang tidak valid."
   ]
  },
  {
   "cell_type": "markdown",
   "id": "590557c1-1dde-4236-bfd4-ea705284c28d",
   "metadata": {
    "jp-MarkdownHeadingCollapsed": true
   },
   "source": [
    "### 5.2.h membandingkan kolom \"Jenis Obesitas\" dengan \"Jumlah makanan utama per hari\""
   ]
  },
  {
   "cell_type": "code",
   "execution_count": 32,
   "id": "8c255859-db2e-44e3-ae12-a19b646c3faa",
   "metadata": {},
   "outputs": [
    {
     "data": {
      "text/plain": [
       "array(['Normal_Weight', 'Overweight_Level_I', 'Overweight_Level_II',\n",
       "       'Obesity_Type_I', 'Insufficient_Weight', 'Obesity_Type_II',\n",
       "       'Obesity_Type_III'], dtype=object)"
      ]
     },
     "execution_count": 32,
     "metadata": {},
     "output_type": "execute_result"
    }
   ],
   "source": [
    "df[\"NObeyesdad\"].unique()"
   ]
  },
  {
   "cell_type": "code",
   "execution_count": 33,
   "id": "92d7e81a-1fbe-4d2e-861f-579fcde90f5b",
   "metadata": {},
   "outputs": [
    {
     "data": {
      "image/png": "[encoded data removed]",
      "text/plain": [
       "<Figure size 500x500 with 1 Axes>"
      ]
     },
     "metadata": {},
     "output_type": "display_data"
    }
   ],
   "source": [
    "# Memilih kolom 'NCP' dan 'Jenis Obesitas' dari DataFrame 'df'\n",
    "df[['NObeyesdad','NCP']]\n",
    "\n",
    "# Membuat grafik batang menggunakan seaborn catplot dengan menggunakan kolom 'Jenis Obesitas' sebagai sumbu x dan 'NCP' sebagai sumbu y\n",
    "sns.catplot(data=df, x='NObeyesdad', y= 'NCP', hue='NObeyesdad', kind='bar')\n",
    "\n",
    "# Mengatur label pada sumbu x\n",
    "plt.xticks(rotation=90, ticks=(0,1,2,3,4,5,6), labels= np.array(df[\"NObeyesdad\"].unique()))\n",
    "plt.show()"
   ]
  },
  {
   "cell_type": "markdown",
   "id": "19b409f8-778f-48d5-96ff-0dc4818bad56",
   "metadata": {},
   "source": [
    "**Kesimpulan**\n",
    "\n",
    "Data diatas menunjukkan bahwa jumlah makan utama per hari meningkatkan resiko pada tingkat obesitas yang lebih tinggi yang berlaku pada orang yang berstatus obesitas, tidak berlaku bagi orang dengan berat badan normal maupun berat badan kurang."
   ]
  },
  {
   "cell_type": "markdown",
   "id": "11d1d9f3-818c-49a2-b917-77da30c4e15b",
   "metadata": {
    "jp-MarkdownHeadingCollapsed": true
   },
   "source": [
    "### 5.2.i membandingkan kolom \"Jenis Obesitas\" dengan \"Frekuensi cemilan diantara makan utama\""
   ]
  },
  {
   "cell_type": "code",
   "execution_count": 34,
   "id": "0bbc445b-2ad8-4f59-97cd-51471d44f483",
   "metadata": {},
   "outputs": [
    {
     "data": {
      "text/plain": [
       "array(['Normal_Weight', 'Overweight_Level_I', 'Overweight_Level_II',\n",
       "       'Obesity_Type_I', 'Insufficient_Weight', 'Obesity_Type_II',\n",
       "       'Obesity_Type_III'], dtype=object)"
      ]
     },
     "execution_count": 34,
     "metadata": {},
     "output_type": "execute_result"
    }
   ],
   "source": [
    "df[\"NObeyesdad\"].unique()"
   ]
  },
  {
   "cell_type": "code",
   "execution_count": 35,
   "id": "3f58c06a-cf07-4440-bdab-6dc2bffd661f",
   "metadata": {},
   "outputs": [
    {
     "data": {
      "image/png": "[encoded data removed]",
      "text/plain": [
       "<Figure size 500x500 with 1 Axes>"
      ]
     },
     "metadata": {},
     "output_type": "display_data"
    }
   ],
   "source": [
    "# Memilih kolom 'CAEC' dan 'Jenis Obesitas' dari DataFrame 'df'\n",
    "df[['NObeyesdad','CAEC']]\n",
    "\n",
    "# Membuat grafik batang menggunakan seaborn catplot dengan menggunakan kolom 'Jenis Obesitas' sebagai sumbu x dan 'CAEC' sebagai sumbu y\n",
    "sns.catplot(data=df, x='NObeyesdad', y= 'CAEC', hue='NObeyesdad', kind='bar')\n",
    "\n",
    "# Mengatur label pada sumbu x\n",
    "plt.xticks(rotation=90, ticks=(0,1,2,3,4,5,6), labels= np.array(df[\"NObeyesdad\"].unique()))\n",
    "plt.show()"
   ]
  },
  {
   "cell_type": "markdown",
   "id": "2f2eb5da-bad6-4939-802c-6d8b8594d551",
   "metadata": {},
   "source": [
    "**Kesimpulan**\n",
    "\n",
    "Dari data diatas terlihat bahwa frekuensi cemilan diantara makan utama akan meningkatkan resiko obesitas pada tingkat yang lebih tinggi\n"
   ]
  },
  {
   "cell_type": "markdown",
   "id": "30e287af-3b28-4495-8d2b-90f6f8f7199c",
   "metadata": {
    "jp-MarkdownHeadingCollapsed": true
   },
   "source": [
    "### 5.2.j membandingkan kolom \"Jenis Obesitas\" dengan \"Konsumsi Rokok\""
   ]
  },
  {
   "cell_type": "code",
   "execution_count": 36,
   "id": "4d262cbe-b707-4101-923f-fca33393dfe7",
   "metadata": {},
   "outputs": [
    {
     "data": {
      "text/plain": [
       "array(['Normal_Weight', 'Overweight_Level_I', 'Overweight_Level_II',\n",
       "       'Obesity_Type_I', 'Insufficient_Weight', 'Obesity_Type_II',\n",
       "       'Obesity_Type_III'], dtype=object)"
      ]
     },
     "execution_count": 36,
     "metadata": {},
     "output_type": "execute_result"
    }
   ],
   "source": [
    "df[\"NObeyesdad\"].unique()"
   ]
  },
  {
   "cell_type": "code",
   "execution_count": 37,
   "id": "ebcae2b7-1fbe-4bbb-a735-31139055e120",
   "metadata": {},
   "outputs": [
    {
     "data": {
      "image/png": "[encoded data removed]",
      "text/plain": [
       "<Figure size 500x500 with 1 Axes>"
      ]
     },
     "metadata": {},
     "output_type": "display_data"
    }
   ],
   "source": [
    "# Memilih kolom 'SMOKE' dan 'Jenis Obesitas' dari DataFrame 'df'\n",
    "df[['NObeyesdad','SMOKE']]\n",
    "\n",
    "# Membuat grafik batang menggunakan seaborn catplot dengan menggunakan kolom 'Jenis Obesitas' sebagai sumbu x dan 'SMOKE' sebagai sumbu y\n",
    "sns.catplot(data=df, x='NObeyesdad', y= 'SMOKE', hue='NObeyesdad', kind='bar')\n",
    "\n",
    "# Mengatur label pada sumbu x\n",
    "plt.xticks(rotation=90, ticks=(0,1,2,3,4,5,6), labels= np.array(df[\"NObeyesdad\"].unique()))\n",
    "plt.show()"
   ]
  },
  {
   "cell_type": "markdown",
   "id": "a7564fbd-5e78-45d1-937a-c69cbadc3dff",
   "metadata": {},
   "source": [
    "**Kesimpulan**\n",
    "\n",
    "Berdasarkan grafik diatas nampak bahwa kejadian tertinggi untuk obesitas pada perokok adalah pada obesitas tipe 2 sedangkan untuk tingkat yang lain umumnya tidak terlalu berpengaruh."
   ]
  },
  {
   "attachments": {},
   "cell_type": "markdown",
   "id": "e39c0845-b00a-4ca8-9745-d49e5c59c91e",
   "metadata": {
    "jp-MarkdownHeadingCollapsed": true
   },
   "source": [
    "### 5.2.k membandingkan kolom \"Jenis Obesitas\" dengan \"Konsumsi minum air per hari\""
   ]
  },
  {
   "cell_type": "code",
   "execution_count": 38,
   "id": "aafa0e1b-3091-4abb-b2c3-4459f63c914a",
   "metadata": {},
   "outputs": [
    {
     "data": {
      "text/plain": [
       "array(['Normal_Weight', 'Overweight_Level_I', 'Overweight_Level_II',\n",
       "       'Obesity_Type_I', 'Insufficient_Weight', 'Obesity_Type_II',\n",
       "       'Obesity_Type_III'], dtype=object)"
      ]
     },
     "execution_count": 38,
     "metadata": {},
     "output_type": "execute_result"
    }
   ],
   "source": [
    "df[\"NObeyesdad\"].unique()"
   ]
  },
  {
   "cell_type": "code",
   "execution_count": 39,
   "id": "7d03dd19-87f4-4548-9a1a-553f74573deb",
   "metadata": {},
   "outputs": [
    {
     "data": {
      "image/png": "[encoded data removed]",
      "text/plain": [
       "<Figure size 500x500 with 1 Axes>"
      ]
     },
     "metadata": {},
     "output_type": "display_data"
    }
   ],
   "source": [
    "# Memilih kolom 'CH2O' dan 'Jenis Obesitas' dari DataFrame 'df'\n",
    "df[['NObeyesdad','CH2O']]\n",
    "\n",
    "# Membuat grafik batang menggunakan seaborn catplot dengan menggunakan kolom 'Jenis Obesitas' sebagai sumbu x dan 'CH2O' sebagai sumbu y\n",
    "sns.catplot(data=df, x='NObeyesdad', y= 'CH2O', hue='NObeyesdad', kind='bar')\n",
    "\n",
    "# Mengatur label pada sumbu x\n",
    "plt.xticks(rotation=90, ticks=(0,1,2,3,4,5,6), labels= np.array(df[\"NObeyesdad\"].unique()))\n",
    "plt.show()"
   ]
  },
  {
   "cell_type": "markdown",
   "id": "0b7a9a4a-59a4-4972-89d0-79feef4417a1",
   "metadata": {},
   "source": [
    "**Kesimpulan**\n",
    "\n",
    "Frekuensi minum air pada penderita obesitas umumnya akan meningkatkan tingkat obesitas."
   ]
  },
  {
   "attachments": {},
   "cell_type": "markdown",
   "id": "b4566690-43ed-4a2c-b4ff-c28330e7dc44",
   "metadata": {},
   "source": [
    "### 5.2.l membandingkan kolom \"Jenis Obesitas\" dengan \"Kontrol kalori harian\""
   ]
  },
  {
   "cell_type": "code",
   "execution_count": 60,
   "id": "28270249-e7b3-4862-82ac-e4b43bfe81d8",
   "metadata": {},
   "outputs": [
    {
     "data": {
      "text/plain": [
       "array(['Normal_Weight', 'Overweight_Level_I', 'Overweight_Level_II',\n",
       "       'Obesity_Type_I', 'Insufficient_Weight', 'Obesity_Type_II',\n",
       "       'Obesity_Type_III'], dtype=object)"
      ]
     },
     "execution_count": 60,
     "metadata": {},
     "output_type": "execute_result"
    }
   ],
   "source": [
    "df[\"NObeyesdad\"].unique()"
   ]
  },
  {
   "cell_type": "code",
   "execution_count": 61,
   "id": "38af4ac9-f9de-48cc-9866-bbf5efb9c5d0",
   "metadata": {},
   "outputs": [
    {
     "data": {
      "image/png": "[encoded data removed]",
      "text/plain": [
       "<Figure size 500x500 with 1 Axes>"
      ]
     },
     "metadata": {},
     "output_type": "display_data"
    }
   ],
   "source": [
    "# Memilih kolom 'SCC' dan 'Jenis Obesitas' dari DataFrame 'df'\n",
    "df[['NObeyesdad','SCC']]\n",
    "\n",
    "# Membuat grafik batang menggunakan seaborn catplot dengan menggunakan kolom 'Jenis Obesitas' sebagai sumbu x dan 'SCC' sebagai sumbu y\n",
    "sns.catplot(data=df, x='NObeyesdad', y= 'SCC', hue='NObeyesdad', kind='bar')\n",
    "\n",
    "# Mengatur label pada sumbu x\n",
    "plt.xticks(rotation=90, ticks=(0,1,2,3,4,5,6), labels= np.array(df[\"NObeyesdad\"].unique()))\n",
    "plt.show()"
   ]
  },
  {
   "cell_type": "markdown",
   "id": "7fc11a46-02a4-4508-ae9a-fdeed953edfd",
   "metadata": {},
   "source": [
    "**Kesimpulan**\n"
   ]
  },
  {
   "attachments": {},
   "cell_type": "markdown",
   "id": "01df427b-3f2d-4d4d-b5a9-0f8c30df45dc",
   "metadata": {
    "jp-MarkdownHeadingCollapsed": true
   },
   "source": [
    "### 5.2.m membandingkan kolom \"Jenis Obesitas\" dengan \"Frekuensi aktifitas fisik\""
   ]
  },
  {
   "cell_type": "code",
   "execution_count": 38,
   "id": "bcb8808f-0fd2-418b-a5fa-6f2e97d38cbf",
   "metadata": {},
   "outputs": [
    {
     "data": {
      "text/plain": [
       "array(['Normal_Weight', 'Overweight_Level_I', 'Overweight_Level_II',\n",
       "       'Obesity_Type_I', 'Insufficient_Weight', 'Obesity_Type_II',\n",
       "       'Obesity_Type_III'], dtype=object)"
      ]
     },
     "execution_count": 38,
     "metadata": {},
     "output_type": "execute_result"
    }
   ],
   "source": [
    "df[\"NObeyesdad\"].unique()"
   ]
  },
  {
   "cell_type": "code",
   "execution_count": 41,
   "id": "2a58f6ad-4832-4411-afc2-1cb84062f717",
   "metadata": {},
   "outputs": [
    {
     "data": {
      "image/png": "[encoded data removed]",
      "text/plain": [
       "<Figure size 500x500 with 1 Axes>"
      ]
     },
     "metadata": {},
     "output_type": "display_data"
    }
   ],
   "source": [
    "# Memilih kolom 'FAF' dan 'Jenis Obesitas' dari DataFrame 'df'\n",
    "df[['NObeyesdad','FAF']]\n",
    "\n",
    "# Membuat grafik batang menggunakan seaborn catplot dengan menggunakan kolom 'Jenis Obesitas' sebagai sumbu x dan 'FAF' sebagai sumbu y\n",
    "sns.catplot(data=df, x='NObeyesdad', y= 'FAF', hue='NObeyesdad', kind='bar')\n",
    "\n",
    "# Mengatur label pada sumbu x\n",
    "plt.xticks(rotation=90, ticks=(0,1,2,3,4,5,6), labels= np.array(df[\"NObeyesdad\"].unique()))\n",
    "plt.show()"
   ]
  },
  {
   "attachments": {},
   "cell_type": "markdown",
   "id": "25f43798-5a1a-4b91-9d71-dfb66b4332e2",
   "metadata": {
    "jp-MarkdownHeadingCollapsed": true
   },
   "source": [
    "### 5.2.n membandingkan kolom \"Jenis Obesitas\" dengan \"Waktu yang dihabiskan untuk teknologi\""
   ]
  },
  {
   "cell_type": "code",
   "execution_count": 38,
   "id": "8aefdedc-1832-4270-a016-b746a30061d9",
   "metadata": {},
   "outputs": [
    {
     "data": {
      "text/plain": [
       "array(['Normal_Weight', 'Overweight_Level_I', 'Overweight_Level_II',\n",
       "       'Obesity_Type_I', 'Insufficient_Weight', 'Obesity_Type_II',\n",
       "       'Obesity_Type_III'], dtype=object)"
      ]
     },
     "execution_count": 38,
     "metadata": {},
     "output_type": "execute_result"
    }
   ],
   "source": [
    "df[\"NObeyesdad\"].unique()"
   ]
  },
  {
   "cell_type": "code",
   "execution_count": 43,
   "id": "e73c1925-1d37-4b8d-a238-33c7f4b78912",
   "metadata": {},
   "outputs": [
    {
     "data": {
      "image/png": "[encoded data removed]",
      "text/plain": [
       "<Figure size 500x500 with 1 Axes>"
      ]
     },
     "metadata": {},
     "output_type": "display_data"
    }
   ],
   "source": [
    "# Memilih kolom 'TUE' dan 'Jenis Obesitas' dari DataFrame 'df'\n",
    "df[['NObeyesdad','TUE']]\n",
    "\n",
    "# Membuat grafik batang menggunakan seaborn catplot dengan menggunakan kolom 'Jenis Obesitas' sebagai sumbu x dan 'TUE'sebagai sumbu y\n",
    "sns.catplot(data=df, x='NObeyesdad', y= 'TUE', hue='NObeyesdad', kind='bar')\n",
    "\n",
    "# Mengatur label pada sumbu x\n",
    "plt.xticks(rotation=90, ticks=(0,1,2,3,4,5,6), labels= np.array(df[\"NObeyesdad\"].unique()))\n",
    "plt.show()"
   ]
  },
  {
   "attachments": {},
   "cell_type": "markdown",
   "id": "5edf6cf8-a541-49c7-983c-9e37c4eb73ca",
   "metadata": {
    "jp-MarkdownHeadingCollapsed": true
   },
   "source": [
    "### 5.2.o membandingkan kolom \"Jenis Obesitas\" dengan \"Frekuensi mengonsumsi alkohol\""
   ]
  },
  {
   "cell_type": "code",
   "execution_count": 38,
   "id": "bbec4ec6-b84f-42be-9286-404fe1a3af67",
   "metadata": {},
   "outputs": [
    {
     "data": {
      "text/plain": [
       "array(['Normal_Weight', 'Overweight_Level_I', 'Overweight_Level_II',\n",
       "       'Obesity_Type_I', 'Insufficient_Weight', 'Obesity_Type_II',\n",
       "       'Obesity_Type_III'], dtype=object)"
      ]
     },
     "execution_count": 38,
     "metadata": {},
     "output_type": "execute_result"
    }
   ],
   "source": [
    "df[\"NObeyesdad\"].unique()"
   ]
  },
  {
   "cell_type": "code",
   "execution_count": 46,
   "id": "ba3f0a91-242f-4dc4-a2d2-9146968308b3",
   "metadata": {},
   "outputs": [
    {
     "data": {
      "image/png": "[encoded data removed]",
      "text/plain": [
       "<Figure size 500x500 with 1 Axes>"
      ]
     },
     "metadata": {},
     "output_type": "display_data"
    }
   ],
   "source": [
    "# Memilih kolom 'CALC' dan 'Jenis Obesitas' dari DataFrame 'df'\n",
    "df[['NObeyesdad','CALC']]\n",
    "\n",
    "# Membuat grafik batang menggunakan seaborn catplot dengan menggunakan kolom 'Jenis Obesitas' sebagai sumbu x dan 'CALC'sebagai sumbu y\n",
    "sns.catplot(data=df, x='NObeyesdad', y= 'CALC', hue='NObeyesdad', kind='bar')\n",
    "\n",
    "# Mengatur label pada sumbu x\n",
    "plt.xticks(rotation=90, ticks=(0,1,2,3,4,5,6), labels= np.array(df[\"NObeyesdad\"].unique()))\n",
    "plt.show()"
   ]
  },
  {
   "attachments": {},
   "cell_type": "markdown",
   "id": "3678e63d-c665-4f79-8236-8ca6f31abf50",
   "metadata": {
    "jp-MarkdownHeadingCollapsed": true
   },
   "source": [
    "### 5.2.p membandingkan kolom \"Jenis Obesitas\" dengan \"Moda Utama yang digunakan dalam Transportasi\""
   ]
  },
  {
   "cell_type": "code",
   "execution_count": 38,
   "id": "75115810-8174-46a0-8626-df14fa85edfc",
   "metadata": {},
   "outputs": [
    {
     "data": {
      "text/plain": [
       "array(['Normal_Weight', 'Overweight_Level_I', 'Overweight_Level_II',\n",
       "       'Obesity_Type_I', 'Insufficient_Weight', 'Obesity_Type_II',\n",
       "       'Obesity_Type_III'], dtype=object)"
      ]
     },
     "execution_count": 38,
     "metadata": {},
     "output_type": "execute_result"
    }
   ],
   "source": [
    "df[\"NObeyesdad\"].unique()"
   ]
  },
  {
   "cell_type": "code",
   "execution_count": 47,
   "id": "dfb2709e-d343-4718-ad5f-7e7f13fffdfa",
   "metadata": {},
   "outputs": [
    {
     "data": {
      "image/png": "[encoded data removed]",
      "text/plain": [
       "<Figure size 500x500 with 1 Axes>"
      ]
     },
     "metadata": {},
     "output_type": "display_data"
    }
   ],
   "source": [
    "# Memilih kolom 'MTRANS' dan 'Jenis Obesitas' dari DataFrame 'df'\n",
    "df[['NObeyesdad','MTRANS']]\n",
    "\n",
    "# Membuat grafik batang menggunakan seaborn catplot dengan menggunakan kolom 'Jenis Obesitas' sebagai sumbu x dan 'MTRANS'sebagai sumbu y\n",
    "sns.catplot(data=df, x='NObeyesdad', y= 'MTRANS', hue='NObeyesdad', kind='bar')\n",
    "\n",
    "# Mengatur label pada sumbu x\n",
    "plt.xticks(rotation=90, ticks=(0,1,2,3,4,5,6), labels= np.array(df[\"NObeyesdad\"].unique()))\n",
    "plt.show()"
   ]
  },
  {
   "cell_type": "code",
   "execution_count": null,
   "id": "c2522fb5-80d4-4726-a597-9b9532a12316",
   "metadata": {},
   "outputs": [],
   "source": [
    "## 5.3. "
   ]
  }
 ],
 "metadata": {
  "kernelspec": {
   "display_name": "Python 3 (ipykernel)",
   "language": "python",
   "name": "python3"
  },
  "language_info": {
   "codemirror_mode": {
    "name": "ipython",
    "version": 3
   },
   "file_extension": ".py",
   "mimetype": "text/x-python",
   "name": "python",
   "nbconvert_exporter": "python",
   "pygments_lexer": "ipython3",
   "version": "3.12.7"
  }
 },
 "nbformat": 4,
 "nbformat_minor": 5
}
