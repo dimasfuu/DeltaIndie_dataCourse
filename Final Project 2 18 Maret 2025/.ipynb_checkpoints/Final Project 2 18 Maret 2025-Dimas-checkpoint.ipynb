{
 "cells": [
  {
   "cell_type": "markdown",
   "id": "bd9d68a5-30fb-4f5f-86bc-7608d2ac88f6",
   "metadata": {},
   "source": [
    "# 1. Perkenalan "
   ]
  },
  {
   "cell_type": "markdown",
   "id": "8a2d0d51-bc4a-48dc-8030-87fa2e8837d3",
   "metadata": {},
   "source": [
    "**Nama : Dimas Furqon P.** \n",
    "**Kelas : Data Science Delta Indie Course**\n",
    "\n",
    "**Nama Project : Final Project 2.**\n",
    "\n"
   ]
  },
  {
   "cell_type": "markdown",
   "id": "5d1ca1ef-2322-476d-81ec-1cb09c22ee0e",
   "metadata": {},
   "source": [
    "# 2. Latar Belakang"
   ]
  },
  {
   "cell_type": "markdown",
   "id": "148ba3bf-176b-41cf-8c54-d1103aa0a343",
   "metadata": {},
   "source": [
    "## 2.a Data Overview"
   ]
  },
  {
   "cell_type": "markdown",
   "id": "3925a925-f06d-4165-8bf1-f8b358fc46be",
   "metadata": {},
   "source": [
    "Mental Health Diagnosis and Treatment Monitoring Dataset adalah data yang berisi dari 500 baris yang mewakili kesehatan mental berdasarkan hasil diagnosis kesehatan mental dari kejadian nyata, rencana perawatan, dan hasil. Termasuk didalamnya demografi pasien, keparahan gejala, pengobatan, tipe terapi dan jejak peningkatan. **Dataset ini bersifat sintetis dan dibuat untuk penelitian dan tujuan analitis**\n",
    "\n",
    "\n",
    "Beberapa variabel yang terdapat dalam dataset ini dan dapat dianalisis antara lain: \n",
    "\n",
    "1. **Patient ID**: Identitas unik pasien\n",
    "2. **Age**: Usia Pasien\n",
    "3. **Gender**: Laki-laki atau perempuan\n",
    "4. **Diagnosis**: Kondisi Mental Health (e.g., Anxiety, Depression).\n",
    "5. **Symptom Severity (1-10)**: Keparahan gejala (skala 1-10).\n",
    "6. **Mood Score (1-10)**: Kondisi mood pada saat perawatan (skala 1-10).\n",
    "7. **Sleep Quality (1-10)**: Kualitas tidur pasien yang dilaporkan(skala 1-10).\n",
    "8. **Physical Activity**: Aktifitas(jam) dalam 1 pekan.\n",
    "9. **Medication**: Pengobatan/obat yang diberikan(e.g., SSRIs, Antidepressants).\n",
    "10. **Therapy Type**: Jenis terapi (e.g., CBT, DBT).\n",
    "11. **Treatment Start Date**: Tanggal mulai perawatan.\n",
    "12. **Treatment Duration**: Durasi perawatan dalam sepekan.\n",
    "13. **Stress Level (1-10)**: Level Stres pasien.\n",
    "14. **Outcome**: Hasil perawatan (e.g., Improved, Deteriorated).\n",
    "15. **Treatment Progress (1-10)**: Perkembangan selama perawatan.\n",
    "16. **AI-Detected Emotional State**: Kondisi emosional berdasarkan deteksi AI (e.g., Happy, Anxious).\n",
    "17. **Adherence to Treatment (%)**: Persentase kepatuhan terhadap perawatan.\n",
    "\n",
    "Kasus yang dapat digunakan\n",
    "\n",
    "- **Klasifikasi Diagnosis**: Mengklasifikasikan pasien berdasarkan kondisi mental health mereka.\n",
    "- **Prediksi Hasil**: Memprediksi \"Outcomes\" berdasarkan data pasien.\n",
    "- **Monitoring tingkat kepatuhan**: Melakukan analisis kepatuhan pasien dan efeknya terhadap \"Outcomes\".\n",
    "- **Deteksi Kondisi Emosional**: Menggunakan AI untuk mendeteksi jejak kondisi emosional.\n",
    "- **Kemanjuran perawatan**: Evaluate the impact of different therapies on progress.\n",
    "- \n",
    "Ethical Considerations\n",
    "Ensure that patient data is anonymized, and models are tested for fairness and bias in their predictions. This dataset is synthetic and does not represent real patient information."
   ]
  },
  {
   "cell_type": "markdown",
   "id": "3512e3f3-48ac-439a-b2aa-8ab6fa9d4f33",
   "metadata": {},
   "source": [
    "## 2.b Data Objective"
   ]
  },
  {
   "cell_type": "markdown",
   "id": "a8999b9b-10ed-4a6e-a8a5-8b01e2418fb2",
   "metadata": {},
   "source": [
    "Final Project 2 ini dibuat guna mengevaluasi konsep Machine Learning bertipe Klasifikasi dengan :\n",
    "\n",
    "● Mampu memahami konsep Regression dan mampu persiapkan data untuk digunakan dengan Ensemble Model\n",
    "\n",
    "● Mampu melakukan seleksi model terbaik\n",
    "\n",
    "● Mampu mengimplementasikan Ensemble Model untuk membuat prediksi"
   ]
  },
  {
   "cell_type": "markdown",
   "id": "34424585-a562-4e24-bd11-a0fb1410a0b0",
   "metadata": {},
   "source": [
    "# 3. Import Pustaka (Library)"
   ]
  },
  {
   "cell_type": "code",
   "execution_count": 1,
   "id": "c7d83d1b-4dad-4e7f-b047-bb56781b1bf9",
   "metadata": {},
   "outputs": [],
   "source": [
    "#untuk dataframe\n",
    "import pandas as pd\n",
    "import numpy as np\n",
    "\n",
    "#untuk visualisasi data\n",
    "import matplotlib.pyplot as plt\n",
    "import seaborn as sns\n",
    "%matplotlib inline\n",
    "import folium\n",
    "from folium.plugins import FastMarkerCluster\n",
    "\n",
    "#mengatur display biar maximal\n",
    "pd.options.display.max_rows = None\n",
    "pd.options.display.max_columns = None\n",
    "\n",
    "#modeling\n",
    "from sklearn.ensemble import RandomForestClassifier\n",
    "from sklearn.naive_bayes import GaussianNB\n",
    "from sklearn.ensemble import ExtraTreesClassifier, VotingClassifier\n",
    "from sklearn.ensemble import GradientBoostingClassifier, AdaBoostClassifier\n",
    "from sklearn.model_selection import train_test_split\n",
    "from sklearn import preprocessing\n",
    "from xgboost import XGBClassifier\n",
    "from sklearn.preprocessing import StandardScaler\n",
    "from sklearn.metrics import accuracy_score # mencari accurasi \n",
    "from sklearn.metrics import confusion_matrix # membuat confusion maytris\n",
    "from sklearn.metrics import classification_report # laporan klasifikasi\n",
    "from sklearn.metrics import r2_score # evaluasi performa model\n",
    "from sklearn.metrics import mean_squared_error # menghitung nilai error rata-rata\n",
    "from imblearn.over_sampling import SMOTE #Balancing data\n",
    "from sklearn.ensemble import BaggingClassifier, VotingClassifier, StackingClassifier\n",
    "from pandas_dq import dq_report,Fix_DQ"
   ]
  },
  {
   "cell_type": "markdown",
   "id": "195c8f16-f659-4a8a-97ab-bb67a4c49355",
   "metadata": {},
   "source": [
    "# 4. Data Loading"
   ]
  },
  {
   "cell_type": "markdown",
   "id": "6cc8c518-bf4d-41bd-a0b7-b94ec675bf78",
   "metadata": {},
   "source": [
    "## 4.1 Memanggil Dataset"
   ]
  },
  {
   "cell_type": "code",
   "execution_count": 2,
   "id": "eb10f0bb-6a85-4d08-b84c-68e85badae50",
   "metadata": {},
   "outputs": [
    {
     "data": {
      "text/html": [
       "<div>\n",
       "<style scoped>\n",
       "    .dataframe tbody tr th:only-of-type {\n",
       "        vertical-align: middle;\n",
       "    }\n",
       "\n",
       "    .dataframe tbody tr th {\n",
       "        vertical-align: top;\n",
       "    }\n",
       "\n",
       "    .dataframe thead th {\n",
       "        text-align: right;\n",
       "    }\n",
       "</style>\n",
       "<table border=\"1\" class=\"dataframe\">\n",
       "  <thead>\n",
       "    <tr style=\"text-align: center;\">\n",
       "      <th></th>\n",
       "      <th>Patient ID</th>\n",
       "      <th>Age</th>\n",
       "      <th>Gender</th>\n",
       "      <th>Diagnosis</th>\n",
       "      <th>Symptom Severity (1-10)</th>\n",
       "      <th>Mood Score (1-10)</th>\n",
       "      <th>Sleep Quality (1-10)</th>\n",
       "      <th>Physical Activity (hrs/week)</th>\n",
       "      <th>Medication</th>\n",
       "      <th>Therapy Type</th>\n",
       "      <th>Treatment Start Date</th>\n",
       "      <th>Treatment Duration (weeks)</th>\n",
       "      <th>Stress Level (1-10)</th>\n",
       "      <th>Outcome</th>\n",
       "      <th>Treatment Progress (1-10)</th>\n",
       "      <th>AI-Detected Emotional State</th>\n",
       "      <th>Adherence to Treatment (%)</th>\n",
       "    </tr>\n",
       "  </thead>\n",
       "  <tbody>\n",
       "    <tr>\n",
       "      <th>0</th>\n",
       "      <td>1</td>\n",
       "      <td>43</td>\n",
       "      <td>Female</td>\n",
       "      <td>Major Depressive Disorder</td>\n",
       "      <td>10</td>\n",
       "      <td>5</td>\n",
       "      <td>8</td>\n",
       "      <td>5</td>\n",
       "      <td>Mood Stabilizers</td>\n",
       "      <td>Interpersonal Therapy</td>\n",
       "      <td>2024-01-25</td>\n",
       "      <td>11</td>\n",
       "      <td>9</td>\n",
       "      <td>Deteriorated</td>\n",
       "      <td>7</td>\n",
       "      <td>Anxious</td>\n",
       "      <td>66</td>\n",
       "    </tr>\n",
       "    <tr>\n",
       "      <th>1</th>\n",
       "      <td>2</td>\n",
       "      <td>40</td>\n",
       "      <td>Female</td>\n",
       "      <td>Major Depressive Disorder</td>\n",
       "      <td>9</td>\n",
       "      <td>5</td>\n",
       "      <td>4</td>\n",
       "      <td>7</td>\n",
       "      <td>Antipsychotics</td>\n",
       "      <td>Interpersonal Therapy</td>\n",
       "      <td>2024-02-27</td>\n",
       "      <td>11</td>\n",
       "      <td>7</td>\n",
       "      <td>No Change</td>\n",
       "      <td>7</td>\n",
       "      <td>Neutral</td>\n",
       "      <td>78</td>\n",
       "    </tr>\n",
       "    <tr>\n",
       "      <th>2</th>\n",
       "      <td>3</td>\n",
       "      <td>55</td>\n",
       "      <td>Female</td>\n",
       "      <td>Major Depressive Disorder</td>\n",
       "      <td>6</td>\n",
       "      <td>3</td>\n",
       "      <td>4</td>\n",
       "      <td>3</td>\n",
       "      <td>SSRIs</td>\n",
       "      <td>Mindfulness-Based Therapy</td>\n",
       "      <td>2024-03-20</td>\n",
       "      <td>14</td>\n",
       "      <td>7</td>\n",
       "      <td>Deteriorated</td>\n",
       "      <td>5</td>\n",
       "      <td>Happy</td>\n",
       "      <td>62</td>\n",
       "    </tr>\n",
       "    <tr>\n",
       "      <th>3</th>\n",
       "      <td>4</td>\n",
       "      <td>34</td>\n",
       "      <td>Female</td>\n",
       "      <td>Major Depressive Disorder</td>\n",
       "      <td>6</td>\n",
       "      <td>3</td>\n",
       "      <td>6</td>\n",
       "      <td>5</td>\n",
       "      <td>SSRIs</td>\n",
       "      <td>Mindfulness-Based Therapy</td>\n",
       "      <td>2024-03-29</td>\n",
       "      <td>8</td>\n",
       "      <td>8</td>\n",
       "      <td>Deteriorated</td>\n",
       "      <td>10</td>\n",
       "      <td>Excited</td>\n",
       "      <td>72</td>\n",
       "    </tr>\n",
       "    <tr>\n",
       "      <th>4</th>\n",
       "      <td>5</td>\n",
       "      <td>52</td>\n",
       "      <td>Male</td>\n",
       "      <td>Panic Disorder</td>\n",
       "      <td>7</td>\n",
       "      <td>6</td>\n",
       "      <td>6</td>\n",
       "      <td>8</td>\n",
       "      <td>Anxiolytics</td>\n",
       "      <td>Interpersonal Therapy</td>\n",
       "      <td>2024-03-18</td>\n",
       "      <td>12</td>\n",
       "      <td>5</td>\n",
       "      <td>Deteriorated</td>\n",
       "      <td>6</td>\n",
       "      <td>Excited</td>\n",
       "      <td>63</td>\n",
       "    </tr>\n",
       "    <tr>\n",
       "      <th>5</th>\n",
       "      <td>6</td>\n",
       "      <td>28</td>\n",
       "      <td>Male</td>\n",
       "      <td>Panic Disorder</td>\n",
       "      <td>8</td>\n",
       "      <td>7</td>\n",
       "      <td>6</td>\n",
       "      <td>4</td>\n",
       "      <td>SSRIs</td>\n",
       "      <td>Cognitive Behavioral Therapy</td>\n",
       "      <td>2024-01-11</td>\n",
       "      <td>13</td>\n",
       "      <td>9</td>\n",
       "      <td>No Change</td>\n",
       "      <td>7</td>\n",
       "      <td>Stressed</td>\n",
       "      <td>82</td>\n",
       "    </tr>\n",
       "    <tr>\n",
       "      <th>6</th>\n",
       "      <td>7</td>\n",
       "      <td>59</td>\n",
       "      <td>Male</td>\n",
       "      <td>Generalized Anxiety</td>\n",
       "      <td>6</td>\n",
       "      <td>6</td>\n",
       "      <td>5</td>\n",
       "      <td>3</td>\n",
       "      <td>Mood Stabilizers</td>\n",
       "      <td>Dialectical Behavioral Therapy</td>\n",
       "      <td>2024-02-21</td>\n",
       "      <td>13</td>\n",
       "      <td>8</td>\n",
       "      <td>Deteriorated</td>\n",
       "      <td>5</td>\n",
       "      <td>Anxious</td>\n",
       "      <td>79</td>\n",
       "    </tr>\n",
       "    <tr>\n",
       "      <th>7</th>\n",
       "      <td>8</td>\n",
       "      <td>32</td>\n",
       "      <td>Female</td>\n",
       "      <td>Major Depressive Disorder</td>\n",
       "      <td>5</td>\n",
       "      <td>3</td>\n",
       "      <td>5</td>\n",
       "      <td>2</td>\n",
       "      <td>Antidepressants</td>\n",
       "      <td>Cognitive Behavioral Therapy</td>\n",
       "      <td>2024-02-03</td>\n",
       "      <td>12</td>\n",
       "      <td>5</td>\n",
       "      <td>No Change</td>\n",
       "      <td>6</td>\n",
       "      <td>Stressed</td>\n",
       "      <td>74</td>\n",
       "    </tr>\n",
       "    <tr>\n",
       "      <th>8</th>\n",
       "      <td>9</td>\n",
       "      <td>21</td>\n",
       "      <td>Female</td>\n",
       "      <td>Major Depressive Disorder</td>\n",
       "      <td>6</td>\n",
       "      <td>7</td>\n",
       "      <td>7</td>\n",
       "      <td>10</td>\n",
       "      <td>Antidepressants</td>\n",
       "      <td>Mindfulness-Based Therapy</td>\n",
       "      <td>2024-01-16</td>\n",
       "      <td>15</td>\n",
       "      <td>5</td>\n",
       "      <td>No Change</td>\n",
       "      <td>6</td>\n",
       "      <td>Neutral</td>\n",
       "      <td>67</td>\n",
       "    </tr>\n",
       "    <tr>\n",
       "      <th>9</th>\n",
       "      <td>10</td>\n",
       "      <td>21</td>\n",
       "      <td>Female</td>\n",
       "      <td>Panic Disorder</td>\n",
       "      <td>9</td>\n",
       "      <td>5</td>\n",
       "      <td>9</td>\n",
       "      <td>7</td>\n",
       "      <td>Antidepressants</td>\n",
       "      <td>Cognitive Behavioral Therapy</td>\n",
       "      <td>2024-01-03</td>\n",
       "      <td>11</td>\n",
       "      <td>8</td>\n",
       "      <td>No Change</td>\n",
       "      <td>8</td>\n",
       "      <td>Depressed</td>\n",
       "      <td>89</td>\n",
       "    </tr>\n",
       "  </tbody>\n",
       "</table>\n",
       "</div>"
      ],
      "text/plain": [
       "   Patient ID  Age  Gender         Diagnosis           \\\n",
       "0       1      43   Female  Major Depressive Disorder   \n",
       "1       2      40   Female  Major Depressive Disorder   \n",
       "2       3      55   Female  Major Depressive Disorder   \n",
       "3       4      34   Female  Major Depressive Disorder   \n",
       "4       5      52     Male             Panic Disorder   \n",
       "5       6      28     Male             Panic Disorder   \n",
       "6       7      59     Male        Generalized Anxiety   \n",
       "7       8      32   Female  Major Depressive Disorder   \n",
       "8       9      21   Female  Major Depressive Disorder   \n",
       "9      10      21   Female             Panic Disorder   \n",
       "\n",
       "   Symptom Severity (1-10)  Mood Score (1-10)  Sleep Quality (1-10)  \\\n",
       "0            10                     5                    8            \n",
       "1             9                     5                    4            \n",
       "2             6                     3                    4            \n",
       "3             6                     3                    6            \n",
       "4             7                     6                    6            \n",
       "5             8                     7                    6            \n",
       "6             6                     6                    5            \n",
       "7             5                     3                    5            \n",
       "8             6                     7                    7            \n",
       "9             9                     5                    9            \n",
       "\n",
       "   Physical Activity (hrs/week)     Medication     \\\n",
       "0                5               Mood Stabilizers   \n",
       "1                7                 Antipsychotics   \n",
       "2                3                          SSRIs   \n",
       "3                5                          SSRIs   \n",
       "4                8                    Anxiolytics   \n",
       "5                4                          SSRIs   \n",
       "6                3               Mood Stabilizers   \n",
       "7                2                Antidepressants   \n",
       "8               10                Antidepressants   \n",
       "9                7                Antidepressants   \n",
       "\n",
       "            Therapy Type          Treatment Start Date  \\\n",
       "0           Interpersonal Therapy      2024-01-25        \n",
       "1           Interpersonal Therapy      2024-02-27        \n",
       "2       Mindfulness-Based Therapy      2024-03-20        \n",
       "3       Mindfulness-Based Therapy      2024-03-29        \n",
       "4           Interpersonal Therapy      2024-03-18        \n",
       "5    Cognitive Behavioral Therapy      2024-01-11        \n",
       "6  Dialectical Behavioral Therapy      2024-02-21        \n",
       "7    Cognitive Behavioral Therapy      2024-02-03        \n",
       "8       Mindfulness-Based Therapy      2024-01-16        \n",
       "9    Cognitive Behavioral Therapy      2024-01-03        \n",
       "\n",
       "   Treatment Duration (weeks)  Stress Level (1-10)    Outcome     \\\n",
       "0              11                       9           Deteriorated   \n",
       "1              11                       7              No Change   \n",
       "2              14                       7           Deteriorated   \n",
       "3               8                       8           Deteriorated   \n",
       "4              12                       5           Deteriorated   \n",
       "5              13                       9              No Change   \n",
       "6              13                       8           Deteriorated   \n",
       "7              12                       5              No Change   \n",
       "8              15                       5              No Change   \n",
       "9              11                       8              No Change   \n",
       "\n",
       "   Treatment Progress (1-10) AI-Detected Emotional State  \\\n",
       "0              7                         Anxious           \n",
       "1              7                         Neutral           \n",
       "2              5                           Happy           \n",
       "3             10                         Excited           \n",
       "4              6                         Excited           \n",
       "5              7                        Stressed           \n",
       "6              5                         Anxious           \n",
       "7              6                        Stressed           \n",
       "8              6                         Neutral           \n",
       "9              8                       Depressed           \n",
       "\n",
       "   Adherence to Treatment (%)  \n",
       "0              66              \n",
       "1              78              \n",
       "2              62              \n",
       "3              72              \n",
       "4              63              \n",
       "5              82              \n",
       "6              79              \n",
       "7              74              \n",
       "8              67              \n",
       "9              89              "
      ]
     },
     "execution_count": 2,
     "metadata": {},
     "output_type": "execute_result"
    }
   ],
   "source": [
    "df = pd.read_csv(\"mental_health_diagnosis_treatment_.csv\")\n",
    "df.head(10)"
   ]
  },
  {
   "cell_type": "markdown",
   "id": "70e742b7-cf6a-4974-b9c0-7fe1cd7edabc",
   "metadata": {},
   "source": [
    "## 4.2 Melihat ukuran/dimensi data (baris,kolom)"
   ]
  },
  {
   "cell_type": "code",
   "execution_count": 3,
   "id": "4901514d-021f-464a-b3bf-653038c6e26f",
   "metadata": {},
   "outputs": [
    {
     "data": {
      "text/plain": [
       "(500, 17)"
      ]
     },
     "execution_count": 3,
     "metadata": {},
     "output_type": "execute_result"
    }
   ],
   "source": [
    "df.shape"
   ]
  },
  {
   "cell_type": "markdown",
   "id": "a5847640-3db6-44d1-9b9d-7bd1942f9a54",
   "metadata": {},
   "source": [
    "## 4.3 Pengecekan nama kolom "
   ]
  },
  {
   "cell_type": "code",
   "execution_count": 4,
   "id": "346a1fd4-4403-4449-baff-90ce1927c642",
   "metadata": {},
   "outputs": [
    {
     "data": {
      "text/html": [
       "<div>\n",
       "<style scoped>\n",
       "    .dataframe tbody tr th:only-of-type {\n",
       "        vertical-align: middle;\n",
       "    }\n",
       "\n",
       "    .dataframe tbody tr th {\n",
       "        vertical-align: top;\n",
       "    }\n",
       "\n",
       "    .dataframe thead th {\n",
       "        text-align: right;\n",
       "    }\n",
       "</style>\n",
       "<table border=\"1\" class=\"dataframe\">\n",
       "  <thead>\n",
       "    <tr style=\"text-align: center;\">\n",
       "      <th></th>\n",
       "      <th>Nama kolom</th>\n",
       "    </tr>\n",
       "  </thead>\n",
       "  <tbody>\n",
       "    <tr>\n",
       "      <th>0</th>\n",
       "      <td>Patient ID</td>\n",
       "    </tr>\n",
       "    <tr>\n",
       "      <th>1</th>\n",
       "      <td>Age</td>\n",
       "    </tr>\n",
       "    <tr>\n",
       "      <th>2</th>\n",
       "      <td>Gender</td>\n",
       "    </tr>\n",
       "    <tr>\n",
       "      <th>3</th>\n",
       "      <td>Diagnosis</td>\n",
       "    </tr>\n",
       "    <tr>\n",
       "      <th>4</th>\n",
       "      <td>Symptom Severity (1-10)</td>\n",
       "    </tr>\n",
       "    <tr>\n",
       "      <th>5</th>\n",
       "      <td>Mood Score (1-10)</td>\n",
       "    </tr>\n",
       "    <tr>\n",
       "      <th>6</th>\n",
       "      <td>Sleep Quality (1-10)</td>\n",
       "    </tr>\n",
       "    <tr>\n",
       "      <th>7</th>\n",
       "      <td>Physical Activity (hrs/week)</td>\n",
       "    </tr>\n",
       "    <tr>\n",
       "      <th>8</th>\n",
       "      <td>Medication</td>\n",
       "    </tr>\n",
       "    <tr>\n",
       "      <th>9</th>\n",
       "      <td>Therapy Type</td>\n",
       "    </tr>\n",
       "    <tr>\n",
       "      <th>10</th>\n",
       "      <td>Treatment Start Date</td>\n",
       "    </tr>\n",
       "    <tr>\n",
       "      <th>11</th>\n",
       "      <td>Treatment Duration (weeks)</td>\n",
       "    </tr>\n",
       "    <tr>\n",
       "      <th>12</th>\n",
       "      <td>Stress Level (1-10)</td>\n",
       "    </tr>\n",
       "    <tr>\n",
       "      <th>13</th>\n",
       "      <td>Outcome</td>\n",
       "    </tr>\n",
       "    <tr>\n",
       "      <th>14</th>\n",
       "      <td>Treatment Progress (1-10)</td>\n",
       "    </tr>\n",
       "    <tr>\n",
       "      <th>15</th>\n",
       "      <td>AI-Detected Emotional State</td>\n",
       "    </tr>\n",
       "    <tr>\n",
       "      <th>16</th>\n",
       "      <td>Adherence to Treatment (%)</td>\n",
       "    </tr>\n",
       "  </tbody>\n",
       "</table>\n",
       "</div>"
      ],
      "text/plain": [
       "             Nama kolom         \n",
       "0                     Patient ID\n",
       "1                            Age\n",
       "2                         Gender\n",
       "3                      Diagnosis\n",
       "4        Symptom Severity (1-10)\n",
       "5              Mood Score (1-10)\n",
       "6           Sleep Quality (1-10)\n",
       "7   Physical Activity (hrs/week)\n",
       "8                     Medication\n",
       "9                   Therapy Type\n",
       "10          Treatment Start Date\n",
       "11    Treatment Duration (weeks)\n",
       "12           Stress Level (1-10)\n",
       "13                       Outcome\n",
       "14     Treatment Progress (1-10)\n",
       "15   AI-Detected Emotional State\n",
       "16    Adherence to Treatment (%)"
      ]
     },
     "execution_count": 4,
     "metadata": {},
     "output_type": "execute_result"
    }
   ],
   "source": [
    "da = df.columns.values\n",
    "da\n",
    "dc = pd.DataFrame({'Nama kolom':da})\n",
    "dc"
   ]
  },
  {
   "cell_type": "markdown",
   "id": "aac08813-8dd0-486b-8738-e3e235c4bd1e",
   "metadata": {},
   "source": [
    "## 4.4 Penjelasan per kolom"
   ]
  },
  {
   "cell_type": "code",
   "execution_count": 5,
   "id": "8c6a6ad5-8a5e-49b0-9513-59fa6fbc09e9",
   "metadata": {},
   "outputs": [
    {
     "data": {
      "text/html": [
       "<div>\n",
       "<style scoped>\n",
       "    .dataframe tbody tr th:only-of-type {\n",
       "        vertical-align: middle;\n",
       "    }\n",
       "\n",
       "    .dataframe tbody tr th {\n",
       "        vertical-align: top;\n",
       "    }\n",
       "\n",
       "    .dataframe thead th {\n",
       "        text-align: right;\n",
       "    }\n",
       "</style>\n",
       "<table border=\"1\" class=\"dataframe\">\n",
       "  <thead>\n",
       "    <tr style=\"text-align: center;\">\n",
       "      <th></th>\n",
       "      <th>Key Features</th>\n",
       "      <th>Explanation</th>\n",
       "    </tr>\n",
       "  </thead>\n",
       "  <tbody>\n",
       "    <tr>\n",
       "      <th>1</th>\n",
       "      <td>Patient ID</td>\n",
       "      <td>Identitas unik pasien</td>\n",
       "    </tr>\n",
       "    <tr>\n",
       "      <th>2</th>\n",
       "      <td>Age</td>\n",
       "      <td>Usia Pasien</td>\n",
       "    </tr>\n",
       "    <tr>\n",
       "      <th>3</th>\n",
       "      <td>Gender</td>\n",
       "      <td>Laki-laki atau perempuan</td>\n",
       "    </tr>\n",
       "    <tr>\n",
       "      <th>4</th>\n",
       "      <td>Diagnosis</td>\n",
       "      <td>Kondisi Mental Health (e.g., Anxiety, Depression)</td>\n",
       "    </tr>\n",
       "    <tr>\n",
       "      <th>5</th>\n",
       "      <td>Symptom Severity (1-10)</td>\n",
       "      <td>Keparahan gejala (skala 1-10)</td>\n",
       "    </tr>\n",
       "    <tr>\n",
       "      <th>6</th>\n",
       "      <td>Mood Score (1-10)</td>\n",
       "      <td>Kondisi mood pada saat perawatan (skala 1-10)</td>\n",
       "    </tr>\n",
       "    <tr>\n",
       "      <th>7</th>\n",
       "      <td>Sleep Quality (1-10)</td>\n",
       "      <td>Kualitas tidur pasien yang dilaporkan (skala 1-10)</td>\n",
       "    </tr>\n",
       "    <tr>\n",
       "      <th>8</th>\n",
       "      <td>Physical Activity</td>\n",
       "      <td>Aktifitas (jam) dalam 1 pekan</td>\n",
       "    </tr>\n",
       "    <tr>\n",
       "      <th>9</th>\n",
       "      <td>Medication</td>\n",
       "      <td>Pengobatan/obat yang diberikan (e.g., SSRIs, Antidepressants)</td>\n",
       "    </tr>\n",
       "    <tr>\n",
       "      <th>10</th>\n",
       "      <td>Therapy Type</td>\n",
       "      <td>Jenis terapi (e.g., CBT, DBT)</td>\n",
       "    </tr>\n",
       "    <tr>\n",
       "      <th>11</th>\n",
       "      <td>Treatment Start Date</td>\n",
       "      <td>Tanggal mulai perawatan</td>\n",
       "    </tr>\n",
       "    <tr>\n",
       "      <th>12</th>\n",
       "      <td>Treatment Duration</td>\n",
       "      <td>Durasi perawatan dalam sepekan</td>\n",
       "    </tr>\n",
       "    <tr>\n",
       "      <th>13</th>\n",
       "      <td>Stress Level (1-10)</td>\n",
       "      <td>Level Stres pasien</td>\n",
       "    </tr>\n",
       "    <tr>\n",
       "      <th>14</th>\n",
       "      <td>Outcome</td>\n",
       "      <td>Hasil perawatan (e.g., Improved, Deteriorated)</td>\n",
       "    </tr>\n",
       "    <tr>\n",
       "      <th>15</th>\n",
       "      <td>Treatment Progress (1-10)</td>\n",
       "      <td>Perkembangan selama perawatan (skala 1-10)</td>\n",
       "    </tr>\n",
       "    <tr>\n",
       "      <th>16</th>\n",
       "      <td>AI-Detected Emotional State</td>\n",
       "      <td>Kondisi emosional berdasarkan deteksi AI (e.g., Happy, Anxious)</td>\n",
       "    </tr>\n",
       "    <tr>\n",
       "      <th>17</th>\n",
       "      <td>Adherence to Treatment (%)</td>\n",
       "      <td>Persentase kepatuhan terhadap perawatan</td>\n",
       "    </tr>\n",
       "  </tbody>\n",
       "</table>\n",
       "</div>"
      ],
      "text/plain": [
       "           Key Features          \\\n",
       "1                    Patient ID   \n",
       "2                           Age   \n",
       "3                        Gender   \n",
       "4                     Diagnosis   \n",
       "5       Symptom Severity (1-10)   \n",
       "6             Mood Score (1-10)   \n",
       "7          Sleep Quality (1-10)   \n",
       "8             Physical Activity   \n",
       "9                    Medication   \n",
       "10                 Therapy Type   \n",
       "11         Treatment Start Date   \n",
       "12           Treatment Duration   \n",
       "13          Stress Level (1-10)   \n",
       "14                      Outcome   \n",
       "15    Treatment Progress (1-10)   \n",
       "16  AI-Detected Emotional State   \n",
       "17   Adherence to Treatment (%)   \n",
       "\n",
       "                             Explanation                             \n",
       "1                                             Identitas unik pasien  \n",
       "2                                                       Usia Pasien  \n",
       "3                                          Laki-laki atau perempuan  \n",
       "4                 Kondisi Mental Health (e.g., Anxiety, Depression)  \n",
       "5                                     Keparahan gejala (skala 1-10)  \n",
       "6                     Kondisi mood pada saat perawatan (skala 1-10)  \n",
       "7                Kualitas tidur pasien yang dilaporkan (skala 1-10)  \n",
       "8                                     Aktifitas (jam) dalam 1 pekan  \n",
       "9     Pengobatan/obat yang diberikan (e.g., SSRIs, Antidepressants)  \n",
       "10                                    Jenis terapi (e.g., CBT, DBT)  \n",
       "11                                          Tanggal mulai perawatan  \n",
       "12                                   Durasi perawatan dalam sepekan  \n",
       "13                                               Level Stres pasien  \n",
       "14                   Hasil perawatan (e.g., Improved, Deteriorated)  \n",
       "15                       Perkembangan selama perawatan (skala 1-10)  \n",
       "16  Kondisi emosional berdasarkan deteksi AI (e.g., Happy, Anxious)  \n",
       "17                          Persentase kepatuhan terhadap perawatan  "
      ]
     },
     "execution_count": 5,
     "metadata": {},
     "output_type": "execute_result"
    }
   ],
   "source": [
    "import pandas as pd\n",
    "\n",
    "# Define the data\n",
    "data = {\n",
    "    \"Key Features\": [\n",
    "        \"Patient ID\",\n",
    "        \"Age\",\n",
    "        \"Gender\",\n",
    "        \"Diagnosis\",\n",
    "        \"Symptom Severity (1-10)\",\n",
    "        \"Mood Score (1-10)\",\n",
    "        \"Sleep Quality (1-10)\",\n",
    "        \"Physical Activity\",\n",
    "        \"Medication\",\n",
    "        \"Therapy Type\",\n",
    "        \"Treatment Start Date\",\n",
    "        \"Treatment Duration\",\n",
    "        \"Stress Level (1-10)\",\n",
    "        \"Outcome\",\n",
    "        \"Treatment Progress (1-10)\",\n",
    "        \"AI-Detected Emotional State\",\n",
    "        \"Adherence to Treatment (%)\"\n",
    "    ],\n",
    "    \"Explanation\": [\n",
    "        \"Identitas unik pasien\",\n",
    "        \"Usia Pasien\",\n",
    "        \"Laki-laki atau perempuan\",\n",
    "        \"Kondisi Mental Health (e.g., Anxiety, Depression)\",\n",
    "        \"Keparahan gejala (skala 1-10)\",\n",
    "        \"Kondisi mood pada saat perawatan (skala 1-10)\",\n",
    "        \"Kualitas tidur pasien yang dilaporkan (skala 1-10)\",\n",
    "        \"Aktifitas (jam) dalam 1 pekan\",\n",
    "        \"Pengobatan/obat yang diberikan (e.g., SSRIs, Antidepressants)\",\n",
    "        \"Jenis terapi (e.g., CBT, DBT)\",\n",
    "        \"Tanggal mulai perawatan\",\n",
    "        \"Durasi perawatan dalam sepekan\",\n",
    "        \"Level Stres pasien\",\n",
    "        \"Hasil perawatan (e.g., Improved, Deteriorated)\",\n",
    "        \"Perkembangan selama perawatan (skala 1-10)\",\n",
    "        \"Kondisi emosional berdasarkan deteksi AI (e.g., Happy, Anxious)\",\n",
    "        \"Persentase kepatuhan terhadap perawatan\"\n",
    "    ]\n",
    "}\n",
    "\n",
    "# Create the DataFrame with an index column\n",
    "penjelasan = pd.DataFrame(data)\n",
    "penjelasan.index += 1  # Add an index starting from 1\n",
    "\n",
    "# Display the DataFrame\n",
    "penjelasan\n",
    "\n"
   ]
  },
  {
   "cell_type": "markdown",
   "id": "5d6e950f-d8ae-4052-b1b3-4520ed8e73c5",
   "metadata": {},
   "source": [
    "## 4.5 Tipe Data"
   ]
  },
  {
   "cell_type": "code",
   "execution_count": 6,
   "id": "a85a6462-14c8-4fb8-8be6-d34c99e6b1a8",
   "metadata": {},
   "outputs": [
    {
     "name": "stdout",
     "output_type": "stream",
     "text": [
      "<class 'pandas.core.frame.DataFrame'>\n",
      "RangeIndex: 500 entries, 0 to 499\n",
      "Data columns (total 17 columns):\n",
      " #   Column                        Non-Null Count  Dtype \n",
      "---  ------                        --------------  ----- \n",
      " 0   Patient ID                    500 non-null    int64 \n",
      " 1   Age                           500 non-null    int64 \n",
      " 2   Gender                        500 non-null    object\n",
      " 3   Diagnosis                     500 non-null    object\n",
      " 4   Symptom Severity (1-10)       500 non-null    int64 \n",
      " 5   Mood Score (1-10)             500 non-null    int64 \n",
      " 6   Sleep Quality (1-10)          500 non-null    int64 \n",
      " 7   Physical Activity (hrs/week)  500 non-null    int64 \n",
      " 8   Medication                    500 non-null    object\n",
      " 9   Therapy Type                  500 non-null    object\n",
      " 10  Treatment Start Date          500 non-null    object\n",
      " 11  Treatment Duration (weeks)    500 non-null    int64 \n",
      " 12  Stress Level (1-10)           500 non-null    int64 \n",
      " 13  Outcome                       500 non-null    object\n",
      " 14  Treatment Progress (1-10)     500 non-null    int64 \n",
      " 15  AI-Detected Emotional State   500 non-null    object\n",
      " 16  Adherence to Treatment (%)    500 non-null    int64 \n",
      "dtypes: int64(10), object(7)\n",
      "memory usage: 66.5+ KB\n"
     ]
    }
   ],
   "source": [
    "df.info()"
   ]
  },
  {
   "cell_type": "markdown",
   "id": "2d33c190-a6bb-4a77-af58-607ed80acecd",
   "metadata": {},
   "source": [
    "## 4.6 Deskriptif Statistik"
   ]
  },
  {
   "cell_type": "code",
   "execution_count": 7,
   "id": "f5e372b0-d477-468b-9c24-9d433670ba60",
   "metadata": {},
   "outputs": [
    {
     "data": {
      "text/html": [
       "<div>\n",
       "<style scoped>\n",
       "    .dataframe tbody tr th:only-of-type {\n",
       "        vertical-align: middle;\n",
       "    }\n",
       "\n",
       "    .dataframe tbody tr th {\n",
       "        vertical-align: top;\n",
       "    }\n",
       "\n",
       "    .dataframe thead th {\n",
       "        text-align: right;\n",
       "    }\n",
       "</style>\n",
       "<table border=\"1\" class=\"dataframe\">\n",
       "  <thead>\n",
       "    <tr style=\"text-align: center;\">\n",
       "      <th></th>\n",
       "      <th>Patient ID</th>\n",
       "      <th>Age</th>\n",
       "      <th>Symptom Severity (1-10)</th>\n",
       "      <th>Mood Score (1-10)</th>\n",
       "      <th>Sleep Quality (1-10)</th>\n",
       "      <th>Physical Activity (hrs/week)</th>\n",
       "      <th>Treatment Duration (weeks)</th>\n",
       "      <th>Stress Level (1-10)</th>\n",
       "      <th>Treatment Progress (1-10)</th>\n",
       "      <th>Adherence to Treatment (%)</th>\n",
       "    </tr>\n",
       "  </thead>\n",
       "  <tbody>\n",
       "    <tr>\n",
       "      <th>count</th>\n",
       "      <td>500.000000</td>\n",
       "      <td>500.000000</td>\n",
       "      <td>500.000000</td>\n",
       "      <td>500.000000</td>\n",
       "      <td>500.000000</td>\n",
       "      <td>500.000000</td>\n",
       "      <td>500.000000</td>\n",
       "      <td>500.000000</td>\n",
       "      <td>500.000000</td>\n",
       "      <td>500.00000</td>\n",
       "    </tr>\n",
       "    <tr>\n",
       "      <th>mean</th>\n",
       "      <td>250.500000</td>\n",
       "      <td>38.708000</td>\n",
       "      <td>7.478000</td>\n",
       "      <td>5.482000</td>\n",
       "      <td>6.472000</td>\n",
       "      <td>5.216000</td>\n",
       "      <td>12.110000</td>\n",
       "      <td>7.542000</td>\n",
       "      <td>7.436000</td>\n",
       "      <td>75.45400</td>\n",
       "    </tr>\n",
       "    <tr>\n",
       "      <th>std</th>\n",
       "      <td>144.481833</td>\n",
       "      <td>12.712433</td>\n",
       "      <td>1.706265</td>\n",
       "      <td>1.707486</td>\n",
       "      <td>1.668167</td>\n",
       "      <td>2.829374</td>\n",
       "      <td>2.440864</td>\n",
       "      <td>1.709409</td>\n",
       "      <td>1.725067</td>\n",
       "      <td>9.08697</td>\n",
       "    </tr>\n",
       "    <tr>\n",
       "      <th>min</th>\n",
       "      <td>1.000000</td>\n",
       "      <td>18.000000</td>\n",
       "      <td>5.000000</td>\n",
       "      <td>3.000000</td>\n",
       "      <td>4.000000</td>\n",
       "      <td>1.000000</td>\n",
       "      <td>8.000000</td>\n",
       "      <td>5.000000</td>\n",
       "      <td>5.000000</td>\n",
       "      <td>60.00000</td>\n",
       "    </tr>\n",
       "    <tr>\n",
       "      <th>25%</th>\n",
       "      <td>125.750000</td>\n",
       "      <td>28.000000</td>\n",
       "      <td>6.000000</td>\n",
       "      <td>4.000000</td>\n",
       "      <td>5.000000</td>\n",
       "      <td>3.000000</td>\n",
       "      <td>10.000000</td>\n",
       "      <td>6.000000</td>\n",
       "      <td>6.000000</td>\n",
       "      <td>67.00000</td>\n",
       "    </tr>\n",
       "    <tr>\n",
       "      <th>50%</th>\n",
       "      <td>250.500000</td>\n",
       "      <td>38.000000</td>\n",
       "      <td>8.000000</td>\n",
       "      <td>5.000000</td>\n",
       "      <td>6.000000</td>\n",
       "      <td>5.000000</td>\n",
       "      <td>12.000000</td>\n",
       "      <td>8.000000</td>\n",
       "      <td>7.000000</td>\n",
       "      <td>76.00000</td>\n",
       "    </tr>\n",
       "    <tr>\n",
       "      <th>75%</th>\n",
       "      <td>375.250000</td>\n",
       "      <td>50.000000</td>\n",
       "      <td>9.000000</td>\n",
       "      <td>7.000000</td>\n",
       "      <td>8.000000</td>\n",
       "      <td>8.000000</td>\n",
       "      <td>14.000000</td>\n",
       "      <td>9.000000</td>\n",
       "      <td>9.000000</td>\n",
       "      <td>84.00000</td>\n",
       "    </tr>\n",
       "    <tr>\n",
       "      <th>max</th>\n",
       "      <td>500.000000</td>\n",
       "      <td>60.000000</td>\n",
       "      <td>10.000000</td>\n",
       "      <td>8.000000</td>\n",
       "      <td>9.000000</td>\n",
       "      <td>10.000000</td>\n",
       "      <td>16.000000</td>\n",
       "      <td>10.000000</td>\n",
       "      <td>10.000000</td>\n",
       "      <td>90.00000</td>\n",
       "    </tr>\n",
       "  </tbody>\n",
       "</table>\n",
       "</div>"
      ],
      "text/plain": [
       "       Patient ID      Age     Symptom Severity (1-10)  Mood Score (1-10)  \\\n",
       "count  500.000000  500.000000        500.000000            500.000000       \n",
       "mean   250.500000   38.708000          7.478000              5.482000       \n",
       "std    144.481833   12.712433          1.706265              1.707486       \n",
       "min      1.000000   18.000000          5.000000              3.000000       \n",
       "25%    125.750000   28.000000          6.000000              4.000000       \n",
       "50%    250.500000   38.000000          8.000000              5.000000       \n",
       "75%    375.250000   50.000000          9.000000              7.000000       \n",
       "max    500.000000   60.000000         10.000000              8.000000       \n",
       "\n",
       "       Sleep Quality (1-10)  Physical Activity (hrs/week)  \\\n",
       "count       500.000000                500.000000            \n",
       "mean          6.472000                  5.216000            \n",
       "std           1.668167                  2.829374            \n",
       "min           4.000000                  1.000000            \n",
       "25%           5.000000                  3.000000            \n",
       "50%           6.000000                  5.000000            \n",
       "75%           8.000000                  8.000000            \n",
       "max           9.000000                 10.000000            \n",
       "\n",
       "       Treatment Duration (weeks)  Stress Level (1-10)  \\\n",
       "count          500.000000              500.000000        \n",
       "mean            12.110000                7.542000        \n",
       "std              2.440864                1.709409        \n",
       "min              8.000000                5.000000        \n",
       "25%             10.000000                6.000000        \n",
       "50%             12.000000                8.000000        \n",
       "75%             14.000000                9.000000        \n",
       "max             16.000000               10.000000        \n",
       "\n",
       "       Treatment Progress (1-10)  Adherence to Treatment (%)  \n",
       "count         500.000000                   500.00000          \n",
       "mean            7.436000                    75.45400          \n",
       "std             1.725067                     9.08697          \n",
       "min             5.000000                    60.00000          \n",
       "25%             6.000000                    67.00000          \n",
       "50%             7.000000                    76.00000          \n",
       "75%             9.000000                    84.00000          \n",
       "max            10.000000                    90.00000          "
      ]
     },
     "execution_count": 7,
     "metadata": {},
     "output_type": "execute_result"
    }
   ],
   "source": [
    "df.describe()"
   ]
  },
  {
   "cell_type": "markdown",
   "id": "b4219d2a-ae21-4990-8dbd-8e0fd9288e1b",
   "metadata": {
    "jp-MarkdownHeadingCollapsed": true
   },
   "source": [
    "## 4.7 Pengecekan Missing Value "
   ]
  },
  {
   "cell_type": "code",
   "execution_count": 8,
   "id": "eb345b11-59aa-4cfd-b86b-176dbcd45ddf",
   "metadata": {},
   "outputs": [
    {
     "data": {
      "text/plain": [
       "Patient ID                      0\n",
       "Age                             0\n",
       "Gender                          0\n",
       "Diagnosis                       0\n",
       "Symptom Severity (1-10)         0\n",
       "Mood Score (1-10)               0\n",
       "Sleep Quality (1-10)            0\n",
       "Physical Activity (hrs/week)    0\n",
       "Medication                      0\n",
       "Therapy Type                    0\n",
       "Treatment Start Date            0\n",
       "Treatment Duration (weeks)      0\n",
       "Stress Level (1-10)             0\n",
       "Outcome                         0\n",
       "Treatment Progress (1-10)       0\n",
       "AI-Detected Emotional State     0\n",
       "Adherence to Treatment (%)      0\n",
       "dtype: int64"
      ]
     },
     "execution_count": 8,
     "metadata": {},
     "output_type": "execute_result"
    }
   ],
   "source": [
    "df.isna().sum()"
   ]
  },
  {
   "cell_type": "code",
   "execution_count": 9,
   "id": "496a4375-4ddc-4155-9cc8-5395b2910aa0",
   "metadata": {},
   "outputs": [
    {
     "data": {
      "text/plain": [
       "Patient ID                      0\n",
       "Age                             0\n",
       "Gender                          0\n",
       "Diagnosis                       0\n",
       "Symptom Severity (1-10)         0\n",
       "Mood Score (1-10)               0\n",
       "Sleep Quality (1-10)            0\n",
       "Physical Activity (hrs/week)    0\n",
       "Medication                      0\n",
       "Therapy Type                    0\n",
       "Treatment Start Date            0\n",
       "Treatment Duration (weeks)      0\n",
       "Stress Level (1-10)             0\n",
       "Outcome                         0\n",
       "Treatment Progress (1-10)       0\n",
       "AI-Detected Emotional State     0\n",
       "Adherence to Treatment (%)      0\n",
       "dtype: int64"
      ]
     },
     "execution_count": 9,
     "metadata": {},
     "output_type": "execute_result"
    }
   ],
   "source": [
    "df.isnull().sum()"
   ]
  },
  {
   "cell_type": "markdown",
   "id": "36b3de3e-9257-496f-8914-d4d0ae1f3ef8",
   "metadata": {},
   "source": [
    "karena data yang diperoleh dari awal sudah tidak memiliki \"missing values\" maka kita bisa melewatkan step untuk pembersihan missing value."
   ]
  },
  {
   "cell_type": "markdown",
   "id": "7083180b-4b0b-4a5d-825b-58f63b4ff9dd",
   "metadata": {
    "jp-MarkdownHeadingCollapsed": true
   },
   "source": [
    "## 4.8 Pengecekan data duplikat"
   ]
  },
  {
   "cell_type": "code",
   "execution_count": 10,
   "id": "870dbb30-f2cd-422c-9fde-ad5964bf1125",
   "metadata": {},
   "outputs": [
    {
     "data": {
      "text/plain": [
       "0"
      ]
     },
     "execution_count": 10,
     "metadata": {},
     "output_type": "execute_result"
    }
   ],
   "source": [
    "df.duplicated().sum()"
   ]
  },
  {
   "cell_type": "code",
   "execution_count": 11,
   "id": "04a7ffa6-9026-4f69-87e1-87193120e92e",
   "metadata": {},
   "outputs": [
    {
     "data": {
      "text/html": [
       "<div>\n",
       "<style scoped>\n",
       "    .dataframe tbody tr th:only-of-type {\n",
       "        vertical-align: middle;\n",
       "    }\n",
       "\n",
       "    .dataframe tbody tr th {\n",
       "        vertical-align: top;\n",
       "    }\n",
       "\n",
       "    .dataframe thead th {\n",
       "        text-align: right;\n",
       "    }\n",
       "</style>\n",
       "<table border=\"1\" class=\"dataframe\">\n",
       "  <thead>\n",
       "    <tr style=\"text-align: center;\">\n",
       "      <th></th>\n",
       "      <th>Patient ID</th>\n",
       "      <th>Age</th>\n",
       "      <th>Gender</th>\n",
       "      <th>Diagnosis</th>\n",
       "      <th>Symptom Severity (1-10)</th>\n",
       "      <th>Mood Score (1-10)</th>\n",
       "      <th>Sleep Quality (1-10)</th>\n",
       "      <th>Physical Activity (hrs/week)</th>\n",
       "      <th>Medication</th>\n",
       "      <th>Therapy Type</th>\n",
       "      <th>Treatment Start Date</th>\n",
       "      <th>Treatment Duration (weeks)</th>\n",
       "      <th>Stress Level (1-10)</th>\n",
       "      <th>Outcome</th>\n",
       "      <th>Treatment Progress (1-10)</th>\n",
       "      <th>AI-Detected Emotional State</th>\n",
       "      <th>Adherence to Treatment (%)</th>\n",
       "    </tr>\n",
       "  </thead>\n",
       "  <tbody>\n",
       "  </tbody>\n",
       "</table>\n",
       "</div>"
      ],
      "text/plain": [
       "Empty DataFrame\n",
       "Columns: [Patient ID, Age, Gender, Diagnosis, Symptom Severity (1-10), Mood Score (1-10), Sleep Quality (1-10), Physical Activity (hrs/week), Medication, Therapy Type, Treatment Start Date, Treatment Duration (weeks), Stress Level (1-10), Outcome, Treatment Progress (1-10), AI-Detected Emotional State, Adherence to Treatment (%)]\n",
       "Index: []"
      ]
     },
     "execution_count": 11,
     "metadata": {},
     "output_type": "execute_result"
    }
   ],
   "source": [
    "df[df.duplicated()].head()"
   ]
  },
  {
   "cell_type": "markdown",
   "id": "69a1ac0a-1d37-4c77-ae15-1eb52b64b008",
   "metadata": {},
   "source": [
    "setelah kita melakukan peninjauan terhadap dataset, terlihat bahwa data yang kita memiliki sudah berstatus \"clean\" karena tidak memiliki \"missing values\" dan \"duplicate data\""
   ]
  },
  {
   "cell_type": "markdown",
   "id": "88831d08-bbc4-462a-b111-181a265ed4f1",
   "metadata": {
    "jp-MarkdownHeadingCollapsed": true
   },
   "source": [
    "## 4.9 Penggantian nama kolom"
   ]
  },
  {
   "cell_type": "markdown",
   "id": "143f9a78-f6f2-49af-acb1-a34a167b465e",
   "metadata": {},
   "source": [
    "Karena nama kolom pada dataframe masih dirasa terlalu panjang maka perlu dilakukan simplifikasi nama pada kolom yang terlalu panjang."
   ]
  },
  {
   "cell_type": "code",
   "execution_count": 12,
   "id": "453bf24a-9a9e-41f4-99f7-73d930f9e93c",
   "metadata": {},
   "outputs": [
    {
     "data": {
      "text/plain": [
       "array(['Patient ID', 'Age', 'Gender', 'Diagnosis',\n",
       "       'Symptom Severity (1-10)', 'Mood Score (1-10)',\n",
       "       'Sleep Quality (1-10)', 'Physical Activity (hrs/week)',\n",
       "       'Medication', 'Therapy Type', 'Treatment Start Date',\n",
       "       'Treatment Duration (weeks)', 'Stress Level (1-10)', 'Outcome',\n",
       "       'Treatment Progress (1-10)', 'AI-Detected Emotional State',\n",
       "       'Adherence to Treatment (%)'], dtype=object)"
      ]
     },
     "execution_count": 12,
     "metadata": {},
     "output_type": "execute_result"
    }
   ],
   "source": [
    "df.columns.values"
   ]
  },
  {
   "cell_type": "code",
   "execution_count": 13,
   "id": "fe70dabd-d385-4c63-af8e-e676319d2a64",
   "metadata": {},
   "outputs": [],
   "source": [
    "df.rename(columns={'Symptom Severity (1-10)':'symptom',\n",
    "                   'Mood Score (1-10)':'mood',\n",
    "                   'Sleep Quality (1-10)':'sleep',\n",
    "                   'Physical Activity (hrs/week)':'physical',\n",
    "                   'Therapy Type':'Therapy',\n",
    "                   'Treatment Start Date':'treatment',\n",
    "                   'Treatment Duration (weeks)':'duration',\n",
    "                   'Stress Level (1-10)':'stress',\n",
    "                   'Treatment Progress (1-10)':'progres',\n",
    "                   'AI-Detected Emotional State':'AIstate',\n",
    "                   'Adherence to Treatment (%)':'Target'                   \n",
    "                  },inplace = True )"
   ]
  },
  {
   "cell_type": "code",
   "execution_count": 14,
   "id": "27c52645-006b-4cad-aadb-e961fd03e01b",
   "metadata": {},
   "outputs": [
    {
     "data": {
      "text/html": [
       "<div>\n",
       "<style scoped>\n",
       "    .dataframe tbody tr th:only-of-type {\n",
       "        vertical-align: middle;\n",
       "    }\n",
       "\n",
       "    .dataframe tbody tr th {\n",
       "        vertical-align: top;\n",
       "    }\n",
       "\n",
       "    .dataframe thead th {\n",
       "        text-align: right;\n",
       "    }\n",
       "</style>\n",
       "<table border=\"1\" class=\"dataframe\">\n",
       "  <thead>\n",
       "    <tr style=\"text-align: center;\">\n",
       "      <th></th>\n",
       "      <th>Patient ID</th>\n",
       "      <th>Age</th>\n",
       "      <th>Gender</th>\n",
       "      <th>Diagnosis</th>\n",
       "      <th>symptom</th>\n",
       "      <th>mood</th>\n",
       "      <th>sleep</th>\n",
       "      <th>physical</th>\n",
       "      <th>Medication</th>\n",
       "      <th>Therapy</th>\n",
       "      <th>treatment</th>\n",
       "      <th>duration</th>\n",
       "      <th>stress</th>\n",
       "      <th>Outcome</th>\n",
       "      <th>progres</th>\n",
       "      <th>AIstate</th>\n",
       "      <th>Target</th>\n",
       "    </tr>\n",
       "  </thead>\n",
       "  <tbody>\n",
       "    <tr>\n",
       "      <th>495</th>\n",
       "      <td>496</td>\n",
       "      <td>24</td>\n",
       "      <td>Male</td>\n",
       "      <td>Generalized Anxiety</td>\n",
       "      <td>10</td>\n",
       "      <td>4</td>\n",
       "      <td>8</td>\n",
       "      <td>6</td>\n",
       "      <td>Mood Stabilizers</td>\n",
       "      <td>Dialectical Behavioral Therapy</td>\n",
       "      <td>2024-04-09</td>\n",
       "      <td>8</td>\n",
       "      <td>9</td>\n",
       "      <td>Improved</td>\n",
       "      <td>10</td>\n",
       "      <td>Depressed</td>\n",
       "      <td>73</td>\n",
       "    </tr>\n",
       "    <tr>\n",
       "      <th>496</th>\n",
       "      <td>497</td>\n",
       "      <td>22</td>\n",
       "      <td>Male</td>\n",
       "      <td>Panic Disorder</td>\n",
       "      <td>5</td>\n",
       "      <td>6</td>\n",
       "      <td>6</td>\n",
       "      <td>7</td>\n",
       "      <td>Benzodiazepines</td>\n",
       "      <td>Mindfulness-Based Therapy</td>\n",
       "      <td>2024-02-05</td>\n",
       "      <td>13</td>\n",
       "      <td>6</td>\n",
       "      <td>Deteriorated</td>\n",
       "      <td>8</td>\n",
       "      <td>Happy</td>\n",
       "      <td>86</td>\n",
       "    </tr>\n",
       "    <tr>\n",
       "      <th>497</th>\n",
       "      <td>498</td>\n",
       "      <td>23</td>\n",
       "      <td>Male</td>\n",
       "      <td>Major Depressive Disorder</td>\n",
       "      <td>7</td>\n",
       "      <td>3</td>\n",
       "      <td>4</td>\n",
       "      <td>2</td>\n",
       "      <td>Antidepressants</td>\n",
       "      <td>Cognitive Behavioral Therapy</td>\n",
       "      <td>2024-03-24</td>\n",
       "      <td>10</td>\n",
       "      <td>5</td>\n",
       "      <td>Deteriorated</td>\n",
       "      <td>5</td>\n",
       "      <td>Neutral</td>\n",
       "      <td>87</td>\n",
       "    </tr>\n",
       "    <tr>\n",
       "      <th>498</th>\n",
       "      <td>499</td>\n",
       "      <td>48</td>\n",
       "      <td>Male</td>\n",
       "      <td>Bipolar Disorder</td>\n",
       "      <td>9</td>\n",
       "      <td>4</td>\n",
       "      <td>6</td>\n",
       "      <td>9</td>\n",
       "      <td>Antidepressants</td>\n",
       "      <td>Mindfulness-Based Therapy</td>\n",
       "      <td>2024-03-22</td>\n",
       "      <td>10</td>\n",
       "      <td>6</td>\n",
       "      <td>Improved</td>\n",
       "      <td>7</td>\n",
       "      <td>Anxious</td>\n",
       "      <td>73</td>\n",
       "    </tr>\n",
       "    <tr>\n",
       "      <th>499</th>\n",
       "      <td>500</td>\n",
       "      <td>58</td>\n",
       "      <td>Male</td>\n",
       "      <td>Bipolar Disorder</td>\n",
       "      <td>5</td>\n",
       "      <td>7</td>\n",
       "      <td>6</td>\n",
       "      <td>2</td>\n",
       "      <td>SSRIs</td>\n",
       "      <td>Cognitive Behavioral Therapy</td>\n",
       "      <td>2024-03-24</td>\n",
       "      <td>10</td>\n",
       "      <td>6</td>\n",
       "      <td>Deteriorated</td>\n",
       "      <td>5</td>\n",
       "      <td>Happy</td>\n",
       "      <td>70</td>\n",
       "    </tr>\n",
       "  </tbody>\n",
       "</table>\n",
       "</div>"
      ],
      "text/plain": [
       "     Patient ID  Age Gender         Diagnosis           symptom  mood  sleep  \\\n",
       "495      496     24   Male         Generalized Anxiety    10       4     8     \n",
       "496      497     22   Male              Panic Disorder     5       6     6     \n",
       "497      498     23   Male   Major Depressive Disorder     7       3     4     \n",
       "498      499     48   Male            Bipolar Disorder     9       4     6     \n",
       "499      500     58   Male            Bipolar Disorder     5       7     6     \n",
       "\n",
       "     physical     Medication                Therapy              treatment   \\\n",
       "495      6     Mood Stabilizers  Dialectical Behavioral Therapy  2024-04-09   \n",
       "496      7      Benzodiazepines       Mindfulness-Based Therapy  2024-02-05   \n",
       "497      2      Antidepressants    Cognitive Behavioral Therapy  2024-03-24   \n",
       "498      9      Antidepressants       Mindfulness-Based Therapy  2024-03-22   \n",
       "499      2                SSRIs    Cognitive Behavioral Therapy  2024-03-24   \n",
       "\n",
       "     duration  stress    Outcome     progres  AIstate    Target  \n",
       "495      8        9        Improved    10     Depressed    73    \n",
       "496     13        6    Deteriorated     8         Happy    86    \n",
       "497     10        5    Deteriorated     5       Neutral    87    \n",
       "498     10        6        Improved     7       Anxious    73    \n",
       "499     10        6    Deteriorated     5         Happy    70    "
      ]
     },
     "execution_count": 14,
     "metadata": {},
     "output_type": "execute_result"
    }
   ],
   "source": [
    "df.tail()"
   ]
  },
  {
   "cell_type": "code",
   "execution_count": 15,
   "id": "98a035be-0a02-4592-b4f5-368ff5684a53",
   "metadata": {},
   "outputs": [
    {
     "name": "stdout",
     "output_type": "stream",
     "text": [
      "<class 'pandas.core.frame.DataFrame'>\n",
      "RangeIndex: 500 entries, 0 to 499\n",
      "Data columns (total 17 columns):\n",
      " #   Column      Non-Null Count  Dtype         \n",
      "---  ------      --------------  -----         \n",
      " 0   Patient ID  500 non-null    int64         \n",
      " 1   Age         500 non-null    int64         \n",
      " 2   Gender      500 non-null    object        \n",
      " 3   Diagnosis   500 non-null    object        \n",
      " 4   symptom     500 non-null    int64         \n",
      " 5   mood        500 non-null    int64         \n",
      " 6   sleep       500 non-null    int64         \n",
      " 7   physical    500 non-null    int64         \n",
      " 8   Medication  500 non-null    object        \n",
      " 9   Therapy     500 non-null    object        \n",
      " 10  treatment   500 non-null    datetime64[ns]\n",
      " 11  duration    500 non-null    int64         \n",
      " 12  stress      500 non-null    int64         \n",
      " 13  Outcome     500 non-null    object        \n",
      " 14  progres     500 non-null    int64         \n",
      " 15  AIstate     500 non-null    object        \n",
      " 16  Target      500 non-null    int64         \n",
      "dtypes: datetime64[ns](1), int64(10), object(6)\n",
      "memory usage: 66.5+ KB\n"
     ]
    }
   ],
   "source": [
    "## mengubah format date time pada kolom treatment\n",
    "\n",
    "df[\"treatment\"] = pd.to_datetime(df[\"treatment\"], format='%Y-%m-%d')\n",
    "df.info()"
   ]
  },
  {
   "cell_type": "markdown",
   "id": "1eec2c09-962e-4f1d-a4b3-f2eb9db97fdb",
   "metadata": {},
   "source": [
    "# 5. Eksplorasi Data Analisis"
   ]
  },
  {
   "cell_type": "markdown",
   "id": "a7cf8abf-0cbe-4943-ac89-ecbad7c0aea6",
   "metadata": {},
   "source": [
    "## 5.1 Statistik Deskriptif"
   ]
  },
  {
   "cell_type": "code",
   "execution_count": 16,
   "id": "18f5dc03-09c6-45e1-b811-f97a97c9ecd2",
   "metadata": {},
   "outputs": [
    {
     "data": {
      "text/html": [
       "<div>\n",
       "<style scoped>\n",
       "    .dataframe tbody tr th:only-of-type {\n",
       "        vertical-align: middle;\n",
       "    }\n",
       "\n",
       "    .dataframe tbody tr th {\n",
       "        vertical-align: top;\n",
       "    }\n",
       "\n",
       "    .dataframe thead th {\n",
       "        text-align: right;\n",
       "    }\n",
       "</style>\n",
       "<table border=\"1\" class=\"dataframe\">\n",
       "  <thead>\n",
       "    <tr style=\"text-align: center;\">\n",
       "      <th></th>\n",
       "      <th>Patient ID</th>\n",
       "      <th>Age</th>\n",
       "      <th>symptom</th>\n",
       "      <th>mood</th>\n",
       "      <th>sleep</th>\n",
       "      <th>physical</th>\n",
       "      <th>treatment</th>\n",
       "      <th>duration</th>\n",
       "      <th>stress</th>\n",
       "      <th>progres</th>\n",
       "      <th>Target</th>\n",
       "    </tr>\n",
       "  </thead>\n",
       "  <tbody>\n",
       "    <tr>\n",
       "      <th>count</th>\n",
       "      <td>500.000000</td>\n",
       "      <td>500.000000</td>\n",
       "      <td>500.000000</td>\n",
       "      <td>500.000000</td>\n",
       "      <td>500.000000</td>\n",
       "      <td>500.000000</td>\n",
       "      <td>500</td>\n",
       "      <td>500.000000</td>\n",
       "      <td>500.000000</td>\n",
       "      <td>500.000000</td>\n",
       "      <td>500.00000</td>\n",
       "    </tr>\n",
       "    <tr>\n",
       "      <th>mean</th>\n",
       "      <td>250.500000</td>\n",
       "      <td>38.708000</td>\n",
       "      <td>7.478000</td>\n",
       "      <td>5.482000</td>\n",
       "      <td>6.472000</td>\n",
       "      <td>5.216000</td>\n",
       "      <td>2024-02-18 09:53:16.800000</td>\n",
       "      <td>12.110000</td>\n",
       "      <td>7.542000</td>\n",
       "      <td>7.436000</td>\n",
       "      <td>75.45400</td>\n",
       "    </tr>\n",
       "    <tr>\n",
       "      <th>min</th>\n",
       "      <td>1.000000</td>\n",
       "      <td>18.000000</td>\n",
       "      <td>5.000000</td>\n",
       "      <td>3.000000</td>\n",
       "      <td>4.000000</td>\n",
       "      <td>1.000000</td>\n",
       "      <td>2024-01-01 00:00:00</td>\n",
       "      <td>8.000000</td>\n",
       "      <td>5.000000</td>\n",
       "      <td>5.000000</td>\n",
       "      <td>60.00000</td>\n",
       "    </tr>\n",
       "    <tr>\n",
       "      <th>25%</th>\n",
       "      <td>125.750000</td>\n",
       "      <td>28.000000</td>\n",
       "      <td>6.000000</td>\n",
       "      <td>4.000000</td>\n",
       "      <td>5.000000</td>\n",
       "      <td>3.000000</td>\n",
       "      <td>2024-01-23 18:00:00</td>\n",
       "      <td>10.000000</td>\n",
       "      <td>6.000000</td>\n",
       "      <td>6.000000</td>\n",
       "      <td>67.00000</td>\n",
       "    </tr>\n",
       "    <tr>\n",
       "      <th>50%</th>\n",
       "      <td>250.500000</td>\n",
       "      <td>38.000000</td>\n",
       "      <td>8.000000</td>\n",
       "      <td>5.000000</td>\n",
       "      <td>6.000000</td>\n",
       "      <td>5.000000</td>\n",
       "      <td>2024-02-17 00:00:00</td>\n",
       "      <td>12.000000</td>\n",
       "      <td>8.000000</td>\n",
       "      <td>7.000000</td>\n",
       "      <td>76.00000</td>\n",
       "    </tr>\n",
       "    <tr>\n",
       "      <th>75%</th>\n",
       "      <td>375.250000</td>\n",
       "      <td>50.000000</td>\n",
       "      <td>9.000000</td>\n",
       "      <td>7.000000</td>\n",
       "      <td>8.000000</td>\n",
       "      <td>8.000000</td>\n",
       "      <td>2024-03-17 00:00:00</td>\n",
       "      <td>14.000000</td>\n",
       "      <td>9.000000</td>\n",
       "      <td>9.000000</td>\n",
       "      <td>84.00000</td>\n",
       "    </tr>\n",
       "    <tr>\n",
       "      <th>max</th>\n",
       "      <td>500.000000</td>\n",
       "      <td>60.000000</td>\n",
       "      <td>10.000000</td>\n",
       "      <td>8.000000</td>\n",
       "      <td>9.000000</td>\n",
       "      <td>10.000000</td>\n",
       "      <td>2024-04-10 00:00:00</td>\n",
       "      <td>16.000000</td>\n",
       "      <td>10.000000</td>\n",
       "      <td>10.000000</td>\n",
       "      <td>90.00000</td>\n",
       "    </tr>\n",
       "    <tr>\n",
       "      <th>std</th>\n",
       "      <td>144.481833</td>\n",
       "      <td>12.712433</td>\n",
       "      <td>1.706265</td>\n",
       "      <td>1.707486</td>\n",
       "      <td>1.668167</td>\n",
       "      <td>2.829374</td>\n",
       "      <td>NaN</td>\n",
       "      <td>2.440864</td>\n",
       "      <td>1.709409</td>\n",
       "      <td>1.725067</td>\n",
       "      <td>9.08697</td>\n",
       "    </tr>\n",
       "  </tbody>\n",
       "</table>\n",
       "</div>"
      ],
      "text/plain": [
       "       Patient ID      Age       symptom      mood        sleep     physical   \\\n",
       "count  500.000000  500.000000  500.000000  500.000000  500.000000  500.000000   \n",
       "mean   250.500000   38.708000    7.478000    5.482000    6.472000    5.216000   \n",
       "min      1.000000   18.000000    5.000000    3.000000    4.000000    1.000000   \n",
       "25%    125.750000   28.000000    6.000000    4.000000    5.000000    3.000000   \n",
       "50%    250.500000   38.000000    8.000000    5.000000    6.000000    5.000000   \n",
       "75%    375.250000   50.000000    9.000000    7.000000    8.000000    8.000000   \n",
       "max    500.000000   60.000000   10.000000    8.000000    9.000000   10.000000   \n",
       "std    144.481833   12.712433    1.706265    1.707486    1.668167    2.829374   \n",
       "\n",
       "               treatment            duration     stress      progres   \\\n",
       "count                         500  500.000000  500.000000  500.000000   \n",
       "mean   2024-02-18 09:53:16.800000   12.110000    7.542000    7.436000   \n",
       "min           2024-01-01 00:00:00    8.000000    5.000000    5.000000   \n",
       "25%           2024-01-23 18:00:00   10.000000    6.000000    6.000000   \n",
       "50%           2024-02-17 00:00:00   12.000000    8.000000    7.000000   \n",
       "75%           2024-03-17 00:00:00   14.000000    9.000000    9.000000   \n",
       "max           2024-04-10 00:00:00   16.000000   10.000000   10.000000   \n",
       "std                           NaN    2.440864    1.709409    1.725067   \n",
       "\n",
       "        Target    \n",
       "count  500.00000  \n",
       "mean    75.45400  \n",
       "min     60.00000  \n",
       "25%     67.00000  \n",
       "50%     76.00000  \n",
       "75%     84.00000  \n",
       "max     90.00000  \n",
       "std      9.08697  "
      ]
     },
     "execution_count": 16,
     "metadata": {},
     "output_type": "execute_result"
    }
   ],
   "source": [
    "dfc= df.copy()\n",
    "dfc.describe()"
   ]
  },
  {
   "cell_type": "code",
   "execution_count": 23,
   "id": "4384d1c9-bebe-475d-ad2c-a3008b972e55",
   "metadata": {},
   "outputs": [
    {
     "data": {
      "text/html": [
       "<div>\n",
       "<style scoped>\n",
       "    .dataframe tbody tr th:only-of-type {\n",
       "        vertical-align: middle;\n",
       "    }\n",
       "\n",
       "    .dataframe tbody tr th {\n",
       "        vertical-align: top;\n",
       "    }\n",
       "\n",
       "    .dataframe thead th {\n",
       "        text-align: right;\n",
       "    }\n",
       "</style>\n",
       "<table border=\"1\" class=\"dataframe\">\n",
       "  <thead>\n",
       "    <tr style=\"text-align: center;\">\n",
       "      <th></th>\n",
       "      <th>Gender</th>\n",
       "      <th>Diagnosis</th>\n",
       "      <th>Medication</th>\n",
       "      <th>Therapy</th>\n",
       "      <th>Outcome</th>\n",
       "      <th>AIstate</th>\n",
       "    </tr>\n",
       "  </thead>\n",
       "  <tbody>\n",
       "    <tr>\n",
       "      <th>495</th>\n",
       "      <td>Male</td>\n",
       "      <td>Generalized Anxiety</td>\n",
       "      <td>Mood Stabilizers</td>\n",
       "      <td>Dialectical Behavioral Therapy</td>\n",
       "      <td>Improved</td>\n",
       "      <td>Depressed</td>\n",
       "    </tr>\n",
       "    <tr>\n",
       "      <th>496</th>\n",
       "      <td>Male</td>\n",
       "      <td>Panic Disorder</td>\n",
       "      <td>Benzodiazepines</td>\n",
       "      <td>Mindfulness-Based Therapy</td>\n",
       "      <td>Deteriorated</td>\n",
       "      <td>Happy</td>\n",
       "    </tr>\n",
       "    <tr>\n",
       "      <th>497</th>\n",
       "      <td>Male</td>\n",
       "      <td>Major Depressive Disorder</td>\n",
       "      <td>Antidepressants</td>\n",
       "      <td>Cognitive Behavioral Therapy</td>\n",
       "      <td>Deteriorated</td>\n",
       "      <td>Neutral</td>\n",
       "    </tr>\n",
       "    <tr>\n",
       "      <th>498</th>\n",
       "      <td>Male</td>\n",
       "      <td>Bipolar Disorder</td>\n",
       "      <td>Antidepressants</td>\n",
       "      <td>Mindfulness-Based Therapy</td>\n",
       "      <td>Improved</td>\n",
       "      <td>Anxious</td>\n",
       "    </tr>\n",
       "    <tr>\n",
       "      <th>499</th>\n",
       "      <td>Male</td>\n",
       "      <td>Bipolar Disorder</td>\n",
       "      <td>SSRIs</td>\n",
       "      <td>Cognitive Behavioral Therapy</td>\n",
       "      <td>Deteriorated</td>\n",
       "      <td>Happy</td>\n",
       "    </tr>\n",
       "  </tbody>\n",
       "</table>\n",
       "</div>"
      ],
      "text/plain": [
       "    Gender         Diagnosis              Medication     \\\n",
       "495  Male         Generalized Anxiety  Mood Stabilizers   \n",
       "496  Male              Panic Disorder   Benzodiazepines   \n",
       "497  Male   Major Depressive Disorder   Antidepressants   \n",
       "498  Male            Bipolar Disorder   Antidepressants   \n",
       "499  Male            Bipolar Disorder             SSRIs   \n",
       "\n",
       "                Therapy                Outcome     AIstate    \n",
       "495  Dialectical Behavioral Therapy      Improved  Depressed  \n",
       "496       Mindfulness-Based Therapy  Deteriorated      Happy  \n",
       "497    Cognitive Behavioral Therapy  Deteriorated    Neutral  \n",
       "498       Mindfulness-Based Therapy      Improved    Anxious  \n",
       "499    Cognitive Behavioral Therapy  Deteriorated      Happy  "
      ]
     },
     "execution_count": 23,
     "metadata": {},
     "output_type": "execute_result"
    }
   ],
   "source": [
    "# membuat dataset yang berisi kolom numerik \n",
    "df_nm = dfc.describe().columns.values\n",
    "\n",
    "# membuat dataset yang berisi data kategorik (non numerik)\n",
    "df_kat = dfc.drop(np.array(df_nm), axis=1)\n",
    "\n",
    "df_n = dfc.drop(np.array(df_kat.columns.values), axis=1) \n",
    "df_num = df_n.drop(['Patient ID','treatment'], axis=1)\n",
    "df_num\n",
    "df_kat.tail()"
   ]
  },
  {
   "cell_type": "code",
   "execution_count": 26,
   "id": "515a2047-9724-4a56-bfd2-d5867e44d829",
   "metadata": {},
   "outputs": [
    {
     "data": {
      "text/html": [
       "<div>\n",
       "<style scoped>\n",
       "    .dataframe tbody tr th:only-of-type {\n",
       "        vertical-align: middle;\n",
       "    }\n",
       "\n",
       "    .dataframe tbody tr th {\n",
       "        vertical-align: top;\n",
       "    }\n",
       "\n",
       "    .dataframe thead th {\n",
       "        text-align: right;\n",
       "    }\n",
       "</style>\n",
       "<table border=\"1\" class=\"dataframe\">\n",
       "  <thead>\n",
       "    <tr style=\"text-align: center;\">\n",
       "      <th></th>\n",
       "      <th>count</th>\n",
       "    </tr>\n",
       "    <tr>\n",
       "      <th>Gender</th>\n",
       "      <th></th>\n",
       "    </tr>\n",
       "  </thead>\n",
       "  <tbody>\n",
       "    <tr>\n",
       "      <th>Male</th>\n",
       "      <td>266</td>\n",
       "    </tr>\n",
       "    <tr>\n",
       "      <th>Female</th>\n",
       "      <td>234</td>\n",
       "    </tr>\n",
       "  </tbody>\n",
       "</table>\n",
       "</div>"
      ],
      "text/plain": [
       "        count\n",
       "Gender       \n",
       "Male     266 \n",
       "Female   234 "
      ]
     },
     "execution_count": 26,
     "metadata": {},
     "output_type": "execute_result"
    }
   ],
   "source": [
    "pd.DataFrame(df_kat[\"Gender\"].value_counts())"
   ]
  },
  {
   "cell_type": "code",
   "execution_count": 48,
   "id": "be90826c-090d-4e05-b830-9a6e9958f4fc",
   "metadata": {},
   "outputs": [
    {
     "data": {
      "text/plain": [
       "<Figure size 1400x800 with 0 Axes>"
      ]
     },
     "metadata": {},
     "output_type": "display_data"
    },
    {
     "data": {
      "image/png": "[encoded data removed]",
      "text/plain": [
       "<Figure size 1400x800 with 1 Axes>"
      ]
     },
     "metadata": {},
     "output_type": "display_data"
    },
    {
     "data": {
      "image/png": "[encoded data removed]",
      "text/plain": [
       "<Figure size 1400x800 with 1 Axes>"
      ]
     },
     "metadata": {},
     "output_type": "display_data"
    },
    {
     "data": {
      "image/png": "[encoded data removed]",
      "text/plain": [
       "<Figure size 1400x800 with 1 Axes>"
      ]
     },
     "metadata": {},
     "output_type": "display_data"
    },
    {
     "data": {
      "image/png": "[encoded data removed]",
      "text/plain": [
       "<Figure size 1400x800 with 1 Axes>"
      ]
     },
     "metadata": {},
     "output_type": "display_data"
    },
    {
     "data": {
      "image/png": "[encoded data removed]",
      "text/plain": [
       "<Figure size 1400x800 with 1 Axes>"
      ]
     },
     "metadata": {},
     "output_type": "display_data"
    },
    {
     "data": {
      "image/png": "[encoded data removed]",
      "text/plain": [
       "<Figure size 1400x800 with 1 Axes>"
      ]
     },
     "metadata": {},
     "output_type": "display_data"
    },
    {
     "data": {
      "image/png": "[encoded data removed]",
      "text/plain": [
       "<Figure size 1400x800 with 1 Axes>"
      ]
     },
     "metadata": {},
     "output_type": "display_data"
    },
    {
     "data": {
      "image/png": "[encoded data removed]",
      "text/plain": [
       "<Figure size 1400x800 with 1 Axes>"
      ]
     },
     "metadata": {},
     "output_type": "display_data"
    },
    {
     "data": {
      "image/png": "[encoded data removed]",
      "text/plain": [
       "<Figure size 1400x800 with 1 Axes>"
      ]
     },
     "metadata": {},
     "output_type": "display_data"
    },
    {
     "data": {
      "image/png": "[encoded data removed]",
      "text/plain": [
       "<Figure size 1400x800 with 1 Axes>"
      ]
     },
     "metadata": {},
     "output_type": "display_data"
    },
    {
     "data": {
      "image/png": "[encoded data removed]",
      "text/plain": [
       "<Figure size 1400x800 with 1 Axes>"
      ]
     },
     "metadata": {},
     "output_type": "display_data"
    },
    {
     "data": {
      "image/png": "[encoded data removed]",
      "text/plain": [
       "<Figure size 1400x800 with 1 Axes>"
      ]
     },
     "metadata": {},
     "output_type": "display_data"
    },
    {
     "data": {
      "image/png": "[encoded data removed]",
      "text/plain": [
       "<Figure size 1400x800 with 1 Axes>"
      ]
     },
     "metadata": {},
     "output_type": "display_data"
    },
    {
     "data": {
      "image/png": "[encoded data removed]",
      "text/plain": [
       "<Figure size 1400x800 with 1 Axes>"
      ]
     },
     "metadata": {},
     "output_type": "display_data"
    },
    {
     "data": {
      "image/png": "[encoded data removed]",
      "text/plain": [
       "<Figure size 1400x800 with 1 Axes>"
      ]
     },
     "metadata": {},
     "output_type": "display_data"
    },
    {
     "data": {
      "image/png": "[encoded data removed]",
      "text/plain": [
       "<Figure size 1400x800 with 1 Axes>"
      ]
     },
     "metadata": {},
     "output_type": "display_data"
    },
    {
     "data": {
      "image/png": "[encoded data removed]",
      "text/plain": [
       "<Figure size 1400x800 with 1 Axes>"
      ]
     },
     "metadata": {},
     "output_type": "display_data"
    },
    {
     "data": {
      "image/png": "[encoded data removed]",
      "text/plain": [
       "<Figure size 1400x800 with 1 Axes>"
      ]
     },
     "metadata": {},
     "output_type": "display_data"
    }
   ],
   "source": [
    "# Melihat grafik sebaran data\n",
    "for col in df.columns:\n",
    "    plt.figure(figsize=(14, 8))\n",
    "    # Use the actual column data for value_counts\n",
    "    counts = df[col].value_counts()\n",
    "    plt.bar(counts.index,counts.values,color='Green')  # Removed the 'hue' argument\n",
    "    plt.title(f\"Sebaran Data for {col}\")\n",
    "    plt.xticks(rotation=45)\n",
    "    plt.xlabel(col)\n",
    "    plt.ylabel('Counts')\n",
    "    plt.show()\n"
   ]
  },
  {
   "cell_type": "code",
   "execution_count": null,
   "id": "0c51afe1-e0ab-405b-a35b-f7534b727930",
   "metadata": {},
   "outputs": [],
   "source": [
    "#melihat sebaran secara histogram untuk kolom numerik\n",
    "\n",
    "for col in df_num.columns:\n",
    "    plt.figure(figsize=(14, 8))\n",
    "    # Use the actual column data for value_counts\n",
    "    plt.hist(df_num[col])\n",
    "    plt.title(f\"Sebaran Data for {col}\")\n",
    "    plt.xticks(rotation=45)\n",
    "    plt.legend()\n",
    "    plt.show()"
   ]
  },
  {
   "cell_type": "markdown",
   "id": "b066f1c5-413d-4427-a4db-761720e353ba",
   "metadata": {
    "jp-MarkdownHeadingCollapsed": true,
    "scrolled": true
   },
   "source": [
    "### Ukuran Pemusatan Data "
   ]
  },
  {
   "cell_type": "markdown",
   "id": "7182caf7-743c-40db-9b35-998e0ee82bd4",
   "metadata": {},
   "source": [
    "#### A. Rata-rata"
   ]
  },
  {
   "cell_type": "code",
   "execution_count": 88,
   "id": "afebd422-e5b8-43a0-9c71-263061302638",
   "metadata": {},
   "outputs": [
    {
     "data": {
      "text/plain": [
       "array(['Age', 'symptom', 'mood', 'sleep', 'physical', 'duration',\n",
       "       'stress', 'progres', 'Target'], dtype=object)"
      ]
     },
     "execution_count": 88,
     "metadata": {},
     "output_type": "execute_result"
    }
   ],
   "source": [
    "# Memanggil Rata-rata \n",
    "mean = pd.DataFrame({\"Kolom\": df_num.columns.values,\n",
    "                     \"Rata-rata\": df_num.mean(),\n",
    "                     \"No\": np.arange(1,len(df_num.columns.values)+1,1)\n",
    "                    })\n",
    "mean.set_index('No',inplace=True)\n",
    "np.array(mean[\"Kolom\"])"
   ]
  },
  {
   "cell_type": "markdown",
   "id": "bf1b30ed-20a4-45c6-801f-d23e207e11eb",
   "metadata": {},
   "source": [
    "#### B. Modus "
   ]
  },
  {
   "cell_type": "code",
   "execution_count": 92,
   "id": "612cbbc3-057d-4b0c-9b83-c1f567d205ab",
   "metadata": {},
   "outputs": [
    {
     "data": {
      "text/html": [
       "<div>\n",
       "<style scoped>\n",
       "    .dataframe tbody tr th:only-of-type {\n",
       "        vertical-align: middle;\n",
       "    }\n",
       "\n",
       "    .dataframe tbody tr th {\n",
       "        vertical-align: top;\n",
       "    }\n",
       "\n",
       "    .dataframe thead th {\n",
       "        text-align: right;\n",
       "    }\n",
       "</style>\n",
       "<table border=\"1\" class=\"dataframe\">\n",
       "  <thead>\n",
       "    <tr style=\"text-align: center;\">\n",
       "      <th></th>\n",
       "      <th>0</th>\n",
       "      <th>Kolom</th>\n",
       "    </tr>\n",
       "    <tr>\n",
       "      <th>No</th>\n",
       "      <th></th>\n",
       "      <th></th>\n",
       "    </tr>\n",
       "  </thead>\n",
       "  <tbody>\n",
       "    <tr>\n",
       "      <th>1</th>\n",
       "      <td>31</td>\n",
       "      <td>Age</td>\n",
       "    </tr>\n",
       "    <tr>\n",
       "      <th>2</th>\n",
       "      <td>8</td>\n",
       "      <td>symptom</td>\n",
       "    </tr>\n",
       "    <tr>\n",
       "      <th>3</th>\n",
       "      <td>5</td>\n",
       "      <td>mood</td>\n",
       "    </tr>\n",
       "    <tr>\n",
       "      <th>4</th>\n",
       "      <td>6</td>\n",
       "      <td>sleep</td>\n",
       "    </tr>\n",
       "    <tr>\n",
       "      <th>5</th>\n",
       "      <td>3</td>\n",
       "      <td>physical</td>\n",
       "    </tr>\n",
       "    <tr>\n",
       "      <th>6</th>\n",
       "      <td>12</td>\n",
       "      <td>duration</td>\n",
       "    </tr>\n",
       "    <tr>\n",
       "      <th>7</th>\n",
       "      <td>9</td>\n",
       "      <td>stress</td>\n",
       "    </tr>\n",
       "    <tr>\n",
       "      <th>8</th>\n",
       "      <td>8</td>\n",
       "      <td>progres</td>\n",
       "    </tr>\n",
       "    <tr>\n",
       "      <th>9</th>\n",
       "      <td>85</td>\n",
       "      <td>Target</td>\n",
       "    </tr>\n",
       "  </tbody>\n",
       "</table>\n",
       "</div>"
      ],
      "text/plain": [
       "     0   Kolom  \n",
       "No              \n",
       "1   31       Age\n",
       "2    8   symptom\n",
       "3    5      mood\n",
       "4    6     sleep\n",
       "5    3  physical\n",
       "6   12  duration\n",
       "7    9    stress\n",
       "8    8   progres\n",
       "9   85    Target"
      ]
     },
     "execution_count": 92,
     "metadata": {},
     "output_type": "execute_result"
    }
   ],
   "source": [
    "# Memanggil modus\n",
    "modus = df_num.mode().transpose()\n",
    "modus[\"No\"] = np.arange(1,len(modes)+1,1)\n",
    "modus[\"Kolom\"] = ['Age', 'symptom', 'mood', 'sleep', 'physical', 'duration',\n",
    "       'stress', 'progres', 'Target']\n",
    "modus.set_index('No')"
   ]
  },
  {
   "cell_type": "markdown",
   "id": "e8ce2bd6-b01e-420f-b7e7-2865505ab187",
   "metadata": {},
   "source": [
    "#### C. Median"
   ]
  },
  {
   "cell_type": "code",
   "execution_count": 54,
   "id": "769e4b4d-2335-4eb0-afb6-ff83bf016d87",
   "metadata": {},
   "outputs": [
    {
     "data": {
      "text/html": [
       "<div>\n",
       "<style scoped>\n",
       "    .dataframe tbody tr th:only-of-type {\n",
       "        vertical-align: middle;\n",
       "    }\n",
       "\n",
       "    .dataframe tbody tr th {\n",
       "        vertical-align: top;\n",
       "    }\n",
       "\n",
       "    .dataframe thead th {\n",
       "        text-align: right;\n",
       "    }\n",
       "</style>\n",
       "<table border=\"1\" class=\"dataframe\">\n",
       "  <thead>\n",
       "    <tr style=\"text-align: center;\">\n",
       "      <th></th>\n",
       "      <th>Kolom</th>\n",
       "      <th>Median</th>\n",
       "    </tr>\n",
       "    <tr>\n",
       "      <th>No</th>\n",
       "      <th></th>\n",
       "      <th></th>\n",
       "    </tr>\n",
       "  </thead>\n",
       "  <tbody>\n",
       "    <tr>\n",
       "      <th>1</th>\n",
       "      <td>Age</td>\n",
       "      <td>38.0</td>\n",
       "    </tr>\n",
       "    <tr>\n",
       "      <th>2</th>\n",
       "      <td>symptom</td>\n",
       "      <td>8.0</td>\n",
       "    </tr>\n",
       "    <tr>\n",
       "      <th>3</th>\n",
       "      <td>mood</td>\n",
       "      <td>5.0</td>\n",
       "    </tr>\n",
       "    <tr>\n",
       "      <th>4</th>\n",
       "      <td>sleep</td>\n",
       "      <td>6.0</td>\n",
       "    </tr>\n",
       "    <tr>\n",
       "      <th>5</th>\n",
       "      <td>physical</td>\n",
       "      <td>5.0</td>\n",
       "    </tr>\n",
       "    <tr>\n",
       "      <th>6</th>\n",
       "      <td>duration</td>\n",
       "      <td>12.0</td>\n",
       "    </tr>\n",
       "    <tr>\n",
       "      <th>7</th>\n",
       "      <td>stress</td>\n",
       "      <td>8.0</td>\n",
       "    </tr>\n",
       "    <tr>\n",
       "      <th>8</th>\n",
       "      <td>progres</td>\n",
       "      <td>7.0</td>\n",
       "    </tr>\n",
       "    <tr>\n",
       "      <th>9</th>\n",
       "      <td>Target</td>\n",
       "      <td>76.0</td>\n",
       "    </tr>\n",
       "  </tbody>\n",
       "</table>\n",
       "</div>"
      ],
      "text/plain": [
       "     Kolom    Median\n",
       "No                  \n",
       "1        Age   38.0 \n",
       "2    symptom    8.0 \n",
       "3       mood    5.0 \n",
       "4      sleep    6.0 \n",
       "5   physical    5.0 \n",
       "6   duration   12.0 \n",
       "7     stress    8.0 \n",
       "8    progres    7.0 \n",
       "9     Target   76.0 "
      ]
     },
     "execution_count": 54,
     "metadata": {},
     "output_type": "execute_result"
    }
   ],
   "source": [
    "# Memanggil Median\n",
    "median = pd.DataFrame({\"Kolom\": df_num.columns.values,\n",
    "                     \"Median\": df_num.median(),\n",
    "                     \"No\": np.arange(1,len(df_num.columns.values)+1,1)\n",
    "                    })\n",
    "median.set_index('No',inplace=True)\n",
    "median"
   ]
  },
  {
   "cell_type": "code",
   "execution_count": 105,
   "id": "a525dcf8-8dd7-44e8-af16-2b9594c30b90",
   "metadata": {},
   "outputs": [
    {
     "data": {
      "text/html": [
       "<div>\n",
       "<style scoped>\n",
       "    .dataframe tbody tr th:only-of-type {\n",
       "        vertical-align: middle;\n",
       "    }\n",
       "\n",
       "    .dataframe tbody tr th {\n",
       "        vertical-align: top;\n",
       "    }\n",
       "\n",
       "    .dataframe thead th {\n",
       "        text-align: right;\n",
       "    }\n",
       "</style>\n",
       "<table border=\"1\" class=\"dataframe\">\n",
       "  <thead>\n",
       "    <tr style=\"text-align: center;\">\n",
       "      <th></th>\n",
       "      <th>Kolom</th>\n",
       "      <th>Rata-rata</th>\n",
       "      <th>0</th>\n",
       "      <th>Median</th>\n",
       "    </tr>\n",
       "    <tr>\n",
       "      <th>No</th>\n",
       "      <th></th>\n",
       "      <th></th>\n",
       "      <th></th>\n",
       "      <th></th>\n",
       "    </tr>\n",
       "  </thead>\n",
       "  <tbody>\n",
       "    <tr>\n",
       "      <th>1</th>\n",
       "      <td>Age</td>\n",
       "      <td>38.708</td>\n",
       "      <td>31</td>\n",
       "      <td>38.0</td>\n",
       "    </tr>\n",
       "    <tr>\n",
       "      <th>2</th>\n",
       "      <td>symptom</td>\n",
       "      <td>7.478</td>\n",
       "      <td>8</td>\n",
       "      <td>8.0</td>\n",
       "    </tr>\n",
       "    <tr>\n",
       "      <th>3</th>\n",
       "      <td>mood</td>\n",
       "      <td>5.482</td>\n",
       "      <td>5</td>\n",
       "      <td>5.0</td>\n",
       "    </tr>\n",
       "    <tr>\n",
       "      <th>4</th>\n",
       "      <td>sleep</td>\n",
       "      <td>6.472</td>\n",
       "      <td>6</td>\n",
       "      <td>6.0</td>\n",
       "    </tr>\n",
       "    <tr>\n",
       "      <th>5</th>\n",
       "      <td>physical</td>\n",
       "      <td>5.216</td>\n",
       "      <td>3</td>\n",
       "      <td>5.0</td>\n",
       "    </tr>\n",
       "    <tr>\n",
       "      <th>6</th>\n",
       "      <td>duration</td>\n",
       "      <td>12.110</td>\n",
       "      <td>12</td>\n",
       "      <td>12.0</td>\n",
       "    </tr>\n",
       "    <tr>\n",
       "      <th>7</th>\n",
       "      <td>stress</td>\n",
       "      <td>7.542</td>\n",
       "      <td>9</td>\n",
       "      <td>8.0</td>\n",
       "    </tr>\n",
       "    <tr>\n",
       "      <th>8</th>\n",
       "      <td>progres</td>\n",
       "      <td>7.436</td>\n",
       "      <td>8</td>\n",
       "      <td>7.0</td>\n",
       "    </tr>\n",
       "    <tr>\n",
       "      <th>9</th>\n",
       "      <td>Target</td>\n",
       "      <td>75.454</td>\n",
       "      <td>85</td>\n",
       "      <td>76.0</td>\n",
       "    </tr>\n",
       "  </tbody>\n",
       "</table>\n",
       "</div>"
      ],
      "text/plain": [
       "     Kolom    Rata-rata   0  Median\n",
       "No                                 \n",
       "1        Age   38.708    31   38.0 \n",
       "2    symptom    7.478     8    8.0 \n",
       "3       mood    5.482     5    5.0 \n",
       "4      sleep    6.472     6    6.0 \n",
       "5   physical    5.216     3    5.0 \n",
       "6   duration   12.110    12   12.0 \n",
       "7     stress    7.542     9    8.0 \n",
       "8    progres    7.436     8    7.0 \n",
       "9     Target   75.454    85   76.0 "
      ]
     },
     "execution_count": 105,
     "metadata": {},
     "output_type": "execute_result"
    }
   ],
   "source": [
    "gab1 = mean.join(modus.set_index('Kolom'), on='Kolom')\n",
    "center = gab1.join(median.set_index('Kolom'), on='Kolom')\n",
    "center.drop('No',axis=1)"
   ]
  },
  {
   "cell_type": "code",
   "execution_count": 110,
   "id": "4ffd015b-1ca9-4fba-9095-b9626697bb46",
   "metadata": {},
   "outputs": [
    {
     "data": {
      "text/html": [
       "<div>\n",
       "<style scoped>\n",
       "    .dataframe tbody tr th:only-of-type {\n",
       "        vertical-align: middle;\n",
       "    }\n",
       "\n",
       "    .dataframe tbody tr th {\n",
       "        vertical-align: top;\n",
       "    }\n",
       "\n",
       "    .dataframe thead th {\n",
       "        text-align: right;\n",
       "    }\n",
       "</style>\n",
       "<table border=\"1\" class=\"dataframe\">\n",
       "  <thead>\n",
       "    <tr style=\"text-align: center;\">\n",
       "      <th></th>\n",
       "      <th>Kolom</th>\n",
       "      <th>Rata-rata</th>\n",
       "      <th>Modus</th>\n",
       "      <th>No</th>\n",
       "      <th>Median</th>\n",
       "    </tr>\n",
       "    <tr>\n",
       "      <th>No</th>\n",
       "      <th></th>\n",
       "      <th></th>\n",
       "      <th></th>\n",
       "      <th></th>\n",
       "      <th></th>\n",
       "    </tr>\n",
       "  </thead>\n",
       "  <tbody>\n",
       "    <tr>\n",
       "      <th>1</th>\n",
       "      <td>Age</td>\n",
       "      <td>38.708</td>\n",
       "      <td>31</td>\n",
       "      <td>1</td>\n",
       "      <td>38.0</td>\n",
       "    </tr>\n",
       "    <tr>\n",
       "      <th>2</th>\n",
       "      <td>symptom</td>\n",
       "      <td>7.478</td>\n",
       "      <td>8</td>\n",
       "      <td>2</td>\n",
       "      <td>8.0</td>\n",
       "    </tr>\n",
       "    <tr>\n",
       "      <th>3</th>\n",
       "      <td>mood</td>\n",
       "      <td>5.482</td>\n",
       "      <td>5</td>\n",
       "      <td>3</td>\n",
       "      <td>5.0</td>\n",
       "    </tr>\n",
       "    <tr>\n",
       "      <th>4</th>\n",
       "      <td>sleep</td>\n",
       "      <td>6.472</td>\n",
       "      <td>6</td>\n",
       "      <td>4</td>\n",
       "      <td>6.0</td>\n",
       "    </tr>\n",
       "    <tr>\n",
       "      <th>5</th>\n",
       "      <td>physical</td>\n",
       "      <td>5.216</td>\n",
       "      <td>3</td>\n",
       "      <td>5</td>\n",
       "      <td>5.0</td>\n",
       "    </tr>\n",
       "    <tr>\n",
       "      <th>6</th>\n",
       "      <td>duration</td>\n",
       "      <td>12.110</td>\n",
       "      <td>12</td>\n",
       "      <td>6</td>\n",
       "      <td>12.0</td>\n",
       "    </tr>\n",
       "    <tr>\n",
       "      <th>7</th>\n",
       "      <td>stress</td>\n",
       "      <td>7.542</td>\n",
       "      <td>9</td>\n",
       "      <td>7</td>\n",
       "      <td>8.0</td>\n",
       "    </tr>\n",
       "    <tr>\n",
       "      <th>8</th>\n",
       "      <td>progres</td>\n",
       "      <td>7.436</td>\n",
       "      <td>8</td>\n",
       "      <td>8</td>\n",
       "      <td>7.0</td>\n",
       "    </tr>\n",
       "    <tr>\n",
       "      <th>9</th>\n",
       "      <td>Target</td>\n",
       "      <td>75.454</td>\n",
       "      <td>85</td>\n",
       "      <td>9</td>\n",
       "      <td>76.0</td>\n",
       "    </tr>\n",
       "  </tbody>\n",
       "</table>\n",
       "</div>"
      ],
      "text/plain": [
       "     Kolom    Rata-rata  Modus  No  Median\n",
       "No                                        \n",
       "1        Age   38.708     31     1   38.0 \n",
       "2    symptom    7.478      8     2    8.0 \n",
       "3       mood    5.482      5     3    5.0 \n",
       "4      sleep    6.472      6     4    6.0 \n",
       "5   physical    5.216      3     5    5.0 \n",
       "6   duration   12.110     12     6   12.0 \n",
       "7     stress    7.542      9     7    8.0 \n",
       "8    progres    7.436      8     8    7.0 \n",
       "9     Target   75.454     85     9   76.0 "
      ]
     },
     "execution_count": 110,
     "metadata": {},
     "output_type": "execute_result"
    }
   ],
   "source": [
    "center.rename(columns={0:'Modus'})"
   ]
  },
  {
   "cell_type": "code",
   "execution_count": 118,
   "id": "7f150c4f-c12d-4885-9668-d7b7d012db2b",
   "metadata": {},
   "outputs": [
    {
     "data": {
      "text/html": [
       "<div>\n",
       "<style scoped>\n",
       "    .dataframe tbody tr th:only-of-type {\n",
       "        vertical-align: middle;\n",
       "    }\n",
       "\n",
       "    .dataframe tbody tr th {\n",
       "        vertical-align: top;\n",
       "    }\n",
       "\n",
       "    .dataframe thead th {\n",
       "        text-align: right;\n",
       "    }\n",
       "</style>\n",
       "<table border=\"1\" class=\"dataframe\">\n",
       "  <thead>\n",
       "    <tr style=\"text-align: center;\">\n",
       "      <th></th>\n",
       "      <th>Kolom</th>\n",
       "      <th>Rata-rata</th>\n",
       "      <th>0</th>\n",
       "      <th>Median</th>\n",
       "    </tr>\n",
       "    <tr>\n",
       "      <th>No</th>\n",
       "      <th></th>\n",
       "      <th></th>\n",
       "      <th></th>\n",
       "      <th></th>\n",
       "    </tr>\n",
       "  </thead>\n",
       "  <tbody>\n",
       "    <tr>\n",
       "      <th>1</th>\n",
       "      <td>Age</td>\n",
       "      <td>38.708</td>\n",
       "      <td>31</td>\n",
       "      <td>38.0</td>\n",
       "    </tr>\n",
       "    <tr>\n",
       "      <th>2</th>\n",
       "      <td>symptom</td>\n",
       "      <td>7.478</td>\n",
       "      <td>8</td>\n",
       "      <td>8.0</td>\n",
       "    </tr>\n",
       "    <tr>\n",
       "      <th>3</th>\n",
       "      <td>mood</td>\n",
       "      <td>5.482</td>\n",
       "      <td>5</td>\n",
       "      <td>5.0</td>\n",
       "    </tr>\n",
       "    <tr>\n",
       "      <th>4</th>\n",
       "      <td>sleep</td>\n",
       "      <td>6.472</td>\n",
       "      <td>6</td>\n",
       "      <td>6.0</td>\n",
       "    </tr>\n",
       "    <tr>\n",
       "      <th>5</th>\n",
       "      <td>physical</td>\n",
       "      <td>5.216</td>\n",
       "      <td>3</td>\n",
       "      <td>5.0</td>\n",
       "    </tr>\n",
       "    <tr>\n",
       "      <th>6</th>\n",
       "      <td>duration</td>\n",
       "      <td>12.110</td>\n",
       "      <td>12</td>\n",
       "      <td>12.0</td>\n",
       "    </tr>\n",
       "    <tr>\n",
       "      <th>7</th>\n",
       "      <td>stress</td>\n",
       "      <td>7.542</td>\n",
       "      <td>9</td>\n",
       "      <td>8.0</td>\n",
       "    </tr>\n",
       "    <tr>\n",
       "      <th>8</th>\n",
       "      <td>progres</td>\n",
       "      <td>7.436</td>\n",
       "      <td>8</td>\n",
       "      <td>7.0</td>\n",
       "    </tr>\n",
       "    <tr>\n",
       "      <th>9</th>\n",
       "      <td>Target</td>\n",
       "      <td>75.454</td>\n",
       "      <td>85</td>\n",
       "      <td>76.0</td>\n",
       "    </tr>\n",
       "  </tbody>\n",
       "</table>\n",
       "</div>"
      ],
      "text/plain": [
       "     Kolom    Rata-rata   0  Median\n",
       "No                                 \n",
       "1        Age   38.708    31   38.0 \n",
       "2    symptom    7.478     8    8.0 \n",
       "3       mood    5.482     5    5.0 \n",
       "4      sleep    6.472     6    6.0 \n",
       "5   physical    5.216     3    5.0 \n",
       "6   duration   12.110    12   12.0 \n",
       "7     stress    7.542     9    8.0 \n",
       "8    progres    7.436     8    7.0 \n",
       "9     Target   75.454    85   76.0 "
      ]
     },
     "execution_count": 118,
     "metadata": {},
     "output_type": "execute_result"
    }
   ],
   "source": [
    "center"
   ]
  },
  {
   "cell_type": "code",
   "execution_count": 165,
   "id": "0a1957e3-8bc5-4f41-896e-faeb4ab5733c",
   "metadata": {},
   "outputs": [
    {
     "name": "stdout",
     "output_type": "stream",
     "text": [
      "<class 'pandas.core.frame.DataFrame'>\n",
      "Index: 3 entries, Rata-rata to Median\n",
      "Data columns (total 10 columns):\n",
      " #   Column    Non-Null Count  Dtype  \n",
      "---  ------    --------------  -----  \n",
      " 0   Age       3 non-null      float64\n",
      " 1   symptom   3 non-null      float64\n",
      " 2   mood      3 non-null      float64\n",
      " 3   sleep     3 non-null      float64\n",
      " 4   physical  3 non-null      float64\n",
      " 5   duration  3 non-null      float64\n",
      " 6   stress    3 non-null      float64\n",
      " 7   progres   3 non-null      float64\n",
      " 8   Target    3 non-null      float64\n",
      " 9   Kol       3 non-null      object \n",
      "dtypes: float64(9), object(1)\n",
      "memory usage: 264.0+ bytes\n"
     ]
    }
   ],
   "source": [
    "cen=center.set_index('Kolom')\n",
    "centert = cen.transpose()\n",
    "centert[\"Kol\"]= [\"Rata-Rata\",\"Modus\",\"Median\"]\n",
    "centert=pd.DataFrame(centert)\n",
    "centert.info()"
   ]
  },
  {
   "cell_type": "code",
   "execution_count": 171,
   "id": "509d3e47-b32a-4377-8a21-9cae87d78b9d",
   "metadata": {},
   "outputs": [
    {
     "data": {
      "image/png": "[encoded data removed]",
      "text/plain": [
       "<Figure size 1400x800 with 1 Axes>"
      ]
     },
     "metadata": {},
     "output_type": "display_data"
    },
    {
     "data": {
      "image/png": "[encoded data removed]",
      "text/plain": [
       "<Figure size 1400x800 with 1 Axes>"
      ]
     },
     "metadata": {},
     "output_type": "display_data"
    },
    {
     "data": {
      "image/png": "[encoded data removed]",
      "text/plain": [
       "<Figure size 1400x800 with 1 Axes>"
      ]
     },
     "metadata": {},
     "output_type": "display_data"
    },
    {
     "data": {
      "image/png": "[encoded data removed]",
      "text/plain": [
       "<Figure size 1400x800 with 1 Axes>"
      ]
     },
     "metadata": {},
     "output_type": "display_data"
    },
    {
     "data": {
      "image/png": "[encoded data removed]",
      "text/plain": [
       "<Figure size 1400x800 with 1 Axes>"
      ]
     },
     "metadata": {},
     "output_type": "display_data"
    },
    {
     "data": {
      "image/png": "[encoded data removed]",
      "text/plain": [
       "<Figure size 1400x800 with 1 Axes>"
      ]
     },
     "metadata": {},
     "output_type": "display_data"
    },
    {
     "data": {
      "image/png": "[encoded data removed]",
      "text/plain": [
       "<Figure size 1400x800 with 1 Axes>"
      ]
     },
     "metadata": {},
     "output_type": "display_data"
    },
    {
     "data": {
      "image/png": "[encoded data removed]",
      "text/plain": [
       "<Figure size 1400x800 with 1 Axes>"
      ]
     },
     "metadata": {},
     "output_type": "display_data"
    },
    {
     "data": {
      "image/png": "[encoded data removed]",
      "text/plain": [
       "<Figure size 1400x800 with 1 Axes>"
      ]
     },
     "metadata": {},
     "output_type": "display_data"
    }
   ],
   "source": [
    "for col in centert.columns:\n",
    "    if col != \"Kol\":  # Avoid plotting \"Kol\" against itself\n",
    "        plt.figure(figsize=(14, 8))\n",
    "        sns.barplot(x=centert[\"Kol\"], y=centert[col], hue =centert[\"Kol\"])  # x is \"Kol\", y is the current column\n",
    "        plt.title(f\"Tabel Ukuran Pemusatan: {col}\")\n",
    "        plt.xlabel(\"Kol\")\n",
    "        plt.ylabel(col)\n",
    "        plt.xticks(rotation=45)\n",
    "        plt.show()\n"
   ]
  },
  {
   "cell_type": "markdown",
   "id": "99256a25-5cb5-47f1-8cd4-e872c170fda8",
   "metadata": {},
   "source": [
    "Dari analisis tabel pemusatan data di atas terlihat bahwa ukuran nilai rata-rata cenderung memiliki nilai yang lebih tinggi daripada nilai modus dan median, hal ini menjadi indikasi bahwa adanya data yang berdistribusi agak sedikit menceng."
   ]
  },
  {
   "cell_type": "markdown",
   "id": "89b52b26-5144-46c6-a1a1-485bb291f31c",
   "metadata": {},
   "source": [
    "### Ukuran Persebaran Data"
   ]
  },
  {
   "cell_type": "markdown",
   "id": "afa1302e-6416-4004-bca6-789ef8b73813",
   "metadata": {},
   "source": [
    "#### A. Varians/Ragam dan Standar Baku"
   ]
  },
  {
   "cell_type": "markdown",
   "id": "30ba9470-3826-4ba1-b49c-9de0e0b9bcff",
   "metadata": {},
   "source": [
    "Nilai Varians/Ragam adalah ukuran statistik yang umum dan penting digunakan untuk melihat seberapa besar data tersebut tersebar, dan selisih antara data dengan nilai rata-rata dari data di variabel sekaligus juga sebagai koefisien penting dalam mengecek Standar Error dari suatu variabel."
   ]
  },
  {
   "cell_type": "code",
   "execution_count": 173,
   "id": "2c7eef91-cf9c-4037-8069-cfd58bb9a1c8",
   "metadata": {},
   "outputs": [
    {
     "data": {
      "text/plain": [
       "Age         161.605948\n",
       "symptom       2.911339\n",
       "mood          2.915507\n",
       "sleep         2.782782\n",
       "physical      8.005355\n",
       "duration      5.957816\n",
       "stress        2.922080\n",
       "progres       2.975856\n",
       "Target       82.573030\n",
       "dtype: float64"
      ]
     },
     "execution_count": 173,
     "metadata": {},
     "output_type": "execute_result"
    }
   ],
   "source": [
    "df_num.var()"
   ]
  },
  {
   "cell_type": "code",
   "execution_count": null,
   "id": "71fa6c04-784e-446d-81cd-110d4a71c10d",
   "metadata": {},
   "outputs": [],
   "source": []
  },
  {
   "cell_type": "markdown",
   "id": "34ae2eae-2b55-44cb-823d-b0c0dc2c4f9c",
   "metadata": {},
   "source": [
    "## 5.4 Label Encoder"
   ]
  },
  {
   "cell_type": "markdown",
   "id": "9d13dae9-318f-4ef1-a8ce-1a5b413eb76f",
   "metadata": {},
   "source": [
    "Label Encoder digunakan untuk melakukan kodifikasi terhadap variabel yang memiliki nilai kategorik menjadi nilai yang bersifat kuantitatif (non kategorik)."
   ]
  },
  {
   "cell_type": "markdown",
   "id": "77c50738-a391-4ae6-a207-05d52be913ec",
   "metadata": {},
   "source": [
    "Sebelum kita mengubah variabel kedalam label encoder, kita perlu memisahkan data-data yang bersifat kategorik yang akan kita transform ke label encoder"
   ]
  },
  {
   "cell_type": "code",
   "execution_count": null,
   "id": "3ea97137-b40e-4978-8105-aed1733f30e1",
   "metadata": {},
   "outputs": [],
   "source": [
    "df.head(5)"
   ]
  },
  {
   "cell_type": "markdown",
   "id": "a789a737-22f7-4f7c-9105-1cd179aaea2c",
   "metadata": {},
   "source": [
    "Dari dataset yang kita miliki terdapat beberapa variabel yang perlu dilakukan transformasi data ke label encoder diantaranya : \n",
    "- Gender\n",
    "- family_history_with_overweight\n",
    "- FAVC\n",
    "- CAEC\n",
    "- SMOKE\n",
    "- SCC\n",
    "- CALC\n",
    "- MTRANS \n",
    "- NObeyesdad"
   ]
  },
  {
   "cell_type": "markdown",
   "id": "dc8410f3-d051-4a9c-9d70-3bd1ffbb474e",
   "metadata": {},
   "source": [
    "untuk membedakan hasil antara data yang telah dilakukan encoding dengan yang tidak maka kita perlu membuat 1 duplikat data dari data set awal df menjadi 'data label encoder' atau dle"
   ]
  },
  {
   "cell_type": "code",
   "execution_count": null,
   "id": "a16a69c8-29fe-4ad8-8890-c355207079bf",
   "metadata": {},
   "outputs": [],
   "source": [
    "dlc = df.copy()\n",
    "dlc.head()"
   ]
  },
  {
   "cell_type": "code",
   "execution_count": null,
   "id": "6b601ee4-3f13-4293-960a-439c29e70850",
   "metadata": {},
   "outputs": [],
   "source": [
    "dlc[\"NObeyesdad\"].unique()"
   ]
  },
  {
   "cell_type": "code",
   "execution_count": null,
   "id": "1b892cf0-08aa-4324-8392-df9a874810c4",
   "metadata": {},
   "outputs": [],
   "source": [
    "from sklearn.preprocessing import LabelEncoder\n",
    "\n",
    "# Create a LabelEncoder instance\n",
    "le = LabelEncoder()\n",
    "\n",
    "# Fit the encoder to the labels\n",
    "array = np.array(dle[\"NObeyesdad\"].unique())\n",
    "le.fit(array)\n",
    "\n",
    "# Transform the labels to normalized encoding\n",
    "encoded_labels = le.transform(dle[\"NObeyesdad\"].unique())\n",
    "print(encoded_labels) \n",
    "\n",
    "# Inverse transform to get the original labels\n",
    "original_labels = le.inverse_transform(encoded_labels)\n",
    "print(original_labels)\n",
    "# Melihat hasil dari label encoder\n",
    "labelkode = {'Kode': encoded_labels,\n",
    "        'Kategori': original_labels}\n",
    "\n",
    "label = pd.DataFrame(labelkode)\n",
    "label.sort_values(by='Kode', ascending=True, inplace=True)\n",
    "label\n"
   ]
  },
  {
   "cell_type": "markdown",
   "id": "9dda1010-dbbb-4cc1-bb34-934c160702a8",
   "metadata": {},
   "source": [
    "### 5.4.1. Label Encoder Variabel Jenis Obesitas/ 'NObeyesdad'"
   ]
  },
  {
   "cell_type": "code",
   "execution_count": null,
   "id": "67587090-4dd2-45c1-8d91-1450387db5e7",
   "metadata": {},
   "outputs": [],
   "source": [
    "from sklearn.preprocessing import LabelEncoder\n",
    "\n",
    "# Create a LabelEncoder instance\n",
    "le = LabelEncoder()\n",
    "\n",
    "# Fit the encoder to the labels\n",
    "array = np.array(dlc[\"NObeyesdad\"].unique())\n",
    "le.fit(array)\n",
    "\n",
    "# Transform the labels to normalized encoding\n",
    "encoded_labels = le.transform(dlc[\"NObeyesdad\"].unique())\n",
    "print(encoded_labels) \n",
    "\n",
    "# Inverse transform to get the original labels\n",
    "original_labels = le.inverse_transform(encoded_labels)\n",
    "print(original_labels)\n",
    "# Melihat hasil dari label encoder\n",
    "labelkode = {'Kode': encoded_labels,\n",
    "        'Kategori': original_labels}\n",
    "\n",
    "labelobes = pd.DataFrame(labelkode)\n",
    "labelobes.sort_values(by='Kode', ascending=True, inplace=True)\n",
    "labelobes\n",
    "\n",
    "# Memaskukan Variabel Transformasi pada Dataset\n",
    "dlc['En_Obes'] = le.fit_transform(dlc['NObeyesdad'])\n",
    "dlc.head()"
   ]
  },
  {
   "cell_type": "code",
   "execution_count": null,
   "id": "c72eb2c7-ea81-492d-84f0-e67d916fb17e",
   "metadata": {},
   "outputs": [],
   "source": [
    "labelobes"
   ]
  },
  {
   "cell_type": "markdown",
   "id": "efc6d1e1-f4d2-45f0-932e-e260f0f8ab5c",
   "metadata": {},
   "source": [
    "### 5.4.2. Label Encoder Variabel Riwayat Obesitas Keluarga/ 'family_history_with_overweight'"
   ]
  },
  {
   "cell_type": "code",
   "execution_count": null,
   "id": "465846ab-7f03-4f40-a446-345556b9e61a",
   "metadata": {},
   "outputs": [],
   "source": [
    "from sklearn.preprocessing import LabelEncoder\n",
    "\n",
    "# Create a LabelEncoder instance\n",
    "le = LabelEncoder()\n",
    "\n",
    "# Fit the encoder to the labels\n",
    "array = np.array(dlc[\"family_history_with_overweight\"].unique())\n",
    "le.fit(array)\n",
    "\n",
    "# Transform the labels to normalized encoding\n",
    "encoded_labels = le.transform(dlc[\"family_history_with_overweight\"].unique())\n",
    "print(encoded_labels) \n",
    "\n",
    "# Inverse transform to get the original labels\n",
    "original_labels = le.inverse_transform(encoded_labels)\n",
    "print(original_labels)\n",
    "# Melihat hasil dari label encoder\n",
    "labelkode = {'Kode': encoded_labels,\n",
    "        'Kategori': original_labels}\n",
    "\n",
    "labelfamily = pd.DataFrame(labelkode)\n",
    "labelfamily.sort_values(by='Kode', ascending=True, inplace=True)\n",
    "labelfamily\n",
    "\n",
    "# Memaskukan Variabel Transformasi pada Dataset\n",
    "dlc['En_Fam'] = le.fit_transform(dlc['family_history_with_overweight'])\n",
    "dlc.tail()"
   ]
  },
  {
   "cell_type": "markdown",
   "id": "a60042c8-b598-4c27-9791-cc746499c55e",
   "metadata": {},
   "source": [
    "### 5.4.3. Label Encoder Variabel Konsumsi Makanan Tinggi Kalori/ 'FAVC'"
   ]
  },
  {
   "cell_type": "code",
   "execution_count": null,
   "id": "66e91916-70f7-4f5b-bfd3-5d4116c7560b",
   "metadata": {},
   "outputs": [],
   "source": [
    "from sklearn.preprocessing import LabelEncoder\n",
    "\n",
    "# Create a LabelEncoder instance\n",
    "le = LabelEncoder()\n",
    "\n",
    "# Fit the encoder to the labels\n",
    "array = np.array(dlc[\"FAVC\"].unique())\n",
    "le.fit(array)\n",
    "\n",
    "# Transform the labels to normalized encoding\n",
    "encoded_labels = le.transform(dlc[\"FAVC\"].unique())\n",
    "print(encoded_labels) \n",
    "\n",
    "# Inverse transform to get the original labels\n",
    "original_labels = le.inverse_transform(encoded_labels)\n",
    "print(original_labels)\n",
    "# Melihat hasil dari label encoder\n",
    "labelkode = {'Kode': encoded_labels,\n",
    "        'Kategori FAVC': original_labels}\n",
    "\n",
    "labelFAVC = pd.DataFrame(labelkode)\n",
    "labelFAVC.sort_values(by='Kode', ascending=True, inplace=True)\n",
    "labelFAVC\n",
    "\n",
    "# Memaskukan Variabel Transformasi pada Dataset\n",
    "dlc['En_FAVC'] = le.fit_transform(dlc['FAVC'])\n",
    "dlc.tail()"
   ]
  },
  {
   "cell_type": "markdown",
   "id": "b33c2461-5150-45c0-9f36-c4aa87ff4812",
   "metadata": {},
   "source": [
    "### 5.4.4. Label Encoder Variabel Konsumsi Cemilan diantara Waktu Makan/ 'CAEC'"
   ]
  },
  {
   "cell_type": "code",
   "execution_count": null,
   "id": "69016f56-3f37-4c7f-969c-7bc75bc0fa4f",
   "metadata": {},
   "outputs": [],
   "source": [
    "from sklearn.preprocessing import LabelEncoder\n",
    "\n",
    "# Create a LabelEncoder instance\n",
    "le = LabelEncoder()\n",
    "\n",
    "# Fit the encoder to the labels\n",
    "array = np.array(dlc[\"CAEC\"].unique())\n",
    "le.fit(array)\n",
    "\n",
    "# Transform the labels to normalized encoding\n",
    "encoded_labels = le.transform(dlc[\"CAEC\"].unique())\n",
    "print(encoded_labels) \n",
    "\n",
    "# Inverse transform to get the original labels\n",
    "original_labels = le.inverse_transform(encoded_labels)\n",
    "print(original_labels)\n",
    "# Melihat hasil dari label encoder\n",
    "labelkode = {'Kode': encoded_labels,\n",
    "        'Kategori CAEC': original_labels}\n",
    "\n",
    "labelCAEC = pd.DataFrame(labelkode)\n",
    "labelCAEC.sort_values(by='Kode', ascending=True, inplace=True)\n",
    "labelCAEC\n",
    "\n",
    "# Memaskukan Variabel Transformasi pada Dataset\n",
    "dlc['En_CAEC'] = le.fit_transform(dlc['CAEC'])\n",
    "dlc.tail()"
   ]
  },
  {
   "cell_type": "markdown",
   "id": "5d9aa11f-3f54-4c38-b893-93c70515cc7c",
   "metadata": {},
   "source": [
    "### 5.4.5. Label Encoder Variabel Apakah mengkonsumsi rokok/ 'SMOKE'"
   ]
  },
  {
   "cell_type": "code",
   "execution_count": null,
   "id": "667586f0-9bba-404d-a197-c81b506f714d",
   "metadata": {},
   "outputs": [],
   "source": [
    "from sklearn.preprocessing import LabelEncoder\n",
    "\n",
    "# Create a LabelEncoder instance\n",
    "le = LabelEncoder()\n",
    "\n",
    "# Fit the encoder to the labels\n",
    "array = np.array(dlc[\"SMOKE\"].unique())\n",
    "le.fit(array)\n",
    "\n",
    "# Transform the labels to normalized encoding\n",
    "encoded_labels = le.transform(dlc[\"SMOKE\"].unique())\n",
    "print(encoded_labels) \n",
    "\n",
    "# Inverse transform to get the original labels\n",
    "original_labels = le.inverse_transform(encoded_labels)\n",
    "print(original_labels)\n",
    "# Melihat hasil dari label encoder\n",
    "labelkode = {'Kode': encoded_labels,\n",
    "        'Kategori SMOKE': original_labels}\n",
    "\n",
    "labelSMOKE = pd.DataFrame(labelkode)\n",
    "labelSMOKE.sort_values(by='Kode', ascending=True, inplace=True)\n",
    "labelSMOKE\n",
    "\n",
    "# Memaskukan Variabel Transformasi pada Dataset\n",
    "dlc['En_SMOKE'] = le.fit_transform(dlc['SMOKE'])\n",
    "dlc.tail()"
   ]
  },
  {
   "cell_type": "markdown",
   "id": "6609457a-05bd-4756-acb0-3467801259f8",
   "metadata": {},
   "source": [
    "### 5.4.6. Label Encoder Variabel Apakah melakukan kontrol konsumsi kalori harian / 'SCC'"
   ]
  },
  {
   "cell_type": "code",
   "execution_count": null,
   "id": "12b89261-81e9-4a4b-b21b-5ec2ae8bf5f6",
   "metadata": {},
   "outputs": [],
   "source": [
    "from sklearn.preprocessing import LabelEncoder\n",
    "\n",
    "# Create a LabelEncoder instance\n",
    "le = LabelEncoder()\n",
    "\n",
    "# Fit the encoder to the labels\n",
    "array = np.array(dlc[\"SCC\"].unique())\n",
    "le.fit(array)\n",
    "\n",
    "# Transform the labels to normalized encoding\n",
    "encoded_labels = le.transform(dlc[\"SCC\"].unique())\n",
    "print(encoded_labels) \n",
    "\n",
    "# Inverse transform to get the original labels\n",
    "original_labels = le.inverse_transform(encoded_labels)\n",
    "print(original_labels)\n",
    "# Melihat hasil dari label encoder\n",
    "labelkode = {'Kode': encoded_labels,\n",
    "        'Kategori SCC': original_labels}\n",
    "\n",
    "labelSCC = pd.DataFrame(labelkode)\n",
    "labelSCC.sort_values(by='Kode', ascending=True, inplace=True)\n",
    "labelSCC\n",
    "\n",
    "# Memaskukan Variabel Transformasi pada Dataset\n",
    "dlc['En_SCC'] = le.fit_transform(dlc['SCC'])\n",
    "dlc.tail()"
   ]
  },
  {
   "cell_type": "markdown",
   "id": "f0a36bdc-92ec-4011-ab71-e9f9c793f607",
   "metadata": {},
   "source": [
    "### 5.4.7. Label Encoder Variabel Pola Konsumsi Alkohol / 'CALC'"
   ]
  },
  {
   "cell_type": "code",
   "execution_count": null,
   "id": "40eeb9ef-5406-4cd7-97e9-33c7a754f13f",
   "metadata": {},
   "outputs": [],
   "source": [
    "from sklearn.preprocessing import LabelEncoder\n",
    "\n",
    "# Create a LabelEncoder instance\n",
    "le = LabelEncoder()\n",
    "\n",
    "# Fit the encoder to the labels\n",
    "array = np.array(dlc[\"CALC\"].unique())\n",
    "le.fit(array)\n",
    "\n",
    "# Transform the labels to normalized encoding\n",
    "encoded_labels = le.transform(dlc[\"CALC\"].unique())\n",
    "print(encoded_labels) \n",
    "\n",
    "# Inverse transform to get the original labels\n",
    "original_labels = le.inverse_transform(encoded_labels)\n",
    "print(original_labels)\n",
    "# Melihat hasil dari label encoder\n",
    "labelkode = {'Kode': encoded_labels,\n",
    "        'Kategori CALC': original_labels}\n",
    "\n",
    "labelCALC = pd.DataFrame(labelkode)\n",
    "labelCALC.sort_values(by='Kode', ascending=True, inplace=True)\n",
    "labelCALC\n",
    "\n",
    "# Memaskukan Variabel Transformasi pada Dataset\n",
    "dlc['En_CALC'] = le.fit_transform(dlc['CALC'])\n",
    "dlc.tail()\n",
    "labelCALC"
   ]
  },
  {
   "cell_type": "markdown",
   "id": "7a40047d-011a-4f28-96e0-8f10413ec6c3",
   "metadata": {},
   "source": [
    "### 5.4.8. Label Encoder Variabel Pola Transportasi Harian / 'MTRANS'"
   ]
  },
  {
   "cell_type": "code",
   "execution_count": null,
   "id": "70af9738-9416-4bfc-a5a6-4a009a9ffe4b",
   "metadata": {},
   "outputs": [],
   "source": [
    "from sklearn.preprocessing import LabelEncoder\n",
    "\n",
    "# Create a LabelEncoder instance\n",
    "le = LabelEncoder()\n",
    "\n",
    "# Fit the encoder to the labels\n",
    "array = np.array(dlc[\"MTRANS\"].unique())\n",
    "le.fit(array)\n",
    "\n",
    "# Transform the labels to normalized encoding\n",
    "encoded_labels = le.transform(dlc[\"MTRANS\"].unique())\n",
    "print(encoded_labels) \n",
    "\n",
    "# Inverse transform to get the original labels\n",
    "original_labels = le.inverse_transform(encoded_labels)\n",
    "print(original_labels)\n",
    "# Melihat hasil dari label encoder\n",
    "labelkode = {'Kode': encoded_labels,\n",
    "        'Kategori MTRANS': original_labels}\n",
    "\n",
    "labelMTRANS = pd.DataFrame(labelkode)\n",
    "labelMTRANS.sort_values(by='Kode', ascending=True, inplace=True)\n",
    "labelMTRANS\n",
    "\n",
    "# Memaskukan Variabel Transformasi pada Dataset\n",
    "dlc['En_MTRANS'] = le.fit_transform(dlc['MTRANS'])\n",
    "dlc.tail()\n",
    "labelMTRANS"
   ]
  },
  {
   "cell_type": "markdown",
   "id": "c75fec26-161e-4717-95c3-4c3909c5a572",
   "metadata": {},
   "source": [
    "### 5.4.9. Label Encoder Variabel Jenis Kelamin / 'Gender'"
   ]
  },
  {
   "cell_type": "code",
   "execution_count": null,
   "id": "728778e0-a5fe-44b1-a909-537f08b95cde",
   "metadata": {},
   "outputs": [],
   "source": [
    "from sklearn.preprocessing import LabelEncoder\n",
    "\n",
    "# Create a LabelEncoder instance\n",
    "le = LabelEncoder()\n",
    "\n",
    "# Fit the encoder to the labels\n",
    "array = np.array(dlc[\"Gender\"].unique())\n",
    "le.fit(array)\n",
    "\n",
    "# Transform the labels to normalized encoding\n",
    "encoded_labels = le.transform(dlc[\"Gender\"].unique())\n",
    "print(encoded_labels) \n",
    "\n",
    "# Inverse transform to get the original labels\n",
    "original_labels = le.inverse_transform(encoded_labels)\n",
    "print(original_labels)\n",
    "# Melihat hasil dari label encoder\n",
    "labelkode = {'Kode': encoded_labels,\n",
    "        'Kategori Gender': original_labels}\n",
    "\n",
    "labelGender = pd.DataFrame(labelkode)\n",
    "labelGender.sort_values(by='Kode', ascending=True, inplace=True)\n",
    "labelGender\n",
    "\n",
    "# Memaskukan Variabel Transformasi pada Dataset\n",
    "dlc['En_Gender'] = le.fit_transform(dlc['Gender'])\n",
    "dlc.tail()\n",
    "labelGender"
   ]
  },
  {
   "cell_type": "markdown",
   "id": "7504452c-b38d-470b-8c79-4e0f179ab4cd",
   "metadata": {},
   "source": [
    "Dari hasil Encoding beberapa variabel diatas, untuk melihat perbedaan antara Data frame yang belum ter encoding dengan Data frame yang telah ditransformasi encoding maka perlu dibuat satu dataframe baru tanpa memuat variabel : \n",
    "- Gender\n",
    "- family_history_with_overweight\n",
    "- FAVC\n",
    "- CAEC\n",
    "- SMOKE\n",
    "- SCC\n",
    "- CALC\n",
    "- MTRANS \n",
    "- NObeyesdad"
   ]
  },
  {
   "cell_type": "code",
   "execution_count": null,
   "id": "0603206d-e809-4bea-8072-b8928d09c3da",
   "metadata": {},
   "outputs": [],
   "source": [
    "# Dropping specific columns\n",
    "# 'dlc' is your original DataFrame\n",
    "dfe = dlc.drop(['Gender', 'family_history_with_overweight', 'FAVC', \n",
    "                'CAEC', 'SMOKE', 'SCC', 'CALC', 'MTRANS', 'NObeyesdad'], axis=1)\n",
    "\n",
    "# Display the new DataFrame\n",
    "dfe.head()\n"
   ]
  },
  {
   "cell_type": "markdown",
   "id": "568b229f-8094-407a-8a98-e00fdce6e154",
   "metadata": {},
   "source": [
    "## 5.5 Korelasi Pearson"
   ]
  },
  {
   "cell_type": "markdown",
   "id": "428ee59c-680d-48a1-b9b2-65eb383f3c75",
   "metadata": {},
   "source": [
    "Pada langkah ini dilakukan pendeteksian seberapa kuat hubungan antara 2 variabel yang terdapat pada data set obesitas dengan rentang nilai -1 hingga 1 tetapi korelasi Pearson tidak memberikan informasi tentang penyebab dan akibat.\n",
    "\n",
    "- Jika mendekati 1 maka menunjukkan hubungan linear positif antara 2 variabel\n",
    "- Jika mendekati -1 maka menunjukkan hubungan linear negatif antara 2 variabel\n",
    "- Jika mendekati 0 maka tidak ada hubungan"
   ]
  },
  {
   "cell_type": "code",
   "execution_count": null,
   "id": "622d3bb7-adc7-4595-8ec6-6df6ecb68287",
   "metadata": {},
   "outputs": [],
   "source": [
    "# Menghitung korelasi antar kolom pada DataFrame 'df' menggunakan metode korelasi Pearson\n",
    "pearson_corr = dfe.corr(method='pearson')\n",
    "\n",
    "# Menampilkan nilai korelasi antar kolom dalam bentuk tabel\n",
    "pearson_corr\n"
   ]
  },
  {
   "cell_type": "code",
   "execution_count": null,
   "id": "e532d58f-f18c-4b49-989c-af60be8802a4",
   "metadata": {},
   "outputs": [],
   "source": [
    "# Menghitung matriks korelasi antar kolom pada DataFrame 'df'\n",
    "matrikscorr = dfe.corr()"
   ]
  },
  {
   "cell_type": "code",
   "execution_count": null,
   "id": "9ee89a00-693e-4844-bd8d-b5cb439664d4",
   "metadata": {},
   "outputs": [],
   "source": [
    "# Membuat gambar plot dengan ukuran (figsize) 15x8\n",
    "plt.figure(figsize=(15, 8))\n",
    "\n",
    "# Membuat heatmap menggunakan seaborn untuk memvisualisasikan matriks korelasi\n",
    "# Parameter 'cmap' mengatur skema warna heatmap menjadi 'Reds'\n",
    "# Parameter 'annot=True' mengaktifkan penulisan nilai korelasi di dalam sel\n",
    "# Parameter 'annot_kws={'fontsize':12}' mengatur ukuran font untuk nilai korelasi menjadi 12\n",
    "sns.heatmap(matrikscorr, cmap='Reds', annot=True, annot_kws={'fontsize': 12})\n",
    "\n",
    "# Menampilkan gambar plot\n",
    "plt.show()\n"
   ]
  },
  {
   "cell_type": "markdown",
   "id": "7f5d2297-5552-42cb-863c-e042170cbc04",
   "metadata": {},
   "source": [
    "# 6. Preprocessing Data"
   ]
  },
  {
   "cell_type": "markdown",
   "id": "b9094ff0-e4af-494b-ae8b-761cb6595523",
   "metadata": {},
   "source": [
    "Pada tahapan ini akan dilakukan beberapa perapihan data yang sekiranya perlu untuk dilakukan, seperti pengecekan outlier, penghapusan outlier, pengisian data missing value dan tindakan lainnya bila diperlukan."
   ]
  },
  {
   "cell_type": "markdown",
   "id": "49b2f25f-502e-4b90-9263-57dabbcfc772",
   "metadata": {},
   "source": [
    "## 6.1. Deteksi dan menangani Outlier"
   ]
  },
  {
   "cell_type": "code",
   "execution_count": null,
   "id": "59b47c88-9eed-48e3-96ce-b86de7852a22",
   "metadata": {},
   "outputs": [],
   "source": [
    "# Melakukan copy data\n",
    "dfe_1 = dfe.copy()\n",
    "\n",
    "# Melihat susunan kolom dataset\n",
    "dfe_1.columns.values"
   ]
  },
  {
   "cell_type": "code",
   "execution_count": null,
   "id": "261e6d6f-6a44-4ab0-8008-96603b187d6e",
   "metadata": {},
   "outputs": [],
   "source": [
    "dfe_1.head()"
   ]
  },
  {
   "cell_type": "code",
   "execution_count": null,
   "id": "fdbb23d3-0886-4b26-9334-b15dfb585576",
   "metadata": {
    "scrolled": true
   },
   "outputs": [],
   "source": [
    "# Melakukan pengecekan Outlier\n",
    "kolom = dfe_1[['Age','Height','Weight']]\n",
    "kolom.head()"
   ]
  },
  {
   "cell_type": "code",
   "execution_count": null,
   "id": "bb66150b-3396-4997-9591-517e4c9041a3",
   "metadata": {},
   "outputs": [],
   "source": [
    "kolom.info()"
   ]
  },
  {
   "cell_type": "code",
   "execution_count": null,
   "id": "eaa95e4a-5fc0-4d2f-93f5-bf71b627d8e6",
   "metadata": {},
   "outputs": [],
   "source": [
    "# Membuat iterasi pengecekan outlier dengan boxplot\n",
    "for col in kolom:\n",
    "    plt.boxplot(dfe_1[col], vert=True)\n",
    "    plt.title(col)\n",
    "    plt.show()"
   ]
  },
  {
   "cell_type": "markdown",
   "id": "ae68d7fc-ba71-4692-9186-7a22d16515fc",
   "metadata": {},
   "source": [
    "pada output pendeteksi outlier dari kolom dengan data yang bersifat numerical di atas dapat dilihat bahwa kolom:\n",
    "+ Age\n",
    "+ Height\n",
    "+ Weight\n",
    "kolom Age memiliki outlier yang banyak. Sehingga, harus dibersihkan outlier pada data"
   ]
  },
  {
   "cell_type": "code",
   "execution_count": null,
   "id": "c85a3122-28c5-49d2-a3cb-fc3db29a882c",
   "metadata": {},
   "outputs": [],
   "source": [
    "df_outlier = dfe_1.copy()\n",
    "kolom1 = np.array(df_outlier.columns.values)\n",
    "print(kolom1)"
   ]
  },
  {
   "cell_type": "code",
   "execution_count": null,
   "id": "bf329639-090f-48ab-b435-dcd0d384d516",
   "metadata": {},
   "outputs": [],
   "source": [
    "def remove_outliers(df_outlier):\n",
    "    for col in df_outlier[['Age','Height','Weight']]:\n",
    "        Q1 = df_outlier[col].quantile(0.25)\n",
    "        Q3 = df_outlier[col].quantile(0.75)\n",
    "        IQR = Q3 - Q1\n",
    "        upper_bound = Q3 + 1.5 * IQR\n",
    "        lower_bound = Q1 - 1.5 * IQR\n",
    "        df_outlier = df_outlier[(df_outlier[col] > lower_bound) & (df_outlier[col] < upper_bound)]\n",
    "    return df_outlier\n",
    "\n",
    "df_clean = remove_outliers(df_outlier)"
   ]
  },
  {
   "cell_type": "code",
   "execution_count": null,
   "id": "6c973814-0bb0-4379-a866-726e6620c7a6",
   "metadata": {},
   "outputs": [],
   "source": [
    "df_clean.info()"
   ]
  },
  {
   "cell_type": "code",
   "execution_count": null,
   "id": "48bfb2e2-faf5-43ae-a406-cdd1b793cdda",
   "metadata": {},
   "outputs": [],
   "source": [
    "for col in df_clean[['Age','Height','Weight']]:\n",
    "    plt.boxplot(df_clean[col],vert=True)\n",
    "    plt.title(col)\n",
    "    plt.show()"
   ]
  },
  {
   "cell_type": "markdown",
   "id": "2fe62200-6127-463c-8fbb-d188a3a7aadf",
   "metadata": {},
   "source": [
    "dari hasil diatas terlihat bahwa untuk data outlier yang terdapat pada 3 kolom numerik(Age,Height dan Weight)sudah dilakukan eliminasi sehingga data yang terdapat pada dataaset pun berkurang akibat dari pembersihan data outlier."
   ]
  },
  {
   "cell_type": "markdown",
   "id": "208ac6a2-1e74-4731-9cde-d896988cfccc",
   "metadata": {},
   "source": [
    "## 6.2. Korelasi Matriks (Data Clean)"
   ]
  },
  {
   "cell_type": "code",
   "execution_count": null,
   "id": "ceacf100-58d6-45b2-bcb7-02bdbb51a454",
   "metadata": {},
   "outputs": [],
   "source": [
    "korelasi = df_clean.corr()\n",
    "korelasi"
   ]
  },
  {
   "cell_type": "code",
   "execution_count": null,
   "id": "ca79881f-c414-47c9-bdd6-f7ccd81408c2",
   "metadata": {},
   "outputs": [],
   "source": [
    "\n",
    "plt.figure(figsize=(15,8))\n",
    "sns.heatmap(korelasi, cmap='Reds', annot=True, annot_kws={'fontsize':12})\n",
    "plt.show()"
   ]
  },
  {
   "cell_type": "markdown",
   "id": "9c66ef95-ecd3-4854-ad14-3f69ad121b6d",
   "metadata": {},
   "source": [
    "pada matrik korelasi di atas, setelah dilakukan pembersihan pada kolom yang mengalami outlier, terdapat peningkatan korelasi pada kolom Age dan Weight namun pada kolom Height justru mengalami penurunan.\n",
    "- Hasil Korelasi yang memiliki korelasi bersifat positif(hubungan berbanding lurus) terdapat antara hubungan **Obesitas** dengan **Age, Height, Weight, FCVC, CH20, En_Fam, En_FAVC, En_CAEC, dan EN_Gender**\n",
    "- Sedangkan korelasi yang memiliki korelasi bersifat negatif(hubungan berbanding terbalik) adalah hubungan antara **Obesitas** dengan **NCP,FAF,TUE,En_SMOKE,En_SCC, En_MTRANS dan En_CALC**"
   ]
  },
  {
   "cell_type": "code",
   "execution_count": null,
   "id": "99de35ad-0498-4b59-aa6b-6a6fe07cf4a8",
   "metadata": {},
   "outputs": [],
   "source": [
    "df_clean.info()"
   ]
  },
  {
   "cell_type": "code",
   "execution_count": null,
   "id": "68f1f2d1-f71d-4ee1-be20-dc108e3b882d",
   "metadata": {},
   "outputs": [],
   "source": [
    "## Analisis Hasil Jurnal"
   ]
  },
  {
   "cell_type": "markdown",
   "id": "85f91950-57b8-4de8-8868-affba8318f9c",
   "metadata": {},
   "source": [
    "## 7. Model Inference"
   ]
  },
  {
   "cell_type": "code",
   "execution_count": null,
   "id": "8b7adedc-2336-4d21-b415-49d1688bc2ff",
   "metadata": {},
   "outputs": [],
   "source": [
    "# Membuat objek model individu\n",
    "rf = RandomForestClassifier()\n",
    "nb = GaussianNB()\n",
    "et = ExtraTreesClassifier()\n",
    "gb = GradientBoostingClassifier()"
   ]
  },
  {
   "cell_type": "markdown",
   "id": "de1ba7c4-e223-493b-8702-02aaba7b13ee",
   "metadata": {},
   "source": [
    "## 8. Pelatihan Model"
   ]
  },
  {
   "cell_type": "code",
   "execution_count": null,
   "id": "b2270992-0c26-49f2-b63e-f017eccae1ac",
   "metadata": {},
   "outputs": [],
   "source": [
    "x = df_clean.drop(\"En_Obes\",axis=1)\n",
    "y = df_clean[\"En_Obes\"]\n",
    "\n",
    "X_train, X_test, y_train, y_test = train_test_split(x, y, test_size=0.2, random_state=42)\n",
    "\n",
    "# Melakukan oversampling dengan SMOTE\n",
    "smote = SMOTE(random_state=42)\n",
    "X_resampled, y_resampled = smote.fit_resample(x, y)\n",
    "\n",
    "# Membagi data menjadi data latih dan data uji\n",
    "X_train, X_test, y_train, y_test = train_test_split(X_resampled, y_resampled, test_size=0.2, random_state=42)\n",
    "\n",
    "# Membuat model ensemble menggunakan RandomForestClassifier, GaussianNB, ExtraTreesClassifier, dan GradientBoostingClassifier\n",
    "rf_model = RandomForestClassifier(random_state=42)\n",
    "nb_model = GaussianNB()\n",
    "et_model = ExtraTreesClassifier(random_state=42)\n",
    "gb_model = GradientBoostingClassifier(random_state=42)\n",
    "\n",
    "# Melatih model-model individu\n",
    "rf_model.fit(X_train, y_train)\n",
    "nb_model.fit(X_train, y_train)\n",
    "et_model.fit(X_train, y_train)\n",
    "gb_model.fit(X_train, y_train)\n"
   ]
  },
  {
   "cell_type": "markdown",
   "id": "c1360082-38cb-4f8e-9668-4eefe14f2305",
   "metadata": {},
   "source": [
    "## 9. Modeling"
   ]
  },
  {
   "cell_type": "code",
   "execution_count": null,
   "id": "e734a8a3-43dd-4eec-88c8-fd21e7f55d30",
   "metadata": {},
   "outputs": [],
   "source": [
    "# read data\n",
    "from sklearn.datasets import load_iris\n",
    "from sklearn.model_selection import train_test_split\n",
    "\n",
    "# Membuat objek model individu\n",
    "rf = RandomForestClassifier()\n",
    "nb = GaussianNB()\n",
    "et = ExtraTreesClassifier()\n",
    "gb = GradientBoostingClassifier()\n",
    "xgb = XGBClassifier(n_estimators=2, max_depth=2, learning_rate=1, objective='binary:logistic')\n",
    "data = load_iris()\n",
    "\n",
    "# Train Test Split\n",
    "X_train, X_test, y_train, y_test = train_test_split(X_resampled, y_resampled, test_size=0.2, random_state=42)\n",
    "# create model instance\n",
    "xgb = XGBClassifier(n_estimators=2, max_depth=2, learning_rate=1, objective='binary:logistic')\n",
    "\n",
    "\n",
    "# Melatih ensemble model\n",
    "rf.fit(X_train, y_train)\n",
    "nb.fit(X_train, y_train)\n",
    "et.fit(X_train, y_train)\n",
    "gb.fit(X_train, y_train)\n",
    "xgb.fit(X_train, y_train)\n",
    "\n",
    "# Memprediksi data uji menggunakan ensemble model\n",
    "rf.predict(X_test)\n",
    "nb.predict(X_test)\n",
    "et.predict(X_test)\n",
    "gb.predict(X_test)\n",
    "xgb.predict(X_test)\n",
    "\n",
    "\n",
    "\n",
    "# Melatih model-model individu\n",
    "rf.fit(X_train, y_train)\n",
    "nb.fit(X_train, y_train)\n",
    "et.fit(X_train, y_train)\n",
    "gb.fit(X_train, y_train)\n",
    "xgb.fit(X_train, y_train)\n",
    "\n",
    "# Memprediksi data uji menggunakan model-model individu\n",
    "rf_predictions = rf.predict(X_test)\n",
    "nb_predictions = nb.predict(X_test)\n",
    "et_predictions = et.predict(X_test)\n",
    "gb_predictions = gb.predict(X_test)\n",
    "xgb_predictions = xgb.predict(X_test)"
   ]
  },
  {
   "cell_type": "code",
   "execution_count": null,
   "id": "f3e95da9-6ecf-4124-bfd4-917c450d1d4a",
   "metadata": {},
   "outputs": [],
   "source": [
    "# Evaluasi performa model-model individu\n",
    "print(\"===========================================================\")\n",
    "print(\"================ Random Forest Classifier =================\")\n",
    "print(\"===========================================================\")\n",
    "print(classification_report(y_test, rf_predictions))\n",
    "print(\"===========================================================\")\n",
    "print(\"============= Gaussian Naive Bayes Classifier =============\")\n",
    "print('===========================================================')\n",
    "print(classification_report(y_test, nb_predictions))\n",
    "print(\"===========================================================\")\n",
    "print(\"================= Extra Trees Classifier ==================\")\n",
    "print('===========================================================')\n",
    "print(classification_report(y_test, et_predictions))\n",
    "print(\"===========================================================\")\n",
    "print(\"============== gradient Boosting Clasifier ================\")\n",
    "print('===========================================================')\n",
    "print(classification_report(y_test, gb_predictions))\n",
    "print(\"===========================================================\")\n",
    "print(\"========== Extreme gradient Boosting Classifier ===========\")\n",
    "print('===========================================================')\n",
    "print(classification_report(y_test, xgb_predictions))"
   ]
  },
  {
   "cell_type": "code",
   "execution_count": null,
   "id": "97fd75c8-11d4-419c-8094-46a871aab7fa",
   "metadata": {},
   "outputs": [],
   "source": [
    "np.array(labelobes[\"Kategori\"])"
   ]
  },
  {
   "cell_type": "code",
   "execution_count": null,
   "id": "ae1704e0-46c6-4e7f-8d84-0849e63e5b39",
   "metadata": {},
   "outputs": [],
   "source": [
    "## Evaluasi dan Confusion Matrix\n",
    "import matplotlib.pyplot as plt\n",
    "import seaborn as sns\n",
    "from sklearn.metrics import confusion_matrix\n",
    "\n",
    "names = ['Random Forest', 'Gaussian NB', 'Extra Trees', 'Gradient Boosting', 'Extreme Gradient Boosting']\n",
    "models = [rf_predictions, nb_predictions, et_predictions, gb_predictions, xgb_predictions]\n",
    "\n",
    "for name, model in zip(names, models):  # Pair each model name with its predictions\n",
    "    plt.figure(figsize=(6, 4))\n",
    "    sns.heatmap(confusion_matrix(y_test, model), annot=True, fmt='d', cmap='Blues',\n",
    "                xticklabels=['Insufficient_Weight', 'Normal_Weight', 'Obesity_Type_I', 'Obesity_Type_II',\n",
    "                             'Obesity_Type_III', 'Overweight_Level_I', 'Overweight_Level_II'],\n",
    "                yticklabels=['Insufficient_Weight', 'Normal_Weight', 'Obesity_Type_I', 'Obesity_Type_II',\n",
    "                             'Obesity_Type_III', 'Overweight_Level_I', 'Overweight_Level_II'])\n",
    "    plt.xlabel(\"Predicted\")\n",
    "    plt.ylabel(\"Actual\")\n",
    "    plt.title(f\"Confusion Matrix: {name} (ratio 80:20)\")\n",
    "    plt.show()\n",
    "    \n",
    "    \n"
   ]
  },
  {
   "cell_type": "markdown",
   "id": "c1da374b-34d4-4641-b0c4-4025f257cf93",
   "metadata": {},
   "source": [
    "## 9.1. Tuning Data"
   ]
  },
  {
   "cell_type": "code",
   "execution_count": null,
   "id": "2504bc3d-2b03-43b7-bfab-429eb7e62b4c",
   "metadata": {},
   "outputs": [],
   "source": [
    "f_i = list(zip(df_clean,rf.feature_importances_))\n",
    "f_i.sort(key = lambda x : x[1])\n",
    "plt.barh([x[0] for x in f_i],[x[1] for x in f_i])\n",
    "\n",
    "plt.show()"
   ]
  },
  {
   "cell_type": "markdown",
   "id": "f98cfc77-e8ed-43e6-a6b2-1bc3a9ee379a",
   "metadata": {},
   "source": [
    "menghapus kolom yang memiliki nilai yang rendah yaitu **En_FAVC, En_SCC, En_Fam, En_CALC, En_SMOKE, En_CAEC**"
   ]
  },
  {
   "cell_type": "markdown",
   "id": "1723f750-fa1a-4143-870d-f4c7eb29f635",
   "metadata": {},
   "source": [
    "Berdasarkan kesimpulan pada target kelas yang imbalanced, dapat diterapkan resampling menggunakan teknik Synthetic Minority Over-sampling Technique (SMOTE)\n",
    "\n",
    "yaitu metode yang populer diterapkan dalam rangka menangani ketidak seimbangan kelas. Teknik ini mensintesis sampel baru dari kelas minoritas untuk menyeimbangkan dataset dengan cara sampling ulang sampel kelas minoritas"
   ]
  },
  {
   "cell_type": "code",
   "execution_count": null,
   "id": "d65dd265-e002-498b-ada0-dd3b227525cd",
   "metadata": {},
   "outputs": [],
   "source": [
    "# Melakukan duplikasi data\n",
    "df_clean2 = df_clean.copy()\n",
    "df_clean2.head()"
   ]
  },
  {
   "cell_type": "code",
   "execution_count": null,
   "id": "26da03f4-aedc-4019-a5e1-cc469c928aad",
   "metadata": {},
   "outputs": [],
   "source": [
    "x2 = df_clean2.drop([\"En_Obes\",\"En_FAVC\",\"En_FAVC\",\"En_SCC\",\"En_Fam\",\"En_CALC\",\"En_SMOKE\",\"En_CAEC\"],axis=1)\n",
    "y2 = df_clean2[\"En_Obes\"]\n",
    "\n",
    "X_train, X_test, y_train, y_test =train_test_split(x2, y2, test_size=0.2, random_state=42)\n",
    "\n",
    "# Melakukan oversampling dengan SMOTE\n",
    "smote = SMOTE(random_state=42)\n",
    "X_resampled, y_resampled = smote.fit_resample(x2, y2)\n",
    "\n",
    "# Membagi data menjadi data latih dan data uji\n",
    "X_train, X_test, y_train, y_test = train_test_split(X_resampled, y_resampled, test_size=0.2, random_state=42)\n",
    "\n",
    "# Membuat model ensemble menggunakan RandomForestClassifier, GaussianNB, ExtraTreesClassifier, dan GradientBoostingClassifier\n",
    "rf_model = RandomForestClassifier(random_state=42)\n",
    "\n",
    "\n",
    "# Melatih model-model individu\n",
    "\n",
    "rf_model.fit(X_train, y_train)\n",
    "rf_predictions2 = rf_model.predict(X_test)\n",
    "\n",
    "print(\"\\nExtra Trees Classifier:\")\n",
    "print(classification_report(y_test, rf_predictions2))"
   ]
  },
  {
   "cell_type": "code",
   "execution_count": null,
   "id": "3bcf07c7-2fb4-4e94-9667-7bdadb6fda73",
   "metadata": {},
   "outputs": [],
   "source": [
    "df_clean2.info()"
   ]
  },
  {
   "cell_type": "markdown",
   "id": "1239b4bc-70b8-4d88-bb64-a3de07124280",
   "metadata": {},
   "source": [
    "## 10. Model Inference"
   ]
  },
  {
   "cell_type": "code",
   "execution_count": null,
   "id": "672d7745-7327-4f2f-a9c6-57c8fb835a8c",
   "metadata": {},
   "outputs": [],
   "source": [
    "test1 = {'Age' : [15,25,38],\n",
    "         'Height' : [165,178,183],\n",
    "         'Weight' : [76,64,59],\n",
    "         'FCVC' : [0,1,2],\n",
    "         'NCP' : [3,1,2],\n",
    "         'CH2O' : [2,1,1],\n",
    "         'FAF' : [0,2,3],\n",
    "         'TUE' : [0,0,1],\n",
    "         'En_Fam' : [0,1,1],\n",
    "         'En_FAVC' : [0,1,1],\n",
    "         'En_CAEC' : [2,1,1],\n",
    "         'En_SMOKE' : [0,0,1],\n",
    "         'En_SCC' : [0,1,0],\n",
    "         'En_CALC' : [0,1,0],\n",
    "         'En_MTRANS ' : [2,3,4],\n",
    "         'En_Gender' : [1,0,1]\n",
    "        }\n",
    "test1 = pd.DataFrame(test1)\n",
    "test1"
   ]
  },
  {
   "cell_type": "markdown",
   "id": "14a1fb41-bc24-4d26-9454-6ee5fb7c984b",
   "metadata": {},
   "source": [
    "## 11. Referensi dan Seleksi Variabel pada Model "
   ]
  },
  {
   "cell_type": "markdown",
   "id": "de68c96c-3efd-4b01-b5c7-e0dbb0b2d563",
   "metadata": {},
   "source": [
    "Berdasarkan penelitian yang dilakukan oleh RezkiaNadiaPutri,et al 2022, Terdapat beberapa Faktor yang berhubungan dengan kejadian obesitas sentral pada remaja usia 15-18 tahun di Provinsi DKI Jakarta, faktor tersebut diantaranya : \n",
    "1. Jenis Kelamin \n",
    "2. Status Merokok\n",
    "\n",
    "sumber : https://ejournal.undip.ac.id/index.php/mkmi/article/view/43473/22052\n",
    "\n",
    "sedangkan menurut Syifa Arifani dan Zulia Setiyaningrum, 2021, adapun faktor Perilaku Berisiko Yang Berhubungan Dengan Kejadian diantaranya : \n",
    "1. Perilaku merokok\n",
    "2. Makanan Manis\n",
    "3. Minuman Manis\n",
    "4. Soft Drink\n",
    "5. Makanan Instan\n",
    "\n",
    "pada poin ke 2 s.d 4 terdapat hubungan antara variabel yang digunakan pada dataset, yaitu pola konsumsi makanan tinggi kalori. \n",
    "sumber : https://www.bing.com/ck/a?!&&p=2193fd3a35a03985b63f4d265b23988b71822176abb5cdf5c9fccb785e40d1c1JmltdHM9MTc0MTgyNDAwMA&ptn=3&ver=2&hsh=4&fclid=161541b8-bd45-6014-2770-5064bc25616b&psq=penyebab+obesitas+jurnal&u=a1aHR0cHM6Ly9qb3VybmFscy51bXMuYWMuaWQvaW5kZXgucGhwL2prL2FydGljbGUvZG93bmxvYWQvMTM3MzgvcGRm&ntb=1\n"
   ]
  },
  {
   "cell_type": "markdown",
   "id": "7d0b778a-8818-4da8-b7f0-9e13b4e73b7f",
   "metadata": {},
   "source": [
    "berdasarkan hal tersebut maka perlu dilakukan uji korelasi antara variabel prediktor dengan variabel target melalui uji statistik untuk menentukan apakah variabel tersebut dapat kita gunakan ke dalam model."
   ]
  },
  {
   "cell_type": "code",
   "execution_count": null,
   "id": "a0ee70dd-8b9d-4fff-925c-f918685503b0",
   "metadata": {},
   "outputs": [],
   "source": [
    "df_clean2.info()"
   ]
  },
  {
   "cell_type": "markdown",
   "id": "63b85432-4384-46fd-888a-2221e66e7b33",
   "metadata": {},
   "source": [
    "## Uji Korelasi Matrix"
   ]
  },
  {
   "cell_type": "code",
   "execution_count": null,
   "id": "15c2365c-4d38-4470-bb7d-eb377befdf78",
   "metadata": {},
   "outputs": [],
   "source": [
    "import numpy as np\n",
    "import pandas as pd\n",
    "from scipy.stats import t\n",
    "\n",
    "# Example correlation matrix\n",
    "correlation_matrix = korelasi\n",
    "\n",
    "# Assume a sample size (n)\n",
    "n = 10  # Replace with your actual sample size\n",
    "df = n - 2  # Degrees of freedom\n",
    "\n",
    "# Function to compute p-value matrix from correlation matrix\n",
    "def calculate_pval_from_corr(corr_matrix, sample_size):\n",
    "    n = sample_size\n",
    "    df = n - 2\n",
    "    t_values = corr_matrix * np.sqrt(df / (1 - corr_matrix**2))  # t-statistic\n",
    "    p_values = 2 * (1 - t.cdf(abs(t_values), df))  # two-tailed p-values\n",
    "    np.fill_diagonal(p_values, 0)  # Set diagonal to 0 (self-correlation p-values)\n",
    "    return p_values\n",
    "\n",
    "# Compute p-value matrix\n",
    "pvalue_matrix = calculate_pval_from_corr(correlation_matrix, n)\n",
    "\n",
    "# Convert to pandas DataFrame for display\n",
    "pvalue_df = pd.DataFrame(pvalue_matrix, columns=[korelasi.columns], index=[korelasi.columns])\n",
    "print(\"P-Value Matrix:\")\n",
    "print(pvalue_df)\n"
   ]
  },
  {
   "cell_type": "code",
   "execution_count": null,
   "id": "26d1efd7-12e8-4796-b22a-436aa206901b",
   "metadata": {},
   "outputs": [],
   "source": []
  },
  {
   "cell_type": "code",
   "execution_count": null,
   "id": "55a32035-62c7-4149-a2a5-ec8a02453c0a",
   "metadata": {},
   "outputs": [],
   "source": [
    "import pandas as pd\n",
    "import numpy as np\n",
    "from scipy.stats import chi2_contingency\n",
    "\n",
    "# mengambil dataset\n",
    "dfc = df_clean2.copy()\n",
    "dfc = dfc.drop(['Age','Height','Weight'],axis=1)\n",
    "\n",
    "# membuat fungsi Cramers V untuk korelasi data kategorik\n",
    "def cramers_v(x, y):\n",
    "    contingency_table = pd.crosstab(x, y)\n",
    "    chi2, _, _, _ = chi2_contingency(contingency_table)\n",
    "    n = contingency_table.sum().sum()\n",
    "    return np.sqrt(chi2 / (n * (min(contingency_table.shape) - 1)))\n",
    "\n",
    "# melakukan looping untuk setiap kolom dataset\n",
    "columns = dfc.columns\n",
    "results = {}\n",
    "\n",
    "for col1 in columns:\n",
    "    for col2 in columns:\n",
    "        if col1 != col2:  #menghindari perbandingnan sendiri\n",
    "            key = f\"{col1} vs {col2}\"\n",
    "            results[key] = cramers_v(dfc[col1], dfc[col2])\n",
    "\n",
    "# hasil\n",
    "for pair, value in results.items():\n",
    "    print(f\"{pair}: {value:.2f}\")\n",
    "\n"
   ]
  },
  {
   "cell_type": "code",
   "execution_count": null,
   "id": "608f03e8-c0f4-42d3-b07a-5569d19ef681",
   "metadata": {},
   "outputs": [],
   "source": [
    "cramers_v()"
   ]
  },
  {
   "cell_type": "markdown",
   "id": "a53cb653-2ccf-462d-8e13-d40226584b97",
   "metadata": {},
   "source": [
    "## 12. Kesimpulan"
   ]
  },
  {
   "cell_type": "code",
   "execution_count": null,
   "id": "7638d7d3-36a3-4d87-af4c-bf10be1d2b31",
   "metadata": {},
   "outputs": [],
   "source": [
    "penjelasan"
   ]
  },
  {
   "cell_type": "code",
   "execution_count": null,
   "id": "4e7e2219-bb69-4b41-b524-93af368316c4",
   "metadata": {},
   "outputs": [],
   "source": [
    "df_clean2.info()"
   ]
  },
  {
   "cell_type": "markdown",
   "id": "bd233a97-deaf-4f61-b036-7d032a924f9c",
   "metadata": {},
   "source": [
    "Dari final proyek yang telah dibuat dapat disimpulkan bahwa : \n",
    "dataset yang digunakan berisi 17 kolom dan 1932 baris (setelah dilakukan pembersihan outlier), selanjutnya dilakukan eksplorasi data (bar chart, pie chart, boxplot) dimana dilakukan visualisasi yaitu perbandingan nilai pada kolom obesitas kepada kolom2 lain sebagai variabel.kolom prediktor, diantaranya : \n",
    "1. perbandingan Kolom \"Age/Usia\" dengan \"Level Obesitas\"\n",
    "2. perbandingan Kolom \"Height/Tinggi badan\" dengan \"Level Obesitas\"\n",
    "3. perbandingan Kolom \"Weight/Berat Badan\" dengan \"Level Obesitas\"\n",
    "4. perbandingan Kolom \"FCVC/Pola Konsumsi Buah-buahan\" dengan \"Level Obesitas\"\n",
    "5. perbandingan Kolom \"NCP/Jumlah makan utama perhari\" dengan \"Level Obesitas\"\n",
    "6. perbandingan Kolom \"CH2O/Pola konsumsi air\" dengan \"Level Obesitas\"\n",
    "7. perbandingan Kolom \"FAF/Frekuensi Aktifitas Fisik\" dengan \"Level Obesitas\"\n",
    "8. perbandingan Kolom \"TUE/Pemakaian Teknologi\" dengan \"Level Obesitas\"\n",
    "9. perbandingan Kolom \"Fam/Riwayat Obesitas Keluarga\" dengan \"Level Obesitas\"\n",
    "10. perbandingan Kolom \"FAVC/Konsumsi makanan tinggi kalori\" dengan \"Level Obesitas\"\n",
    "11. perbandingan Kolom \"CAEC/Konsumsi cemilan dintara waktu makan\" dengan \"Level Obesitas\"\n",
    "12. perbandingan Kolom \"SMOKE/Konsumsi Rokok\" dengan \"Level Obesitas\"\n",
    "13. perbandingan Kolom \"SCC/Kontrol kalori\" dengan \"Level Obesitas\"\n",
    "14. perbandingan Kolom \"CALC/Konsumsi Alkohol\" dengan \"Level Obesitas\"\n",
    "15. perbandingan Kolom \"MTRANS/Transportasi publik yang digunakan\" dengan \"Level Obesitas\"\n",
    "16. perbandingan Kolom \"Gender/Jenis Kelamin\" dengan \"Level Obesitas\""
   ]
  },
  {
   "cell_type": "code",
   "execution_count": null,
   "id": "3e1ea543-684d-4d6f-8820-97cb0f50bbad",
   "metadata": {},
   "outputs": [],
   "source": [
    "labelobes"
   ]
  },
  {
   "cell_type": "markdown",
   "id": "dd5a9e96-6658-4bbb-b649-fd6b90ffe7d1",
   "metadata": {},
   "source": [
    "Dari tabel di atas, terlihat bahwa Kolom **En_Obes** merupakan target yang ingin diprediksi dengan nilai 0-6 yang menunjukkan level atau tingkat keparahan obesitas yang cenderung diderita seseorang, apakah masuk kedalam kategori, kurang berat badan, ideal atau berat badan berlebih hingga level obesitas tertentu. kategori obesitas akan diprediksi berdasarkan bebarapa variabel-variabel prediktor yang sudah dilakukan analisis.\n"
   ]
  },
  {
   "cell_type": "markdown",
   "id": "e6a5143c-b5b3-419c-9a33-76d880f84dc4",
   "metadata": {},
   "source": [
    "# 13. Program Deployment (basic)"
   ]
  },
  {
   "cell_type": "markdown",
   "id": "f988d3bd-a63a-4333-ad16-7829ef4dd1ac",
   "metadata": {},
   "source": [
    "Dari hasil diatas running model terdapat 3 model terbaik yang dapat kita pertimbangkan untuk dibuat deployment nya, yaitu model Random Forest dengan akurasi 95 persen, model Extra Trees dengan akurasi 96 persen dan Gradient Boosting dengan Akurasi 97 persen. Ketiga model tersebut dijalankan dengan mode rasio test 20 persen data tanpa menggunakan oversampling/under sampling"
   ]
  },
  {
   "cell_type": "code",
   "execution_count": null,
   "id": "50440c78-1cbe-44b4-8144-3fa8fddb0376",
   "metadata": {},
   "outputs": [],
   "source": [
    "import joblib\n",
    "joblib.dump(rf,\"model_random_forest.joblib\")"
   ]
  },
  {
   "cell_type": "code",
   "execution_count": null,
   "id": "a79a7526-60ba-473c-a01e-7621038b3727",
   "metadata": {},
   "outputs": [],
   "source": [
    "import joblib\n",
    "joblib.dump(et,\"model_extra_trees.joblib\")"
   ]
  },
  {
   "cell_type": "code",
   "execution_count": null,
   "id": "48a4a3f8-3140-40ce-bf62-42315628e73d",
   "metadata": {},
   "outputs": [],
   "source": [
    "import joblib\n",
    "joblib.dump(gb,\"model_gradient_boosting.joblib\")"
   ]
  },
  {
   "cell_type": "code",
   "execution_count": null,
   "id": "240bce66-7ff5-4aca-9d4f-435f77c92e28",
   "metadata": {},
   "outputs": [],
   "source": [
    "import pickle\n",
    "with open ('model_rf.pkl', 'wb') as f:\n",
    "    pickle.dump(rf, f)"
   ]
  },
  {
   "cell_type": "code",
   "execution_count": null,
   "id": "dc8dce79-83b7-47df-8cb5-2653ba931390",
   "metadata": {},
   "outputs": [],
   "source": [
    "import pickle\n",
    "with open ('model_et.pkl', 'wb') as f:\n",
    "    pickle.dump(et, f)"
   ]
  },
  {
   "cell_type": "code",
   "execution_count": null,
   "id": "c2e4cc28-a5be-49af-9287-e1d1049cbf43",
   "metadata": {},
   "outputs": [],
   "source": [
    "import pickle\n",
    "with open ('model_gb.pkl', 'wb') as f:\n",
    "    pickle.dump(gb, f)"
   ]
  },
  {
   "cell_type": "code",
   "execution_count": null,
   "id": "4170d271-71ad-4e5b-8fbe-cf0ca3d1d31d",
   "metadata": {},
   "outputs": [],
   "source": [
    "muat_model_rf = joblib.load(\"model_random_forest.joblib\")\n",
    "muat_model_et = joblib.load(\"model_extra_trees.joblib\")\n",
    "muat_model_gb = joblib.load(\"model_gradient_boosting.joblib\")"
   ]
  },
  {
   "cell_type": "code",
   "execution_count": null,
   "id": "a28d7d5b-4a60-4368-83c5-a4f1bb1cdec2",
   "metadata": {},
   "outputs": [],
   "source": [
    "df_clean2.info()"
   ]
  },
  {
   "cell_type": "code",
   "execution_count": null,
   "id": "b11ee83e-e6cb-4575-9c01-eeba0110cd3c",
   "metadata": {},
   "outputs": [],
   "source": [
    "def prediksi_obesitas(model) : \n",
    "    print(\"=== Silakan masukkan data pasien ===\") \n",
    "    Age = float(input(\"Masukan Usia : \"))\n",
    "    Height = float(input(\"Masukan Tinggi Badan : \"))\n",
    "    Weight = float(input(\"Masukan Berat Badan : \"))     \n",
    "    FCVC\t= float(input(\"Frekuensi mengonsumsi buah-buahan (1=Tidak Pernah,2=Jarang, 3 = Sering):\"))\n",
    "    NCP = float(input(\"Jumlah makanan utama per hariJumlah makanan utama per hari : \"))     \n",
    "    CH2O = float(input(\"Konsumsi minum perhari  :\"))\n",
    "    FAF = float(input(\"Frekuensi melakukan aktivitas fisik (skala 0 s.d 3) :\"))\n",
    "    TUE = float(input(\"Waktu dihabiskan menggunakan teknologi (skala 0 s.d 3):\"))\n",
    "    En_Fam = int(input(\"Apakah ada riwayat Obesitas [0=tidak, 1=ya]: \"))\n",
    "    En_FAVC = int(input(\"Apakah seseorang sering mengkonsumsi makanan tinggi kalori [0=tidak, 1=ya] : \"))          \n",
    "    En_CAEC = int(input(\"Frekuensi mengkonsumsi cemilan diantara waktu makan (3 = Tidak pernah,2=jarang,1=sering,0=selalu) :\"))           \n",
    "    En_SMOKE = int(input(\"Frekuensi mengkonsumsi ROKOK(1=YA,0=TIDAK) :\"))          \n",
    "    En_SCC\t= int(input(\"Apakah seseorang melakukan kontrol terhadap kalori harian(ya = 1/tidak = 0) :\"))\n",
    "    En_CALC = int(input(\"Frekuensi mengkonsumsi alkohol (3=Tidak pernah,2=Jarang,1=Sering,0=Selalu):\"))\n",
    "    En_MTRANS = int(input(\"Moda utama yang digunakan untuk transportasi (0=Mobil,1=Sepeda,2=Sepeda Motor,3=Transportasi umum,4= Jalan kaki):\"))\n",
    "    En_Gender = int(input(\"Masukan Jenis Kelamin [0=Laki-Laki,1=Perempuan]: \"))                \n",
    "                        \n",
    "    data_baru = np.array(['Age', 'Height', 'Weight', 'FCVC', 'NCP', 'CH2O', 'FAF', 'TUE','En_Fam', 'En_FAVC', 'En_CAEC', 'En_SMOKE', 'En_SCC','En_CALC', 'En_MTRANS', 'En_Gender'])\n",
    "    data_baru = data_baru.reshape(1,-1)\n",
    "    prediksi_baru = model.predict(data_baru)\n",
    "    \n",
    "    if prediksi_baru ==0:\n",
    "        print(\"Pasien kekurangan Berat Badan\")\n",
    "    elif prediksi_baru ==1:\n",
    "        print(\"Pasien Berat Badan Normal\")\n",
    "    elif prediksi_baru ==2:\n",
    "        print(\"Pasien Berat Badan Obesitas Tipe I\")\n",
    "    elif prediksi_baru ==3:\n",
    "        print(\"Pasien Berat Badan Obesitas Tipe II\")\n",
    "    elif prediksi_baru ==4:\n",
    "        print(\"Pasien Berat Badan Obesitas Tipe III\")\n",
    "    elif prediksi_baru ==5:\n",
    "        print(\"Pasien Berat Badan Lebih Tipe I\")\n",
    "    else : \n",
    "        print(\"Pasien Berat Badan Lebih Tipe II\")\n",
    "        "
   ]
  },
  {
   "cell_type": "code",
   "execution_count": null,
   "id": "95bc341f-6a90-45b8-9c67-4ad6666f9ab1",
   "metadata": {},
   "outputs": [],
   "source": [
    "df_clean2.to_csv(\"df_clean2.csv\")"
   ]
  },
  {
   "cell_type": "code",
   "execution_count": null,
   "id": "68746825-927b-4d55-b6e4-85afaf749433",
   "metadata": {},
   "outputs": [],
   "source": [
    "prediksi_obesitas(muat_model_rf)"
   ]
  },
  {
   "cell_type": "code",
   "execution_count": null,
   "id": "f1ae7d87-7ba1-4350-9f21-fb413f3c07a7",
   "metadata": {
    "scrolled": true
   },
   "outputs": [],
   "source": [
    "labelGender"
   ]
  },
  {
   "cell_type": "code",
   "execution_count": null,
   "id": "97affcf0-4436-4f9f-bba9-87deeb345638",
   "metadata": {},
   "outputs": [],
   "source": []
  }
 ],
 "metadata": {
  "kernelspec": {
   "display_name": "Python 3 (ipykernel)",
   "language": "python",
   "name": "python3"
  },
  "language_info": {
   "codemirror_mode": {
    "name": "ipython",
    "version": 3
   },
   "file_extension": ".py",
   "mimetype": "text/x-python",
   "name": "python",
   "nbconvert_exporter": "python",
   "pygments_lexer": "ipython3",
   "version": "3.12.7"
  }
 },
 "nbformat": 4,
 "nbformat_minor": 5
}
